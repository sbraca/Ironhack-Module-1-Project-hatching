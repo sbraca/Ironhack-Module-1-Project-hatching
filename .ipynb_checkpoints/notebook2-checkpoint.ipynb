{
 "cells": [
  {
   "cell_type": "code",
   "execution_count": 3,
   "metadata": {},
   "outputs": [
    {
     "name": "stdout",
     "output_type": "stream",
     "text": [
      "Requirement already satisfied: sqlalchemy in /Users/Stefania/opt/anaconda3/envs/data_env/lib/python3.7/site-packages (1.3.10)\r\n"
     ]
    }
   ],
   "source": [
    "import pandas as pd \n",
    "!pip install sqlalchemy"
   ]
  },
  {
   "cell_type": "code",
   "execution_count": 4,
   "metadata": {},
   "outputs": [],
   "source": [
    "import pymysql\n",
    "from sqlalchemy import create_engine"
   ]
  },
  {
   "cell_type": "code",
   "execution_count": 5,
   "metadata": {},
   "outputs": [],
   "source": [
    "final_df = pd.read_csv('forbes.csv')"
   ]
  },
  {
   "cell_type": "code",
   "execution_count": 6,
   "metadata": {},
   "outputs": [
    {
     "data": {
      "text/html": [
       "<div>\n",
       "<style scoped>\n",
       "    .dataframe tbody tr th:only-of-type {\n",
       "        vertical-align: middle;\n",
       "    }\n",
       "\n",
       "    .dataframe tbody tr th {\n",
       "        vertical-align: top;\n",
       "    }\n",
       "\n",
       "    .dataframe thead th {\n",
       "        text-align: right;\n",
       "    }\n",
       "</style>\n",
       "<table border=\"1\" class=\"dataframe\">\n",
       "  <thead>\n",
       "    <tr style=\"text-align: right;\">\n",
       "      <th></th>\n",
       "      <th>ID</th>\n",
       "      <th>First Name</th>\n",
       "      <th>Last Name</th>\n",
       "      <th>Position</th>\n",
       "      <th>Worth</th>\n",
       "      <th>Source</th>\n",
       "      <th>Age</th>\n",
       "      <th>Unnamed: 0</th>\n",
       "      <th>Gender</th>\n",
       "      <th>Country</th>\n",
       "      <th>Image</th>\n",
       "    </tr>\n",
       "  </thead>\n",
       "  <tbody>\n",
       "    <tr>\n",
       "      <th>0</th>\n",
       "      <td>5227</td>\n",
       "      <td>Jeff</td>\n",
       "      <td>Bezos</td>\n",
       "      <td>1.0</td>\n",
       "      <td>112.0 BUSD</td>\n",
       "      <td>Technology  ==&gt; Amazon</td>\n",
       "      <td>54 years old</td>\n",
       "      <td>52</td>\n",
       "      <td>None</td>\n",
       "      <td>United States</td>\n",
       "      <td>https://specials-images.forbesimg.com/imageser...</td>\n",
       "    </tr>\n",
       "    <tr>\n",
       "      <th>1</th>\n",
       "      <td>2642</td>\n",
       "      <td>Bill</td>\n",
       "      <td>Gates</td>\n",
       "      <td>2.0</td>\n",
       "      <td>90.0 BUSD</td>\n",
       "      <td>Technology  ==&gt; Microsoft</td>\n",
       "      <td>62 years old</td>\n",
       "      <td>53</td>\n",
       "      <td>M</td>\n",
       "      <td>None</td>\n",
       "      <td>https://specials-images.forbesimg.com/imageser...</td>\n",
       "    </tr>\n",
       "    <tr>\n",
       "      <th>2</th>\n",
       "      <td>5422</td>\n",
       "      <td>Warren</td>\n",
       "      <td>Buffett</td>\n",
       "      <td>3.0</td>\n",
       "      <td>84.0 BUSD</td>\n",
       "      <td>Finance and Investments  ==&gt; Berkshire Hathaway</td>\n",
       "      <td>87 years old</td>\n",
       "      <td>54</td>\n",
       "      <td>M</td>\n",
       "      <td>None</td>\n",
       "      <td>https://specials-images.forbesimg.com/imageser...</td>\n",
       "    </tr>\n",
       "    <tr>\n",
       "      <th>3</th>\n",
       "      <td>8183</td>\n",
       "      <td>Bernard</td>\n",
       "      <td>Arnault</td>\n",
       "      <td>4.0</td>\n",
       "      <td>72.0 BUSD</td>\n",
       "      <td>Fashion &amp; Retail  ==&gt; LVMH</td>\n",
       "      <td>69 years old</td>\n",
       "      <td>55</td>\n",
       "      <td>M</td>\n",
       "      <td>France</td>\n",
       "      <td>https://specials-images.forbesimg.com/imageser...</td>\n",
       "    </tr>\n",
       "    <tr>\n",
       "      <th>4</th>\n",
       "      <td>5642</td>\n",
       "      <td>Mark</td>\n",
       "      <td>Zuckerberg</td>\n",
       "      <td>5.0</td>\n",
       "      <td>71.0 BUSD</td>\n",
       "      <td>Technology  ==&gt; Facebook</td>\n",
       "      <td>1985</td>\n",
       "      <td>56</td>\n",
       "      <td>M</td>\n",
       "      <td>USA</td>\n",
       "      <td>https://specials-images.forbesimg.com/imageser...</td>\n",
       "    </tr>\n",
       "  </tbody>\n",
       "</table>\n",
       "</div>"
      ],
      "text/plain": [
       "     ID First Name   Last Name  Position       Worth  \\\n",
       "0  5227       Jeff       Bezos       1.0  112.0 BUSD   \n",
       "1  2642       Bill       Gates       2.0   90.0 BUSD   \n",
       "2  5422     Warren     Buffett       3.0   84.0 BUSD   \n",
       "3  8183    Bernard     Arnault       4.0   72.0 BUSD   \n",
       "4  5642       Mark  Zuckerberg       5.0   71.0 BUSD   \n",
       "\n",
       "                                            Source           Age  Unnamed: 0  \\\n",
       "0                           Technology  ==> Amazon  54 years old          52   \n",
       "1                        Technology  ==> Microsoft  62 years old          53   \n",
       "2  Finance and Investments  ==> Berkshire Hathaway  87 years old          54   \n",
       "3                       Fashion & Retail  ==> LVMH  69 years old          55   \n",
       "4                         Technology  ==> Facebook          1985          56   \n",
       "\n",
       "  Gender        Country                                              Image  \n",
       "0   None  United States  https://specials-images.forbesimg.com/imageser...  \n",
       "1      M           None  https://specials-images.forbesimg.com/imageser...  \n",
       "2      M           None  https://specials-images.forbesimg.com/imageser...  \n",
       "3      M         France  https://specials-images.forbesimg.com/imageser...  \n",
       "4      M            USA  https://specials-images.forbesimg.com/imageser...  "
      ]
     },
     "execution_count": 6,
     "metadata": {},
     "output_type": "execute_result"
    }
   ],
   "source": [
    "final_df.head()"
   ]
  },
  {
   "cell_type": "code",
   "execution_count": 7,
   "metadata": {},
   "outputs": [
    {
     "name": "stdout",
     "output_type": "stream",
     "text": [
      "<class 'pandas.core.frame.DataFrame'>\n",
      "RangeIndex: 2208 entries, 0 to 2207\n",
      "Data columns (total 11 columns):\n",
      "ID            2208 non-null int64\n",
      "First Name    2208 non-null object\n",
      "Last Name     2208 non-null object\n",
      "Position      2208 non-null float64\n",
      "Worth         2208 non-null object\n",
      "Source        2208 non-null object\n",
      "Age           2143 non-null object\n",
      "Unnamed: 0    2208 non-null int64\n",
      "Gender        2195 non-null object\n",
      "Country       2208 non-null object\n",
      "Image         2208 non-null object\n",
      "dtypes: float64(1), int64(2), object(8)\n",
      "memory usage: 189.9+ KB\n"
     ]
    }
   ],
   "source": [
    "final_df.info()"
   ]
  },
  {
   "cell_type": "code",
   "execution_count": 8,
   "metadata": {},
   "outputs": [],
   "source": [
    "final_df.drop('Unnamed: 0', axis=1, inplace=True) "
   ]
  },
  {
   "cell_type": "code",
   "execution_count": 9,
   "metadata": {},
   "outputs": [
    {
     "data": {
      "text/plain": [
       "array(['None', 'M', 'Male', 'F', nan, 'Female'], dtype=object)"
      ]
     },
     "execution_count": 9,
     "metadata": {},
     "output_type": "execute_result"
    }
   ],
   "source": [
    "final_df.Gender.unique()"
   ]
  },
  {
   "cell_type": "markdown",
   "metadata": {},
   "source": [
    "# GENDER NULES"
   ]
  },
  {
   "cell_type": "code",
   "execution_count": 10,
   "metadata": {},
   "outputs": [
    {
     "data": {
      "text/plain": [
       "Age       65\n",
       "Gender    13\n",
       "dtype: int64"
      ]
     },
     "execution_count": 10,
     "metadata": {},
     "output_type": "execute_result"
    }
   ],
   "source": [
    "null_cols = final_df.isnull().sum()\n",
    "null_cols\n",
    "null_cols[null_cols > 0]"
   ]
  },
  {
   "cell_type": "code",
   "execution_count": 29,
   "metadata": {},
   "outputs": [],
   "source": [
    "null_displ = final_df[(final_df['Gender'].isnull()==True)]"
   ]
  },
  {
   "cell_type": "code",
   "execution_count": 30,
   "metadata": {},
   "outputs": [
    {
     "data": {
      "text/html": [
       "<div>\n",
       "<style scoped>\n",
       "    .dataframe tbody tr th:only-of-type {\n",
       "        vertical-align: middle;\n",
       "    }\n",
       "\n",
       "    .dataframe tbody tr th {\n",
       "        vertical-align: top;\n",
       "    }\n",
       "\n",
       "    .dataframe thead th {\n",
       "        text-align: right;\n",
       "    }\n",
       "</style>\n",
       "<table border=\"1\" class=\"dataframe\">\n",
       "  <thead>\n",
       "    <tr style=\"text-align: right;\">\n",
       "      <th></th>\n",
       "      <th>ID</th>\n",
       "      <th>First Name</th>\n",
       "      <th>Last Name</th>\n",
       "      <th>Position</th>\n",
       "      <th>Worth</th>\n",
       "      <th>Source</th>\n",
       "      <th>Age</th>\n",
       "      <th>Gender</th>\n",
       "      <th>Country</th>\n",
       "      <th>Image</th>\n",
       "    </tr>\n",
       "  </thead>\n",
       "  <tbody>\n",
       "    <tr>\n",
       "      <th>26</th>\n",
       "      <td>1202</td>\n",
       "      <td>Beate</td>\n",
       "      <td>Albrecht jr.</td>\n",
       "      <td>27.0</td>\n",
       "      <td>29.8 BUSD</td>\n",
       "      <td>Fashion &amp; Retail  ==&gt; supermarkets</td>\n",
       "      <td>66 years old</td>\n",
       "      <td>NaN</td>\n",
       "      <td>Germany</td>\n",
       "      <td>https://specials-images.forbesimg.com/imageser...</td>\n",
       "    </tr>\n",
       "    <tr>\n",
       "      <th>163</th>\n",
       "      <td>7836</td>\n",
       "      <td>Gianluigi</td>\n",
       "      <td>Aponte</td>\n",
       "      <td>164.0</td>\n",
       "      <td>9.3 BUSD</td>\n",
       "      <td>Logistics  ==&gt; Shipping</td>\n",
       "      <td>77 years old</td>\n",
       "      <td>NaN</td>\n",
       "      <td>None</td>\n",
       "      <td>https://specials-images.forbesimg.com/imageser...</td>\n",
       "    </tr>\n",
       "    <tr>\n",
       "      <th>224</th>\n",
       "      <td>1197</td>\n",
       "      <td>Willi</td>\n",
       "      <td>Liebherr</td>\n",
       "      <td>225.0</td>\n",
       "      <td>7.1 BUSD</td>\n",
       "      <td>Construction &amp; Engineering  ==&gt; Construction</td>\n",
       "      <td>NaN</td>\n",
       "      <td>NaN</td>\n",
       "      <td>None</td>\n",
       "      <td>https://specials-images.forbesimg.com/imageser...</td>\n",
       "    </tr>\n",
       "    <tr>\n",
       "      <th>309</th>\n",
       "      <td>5024</td>\n",
       "      <td>Tom</td>\n",
       "      <td>Love</td>\n",
       "      <td>310.0</td>\n",
       "      <td>5.8 BUSD</td>\n",
       "      <td>Fashion &amp; Retail  ==&gt; retail &amp; gas stations</td>\n",
       "      <td>81 years old</td>\n",
       "      <td>NaN</td>\n",
       "      <td>USA</td>\n",
       "      <td>https://specials-images.forbesimg.com/imageser...</td>\n",
       "    </tr>\n",
       "    <tr>\n",
       "      <th>426</th>\n",
       "      <td>3416</td>\n",
       "      <td>Philip</td>\n",
       "      <td>Green</td>\n",
       "      <td>427.0</td>\n",
       "      <td>4.8 BUSD</td>\n",
       "      <td>Fashion &amp; Retail  ==&gt; fashion retail</td>\n",
       "      <td>66 years old</td>\n",
       "      <td>NaN</td>\n",
       "      <td>None</td>\n",
       "      <td>https://specials-images.forbesimg.com/imageser...</td>\n",
       "    </tr>\n",
       "    <tr>\n",
       "      <th>529</th>\n",
       "      <td>3488</td>\n",
       "      <td>Jack</td>\n",
       "      <td>Dangermond</td>\n",
       "      <td>530.0</td>\n",
       "      <td>4.1 BUSD</td>\n",
       "      <td>Technology  ==&gt; mapping software</td>\n",
       "      <td>72 years old</td>\n",
       "      <td>NaN</td>\n",
       "      <td>None</td>\n",
       "      <td>https://specials-images.forbesimg.com/imageser...</td>\n",
       "    </tr>\n",
       "    <tr>\n",
       "      <th>581</th>\n",
       "      <td>9068</td>\n",
       "      <td>Stewart</td>\n",
       "      <td>Resnick</td>\n",
       "      <td>582.0</td>\n",
       "      <td>3.9 BUSD</td>\n",
       "      <td>Food and Beverage  ==&gt; agriculture, water</td>\n",
       "      <td>NaN</td>\n",
       "      <td>NaN</td>\n",
       "      <td>None</td>\n",
       "      <td>https://specials-images.forbesimg.com/imageser...</td>\n",
       "    </tr>\n",
       "    <tr>\n",
       "      <th>596</th>\n",
       "      <td>7398</td>\n",
       "      <td>Dominika</td>\n",
       "      <td>Kulczyk</td>\n",
       "      <td>597.0</td>\n",
       "      <td>3.8 BUSD</td>\n",
       "      <td>Finance and Investments  ==&gt; diversified</td>\n",
       "      <td>NaN</td>\n",
       "      <td>NaN</td>\n",
       "      <td>None</td>\n",
       "      <td>https://specials-images.forbesimg.com/imageser...</td>\n",
       "    </tr>\n",
       "    <tr>\n",
       "      <th>731</th>\n",
       "      <td>6616</td>\n",
       "      <td>Andrew</td>\n",
       "      <td>Cherng</td>\n",
       "      <td>732.0</td>\n",
       "      <td>3.2 BUSD</td>\n",
       "      <td>Food and Beverage  ==&gt; restaurants</td>\n",
       "      <td>NaN</td>\n",
       "      <td>NaN</td>\n",
       "      <td>None</td>\n",
       "      <td>https://specials-images.forbesimg.com/imageser...</td>\n",
       "    </tr>\n",
       "    <tr>\n",
       "      <th>766</th>\n",
       "      <td>8071</td>\n",
       "      <td>Do</td>\n",
       "      <td>Chang</td>\n",
       "      <td>767.0</td>\n",
       "      <td>3.1 BUSD</td>\n",
       "      <td>Fashion &amp; Retail  ==&gt; fashion retail</td>\n",
       "      <td>62 years old</td>\n",
       "      <td>NaN</td>\n",
       "      <td>None</td>\n",
       "      <td>https://specials-images.forbesimg.com/imageser...</td>\n",
       "    </tr>\n",
       "    <tr>\n",
       "      <th>1197</th>\n",
       "      <td>7859</td>\n",
       "      <td>Ong</td>\n",
       "      <td>Ong beng seng</td>\n",
       "      <td>1198.0</td>\n",
       "      <td>2.1 BUSD</td>\n",
       "      <td>Diversified  ==&gt; diversified</td>\n",
       "      <td>73 years old</td>\n",
       "      <td>NaN</td>\n",
       "      <td>None</td>\n",
       "      <td>https://specials-images.forbesimg.com/imageser...</td>\n",
       "    </tr>\n",
       "    <tr>\n",
       "      <th>1260</th>\n",
       "      <td>9780</td>\n",
       "      <td>Chuchat</td>\n",
       "      <td>Petaumpai</td>\n",
       "      <td>1261.0</td>\n",
       "      <td>2.0 BUSD</td>\n",
       "      <td>Finance and Investments  ==&gt; motorcycle loans</td>\n",
       "      <td>65 years old</td>\n",
       "      <td>NaN</td>\n",
       "      <td>None</td>\n",
       "      <td>https://specials-images.forbesimg.com/imageser...</td>\n",
       "    </tr>\n",
       "    <tr>\n",
       "      <th>1290</th>\n",
       "      <td>4362</td>\n",
       "      <td>Jean-paul</td>\n",
       "      <td>Clozel</td>\n",
       "      <td>1291.0</td>\n",
       "      <td>1.9 BUSD</td>\n",
       "      <td>Healthcare  ==&gt; pharmaceuticals</td>\n",
       "      <td>NaN</td>\n",
       "      <td>NaN</td>\n",
       "      <td>Switzerland</td>\n",
       "      <td>https://specials-images.forbesimg.com/imageser...</td>\n",
       "    </tr>\n",
       "  </tbody>\n",
       "</table>\n",
       "</div>"
      ],
      "text/plain": [
       "        ID First Name      Last Name  Position      Worth  \\\n",
       "26    1202      Beate   Albrecht jr.      27.0  29.8 BUSD   \n",
       "163   7836  Gianluigi         Aponte     164.0   9.3 BUSD   \n",
       "224   1197      Willi       Liebherr     225.0   7.1 BUSD   \n",
       "309   5024        Tom           Love     310.0   5.8 BUSD   \n",
       "426   3416     Philip          Green     427.0   4.8 BUSD   \n",
       "529   3488       Jack     Dangermond     530.0   4.1 BUSD   \n",
       "581   9068    Stewart        Resnick     582.0   3.9 BUSD   \n",
       "596   7398   Dominika        Kulczyk     597.0   3.8 BUSD   \n",
       "731   6616     Andrew         Cherng     732.0   3.2 BUSD   \n",
       "766   8071         Do          Chang     767.0   3.1 BUSD   \n",
       "1197  7859        Ong  Ong beng seng    1198.0   2.1 BUSD   \n",
       "1260  9780    Chuchat      Petaumpai    1261.0   2.0 BUSD   \n",
       "1290  4362  Jean-paul         Clozel    1291.0   1.9 BUSD   \n",
       "\n",
       "                                             Source           Age Gender  \\\n",
       "26               Fashion & Retail  ==> supermarkets  66 years old    NaN   \n",
       "163                         Logistics  ==> Shipping  77 years old    NaN   \n",
       "224    Construction & Engineering  ==> Construction           NaN    NaN   \n",
       "309     Fashion & Retail  ==> retail & gas stations  81 years old    NaN   \n",
       "426            Fashion & Retail  ==> fashion retail  66 years old    NaN   \n",
       "529                Technology  ==> mapping software  72 years old    NaN   \n",
       "581       Food and Beverage  ==> agriculture, water           NaN    NaN   \n",
       "596        Finance and Investments  ==> diversified           NaN    NaN   \n",
       "731              Food and Beverage  ==> restaurants           NaN    NaN   \n",
       "766            Fashion & Retail  ==> fashion retail  62 years old    NaN   \n",
       "1197                   Diversified  ==> diversified  73 years old    NaN   \n",
       "1260  Finance and Investments  ==> motorcycle loans  65 years old    NaN   \n",
       "1290                Healthcare  ==> pharmaceuticals           NaN    NaN   \n",
       "\n",
       "          Country                                              Image  \n",
       "26        Germany  https://specials-images.forbesimg.com/imageser...  \n",
       "163          None  https://specials-images.forbesimg.com/imageser...  \n",
       "224          None  https://specials-images.forbesimg.com/imageser...  \n",
       "309           USA  https://specials-images.forbesimg.com/imageser...  \n",
       "426          None  https://specials-images.forbesimg.com/imageser...  \n",
       "529          None  https://specials-images.forbesimg.com/imageser...  \n",
       "581          None  https://specials-images.forbesimg.com/imageser...  \n",
       "596          None  https://specials-images.forbesimg.com/imageser...  \n",
       "731          None  https://specials-images.forbesimg.com/imageser...  \n",
       "766          None  https://specials-images.forbesimg.com/imageser...  \n",
       "1197         None  https://specials-images.forbesimg.com/imageser...  \n",
       "1260         None  https://specials-images.forbesimg.com/imageser...  \n",
       "1290  Switzerland  https://specials-images.forbesimg.com/imageser...  "
      ]
     },
     "execution_count": 30,
     "metadata": {},
     "output_type": "execute_result"
    }
   ],
   "source": [
    "null_displ = null_displ[['ID', 'First Name', 'Last Name', 'Position', 'Worth', 'Source', 'Age', 'Gender', 'Country', 'Image']]\n",
    "null_displ"
   ]
  },
  {
   "cell_type": "code",
   "execution_count": 31,
   "metadata": {},
   "outputs": [
    {
     "data": {
      "text/plain": [
       "array(['None', 'M', 'Male', 'F', nan, 'Female'], dtype=object)"
      ]
     },
     "execution_count": 31,
     "metadata": {},
     "output_type": "execute_result"
    }
   ],
   "source": [
    "final_df.Gender.unique()"
   ]
  },
  {
   "cell_type": "code",
   "execution_count": 32,
   "metadata": {},
   "outputs": [
    {
     "data": {
      "text/plain": [
       "nan"
      ]
     },
     "execution_count": 32,
     "metadata": {},
     "output_type": "execute_result"
    }
   ],
   "source": [
    "(final_df.loc[26, 'Gender'])"
   ]
  },
  {
   "cell_type": "code",
   "execution_count": 38,
   "metadata": {},
   "outputs": [
    {
     "data": {
      "text/plain": [
       "nan"
      ]
     },
     "execution_count": 38,
     "metadata": {},
     "output_type": "execute_result"
    }
   ],
   "source": [
    "final_df.loc[26, 'Gender']"
   ]
  },
  {
   "cell_type": "code",
   "execution_count": 39,
   "metadata": {},
   "outputs": [
    {
     "data": {
      "text/plain": [
       "'Female'"
      ]
     },
     "metadata": {},
     "output_type": "display_data"
    }
   ],
   "source": [
    "final_df.loc[26, 'Gender']='Female'\n",
    "display(final_df.loc[26, 'Gender'])"
   ]
  },
  {
   "cell_type": "code",
   "execution_count": 37,
   "metadata": {},
   "outputs": [
    {
     "data": {
      "text/plain": [
       "'Female'"
      ]
     },
     "execution_count": 37,
     "metadata": {},
     "output_type": "execute_result"
    }
   ],
   "source": [
    "final_df.loc[596, 'Gender']"
   ]
  },
  {
   "cell_type": "code",
   "execution_count": 36,
   "metadata": {},
   "outputs": [
    {
     "data": {
      "text/plain": [
       "'Female'"
      ]
     },
     "metadata": {},
     "output_type": "display_data"
    }
   ],
   "source": [
    "final_df.loc[596, 'Gender']='Female'\n",
    "display(final_df.loc[596, 'Gender'])"
   ]
  },
  {
   "cell_type": "code",
   "execution_count": 40,
   "metadata": {},
   "outputs": [
    {
     "data": {
      "text/plain": [
       "array(['None', 'M', 'Male', 'F', 'Female', nan], dtype=object)"
      ]
     },
     "execution_count": 40,
     "metadata": {},
     "output_type": "execute_result"
    }
   ],
   "source": [
    "final_df.Gender.unique()"
   ]
  },
  {
   "cell_type": "code",
   "execution_count": 41,
   "metadata": {},
   "outputs": [
    {
     "data": {
      "text/plain": [
       "ID             0\n",
       "First Name     0\n",
       "Last Name      0\n",
       "Position       0\n",
       "Worth          0\n",
       "Source         0\n",
       "Age           65\n",
       "Gender        11\n",
       "Country        0\n",
       "Image          0\n",
       "dtype: int64"
      ]
     },
     "execution_count": 41,
     "metadata": {},
     "output_type": "execute_result"
    }
   ],
   "source": [
    "final_df.isnull().sum(axis = 0)"
   ]
  },
  {
   "cell_type": "code",
   "execution_count": 42,
   "metadata": {},
   "outputs": [],
   "source": [
    "final_df[\"Gender\"].fillna(\"Male\", inplace = True) "
   ]
  },
  {
   "cell_type": "code",
   "execution_count": 43,
   "metadata": {},
   "outputs": [
    {
     "data": {
      "text/plain": [
       "ID             0\n",
       "First Name     0\n",
       "Last Name      0\n",
       "Position       0\n",
       "Worth          0\n",
       "Source         0\n",
       "Age           65\n",
       "Gender         0\n",
       "Country        0\n",
       "Image          0\n",
       "dtype: int64"
      ]
     },
     "execution_count": 43,
     "metadata": {},
     "output_type": "execute_result"
    }
   ],
   "source": [
    "final_df.isnull().sum(axis = 0)"
   ]
  },
  {
   "cell_type": "code",
   "execution_count": 44,
   "metadata": {},
   "outputs": [
    {
     "data": {
      "text/plain": [
       "dtype('O')"
      ]
     },
     "execution_count": 44,
     "metadata": {},
     "output_type": "execute_result"
    }
   ],
   "source": [
    "final_df.Gender.dtype"
   ]
  },
  {
   "cell_type": "code",
   "execution_count": 47,
   "metadata": {},
   "outputs": [
    {
     "data": {
      "text/plain": [
       "ID              int64\n",
       "First Name     object\n",
       "Last Name      object\n",
       "Position      float64\n",
       "Worth          object\n",
       "Source         object\n",
       "Age            object\n",
       "Gender         object\n",
       "Country        object\n",
       "Image          object\n",
       "dtype: object"
      ]
     },
     "execution_count": 47,
     "metadata": {},
     "output_type": "execute_result"
    }
   ],
   "source": [
    "final_df.astype({'Gender': str}).dtypes"
   ]
  },
  {
   "cell_type": "code",
   "execution_count": 53,
   "metadata": {},
   "outputs": [
    {
     "name": "stdout",
     "output_type": "stream",
     "text": [
      "ID             int64\n",
      "First Name    object\n",
      "Last Name     object\n",
      "Position       int64\n",
      "Worth         object\n",
      "Source        object\n",
      "Age           object\n",
      "Gender        object\n",
      "Country       object\n",
      "Image         object\n",
      "dtype: object\n"
     ]
    }
   ],
   "source": [
    "convert_dict = {'First Name': str, \n",
    "                'Last Name': str,\n",
    "                'Position':int,\n",
    "                'Gender':str} \n",
    "  \n",
    "final_df = final_df.astype(convert_dict) \n",
    "print(final_df.dtypes) "
   ]
  },
  {
   "cell_type": "markdown",
   "metadata": {},
   "source": [
    "# AGE NULES"
   ]
  },
  {
   "cell_type": "code",
   "execution_count": 54,
   "metadata": {},
   "outputs": [],
   "source": [
    "null_displ = final_df[(final_df['Age'].isnull()==True)]\n"
   ]
  },
  {
   "cell_type": "code",
   "execution_count": 55,
   "metadata": {},
   "outputs": [
    {
     "data": {
      "text/html": [
       "<div>\n",
       "<style scoped>\n",
       "    .dataframe tbody tr th:only-of-type {\n",
       "        vertical-align: middle;\n",
       "    }\n",
       "\n",
       "    .dataframe tbody tr th {\n",
       "        vertical-align: top;\n",
       "    }\n",
       "\n",
       "    .dataframe thead th {\n",
       "        text-align: right;\n",
       "    }\n",
       "</style>\n",
       "<table border=\"1\" class=\"dataframe\">\n",
       "  <thead>\n",
       "    <tr style=\"text-align: right;\">\n",
       "      <th></th>\n",
       "      <th>ID</th>\n",
       "      <th>First Name</th>\n",
       "      <th>Last Name</th>\n",
       "      <th>Position</th>\n",
       "      <th>Worth</th>\n",
       "      <th>Source</th>\n",
       "      <th>Age</th>\n",
       "      <th>Gender</th>\n",
       "      <th>Country</th>\n",
       "      <th>Image</th>\n",
       "    </tr>\n",
       "  </thead>\n",
       "  <tbody>\n",
       "    <tr>\n",
       "      <th>54</th>\n",
       "      <td>3450</td>\n",
       "      <td>Hinduja</td>\n",
       "      <td>Hinduja</td>\n",
       "      <td>55</td>\n",
       "      <td>19.5 BUSD</td>\n",
       "      <td>Diversified  ==&gt; diversified</td>\n",
       "      <td>NaN</td>\n",
       "      <td>M</td>\n",
       "      <td>None</td>\n",
       "      <td>https://specials-images.forbesimg.com/imageser...</td>\n",
       "    </tr>\n",
       "    <tr>\n",
       "      <th>76</th>\n",
       "      <td>3303</td>\n",
       "      <td>Thomas</td>\n",
       "      <td>Kwok</td>\n",
       "      <td>77</td>\n",
       "      <td>16.5 BUSD</td>\n",
       "      <td>Real Estate  ==&gt; real estate</td>\n",
       "      <td>NaN</td>\n",
       "      <td>M</td>\n",
       "      <td>Hong Kong</td>\n",
       "      <td>https://specials-images.forbesimg.com/imageser...</td>\n",
       "    </tr>\n",
       "    <tr>\n",
       "      <th>89</th>\n",
       "      <td>4298</td>\n",
       "      <td>David</td>\n",
       "      <td>Reuben</td>\n",
       "      <td>90</td>\n",
       "      <td>15.5 BUSD</td>\n",
       "      <td>Real Estate  ==&gt; investments, real estate</td>\n",
       "      <td>NaN</td>\n",
       "      <td>None</td>\n",
       "      <td>None</td>\n",
       "      <td>https://specials-images.forbesimg.com/imageser...</td>\n",
       "    </tr>\n",
       "    <tr>\n",
       "      <th>129</th>\n",
       "      <td>4712</td>\n",
       "      <td>Udo</td>\n",
       "      <td>Tschira</td>\n",
       "      <td>130</td>\n",
       "      <td>11.7 BUSD</td>\n",
       "      <td>Technology  ==&gt; software</td>\n",
       "      <td>NaN</td>\n",
       "      <td>None</td>\n",
       "      <td>Germany</td>\n",
       "      <td>https://specials-images.forbesimg.com/imageser...</td>\n",
       "    </tr>\n",
       "    <tr>\n",
       "      <th>141</th>\n",
       "      <td>5750</td>\n",
       "      <td>Robert</td>\n",
       "      <td>Ng</td>\n",
       "      <td>142</td>\n",
       "      <td>10.8 BUSD</td>\n",
       "      <td>Real Estate  ==&gt; real estate</td>\n",
       "      <td>NaN</td>\n",
       "      <td>M</td>\n",
       "      <td>None</td>\n",
       "      <td>https://specials-images.forbesimg.com/imageser...</td>\n",
       "    </tr>\n",
       "    <tr>\n",
       "      <th>...</th>\n",
       "      <td>...</td>\n",
       "      <td>...</td>\n",
       "      <td>...</td>\n",
       "      <td>...</td>\n",
       "      <td>...</td>\n",
       "      <td>...</td>\n",
       "      <td>...</td>\n",
       "      <td>...</td>\n",
       "      <td>...</td>\n",
       "      <td>...</td>\n",
       "    </tr>\n",
       "    <tr>\n",
       "      <th>2020</th>\n",
       "      <td>8561</td>\n",
       "      <td>Yupa</td>\n",
       "      <td>Chiaravanond</td>\n",
       "      <td>2021</td>\n",
       "      <td>1.1 BUSD</td>\n",
       "      <td>Diversified  ==&gt; diversified</td>\n",
       "      <td>NaN</td>\n",
       "      <td>None</td>\n",
       "      <td>None</td>\n",
       "      <td>https://specials-images.forbesimg.com/imageser...</td>\n",
       "    </tr>\n",
       "    <tr>\n",
       "      <th>2021</th>\n",
       "      <td>9744</td>\n",
       "      <td>Prathip</td>\n",
       "      <td>Chiravanond</td>\n",
       "      <td>2022</td>\n",
       "      <td>1.1 BUSD</td>\n",
       "      <td>Diversified  ==&gt; diversified</td>\n",
       "      <td>NaN</td>\n",
       "      <td>Male</td>\n",
       "      <td>Thailand</td>\n",
       "      <td>https://specials-images.forbesimg.com/imageser...</td>\n",
       "    </tr>\n",
       "    <tr>\n",
       "      <th>2028</th>\n",
       "      <td>8909</td>\n",
       "      <td>Wolfgang</td>\n",
       "      <td>Egger</td>\n",
       "      <td>2029</td>\n",
       "      <td>1.1 BUSD</td>\n",
       "      <td>Real Estate  ==&gt; real estate</td>\n",
       "      <td>NaN</td>\n",
       "      <td>M</td>\n",
       "      <td>Germany</td>\n",
       "      <td>https://specials-images.forbesimg.com/imageser...</td>\n",
       "    </tr>\n",
       "    <tr>\n",
       "      <th>2044</th>\n",
       "      <td>6937</td>\n",
       "      <td>Madhu</td>\n",
       "      <td>Kapur</td>\n",
       "      <td>2045</td>\n",
       "      <td>1.1 BUSD</td>\n",
       "      <td>Finance and Investments  ==&gt; banking</td>\n",
       "      <td>NaN</td>\n",
       "      <td>F</td>\n",
       "      <td>None</td>\n",
       "      <td>https://specials-images.forbesimg.com/imageser...</td>\n",
       "    </tr>\n",
       "    <tr>\n",
       "      <th>2117</th>\n",
       "      <td>7889</td>\n",
       "      <td>Swift</td>\n",
       "      <td>Xie</td>\n",
       "      <td>2118</td>\n",
       "      <td>1.1 BUSD</td>\n",
       "      <td>Technology  ==&gt; drones</td>\n",
       "      <td>NaN</td>\n",
       "      <td>None</td>\n",
       "      <td>None</td>\n",
       "      <td>https://specials-images.forbesimg.com/imageser...</td>\n",
       "    </tr>\n",
       "  </tbody>\n",
       "</table>\n",
       "<p>65 rows × 10 columns</p>\n",
       "</div>"
      ],
      "text/plain": [
       "        ID First Name     Last Name  Position      Worth  \\\n",
       "54    3450    Hinduja       Hinduja        55  19.5 BUSD   \n",
       "76    3303     Thomas          Kwok        77  16.5 BUSD   \n",
       "89    4298      David        Reuben        90  15.5 BUSD   \n",
       "129   4712        Udo       Tschira       130  11.7 BUSD   \n",
       "141   5750     Robert            Ng       142  10.8 BUSD   \n",
       "...    ...        ...           ...       ...        ...   \n",
       "2020  8561       Yupa  Chiaravanond      2021   1.1 BUSD   \n",
       "2021  9744    Prathip   Chiravanond      2022   1.1 BUSD   \n",
       "2028  8909   Wolfgang         Egger      2029   1.1 BUSD   \n",
       "2044  6937      Madhu         Kapur      2045   1.1 BUSD   \n",
       "2117  7889      Swift           Xie      2118   1.1 BUSD   \n",
       "\n",
       "                                         Source  Age Gender    Country  \\\n",
       "54                 Diversified  ==> diversified  NaN      M       None   \n",
       "76                 Real Estate  ==> real estate  NaN      M  Hong Kong   \n",
       "89    Real Estate  ==> investments, real estate  NaN   None       None   \n",
       "129                    Technology  ==> software  NaN   None    Germany   \n",
       "141                Real Estate  ==> real estate  NaN      M       None   \n",
       "...                                         ...  ...    ...        ...   \n",
       "2020               Diversified  ==> diversified  NaN   None       None   \n",
       "2021               Diversified  ==> diversified  NaN   Male   Thailand   \n",
       "2028               Real Estate  ==> real estate  NaN      M    Germany   \n",
       "2044       Finance and Investments  ==> banking  NaN      F       None   \n",
       "2117                     Technology  ==> drones  NaN   None       None   \n",
       "\n",
       "                                                  Image  \n",
       "54    https://specials-images.forbesimg.com/imageser...  \n",
       "76    https://specials-images.forbesimg.com/imageser...  \n",
       "89    https://specials-images.forbesimg.com/imageser...  \n",
       "129   https://specials-images.forbesimg.com/imageser...  \n",
       "141   https://specials-images.forbesimg.com/imageser...  \n",
       "...                                                 ...  \n",
       "2020  https://specials-images.forbesimg.com/imageser...  \n",
       "2021  https://specials-images.forbesimg.com/imageser...  \n",
       "2028  https://specials-images.forbesimg.com/imageser...  \n",
       "2044  https://specials-images.forbesimg.com/imageser...  \n",
       "2117  https://specials-images.forbesimg.com/imageser...  \n",
       "\n",
       "[65 rows x 10 columns]"
      ]
     },
     "execution_count": 55,
     "metadata": {},
     "output_type": "execute_result"
    }
   ],
   "source": [
    "null_displ = null_displ[['ID', 'First Name', 'Last Name', 'Position', 'Worth', 'Source', 'Age', 'Gender', 'Country', 'Image']]\n",
    "null_displ"
   ]
  },
  {
   "cell_type": "code",
   "execution_count": 56,
   "metadata": {},
   "outputs": [],
   "source": [
    "final_df[['Age']] = final_df[['Age']].fillna(0)"
   ]
  },
  {
   "cell_type": "code",
   "execution_count": 57,
   "metadata": {},
   "outputs": [
    {
     "data": {
      "text/plain": [
       "ID            0\n",
       "First Name    0\n",
       "Last Name     0\n",
       "Position      0\n",
       "Worth         0\n",
       "Source        0\n",
       "Age           0\n",
       "Gender        0\n",
       "Country       0\n",
       "Image         0\n",
       "dtype: int64"
      ]
     },
     "execution_count": 57,
     "metadata": {},
     "output_type": "execute_result"
    }
   ],
   "source": [
    "final_df.isnull().sum(axis = 0)"
   ]
  },
  {
   "cell_type": "code",
   "execution_count": 58,
   "metadata": {},
   "outputs": [
    {
     "data": {
      "text/plain": [
       "array(['54 years old', '62 years old', '87 years old', '69 years old',\n",
       "       '1985', '82 years old', '78 years old', '73 years old',\n",
       "       '76 years old', '45 years old', '44 years old', '70 years old',\n",
       "       '68 years old', '46 years old', '64 years old', '61 years old',\n",
       "       '53 years old', '84 years old', '90 years old', '59 years old',\n",
       "       '63 years old', '66 years old', '80 years old', '81 years old',\n",
       "       '56 years old', '79 years old', '74 years old', '60 years old',\n",
       "       '93 years old', '52 years old', '1983', '65 years old',\n",
       "       '83 years old', '67 years old', '75 years old', '89 years old', 0,\n",
       "       '72 years old', '48 years old', '77 years old', '86 years old',\n",
       "       '57 years old', '1988', '55 years old', '94 years old',\n",
       "       '47 years old', '71 years old', '92 years old', '88 years old',\n",
       "       '85 years old', '49 years old', '51 years old', '50 years old',\n",
       "       '43 years old', '42 years old', '91 years old', '58 years old',\n",
       "       '1984', '38 years old', '1982', '95 years old', '39 years old',\n",
       "       '41 years old', '40 years old', '1990', '1991', '97 years old',\n",
       "       '1986', '99 years old', '1994', '1998', '1996', '96 years old',\n",
       "       '1987', '1989', '1992'], dtype=object)"
      ]
     },
     "execution_count": 58,
     "metadata": {},
     "output_type": "execute_result"
    }
   ],
   "source": [
    "final_df.Age.unique()"
   ]
  },
  {
   "cell_type": "code",
   "execution_count": 59,
   "metadata": {},
   "outputs": [
    {
     "name": "stdout",
     "output_type": "stream",
     "text": [
      "{0, '65 years old', '61 years old', '46 years old', '88 years old', '95 years old', '63 years old', '58 years old', '66 years old', '56 years old', '79 years old', '47 years old', '85 years old', '42 years old', '97 years old', '82 years old', '59 years old', '41 years old', '1990', '99 years old', '67 years old', '40 years old', '96 years old', '1982', '44 years old', '52 years old', '49 years old', '86 years old', '62 years old', '92 years old', '1986', '1996', '53 years old', '54 years old', '71 years old', '55 years old', '50 years old', '1994', '74 years old', '1983', '1989', '83 years old', '89 years old', '90 years old', '84 years old', '69 years old', '57 years old', '1984', '43 years old', '60 years old', '1991', '1988', '39 years old', '93 years old', '73 years old', '77 years old', '68 years old', '1992', '80 years old', '78 years old', '51 years old', '1985', '45 years old', '75 years old', '91 years old', '70 years old', '64 years old', '94 years old', '38 years old', '1998', '87 years old', '1987', '81 years old', '48 years old', '72 years old', '76 years old'}\n"
     ]
    }
   ],
   "source": [
    "print(set(final_df['Age']))"
   ]
  },
  {
   "cell_type": "code",
   "execution_count": 61,
   "metadata": {},
   "outputs": [
    {
     "name": "stdout",
     "output_type": "stream",
     "text": [
      "{nan, '53 ', '74 ', '70 ', '84 ', '78 ', '86 ', '73 ', '59 ', '75 ', '94 ', '47 ', '1990', '65 ', '68 ', '77 ', '82 ', '69 ', '39 ', '54 ', '72 ', '1982', '43 ', '51 ', '1986', '55 ', '99 ', '1996', '62 ', '56 ', '96 ', '88 ', '97 ', '1994', '58 ', '1983', '40 ', '60 ', '71 ', '92 ', '1989', '42 ', '1984', '44 ', '80 ', '57 ', '66 ', '49 ', '1991', '87 ', '1988', '52 ', '45 ', '85 ', '83 ', '81 ', '61 ', '1992', '63 ', '95 ', '76 ', '79 ', '1985', '89 ', '91 ', '48 ', '41 ', '50 ', '1998', '64 ', '90 ', '93 ', '1987', '38 ', '46 ', '67 '}\n"
     ]
    }
   ],
   "source": [
    "final_df['Age'] = final_df['Age'].str.replace('years old', '')\n",
    "print(set(final_df['Age']))"
   ]
  },
  {
   "cell_type": "code",
   "execution_count": 62,
   "metadata": {},
   "outputs": [
    {
     "name": "stdout",
     "output_type": "stream",
     "text": [
      "{nan, '53 ', '74 ', '70 ', '84 ', '78 ', '86 ', '73 ', '59 ', '75 ', '94 ', '47 ', '1990', '65 ', '68 ', '77 ', '82 ', '69 ', '39 ', '54 ', '72 ', '43 ', '51 ', '1986', '55 ', '99 ', '1996', '62 ', '56 ', '96 ', '88 ', '97 ', '1994', '58 ', '1983', '40 ', '60 ', '71 ', '92 ', '1989', '42 ', '1984', '44 ', '80 ', '57 ', '66 ', '49 ', '1991', '87 ', '1988', '52 ', '45 ', '85 ', '83 ', '81 ', '61 ', '1992', '63 ', '95 ', '76 ', '79 ', '1985', '89 ', '91 ', '48 ', '41 ', '50 ', '1998', '36', '64 ', '90 ', '93 ', '1987', '38 ', '46 ', '67 '}\n"
     ]
    }
   ],
   "source": [
    "final_df['Age'] = final_df['Age'].str.replace('1982', '36')\n",
    "print(set(final_df['Age']))"
   ]
  },
  {
   "cell_type": "code",
   "execution_count": 63,
   "metadata": {},
   "outputs": [
    {
     "name": "stdout",
     "output_type": "stream",
     "text": [
      "{nan, '53 ', '74 ', '70 ', '84 ', '78 ', '86 ', '73 ', '59 ', '75 ', '94 ', '47 ', '34', '1990', '65 ', '68 ', '77 ', '82 ', '69 ', '39 ', '54 ', '72 ', '43 ', '51 ', '1986', '55 ', '99 ', '1996', '62 ', '56 ', '96 ', '88 ', '97 ', '1994', '58 ', '1983', '40 ', '60 ', '71 ', '92 ', '1989', '42 ', '44 ', '80 ', '57 ', '66 ', '49 ', '1991', '87 ', '1988', '52 ', '45 ', '85 ', '83 ', '81 ', '61 ', '1992', '63 ', '95 ', '76 ', '79 ', '1985', '89 ', '91 ', '48 ', '41 ', '50 ', '1998', '36', '64 ', '90 ', '93 ', '1987', '38 ', '46 ', '67 '}\n"
     ]
    }
   ],
   "source": [
    "final_df['Age'] = final_df['Age'].str.replace('1984', '34')\n",
    "print(set(final_df['Age']))"
   ]
  },
  {
   "cell_type": "code",
   "execution_count": 70,
   "metadata": {},
   "outputs": [
    {
     "name": "stdout",
     "output_type": "stream",
     "text": [
      "{nan, '53 ', '74 ', '70 ', '84 ', '78 ', '86 ', '73 ', '59 ', '35', '75 ', '94 ', '47 ', '34', '65 ', '68 ', '77 ', '82 ', '69 ', '39 ', '1990', '54 ', '72 ', '43 ', '51 ', '99 ', '55 ', '1996', '62 ', '56 ', '96 ', '88 ', '97 ', '30', '1994', '58 ', '40 ', '60 ', '71 ', '92 ', '42 ', '44 ', '80 ', '39', '57 ', '66 ', '49 ', '1991', '87 ', '52 ', '45 ', '85 ', '83 ', '81 ', '61 ', '1992', '63 ', '95 ', '32', '76 ', '79 ', '89 ', '91 ', '48 ', '41 ', '50 ', '1998', '36', '33', '64 ', '90 ', '93 ', '1987', '38 ', '46 ', '67 '}\n"
     ]
    }
   ],
   "source": [
    "final_df['Age'] = final_df['Age'].str.replace('1989', '29')\n",
    "print(set(final_df['Age']))"
   ]
  },
  {
   "cell_type": "code",
   "execution_count": 66,
   "metadata": {},
   "outputs": [
    {
     "name": "stdout",
     "output_type": "stream",
     "text": [
      "{nan, '53 ', '74 ', '70 ', '84 ', '78 ', '86 ', '73 ', '59 ', '35', '75 ', '94 ', '47 ', '34', '65 ', '68 ', '77 ', '82 ', '69 ', '39 ', '1990', '54 ', '72 ', '43 ', '51 ', '1986', '55 ', '99 ', '1996', '62 ', '56 ', '96 ', '88 ', '97 ', '1994', '58 ', '40 ', '60 ', '71 ', '92 ', '42 ', '44 ', '80 ', '39', '57 ', '66 ', '49 ', '1991', '87 ', '1988', '52 ', '45 ', '85 ', '83 ', '81 ', '61 ', '1992', '63 ', '95 ', '76 ', '79 ', '1985', '89 ', '91 ', '48 ', '41 ', '50 ', '1998', '36', '64 ', '90 ', '93 ', '1987', '38 ', '46 ', '67 '}\n"
     ]
    }
   ],
   "source": [
    "final_df['Age'] = final_df['Age'].str.replace('1983', '35')\n",
    "print(set(final_df['Age']))"
   ]
  },
  {
   "cell_type": "code",
   "execution_count": 67,
   "metadata": {},
   "outputs": [
    {
     "name": "stdout",
     "output_type": "stream",
     "text": [
      "{nan, '53 ', '74 ', '70 ', '84 ', '78 ', '86 ', '73 ', '59 ', '35', '75 ', '94 ', '47 ', '34', '65 ', '68 ', '77 ', '82 ', '69 ', '39 ', '1990', '54 ', '72 ', '43 ', '51 ', '99 ', '55 ', '1996', '62 ', '56 ', '96 ', '88 ', '97 ', '1994', '58 ', '40 ', '60 ', '71 ', '92 ', '42 ', '44 ', '80 ', '39', '57 ', '66 ', '49 ', '1991', '87 ', '1988', '52 ', '45 ', '85 ', '83 ', '81 ', '61 ', '1992', '63 ', '95 ', '32', '76 ', '79 ', '1985', '89 ', '91 ', '48 ', '41 ', '50 ', '1998', '36', '64 ', '90 ', '93 ', '1987', '38 ', '46 ', '67 '}\n"
     ]
    }
   ],
   "source": [
    "final_df['Age'] = final_df['Age'].str.replace('1986', '32')\n",
    "print(set(final_df['Age']))"
   ]
  },
  {
   "cell_type": "code",
   "execution_count": 68,
   "metadata": {},
   "outputs": [
    {
     "name": "stdout",
     "output_type": "stream",
     "text": [
      "{nan, '53 ', '74 ', '70 ', '84 ', '78 ', '86 ', '73 ', '59 ', '35', '75 ', '94 ', '47 ', '34', '65 ', '68 ', '77 ', '82 ', '69 ', '39 ', '1990', '54 ', '72 ', '43 ', '51 ', '99 ', '55 ', '1996', '62 ', '56 ', '96 ', '88 ', '97 ', '1994', '58 ', '40 ', '60 ', '71 ', '92 ', '42 ', '44 ', '80 ', '39', '57 ', '66 ', '49 ', '1991', '87 ', '1988', '52 ', '45 ', '85 ', '83 ', '81 ', '61 ', '1992', '63 ', '95 ', '32', '76 ', '79 ', '89 ', '91 ', '48 ', '41 ', '50 ', '1998', '36', '33', '64 ', '90 ', '93 ', '1987', '38 ', '46 ', '67 '}\n"
     ]
    }
   ],
   "source": [
    "final_df['Age'] = final_df['Age'].str.replace('1985', '33')\n",
    "print(set(final_df['Age']))"
   ]
  },
  {
   "cell_type": "code",
   "execution_count": 69,
   "metadata": {},
   "outputs": [
    {
     "name": "stdout",
     "output_type": "stream",
     "text": [
      "{nan, '53 ', '74 ', '70 ', '84 ', '78 ', '86 ', '73 ', '59 ', '35', '75 ', '94 ', '47 ', '34', '65 ', '68 ', '77 ', '82 ', '69 ', '39 ', '1990', '54 ', '72 ', '43 ', '51 ', '99 ', '55 ', '1996', '62 ', '56 ', '96 ', '88 ', '97 ', '30', '1994', '58 ', '40 ', '60 ', '71 ', '92 ', '42 ', '44 ', '80 ', '39', '57 ', '66 ', '49 ', '1991', '87 ', '52 ', '45 ', '85 ', '83 ', '81 ', '61 ', '1992', '63 ', '95 ', '32', '76 ', '79 ', '89 ', '91 ', '48 ', '41 ', '50 ', '1998', '36', '33', '64 ', '90 ', '93 ', '1987', '38 ', '46 ', '67 '}\n"
     ]
    }
   ],
   "source": [
    "final_df['Age'] = final_df['Age'].str.replace('1988', '30')\n",
    "print(set(final_df['Age']))"
   ]
  },
  {
   "cell_type": "code",
   "execution_count": 71,
   "metadata": {},
   "outputs": [
    {
     "name": "stdout",
     "output_type": "stream",
     "text": [
      "{nan, '53 ', '74 ', '70 ', '84 ', '78 ', '86 ', '73 ', '59 ', '35', '75 ', '94 ', '47 ', '34', '65 ', '68 ', '77 ', '82 ', '69 ', '39 ', '54 ', '72 ', '43 ', '51 ', '99 ', '55 ', '1996', '62 ', '56 ', '96 ', '88 ', '97 ', '30', '1994', '58 ', '40 ', '60 ', '71 ', '92 ', '42 ', '28', '44 ', '80 ', '39', '57 ', '66 ', '49 ', '1991', '87 ', '52 ', '45 ', '85 ', '83 ', '81 ', '61 ', '1992', '63 ', '95 ', '32', '76 ', '79 ', '89 ', '91 ', '48 ', '41 ', '50 ', '1998', '36', '33', '64 ', '90 ', '93 ', '1987', '38 ', '46 ', '67 '}\n"
     ]
    }
   ],
   "source": [
    "final_df['Age'] = final_df['Age'].str.replace('1990', '28')\n",
    "print(set(final_df['Age']))"
   ]
  },
  {
   "cell_type": "code",
   "execution_count": 72,
   "metadata": {},
   "outputs": [
    {
     "name": "stdout",
     "output_type": "stream",
     "text": [
      "{nan, '53 ', '74 ', '70 ', '84 ', '78 ', '86 ', '73 ', '59 ', '35', '75 ', '94 ', '47 ', '34', '65 ', '68 ', '77 ', '82 ', '69 ', '39 ', '54 ', '72 ', '27', '43 ', '51 ', '99 ', '55 ', '1996', '62 ', '56 ', '96 ', '88 ', '97 ', '30', '1994', '58 ', '40 ', '60 ', '71 ', '92 ', '42 ', '28', '44 ', '80 ', '39', '57 ', '66 ', '49 ', '87 ', '52 ', '45 ', '85 ', '83 ', '81 ', '61 ', '1992', '63 ', '95 ', '32', '76 ', '79 ', '89 ', '91 ', '48 ', '41 ', '50 ', '1998', '36', '33', '64 ', '90 ', '93 ', '1987', '38 ', '46 ', '67 '}\n"
     ]
    }
   ],
   "source": [
    "final_df['Age'] = final_df['Age'].str.replace('1991', '27')\n",
    "print(set(final_df['Age']))"
   ]
  },
  {
   "cell_type": "code",
   "execution_count": 73,
   "metadata": {},
   "outputs": [
    {
     "name": "stdout",
     "output_type": "stream",
     "text": [
      "{nan, '53 ', '74 ', '70 ', '84 ', '78 ', '86 ', '73 ', '59 ', '35', '75 ', '94 ', '47 ', '34', '65 ', '68 ', '77 ', '82 ', '69 ', '39 ', '54 ', '72 ', '27', '43 ', '51 ', '99 ', '55 ', '62 ', '56 ', '22', '96 ', '88 ', '97 ', '30', '1994', '58 ', '40 ', '60 ', '71 ', '92 ', '42 ', '28', '44 ', '80 ', '39', '57 ', '66 ', '49 ', '87 ', '52 ', '45 ', '85 ', '83 ', '81 ', '61 ', '1992', '63 ', '95 ', '32', '76 ', '79 ', '89 ', '91 ', '48 ', '41 ', '50 ', '1998', '36', '33', '64 ', '90 ', '93 ', '1987', '38 ', '46 ', '67 '}\n"
     ]
    }
   ],
   "source": [
    "final_df['Age'] = final_df['Age'].str.replace('1996', '22')\n",
    "print(set(final_df['Age']))"
   ]
  },
  {
   "cell_type": "code",
   "execution_count": 74,
   "metadata": {},
   "outputs": [
    {
     "name": "stdout",
     "output_type": "stream",
     "text": [
      "{nan, '53 ', '74 ', '70 ', '84 ', '78 ', '86 ', '73 ', '59 ', '35', '75 ', '94 ', '47 ', '34', '65 ', '68 ', '77 ', '82 ', '69 ', '39 ', '54 ', '72 ', '27', '43 ', '51 ', '99 ', '55 ', '20', '62 ', '56 ', '22', '96 ', '88 ', '97 ', '30', '1994', '58 ', '40 ', '60 ', '71 ', '92 ', '42 ', '28', '44 ', '80 ', '39', '57 ', '66 ', '49 ', '87 ', '52 ', '45 ', '85 ', '83 ', '81 ', '61 ', '1992', '63 ', '95 ', '32', '76 ', '79 ', '89 ', '91 ', '48 ', '41 ', '50 ', '36', '33', '64 ', '90 ', '93 ', '1987', '38 ', '46 ', '67 '}\n"
     ]
    }
   ],
   "source": [
    "final_df['Age'] = final_df['Age'].str.replace('1998', '20')\n",
    "print(set(final_df['Age']))"
   ]
  },
  {
   "cell_type": "code",
   "execution_count": 75,
   "metadata": {},
   "outputs": [
    {
     "name": "stdout",
     "output_type": "stream",
     "text": [
      "{nan, '53 ', '74 ', '26', '70 ', '84 ', '78 ', '86 ', '73 ', '59 ', '35', '75 ', '94 ', '47 ', '34', '65 ', '68 ', '77 ', '82 ', '69 ', '39 ', '54 ', '72 ', '27', '43 ', '51 ', '99 ', '55 ', '20', '62 ', '56 ', '22', '96 ', '88 ', '97 ', '30', '1994', '58 ', '40 ', '60 ', '71 ', '92 ', '42 ', '28', '44 ', '80 ', '39', '57 ', '66 ', '49 ', '87 ', '52 ', '45 ', '85 ', '83 ', '81 ', '61 ', '63 ', '95 ', '32', '76 ', '79 ', '89 ', '91 ', '48 ', '41 ', '50 ', '36', '33', '64 ', '90 ', '93 ', '1987', '38 ', '46 ', '67 '}\n"
     ]
    }
   ],
   "source": [
    "final_df['Age'] = final_df['Age'].str.replace('1992', '26')\n",
    "print(set(final_df['Age']))"
   ]
  },
  {
   "cell_type": "code",
   "execution_count": 76,
   "metadata": {},
   "outputs": [
    {
     "name": "stdout",
     "output_type": "stream",
     "text": [
      "{nan, '53 ', '74 ', '26', '70 ', '84 ', '78 ', '86 ', '73 ', '59 ', '35', '75 ', '94 ', '47 ', '34', '65 ', '68 ', '77 ', '82 ', '69 ', '39 ', '54 ', '72 ', '27', '43 ', '51 ', '99 ', '55 ', '24', '20', '62 ', '56 ', '22', '96 ', '88 ', '97 ', '30', '58 ', '40 ', '60 ', '71 ', '92 ', '42 ', '28', '44 ', '80 ', '39', '57 ', '66 ', '49 ', '87 ', '52 ', '45 ', '85 ', '83 ', '81 ', '61 ', '63 ', '95 ', '32', '76 ', '79 ', '89 ', '91 ', '48 ', '41 ', '50 ', '36', '33', '64 ', '90 ', '93 ', '1987', '38 ', '46 ', '67 '}\n"
     ]
    }
   ],
   "source": [
    "final_df['Age'] = final_df['Age'].str.replace('1994', '24')\n",
    "print(set(final_df['Age']))"
   ]
  },
  {
   "cell_type": "code",
   "execution_count": 77,
   "metadata": {},
   "outputs": [
    {
     "name": "stdout",
     "output_type": "stream",
     "text": [
      "{nan, '53 ', '74 ', '26', '70 ', '84 ', '78 ', '86 ', '73 ', '59 ', '35', '75 ', '94 ', '47 ', '34', '65 ', '68 ', '77 ', '82 ', '69 ', '39 ', '54 ', '72 ', '27', '43 ', '51 ', '99 ', '55 ', '24', '20', '62 ', '56 ', '22', '96 ', '88 ', '97 ', '30', '58 ', '31', '40 ', '60 ', '71 ', '92 ', '42 ', '28', '44 ', '80 ', '39', '57 ', '66 ', '49 ', '87 ', '52 ', '45 ', '85 ', '83 ', '81 ', '61 ', '63 ', '95 ', '32', '76 ', '79 ', '89 ', '91 ', '48 ', '41 ', '50 ', '36', '33', '64 ', '90 ', '93 ', '38 ', '46 ', '67 '}\n"
     ]
    }
   ],
   "source": [
    "final_df['Age'] = final_df['Age'].str.replace('1987', '31')\n",
    "print(set(final_df['Age']))"
   ]
  },
  {
   "cell_type": "code",
   "execution_count": 89,
   "metadata": {},
   "outputs": [
    {
     "data": {
      "text/plain": [
       "array(['54 ', '62 ', '87 ', '69 ', '33', '82 ', '78 ', '73 ', '76 ',\n",
       "       '45 ', '44 ', '70 ', '68 ', '46 ', '64 ', '61 ', '53 ', '84 ',\n",
       "       '90 ', '59 ', '63 ', '66 ', '80 ', '81 ', '56 ', '79 ', '74 ',\n",
       "       '60 ', '93 ', '52 ', '35', '65 ', '83 ', '67 ', '75 ', '89 ', nan,\n",
       "       '72 ', '48 ', '77 ', '86 ', '57 ', '30', '55 ', '94 ', '47 ',\n",
       "       '71 ', '92 ', '88 ', '85 ', '49 ', '51 ', '50 ', '43 ', '42 ',\n",
       "       '91 ', '58 ', '34', '38 ', '36', '95 ', '39 ', '41 ', '40 ', '28',\n",
       "       '27', '97 ', '32', '99 ', '24', '20', '22', '96 ', '31', '39',\n",
       "       '26'], dtype=object)"
      ]
     },
     "execution_count": 89,
     "metadata": {},
     "output_type": "execute_result"
    }
   ],
   "source": [
    "final_df.Age.unique()"
   ]
  },
  {
   "cell_type": "code",
   "execution_count": 90,
   "metadata": {},
   "outputs": [
    {
     "data": {
      "text/plain": [
       "dtype('O')"
      ]
     },
     "execution_count": 90,
     "metadata": {},
     "output_type": "execute_result"
    }
   ],
   "source": [
    "final_df.Age.dtype"
   ]
  },
  {
   "cell_type": "code",
   "execution_count": 92,
   "metadata": {},
   "outputs": [
    {
     "data": {
      "text/html": [
       "<div>\n",
       "<style scoped>\n",
       "    .dataframe tbody tr th:only-of-type {\n",
       "        vertical-align: middle;\n",
       "    }\n",
       "\n",
       "    .dataframe tbody tr th {\n",
       "        vertical-align: top;\n",
       "    }\n",
       "\n",
       "    .dataframe thead th {\n",
       "        text-align: right;\n",
       "    }\n",
       "</style>\n",
       "<table border=\"1\" class=\"dataframe\">\n",
       "  <thead>\n",
       "    <tr style=\"text-align: right;\">\n",
       "      <th></th>\n",
       "      <th>ID</th>\n",
       "      <th>First Name</th>\n",
       "      <th>Last Name</th>\n",
       "      <th>Position</th>\n",
       "      <th>Worth</th>\n",
       "      <th>Source</th>\n",
       "      <th>Age</th>\n",
       "      <th>Gender</th>\n",
       "      <th>Country</th>\n",
       "      <th>Image</th>\n",
       "    </tr>\n",
       "  </thead>\n",
       "  <tbody>\n",
       "  </tbody>\n",
       "</table>\n",
       "</div>"
      ],
      "text/plain": [
       "Empty DataFrame\n",
       "Columns: [ID, First Name, Last Name, Position, Worth, Source, Age, Gender, Country, Image]\n",
       "Index: []"
      ]
     },
     "execution_count": 92,
     "metadata": {},
     "output_type": "execute_result"
    }
   ],
   "source": [
    "test = final_df[(final_df['Age']=='nan') ]\n",
    "test[['ID', 'First Name', 'Last Name', 'Position', 'Worth', 'Source', 'Age', 'Gender', 'Country', 'Image']]\n"
   ]
  },
  {
   "cell_type": "code",
   "execution_count": null,
   "metadata": {},
   "outputs": [],
   "source": []
  },
  {
   "cell_type": "code",
   "execution_count": 88,
   "metadata": {},
   "outputs": [
    {
     "data": {
      "text/plain": [
       "0       NaN\n",
       "1       NaN\n",
       "2       NaN\n",
       "3       NaN\n",
       "4       NaN\n",
       "       ... \n",
       "2203    NaN\n",
       "2204    NaN\n",
       "2205    NaN\n",
       "2206    NaN\n",
       "2207    NaN\n",
       "Name: Age, Length: 2208, dtype: object"
      ]
     },
     "execution_count": 88,
     "metadata": {},
     "output_type": "execute_result"
    }
   ],
   "source": [
    "final_df['Age'].where(final_df['Age'] == 'nan')"
   ]
  },
  {
   "cell_type": "code",
   "execution_count": null,
   "metadata": {},
   "outputs": [],
   "source": []
  },
  {
   "cell_type": "code",
   "execution_count": null,
   "metadata": {},
   "outputs": [],
   "source": []
  },
  {
   "cell_type": "code",
   "execution_count": null,
   "metadata": {},
   "outputs": [],
   "source": []
  },
  {
   "cell_type": "code",
   "execution_count": null,
   "metadata": {},
   "outputs": [],
   "source": []
  }
 ],
 "metadata": {
  "kernelspec": {
   "display_name": "Python [conda env:data_env]",
   "language": "python",
   "name": "conda-env-data_env-py"
  },
  "language_info": {
   "codemirror_mode": {
    "name": "ipython",
    "version": 3
   },
   "file_extension": ".py",
   "mimetype": "text/x-python",
   "name": "python",
   "nbconvert_exporter": "python",
   "pygments_lexer": "ipython3",
   "version": "3.7.5"
  }
 },
 "nbformat": 4,
 "nbformat_minor": 2
}
