{
 "cells": [
  {
   "cell_type": "code",
   "execution_count": 2,
   "metadata": {},
   "outputs": [
    {
     "name": "stdout",
     "output_type": "stream",
     "text": [
      "Requirement already satisfied: sqlalchemy in /Users/Stefania/opt/anaconda3/envs/data_env/lib/python3.7/site-packages (1.3.10)\r\n"
     ]
    }
   ],
   "source": [
    "import pandas as pd\n",
    "\n",
    "!pip install sqlalchemy"
   ]
  },
  {
   "cell_type": "code",
   "execution_count": 3,
   "metadata": {},
   "outputs": [],
   "source": [
    "import pymysql\n",
    "from sqlalchemy import create_engine"
   ]
  },
  {
   "cell_type": "code",
   "execution_count": 4,
   "metadata": {},
   "outputs": [],
   "source": [
    "engine = create_engine('sqlite:////Users/Stefania/downloads/stefaniabraca.db')"
   ]
  },
  {
   "cell_type": "markdown",
   "metadata": {},
   "source": [
    "# dfpersonal_info"
   ]
  },
  {
   "cell_type": "code",
   "execution_count": 5,
   "metadata": {},
   "outputs": [
    {
     "data": {
      "text/html": [
       "<div>\n",
       "<style scoped>\n",
       "    .dataframe tbody tr th:only-of-type {\n",
       "        vertical-align: middle;\n",
       "    }\n",
       "\n",
       "    .dataframe tbody tr th {\n",
       "        vertical-align: top;\n",
       "    }\n",
       "\n",
       "    .dataframe thead th {\n",
       "        text-align: right;\n",
       "    }\n",
       "</style>\n",
       "<table border=\"1\" class=\"dataframe\">\n",
       "  <thead>\n",
       "    <tr style=\"text-align: right;\">\n",
       "      <th></th>\n",
       "      <th>id</th>\n",
       "      <th>lastName</th>\n",
       "      <th>age</th>\n",
       "      <th>Unnamed: 0</th>\n",
       "      <th>gender</th>\n",
       "      <th>country</th>\n",
       "      <th>image</th>\n",
       "    </tr>\n",
       "  </thead>\n",
       "  <tbody>\n",
       "    <tr>\n",
       "      <th>0</th>\n",
       "      <td>5227</td>\n",
       "      <td>bEZOS</td>\n",
       "      <td>54 years old</td>\n",
       "      <td>52</td>\n",
       "      <td>None</td>\n",
       "      <td>United States</td>\n",
       "      <td>https://specials-images.forbesimg.com/imageser...</td>\n",
       "    </tr>\n",
       "    <tr>\n",
       "      <th>1</th>\n",
       "      <td>2642</td>\n",
       "      <td>GATES</td>\n",
       "      <td>62 years old</td>\n",
       "      <td>53</td>\n",
       "      <td>M</td>\n",
       "      <td>None</td>\n",
       "      <td>https://specials-images.forbesimg.com/imageser...</td>\n",
       "    </tr>\n",
       "    <tr>\n",
       "      <th>2</th>\n",
       "      <td>5422</td>\n",
       "      <td>bufFETT</td>\n",
       "      <td>87 years old</td>\n",
       "      <td>54</td>\n",
       "      <td>M</td>\n",
       "      <td>None</td>\n",
       "      <td>https://specials-images.forbesimg.com/imageser...</td>\n",
       "    </tr>\n",
       "    <tr>\n",
       "      <th>3</th>\n",
       "      <td>8183</td>\n",
       "      <td>aRNAULt</td>\n",
       "      <td>69 years old</td>\n",
       "      <td>55</td>\n",
       "      <td>M</td>\n",
       "      <td>France</td>\n",
       "      <td>https://specials-images.forbesimg.com/imageser...</td>\n",
       "    </tr>\n",
       "    <tr>\n",
       "      <th>4</th>\n",
       "      <td>5642</td>\n",
       "      <td>zuckeRBERG</td>\n",
       "      <td>1985</td>\n",
       "      <td>56</td>\n",
       "      <td>M</td>\n",
       "      <td>USA</td>\n",
       "      <td>https://specials-images.forbesimg.com/imageser...</td>\n",
       "    </tr>\n",
       "  </tbody>\n",
       "</table>\n",
       "</div>"
      ],
      "text/plain": [
       "     id    lastName           age  Unnamed: 0 gender        country  \\\n",
       "0  5227       bEZOS  54 years old          52   None  United States   \n",
       "1  2642       GATES  62 years old          53      M           None   \n",
       "2  5422     bufFETT  87 years old          54      M           None   \n",
       "3  8183     aRNAULt  69 years old          55      M         France   \n",
       "4  5642  zuckeRBERG          1985          56      M            USA   \n",
       "\n",
       "                                               image  \n",
       "0  https://specials-images.forbesimg.com/imageser...  \n",
       "1  https://specials-images.forbesimg.com/imageser...  \n",
       "2  https://specials-images.forbesimg.com/imageser...  \n",
       "3  https://specials-images.forbesimg.com/imageser...  \n",
       "4  https://specials-images.forbesimg.com/imageser...  "
      ]
     },
     "execution_count": 5,
     "metadata": {},
     "output_type": "execute_result"
    }
   ],
   "source": [
    "query = \"select * from personal_info\"\n",
    "dfpersonal_info = pd.read_sql_query(query, engine)\n",
    "dfpersonal_info.head()"
   ]
  },
  {
   "cell_type": "code",
   "execution_count": 6,
   "metadata": {},
   "outputs": [
    {
     "data": {
      "text/plain": [
       "Index(['id', 'lastName', 'age', 'Unnamed: 0', 'gender', 'country', 'image'], dtype='object')"
      ]
     },
     "execution_count": 6,
     "metadata": {},
     "output_type": "execute_result"
    }
   ],
   "source": [
    "dfpersonal_info.columns"
   ]
  },
  {
   "cell_type": "code",
   "execution_count": 21,
   "metadata": {},
   "outputs": [],
   "source": [
    "dfpersonal_info_column_names = dfpersonal_info.columns"
   ]
  },
  {
   "cell_type": "code",
   "execution_count": 24,
   "metadata": {},
   "outputs": [
    {
     "name": "stdout",
     "output_type": "stream",
     "text": [
      "id is unique: True\n",
      "lastName is unique: False\n",
      "age is unique: False\n",
      "Unnamed: 0 is unique: True\n",
      "gender is unique: False\n",
      "country is unique: False\n",
      "image is unique: False\n"
     ]
    }
   ],
   "source": [
    "for i in dfpersonal_info_column_names:\n",
    "  print('{} is unique: {}'.format(i, dfpersonal_info[i].is_unique))"
   ]
  },
  {
   "cell_type": "code",
   "execution_count": 20,
   "metadata": {},
   "outputs": [
    {
     "data": {
      "text/plain": [
       "id             int64\n",
       "lastName      object\n",
       "age           object\n",
       "Unnamed: 0     int64\n",
       "gender        object\n",
       "country       object\n",
       "image         object\n",
       "dtype: object"
      ]
     },
     "execution_count": 20,
     "metadata": {},
     "output_type": "execute_result"
    }
   ],
   "source": [
    "dfpersonal_info.dtypes"
   ]
  },
  {
   "cell_type": "code",
   "execution_count": null,
   "metadata": {},
   "outputs": [],
   "source": []
  },
  {
   "cell_type": "code",
   "execution_count": null,
   "metadata": {},
   "outputs": [],
   "source": []
  },
  {
   "cell_type": "markdown",
   "metadata": {},
   "source": [
    "# dfbusiness_info"
   ]
  },
  {
   "cell_type": "code",
   "execution_count": 15,
   "metadata": {},
   "outputs": [
    {
     "data": {
      "text/html": [
       "<div>\n",
       "<style scoped>\n",
       "    .dataframe tbody tr th:only-of-type {\n",
       "        vertical-align: middle;\n",
       "    }\n",
       "\n",
       "    .dataframe tbody tr th {\n",
       "        vertical-align: top;\n",
       "    }\n",
       "\n",
       "    .dataframe thead th {\n",
       "        text-align: right;\n",
       "    }\n",
       "</style>\n",
       "<table border=\"1\" class=\"dataframe\">\n",
       "  <thead>\n",
       "    <tr style=\"text-align: right;\">\n",
       "      <th></th>\n",
       "      <th>id</th>\n",
       "      <th>Unnamed: 0</th>\n",
       "      <th>Source</th>\n",
       "      <th>worth</th>\n",
       "      <th>worthChange</th>\n",
       "      <th>realTimeWorth</th>\n",
       "      <th>realTimePosition</th>\n",
       "    </tr>\n",
       "  </thead>\n",
       "  <tbody>\n",
       "    <tr>\n",
       "      <th>0</th>\n",
       "      <td>5227</td>\n",
       "      <td>52</td>\n",
       "      <td>Technology  ==&gt; Amazon</td>\n",
       "      <td>112.0 BUSD</td>\n",
       "      <td>0.0 millions USD</td>\n",
       "      <td>None</td>\n",
       "      <td>1</td>\n",
       "    </tr>\n",
       "    <tr>\n",
       "      <th>1</th>\n",
       "      <td>2642</td>\n",
       "      <td>53</td>\n",
       "      <td>Technology  ==&gt; Microsoft</td>\n",
       "      <td>90.0 BUSD</td>\n",
       "      <td>-0.001 millions USD</td>\n",
       "      <td>None</td>\n",
       "      <td>2</td>\n",
       "    </tr>\n",
       "    <tr>\n",
       "      <th>2</th>\n",
       "      <td>5422</td>\n",
       "      <td>54</td>\n",
       "      <td>Finance and Investments  ==&gt; Berkshire Hathaway</td>\n",
       "      <td>84.0 BUSD</td>\n",
       "      <td>-0.002 millions USD</td>\n",
       "      <td>None</td>\n",
       "      <td>3</td>\n",
       "    </tr>\n",
       "    <tr>\n",
       "      <th>3</th>\n",
       "      <td>8183</td>\n",
       "      <td>55</td>\n",
       "      <td>Fashion &amp; Retail  ==&gt; LVMH</td>\n",
       "      <td>72.0 BUSD</td>\n",
       "      <td>0.0 millions USD</td>\n",
       "      <td>None</td>\n",
       "      <td>4</td>\n",
       "    </tr>\n",
       "    <tr>\n",
       "      <th>4</th>\n",
       "      <td>5642</td>\n",
       "      <td>56</td>\n",
       "      <td>Technology  ==&gt; Facebook</td>\n",
       "      <td>71.0 BUSD</td>\n",
       "      <td>0.0 millions USD</td>\n",
       "      <td>None</td>\n",
       "      <td>5</td>\n",
       "    </tr>\n",
       "  </tbody>\n",
       "</table>\n",
       "</div>"
      ],
      "text/plain": [
       "     id  Unnamed: 0                                           Source  \\\n",
       "0  5227          52                           Technology  ==> Amazon   \n",
       "1  2642          53                        Technology  ==> Microsoft   \n",
       "2  5422          54  Finance and Investments  ==> Berkshire Hathaway   \n",
       "3  8183          55                       Fashion & Retail  ==> LVMH   \n",
       "4  5642          56                         Technology  ==> Facebook   \n",
       "\n",
       "        worth          worthChange realTimeWorth  realTimePosition  \n",
       "0  112.0 BUSD     0.0 millions USD          None                 1  \n",
       "1   90.0 BUSD  -0.001 millions USD          None                 2  \n",
       "2   84.0 BUSD  -0.002 millions USD          None                 3  \n",
       "3   72.0 BUSD     0.0 millions USD          None                 4  \n",
       "4   71.0 BUSD     0.0 millions USD          None                 5  "
      ]
     },
     "execution_count": 15,
     "metadata": {},
     "output_type": "execute_result"
    }
   ],
   "source": [
    "query = \"select * from business_info\"\n",
    "dfbusiness_info = pd.read_sql_query(query, engine)\n",
    "dfbusiness_info.head()"
   ]
  },
  {
   "cell_type": "code",
   "execution_count": 16,
   "metadata": {},
   "outputs": [
    {
     "data": {
      "text/plain": [
       "Index(['id', 'Unnamed: 0', 'Source', 'worth', 'worthChange', 'realTimeWorth',\n",
       "       'realTimePosition'],\n",
       "      dtype='object')"
      ]
     },
     "execution_count": 16,
     "metadata": {},
     "output_type": "execute_result"
    }
   ],
   "source": [
    "dfbusiness_info.columns"
   ]
  },
  {
   "cell_type": "code",
   "execution_count": 25,
   "metadata": {},
   "outputs": [],
   "source": [
    "dfbusiness_info_column_names = dfbusiness_info.columns"
   ]
  },
  {
   "cell_type": "code",
   "execution_count": 26,
   "metadata": {},
   "outputs": [
    {
     "name": "stdout",
     "output_type": "stream",
     "text": [
      "id is unique: True\n",
      "Unnamed: 0 is unique: True\n",
      "Source is unique: False\n",
      "worth is unique: False\n",
      "worthChange is unique: False\n",
      "realTimeWorth is unique: False\n",
      "realTimePosition is unique: False\n"
     ]
    }
   ],
   "source": [
    "for i in dfbusiness_info_column_names:\n",
    "  print('{} is unique: {}'.format(i, dfbusiness_info[i].is_unique))"
   ]
  },
  {
   "cell_type": "code",
   "execution_count": null,
   "metadata": {},
   "outputs": [],
   "source": []
  },
  {
   "cell_type": "code",
   "execution_count": 18,
   "metadata": {},
   "outputs": [
    {
     "data": {
      "text/plain": [
       "id                   int64\n",
       "Unnamed: 0           int64\n",
       "Source              object\n",
       "worth               object\n",
       "worthChange         object\n",
       "realTimeWorth       object\n",
       "realTimePosition     int64\n",
       "dtype: object"
      ]
     },
     "execution_count": 18,
     "metadata": {},
     "output_type": "execute_result"
    }
   ],
   "source": [
    "dfbusiness_info.dtypes"
   ]
  },
  {
   "cell_type": "code",
   "execution_count": null,
   "metadata": {},
   "outputs": [],
   "source": []
  },
  {
   "cell_type": "markdown",
   "metadata": {},
   "source": [
    "# dfrank_info"
   ]
  },
  {
   "cell_type": "code",
   "execution_count": 12,
   "metadata": {},
   "outputs": [
    {
     "data": {
      "text/html": [
       "<div>\n",
       "<style scoped>\n",
       "    .dataframe tbody tr th:only-of-type {\n",
       "        vertical-align: middle;\n",
       "    }\n",
       "\n",
       "    .dataframe tbody tr th {\n",
       "        vertical-align: top;\n",
       "    }\n",
       "\n",
       "    .dataframe thead th {\n",
       "        text-align: right;\n",
       "    }\n",
       "</style>\n",
       "<table border=\"1\" class=\"dataframe\">\n",
       "  <thead>\n",
       "    <tr style=\"text-align: right;\">\n",
       "      <th></th>\n",
       "      <th>id</th>\n",
       "      <th>name</th>\n",
       "      <th>position</th>\n",
       "      <th>Unnamed: 0</th>\n",
       "    </tr>\n",
       "  </thead>\n",
       "  <tbody>\n",
       "    <tr>\n",
       "      <th>0</th>\n",
       "      <td>1431</td>\n",
       "      <td>anANT ASAVABHOKHIN &amp; FAmily</td>\n",
       "      <td>NaN</td>\n",
       "      <td>0</td>\n",
       "    </tr>\n",
       "    <tr>\n",
       "      <th>1</th>\n",
       "      <td>7293</td>\n",
       "      <td>arASH FERDowsi</td>\n",
       "      <td>NaN</td>\n",
       "      <td>1</td>\n",
       "    </tr>\n",
       "    <tr>\n",
       "      <th>2</th>\n",
       "      <td>3534</td>\n",
       "      <td>banthoON LAMSAM &amp; FAMILy</td>\n",
       "      <td>NaN</td>\n",
       "      <td>2</td>\n",
       "    </tr>\n",
       "    <tr>\n",
       "      <th>3</th>\n",
       "      <td>2538</td>\n",
       "      <td>bill ADDERLEY &amp; family</td>\n",
       "      <td>NaN</td>\n",
       "      <td>3</td>\n",
       "    </tr>\n",
       "    <tr>\n",
       "      <th>4</th>\n",
       "      <td>2722</td>\n",
       "      <td>borIS ZINGArevich</td>\n",
       "      <td>NaN</td>\n",
       "      <td>4</td>\n",
       "    </tr>\n",
       "  </tbody>\n",
       "</table>\n",
       "</div>"
      ],
      "text/plain": [
       "     id                         name  position  Unnamed: 0\n",
       "0  1431  anANT ASAVABHOKHIN & FAmily       NaN           0\n",
       "1  7293               arASH FERDowsi       NaN           1\n",
       "2  3534     banthoON LAMSAM & FAMILy       NaN           2\n",
       "3  2538       bill ADDERLEY & family       NaN           3\n",
       "4  2722            borIS ZINGArevich       NaN           4"
      ]
     },
     "execution_count": 12,
     "metadata": {},
     "output_type": "execute_result"
    }
   ],
   "source": [
    "query = \"select * from rank_info\"\n",
    "dfrank_info = pd.read_sql_query(query, engine)\n",
    "dfrank_info.head()"
   ]
  },
  {
   "cell_type": "code",
   "execution_count": 27,
   "metadata": {},
   "outputs": [
    {
     "data": {
      "text/plain": [
       "Index(['id', 'name', 'position', 'Unnamed: 0'], dtype='object')"
      ]
     },
     "execution_count": 27,
     "metadata": {},
     "output_type": "execute_result"
    }
   ],
   "source": [
    "dfrank_info.columns"
   ]
  },
  {
   "cell_type": "code",
   "execution_count": 28,
   "metadata": {},
   "outputs": [],
   "source": [
    "dfrank_info_column_names = dfrank_info.columns"
   ]
  },
  {
   "cell_type": "code",
   "execution_count": 29,
   "metadata": {},
   "outputs": [
    {
     "name": "stdout",
     "output_type": "stream",
     "text": [
      "id is unique: True\n",
      "name is unique: True\n",
      "position is unique: False\n",
      "Unnamed: 0 is unique: True\n"
     ]
    }
   ],
   "source": [
    "for i in dfrank_info_column_names:\n",
    "  print('{} is unique: {}'.format(i, dfrank_info[i].is_unique))"
   ]
  },
  {
   "cell_type": "code",
   "execution_count": 19,
   "metadata": {},
   "outputs": [
    {
     "data": {
      "text/plain": [
       "id              int64\n",
       "name           object\n",
       "position      float64\n",
       "Unnamed: 0      int64\n",
       "dtype: object"
      ]
     },
     "execution_count": 19,
     "metadata": {},
     "output_type": "execute_result"
    }
   ],
   "source": [
    "dfrank_info.dtypes"
   ]
  },
  {
   "cell_type": "code",
   "execution_count": null,
   "metadata": {},
   "outputs": [],
   "source": []
  },
  {
   "cell_type": "code",
   "execution_count": null,
   "metadata": {},
   "outputs": [],
   "source": []
  },
  {
   "cell_type": "code",
   "execution_count": null,
   "metadata": {},
   "outputs": [],
   "source": []
  },
  {
   "cell_type": "code",
   "execution_count": null,
   "metadata": {},
   "outputs": [],
   "source": []
  },
  {
   "cell_type": "code",
   "execution_count": null,
   "metadata": {},
   "outputs": [],
   "source": []
  },
  {
   "cell_type": "code",
   "execution_count": null,
   "metadata": {},
   "outputs": [],
   "source": []
  }
 ],
 "metadata": {
  "kernelspec": {
   "display_name": "Python [conda env:data_env]",
   "language": "python",
   "name": "conda-env-data_env-py"
  },
  "language_info": {
   "codemirror_mode": {
    "name": "ipython",
    "version": 3
   },
   "file_extension": ".py",
   "mimetype": "text/x-python",
   "name": "python",
   "nbconvert_exporter": "python",
   "pygments_lexer": "ipython3",
   "version": "3.7.5"
  }
 },
 "nbformat": 4,
 "nbformat_minor": 2
}
