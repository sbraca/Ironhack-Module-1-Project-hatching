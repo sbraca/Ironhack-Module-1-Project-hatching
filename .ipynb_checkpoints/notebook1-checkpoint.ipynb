{
 "cells": [
  {
   "cell_type": "code",
   "execution_count": 2,
   "metadata": {},
   "outputs": [
    {
     "name": "stdout",
     "output_type": "stream",
     "text": [
      "Requirement already satisfied: sqlalchemy in /Users/Stefania/opt/anaconda3/envs/data_env/lib/python3.7/site-packages (1.3.10)\r\n"
     ]
    }
   ],
   "source": [
    "import pandas as pd\n",
    "\n",
    "!pip install sqlalchemy"
   ]
  },
  {
   "cell_type": "code",
   "execution_count": 3,
   "metadata": {},
   "outputs": [],
   "source": [
    "import pymysql\n",
    "from sqlalchemy import create_engine"
   ]
  },
  {
   "cell_type": "code",
   "execution_count": 4,
   "metadata": {},
   "outputs": [],
   "source": [
    "engine = create_engine('sqlite:////Users/Stefania/downloads/stefaniabraca.db')"
   ]
  },
  {
   "cell_type": "markdown",
   "metadata": {},
   "source": [
    "# dfpersonal_info"
   ]
  },
  {
   "cell_type": "code",
   "execution_count": 5,
   "metadata": {},
   "outputs": [
    {
     "data": {
      "text/html": [
       "<div>\n",
       "<style scoped>\n",
       "    .dataframe tbody tr th:only-of-type {\n",
       "        vertical-align: middle;\n",
       "    }\n",
       "\n",
       "    .dataframe tbody tr th {\n",
       "        vertical-align: top;\n",
       "    }\n",
       "\n",
       "    .dataframe thead th {\n",
       "        text-align: right;\n",
       "    }\n",
       "</style>\n",
       "<table border=\"1\" class=\"dataframe\">\n",
       "  <thead>\n",
       "    <tr style=\"text-align: right;\">\n",
       "      <th></th>\n",
       "      <th>id</th>\n",
       "      <th>lastName</th>\n",
       "      <th>age</th>\n",
       "      <th>Unnamed: 0</th>\n",
       "      <th>gender</th>\n",
       "      <th>country</th>\n",
       "      <th>image</th>\n",
       "    </tr>\n",
       "  </thead>\n",
       "  <tbody>\n",
       "    <tr>\n",
       "      <th>0</th>\n",
       "      <td>5227</td>\n",
       "      <td>bEZOS</td>\n",
       "      <td>54 years old</td>\n",
       "      <td>52</td>\n",
       "      <td>None</td>\n",
       "      <td>United States</td>\n",
       "      <td>https://specials-images.forbesimg.com/imageser...</td>\n",
       "    </tr>\n",
       "    <tr>\n",
       "      <th>1</th>\n",
       "      <td>2642</td>\n",
       "      <td>GATES</td>\n",
       "      <td>62 years old</td>\n",
       "      <td>53</td>\n",
       "      <td>M</td>\n",
       "      <td>None</td>\n",
       "      <td>https://specials-images.forbesimg.com/imageser...</td>\n",
       "    </tr>\n",
       "    <tr>\n",
       "      <th>2</th>\n",
       "      <td>5422</td>\n",
       "      <td>bufFETT</td>\n",
       "      <td>87 years old</td>\n",
       "      <td>54</td>\n",
       "      <td>M</td>\n",
       "      <td>None</td>\n",
       "      <td>https://specials-images.forbesimg.com/imageser...</td>\n",
       "    </tr>\n",
       "    <tr>\n",
       "      <th>3</th>\n",
       "      <td>8183</td>\n",
       "      <td>aRNAULt</td>\n",
       "      <td>69 years old</td>\n",
       "      <td>55</td>\n",
       "      <td>M</td>\n",
       "      <td>France</td>\n",
       "      <td>https://specials-images.forbesimg.com/imageser...</td>\n",
       "    </tr>\n",
       "    <tr>\n",
       "      <th>4</th>\n",
       "      <td>5642</td>\n",
       "      <td>zuckeRBERG</td>\n",
       "      <td>1985</td>\n",
       "      <td>56</td>\n",
       "      <td>M</td>\n",
       "      <td>USA</td>\n",
       "      <td>https://specials-images.forbesimg.com/imageser...</td>\n",
       "    </tr>\n",
       "    <tr>\n",
       "      <th>5</th>\n",
       "      <td>1690</td>\n",
       "      <td>ortEGa</td>\n",
       "      <td>82 years old</td>\n",
       "      <td>57</td>\n",
       "      <td>M</td>\n",
       "      <td>None</td>\n",
       "      <td>https://specials-images.forbesimg.com/imageser...</td>\n",
       "    </tr>\n",
       "    <tr>\n",
       "      <th>6</th>\n",
       "      <td>2877</td>\n",
       "      <td>sLIM Helu</td>\n",
       "      <td>78 years old</td>\n",
       "      <td>58</td>\n",
       "      <td>None</td>\n",
       "      <td>Mexico</td>\n",
       "      <td>https://specials-images.forbesimg.com/imageser...</td>\n",
       "    </tr>\n",
       "    <tr>\n",
       "      <th>7</th>\n",
       "      <td>1939</td>\n",
       "      <td>koCH</td>\n",
       "      <td>82 years old</td>\n",
       "      <td>59</td>\n",
       "      <td>M</td>\n",
       "      <td>United States</td>\n",
       "      <td>https://specials-images.forbesimg.com/imageser...</td>\n",
       "    </tr>\n",
       "    <tr>\n",
       "      <th>8</th>\n",
       "      <td>9011</td>\n",
       "      <td>kOCH</td>\n",
       "      <td>78 years old</td>\n",
       "      <td>60</td>\n",
       "      <td>Male</td>\n",
       "      <td>USA</td>\n",
       "      <td>https://specials-images.forbesimg.com/imageser...</td>\n",
       "    </tr>\n",
       "    <tr>\n",
       "      <th>9</th>\n",
       "      <td>7523</td>\n",
       "      <td>elLISOn</td>\n",
       "      <td>73 years old</td>\n",
       "      <td>61</td>\n",
       "      <td>M</td>\n",
       "      <td>None</td>\n",
       "      <td>https://specials-images.forbesimg.com/imageser...</td>\n",
       "    </tr>\n",
       "    <tr>\n",
       "      <th>10</th>\n",
       "      <td>8133</td>\n",
       "      <td>blOOMBERG</td>\n",
       "      <td>76 years old</td>\n",
       "      <td>62</td>\n",
       "      <td>Male</td>\n",
       "      <td>None</td>\n",
       "      <td>https://specials-images.forbesimg.com/imageser...</td>\n",
       "    </tr>\n",
       "    <tr>\n",
       "      <th>11</th>\n",
       "      <td>8447</td>\n",
       "      <td>pAGE</td>\n",
       "      <td>45 years old</td>\n",
       "      <td>63</td>\n",
       "      <td>None</td>\n",
       "      <td>None</td>\n",
       "      <td>https://specials-images.forbesimg.com/imageser...</td>\n",
       "    </tr>\n",
       "    <tr>\n",
       "      <th>12</th>\n",
       "      <td>5897</td>\n",
       "      <td>BRIN</td>\n",
       "      <td>44 years old</td>\n",
       "      <td>64</td>\n",
       "      <td>M</td>\n",
       "      <td>United States</td>\n",
       "      <td>https://specials-images.forbesimg.com/imageser...</td>\n",
       "    </tr>\n",
       "    <tr>\n",
       "      <th>13</th>\n",
       "      <td>4296</td>\n",
       "      <td>walTON</td>\n",
       "      <td>70 years old</td>\n",
       "      <td>65</td>\n",
       "      <td>Male</td>\n",
       "      <td>United States</td>\n",
       "      <td>https://specials-images.forbesimg.com/imageser...</td>\n",
       "    </tr>\n",
       "    <tr>\n",
       "      <th>14</th>\n",
       "      <td>2162</td>\n",
       "      <td>waLTON</td>\n",
       "      <td>73 years old</td>\n",
       "      <td>66</td>\n",
       "      <td>M</td>\n",
       "      <td>None</td>\n",
       "      <td>https://specials-images.forbesimg.com/imageser...</td>\n",
       "    </tr>\n",
       "  </tbody>\n",
       "</table>\n",
       "</div>"
      ],
      "text/plain": [
       "      id    lastName           age  Unnamed: 0 gender        country  \\\n",
       "0   5227       bEZOS  54 years old          52   None  United States   \n",
       "1   2642       GATES  62 years old          53      M           None   \n",
       "2   5422     bufFETT  87 years old          54      M           None   \n",
       "3   8183     aRNAULt  69 years old          55      M         France   \n",
       "4   5642  zuckeRBERG          1985          56      M            USA   \n",
       "5   1690      ortEGa  82 years old          57      M           None   \n",
       "6   2877   sLIM Helu  78 years old          58   None         Mexico   \n",
       "7   1939        koCH  82 years old          59      M  United States   \n",
       "8   9011        kOCH  78 years old          60   Male            USA   \n",
       "9   7523     elLISOn  73 years old          61      M           None   \n",
       "10  8133   blOOMBERG  76 years old          62   Male           None   \n",
       "11  8447        pAGE  45 years old          63   None           None   \n",
       "12  5897        BRIN  44 years old          64      M  United States   \n",
       "13  4296      walTON  70 years old          65   Male  United States   \n",
       "14  2162      waLTON  73 years old          66      M           None   \n",
       "\n",
       "                                                image  \n",
       "0   https://specials-images.forbesimg.com/imageser...  \n",
       "1   https://specials-images.forbesimg.com/imageser...  \n",
       "2   https://specials-images.forbesimg.com/imageser...  \n",
       "3   https://specials-images.forbesimg.com/imageser...  \n",
       "4   https://specials-images.forbesimg.com/imageser...  \n",
       "5   https://specials-images.forbesimg.com/imageser...  \n",
       "6   https://specials-images.forbesimg.com/imageser...  \n",
       "7   https://specials-images.forbesimg.com/imageser...  \n",
       "8   https://specials-images.forbesimg.com/imageser...  \n",
       "9   https://specials-images.forbesimg.com/imageser...  \n",
       "10  https://specials-images.forbesimg.com/imageser...  \n",
       "11  https://specials-images.forbesimg.com/imageser...  \n",
       "12  https://specials-images.forbesimg.com/imageser...  \n",
       "13  https://specials-images.forbesimg.com/imageser...  \n",
       "14  https://specials-images.forbesimg.com/imageser...  "
      ]
     },
     "execution_count": 5,
     "metadata": {},
     "output_type": "execute_result"
    }
   ],
   "source": [
    "query = \"select * from personal_info\"\n",
    "dfpersonal_info = pd.read_sql_query(query, engine)\n",
    "dfpersonal_info.head(15)"
   ]
  },
  {
   "cell_type": "code",
   "execution_count": 6,
   "metadata": {},
   "outputs": [
    {
     "data": {
      "text/plain": [
       "Index(['id', 'lastName', 'age', 'Unnamed: 0', 'gender', 'country', 'image'], dtype='object')"
      ]
     },
     "execution_count": 6,
     "metadata": {},
     "output_type": "execute_result"
    }
   ],
   "source": [
    "dfpersonal_info.columns"
   ]
  },
  {
   "cell_type": "code",
   "execution_count": 7,
   "metadata": {},
   "outputs": [],
   "source": [
    "dfpersonal_info_column_names = dfpersonal_info.columns"
   ]
  },
  {
   "cell_type": "code",
   "execution_count": 8,
   "metadata": {},
   "outputs": [
    {
     "name": "stdout",
     "output_type": "stream",
     "text": [
      "id is unique: True\n",
      "lastName is unique: False\n",
      "age is unique: False\n",
      "Unnamed: 0 is unique: True\n",
      "gender is unique: False\n",
      "country is unique: False\n",
      "image is unique: False\n"
     ]
    }
   ],
   "source": [
    "for i in dfpersonal_info_column_names:\n",
    "  print('{} is unique: {}'.format(i, dfpersonal_info[i].is_unique))"
   ]
  },
  {
   "cell_type": "code",
   "execution_count": 9,
   "metadata": {},
   "outputs": [
    {
     "data": {
      "text/plain": [
       "id             int64\n",
       "lastName      object\n",
       "age           object\n",
       "Unnamed: 0     int64\n",
       "gender        object\n",
       "country       object\n",
       "image         object\n",
       "dtype: object"
      ]
     },
     "execution_count": 9,
     "metadata": {},
     "output_type": "execute_result"
    }
   ],
   "source": [
    "dfpersonal_info.dtypes"
   ]
  },
  {
   "cell_type": "code",
   "execution_count": 10,
   "metadata": {},
   "outputs": [
    {
     "data": {
      "text/plain": [
       "array([   0,    1,    2, ..., 2205, 2206, 2207])"
      ]
     },
     "execution_count": 10,
     "metadata": {},
     "output_type": "execute_result"
    }
   ],
   "source": [
    "dfpersonal_info.index.values"
   ]
  },
  {
   "cell_type": "code",
   "execution_count": null,
   "metadata": {},
   "outputs": [],
   "source": [
    "\n"
   ]
  },
  {
   "cell_type": "markdown",
   "metadata": {},
   "source": [
    "# dfbusiness_info"
   ]
  },
  {
   "cell_type": "code",
   "execution_count": 11,
   "metadata": {},
   "outputs": [
    {
     "data": {
      "text/html": [
       "<div>\n",
       "<style scoped>\n",
       "    .dataframe tbody tr th:only-of-type {\n",
       "        vertical-align: middle;\n",
       "    }\n",
       "\n",
       "    .dataframe tbody tr th {\n",
       "        vertical-align: top;\n",
       "    }\n",
       "\n",
       "    .dataframe thead th {\n",
       "        text-align: right;\n",
       "    }\n",
       "</style>\n",
       "<table border=\"1\" class=\"dataframe\">\n",
       "  <thead>\n",
       "    <tr style=\"text-align: right;\">\n",
       "      <th></th>\n",
       "      <th>id</th>\n",
       "      <th>Unnamed: 0</th>\n",
       "      <th>Source</th>\n",
       "      <th>worth</th>\n",
       "      <th>worthChange</th>\n",
       "      <th>realTimeWorth</th>\n",
       "      <th>realTimePosition</th>\n",
       "    </tr>\n",
       "  </thead>\n",
       "  <tbody>\n",
       "    <tr>\n",
       "      <th>0</th>\n",
       "      <td>5227</td>\n",
       "      <td>52</td>\n",
       "      <td>Technology  ==&gt; Amazon</td>\n",
       "      <td>112.0 BUSD</td>\n",
       "      <td>0.0 millions USD</td>\n",
       "      <td>None</td>\n",
       "      <td>1</td>\n",
       "    </tr>\n",
       "    <tr>\n",
       "      <th>1</th>\n",
       "      <td>2642</td>\n",
       "      <td>53</td>\n",
       "      <td>Technology  ==&gt; Microsoft</td>\n",
       "      <td>90.0 BUSD</td>\n",
       "      <td>-0.001 millions USD</td>\n",
       "      <td>None</td>\n",
       "      <td>2</td>\n",
       "    </tr>\n",
       "    <tr>\n",
       "      <th>2</th>\n",
       "      <td>5422</td>\n",
       "      <td>54</td>\n",
       "      <td>Finance and Investments  ==&gt; Berkshire Hathaway</td>\n",
       "      <td>84.0 BUSD</td>\n",
       "      <td>-0.002 millions USD</td>\n",
       "      <td>None</td>\n",
       "      <td>3</td>\n",
       "    </tr>\n",
       "    <tr>\n",
       "      <th>3</th>\n",
       "      <td>8183</td>\n",
       "      <td>55</td>\n",
       "      <td>Fashion &amp; Retail  ==&gt; LVMH</td>\n",
       "      <td>72.0 BUSD</td>\n",
       "      <td>0.0 millions USD</td>\n",
       "      <td>None</td>\n",
       "      <td>4</td>\n",
       "    </tr>\n",
       "    <tr>\n",
       "      <th>4</th>\n",
       "      <td>5642</td>\n",
       "      <td>56</td>\n",
       "      <td>Technology  ==&gt; Facebook</td>\n",
       "      <td>71.0 BUSD</td>\n",
       "      <td>0.0 millions USD</td>\n",
       "      <td>None</td>\n",
       "      <td>5</td>\n",
       "    </tr>\n",
       "    <tr>\n",
       "      <th>5</th>\n",
       "      <td>1690</td>\n",
       "      <td>57</td>\n",
       "      <td>Fashion &amp; Retail  ==&gt; Zara</td>\n",
       "      <td>70.0 BUSD</td>\n",
       "      <td>0.0 millions USD</td>\n",
       "      <td>None</td>\n",
       "      <td>6</td>\n",
       "    </tr>\n",
       "    <tr>\n",
       "      <th>6</th>\n",
       "      <td>2877</td>\n",
       "      <td>58</td>\n",
       "      <td>Telecom  ==&gt; telecom</td>\n",
       "      <td>67.1 BUSD</td>\n",
       "      <td>0.001 millions USD</td>\n",
       "      <td>None</td>\n",
       "      <td>7</td>\n",
       "    </tr>\n",
       "    <tr>\n",
       "      <th>7</th>\n",
       "      <td>1939</td>\n",
       "      <td>59</td>\n",
       "      <td>Diversified  ==&gt; Koch Industries</td>\n",
       "      <td>60.0 BUSD</td>\n",
       "      <td>0.0 millions USD</td>\n",
       "      <td>None</td>\n",
       "      <td>12</td>\n",
       "    </tr>\n",
       "    <tr>\n",
       "      <th>8</th>\n",
       "      <td>9011</td>\n",
       "      <td>60</td>\n",
       "      <td>Diversified  ==&gt; Koch Industries</td>\n",
       "      <td>60.0 BUSD</td>\n",
       "      <td>0.0 millions USD</td>\n",
       "      <td>None</td>\n",
       "      <td>13</td>\n",
       "    </tr>\n",
       "    <tr>\n",
       "      <th>9</th>\n",
       "      <td>7523</td>\n",
       "      <td>61</td>\n",
       "      <td>Technology  ==&gt; software</td>\n",
       "      <td>58.5 BUSD</td>\n",
       "      <td>-0.001 millions USD</td>\n",
       "      <td>None</td>\n",
       "      <td>8</td>\n",
       "    </tr>\n",
       "    <tr>\n",
       "      <th>10</th>\n",
       "      <td>8133</td>\n",
       "      <td>62</td>\n",
       "      <td>Media &amp; Entertainment  ==&gt; Bloomberg LP</td>\n",
       "      <td>50.0 BUSD</td>\n",
       "      <td>0.0 millions USD</td>\n",
       "      <td>None</td>\n",
       "      <td>11</td>\n",
       "    </tr>\n",
       "    <tr>\n",
       "      <th>11</th>\n",
       "      <td>8447</td>\n",
       "      <td>63</td>\n",
       "      <td>Technology  ==&gt; Google</td>\n",
       "      <td>48.8 BUSD</td>\n",
       "      <td>0.0 millions USD</td>\n",
       "      <td>None</td>\n",
       "      <td>9</td>\n",
       "    </tr>\n",
       "    <tr>\n",
       "      <th>12</th>\n",
       "      <td>5897</td>\n",
       "      <td>64</td>\n",
       "      <td>Technology  ==&gt; Google</td>\n",
       "      <td>47.5 BUSD</td>\n",
       "      <td>0.0 millions USD</td>\n",
       "      <td>None</td>\n",
       "      <td>10</td>\n",
       "    </tr>\n",
       "    <tr>\n",
       "      <th>13</th>\n",
       "      <td>4296</td>\n",
       "      <td>65</td>\n",
       "      <td>Fashion &amp; Retail  ==&gt; Walmart</td>\n",
       "      <td>46.4 BUSD</td>\n",
       "      <td>0.0 millions USD</td>\n",
       "      <td>None</td>\n",
       "      <td>19</td>\n",
       "    </tr>\n",
       "    <tr>\n",
       "      <th>14</th>\n",
       "      <td>2162</td>\n",
       "      <td>66</td>\n",
       "      <td>Fashion &amp; Retail  ==&gt; Walmart</td>\n",
       "      <td>46.2 BUSD</td>\n",
       "      <td>0.0 millions USD</td>\n",
       "      <td>None</td>\n",
       "      <td>20</td>\n",
       "    </tr>\n",
       "  </tbody>\n",
       "</table>\n",
       "</div>"
      ],
      "text/plain": [
       "      id  Unnamed: 0                                           Source  \\\n",
       "0   5227          52                           Technology  ==> Amazon   \n",
       "1   2642          53                        Technology  ==> Microsoft   \n",
       "2   5422          54  Finance and Investments  ==> Berkshire Hathaway   \n",
       "3   8183          55                       Fashion & Retail  ==> LVMH   \n",
       "4   5642          56                         Technology  ==> Facebook   \n",
       "5   1690          57                       Fashion & Retail  ==> Zara   \n",
       "6   2877          58                             Telecom  ==> telecom   \n",
       "7   1939          59                 Diversified  ==> Koch Industries   \n",
       "8   9011          60                 Diversified  ==> Koch Industries   \n",
       "9   7523          61                         Technology  ==> software   \n",
       "10  8133          62          Media & Entertainment  ==> Bloomberg LP   \n",
       "11  8447          63                           Technology  ==> Google   \n",
       "12  5897          64                           Technology  ==> Google   \n",
       "13  4296          65                    Fashion & Retail  ==> Walmart   \n",
       "14  2162          66                    Fashion & Retail  ==> Walmart   \n",
       "\n",
       "         worth          worthChange realTimeWorth  realTimePosition  \n",
       "0   112.0 BUSD     0.0 millions USD          None                 1  \n",
       "1    90.0 BUSD  -0.001 millions USD          None                 2  \n",
       "2    84.0 BUSD  -0.002 millions USD          None                 3  \n",
       "3    72.0 BUSD     0.0 millions USD          None                 4  \n",
       "4    71.0 BUSD     0.0 millions USD          None                 5  \n",
       "5    70.0 BUSD     0.0 millions USD          None                 6  \n",
       "6    67.1 BUSD   0.001 millions USD          None                 7  \n",
       "7    60.0 BUSD     0.0 millions USD          None                12  \n",
       "8    60.0 BUSD     0.0 millions USD          None                13  \n",
       "9    58.5 BUSD  -0.001 millions USD          None                 8  \n",
       "10   50.0 BUSD     0.0 millions USD          None                11  \n",
       "11   48.8 BUSD     0.0 millions USD          None                 9  \n",
       "12   47.5 BUSD     0.0 millions USD          None                10  \n",
       "13   46.4 BUSD     0.0 millions USD          None                19  \n",
       "14   46.2 BUSD     0.0 millions USD          None                20  "
      ]
     },
     "execution_count": 11,
     "metadata": {},
     "output_type": "execute_result"
    }
   ],
   "source": [
    "query = \"select * from business_info\"\n",
    "dfbusiness_info = pd.read_sql_query(query, engine)\n",
    "dfbusiness_info.head(15)"
   ]
  },
  {
   "cell_type": "code",
   "execution_count": 12,
   "metadata": {},
   "outputs": [
    {
     "name": "stdout",
     "output_type": "stream",
     "text": [
      "Index(['id', 'Unnamed: 0', 'Source', 'worth', 'worthChange', 'realTimeWorth',\n",
      "       'realTimePosition'],\n",
      "      dtype='object')\n"
     ]
    }
   ],
   "source": [
    "dfbusiness_info_column_names = dfbusiness_info.columns\n",
    "print(dfbusiness_info_column_names)"
   ]
  },
  {
   "cell_type": "code",
   "execution_count": 13,
   "metadata": {},
   "outputs": [
    {
     "name": "stdout",
     "output_type": "stream",
     "text": [
      "<class 'pandas.core.frame.DataFrame'>\n",
      "RangeIndex: 2208 entries, 0 to 2207\n",
      "Data columns (total 7 columns):\n",
      "id                  2208 non-null int64\n",
      "Unnamed: 0          2208 non-null int64\n",
      "Source              2208 non-null object\n",
      "worth               2208 non-null object\n",
      "worthChange         2208 non-null object\n",
      "realTimeWorth       0 non-null object\n",
      "realTimePosition    2208 non-null int64\n",
      "dtypes: int64(3), object(4)\n",
      "memory usage: 120.9+ KB\n"
     ]
    }
   ],
   "source": [
    "dfbusiness_info.info()"
   ]
  },
  {
   "cell_type": "code",
   "execution_count": 14,
   "metadata": {},
   "outputs": [
    {
     "data": {
      "text/html": [
       "<div>\n",
       "<style scoped>\n",
       "    .dataframe tbody tr th:only-of-type {\n",
       "        vertical-align: middle;\n",
       "    }\n",
       "\n",
       "    .dataframe tbody tr th {\n",
       "        vertical-align: top;\n",
       "    }\n",
       "\n",
       "    .dataframe thead th {\n",
       "        text-align: right;\n",
       "    }\n",
       "</style>\n",
       "<table border=\"1\" class=\"dataframe\">\n",
       "  <thead>\n",
       "    <tr style=\"text-align: right;\">\n",
       "      <th></th>\n",
       "      <th>id</th>\n",
       "      <th>Unnamed: 0</th>\n",
       "      <th>Source</th>\n",
       "      <th>worth</th>\n",
       "      <th>worthChange</th>\n",
       "      <th>realTimeWorth</th>\n",
       "      <th>realTimePosition</th>\n",
       "    </tr>\n",
       "  </thead>\n",
       "  <tbody>\n",
       "    <tr>\n",
       "      <th>0</th>\n",
       "      <td>False</td>\n",
       "      <td>False</td>\n",
       "      <td>False</td>\n",
       "      <td>False</td>\n",
       "      <td>False</td>\n",
       "      <td>True</td>\n",
       "      <td>False</td>\n",
       "    </tr>\n",
       "    <tr>\n",
       "      <th>1</th>\n",
       "      <td>False</td>\n",
       "      <td>False</td>\n",
       "      <td>False</td>\n",
       "      <td>False</td>\n",
       "      <td>False</td>\n",
       "      <td>True</td>\n",
       "      <td>False</td>\n",
       "    </tr>\n",
       "    <tr>\n",
       "      <th>2</th>\n",
       "      <td>False</td>\n",
       "      <td>False</td>\n",
       "      <td>False</td>\n",
       "      <td>False</td>\n",
       "      <td>False</td>\n",
       "      <td>True</td>\n",
       "      <td>False</td>\n",
       "    </tr>\n",
       "    <tr>\n",
       "      <th>3</th>\n",
       "      <td>False</td>\n",
       "      <td>False</td>\n",
       "      <td>False</td>\n",
       "      <td>False</td>\n",
       "      <td>False</td>\n",
       "      <td>True</td>\n",
       "      <td>False</td>\n",
       "    </tr>\n",
       "    <tr>\n",
       "      <th>4</th>\n",
       "      <td>False</td>\n",
       "      <td>False</td>\n",
       "      <td>False</td>\n",
       "      <td>False</td>\n",
       "      <td>False</td>\n",
       "      <td>True</td>\n",
       "      <td>False</td>\n",
       "    </tr>\n",
       "    <tr>\n",
       "      <th>...</th>\n",
       "      <td>...</td>\n",
       "      <td>...</td>\n",
       "      <td>...</td>\n",
       "      <td>...</td>\n",
       "      <td>...</td>\n",
       "      <td>...</td>\n",
       "      <td>...</td>\n",
       "    </tr>\n",
       "    <tr>\n",
       "      <th>2203</th>\n",
       "      <td>False</td>\n",
       "      <td>False</td>\n",
       "      <td>False</td>\n",
       "      <td>False</td>\n",
       "      <td>False</td>\n",
       "      <td>True</td>\n",
       "      <td>False</td>\n",
       "    </tr>\n",
       "    <tr>\n",
       "      <th>2204</th>\n",
       "      <td>False</td>\n",
       "      <td>False</td>\n",
       "      <td>False</td>\n",
       "      <td>False</td>\n",
       "      <td>False</td>\n",
       "      <td>True</td>\n",
       "      <td>False</td>\n",
       "    </tr>\n",
       "    <tr>\n",
       "      <th>2205</th>\n",
       "      <td>False</td>\n",
       "      <td>False</td>\n",
       "      <td>False</td>\n",
       "      <td>False</td>\n",
       "      <td>False</td>\n",
       "      <td>True</td>\n",
       "      <td>False</td>\n",
       "    </tr>\n",
       "    <tr>\n",
       "      <th>2206</th>\n",
       "      <td>False</td>\n",
       "      <td>False</td>\n",
       "      <td>False</td>\n",
       "      <td>False</td>\n",
       "      <td>False</td>\n",
       "      <td>True</td>\n",
       "      <td>False</td>\n",
       "    </tr>\n",
       "    <tr>\n",
       "      <th>2207</th>\n",
       "      <td>False</td>\n",
       "      <td>False</td>\n",
       "      <td>False</td>\n",
       "      <td>False</td>\n",
       "      <td>False</td>\n",
       "      <td>True</td>\n",
       "      <td>False</td>\n",
       "    </tr>\n",
       "  </tbody>\n",
       "</table>\n",
       "<p>2208 rows × 7 columns</p>\n",
       "</div>"
      ],
      "text/plain": [
       "         id  Unnamed: 0  Source  worth  worthChange  realTimeWorth  \\\n",
       "0     False       False   False  False        False           True   \n",
       "1     False       False   False  False        False           True   \n",
       "2     False       False   False  False        False           True   \n",
       "3     False       False   False  False        False           True   \n",
       "4     False       False   False  False        False           True   \n",
       "...     ...         ...     ...    ...          ...            ...   \n",
       "2203  False       False   False  False        False           True   \n",
       "2204  False       False   False  False        False           True   \n",
       "2205  False       False   False  False        False           True   \n",
       "2206  False       False   False  False        False           True   \n",
       "2207  False       False   False  False        False           True   \n",
       "\n",
       "      realTimePosition  \n",
       "0                False  \n",
       "1                False  \n",
       "2                False  \n",
       "3                False  \n",
       "4                False  \n",
       "...                ...  \n",
       "2203             False  \n",
       "2204             False  \n",
       "2205             False  \n",
       "2206             False  \n",
       "2207             False  \n",
       "\n",
       "[2208 rows x 7 columns]"
      ]
     },
     "execution_count": 14,
     "metadata": {},
     "output_type": "execute_result"
    }
   ],
   "source": [
    "dfbusiness_info.isnull()"
   ]
  },
  {
   "cell_type": "code",
   "execution_count": 15,
   "metadata": {},
   "outputs": [
    {
     "data": {
      "text/plain": [
       "id                     0\n",
       "Unnamed: 0             0\n",
       "Source                 0\n",
       "worth                  0\n",
       "worthChange            0\n",
       "realTimeWorth       2208\n",
       "realTimePosition       0\n",
       "dtype: int64"
      ]
     },
     "execution_count": 15,
     "metadata": {},
     "output_type": "execute_result"
    }
   ],
   "source": [
    "dfbusiness_info.isnull().sum()"
   ]
  },
  {
   "cell_type": "code",
   "execution_count": 16,
   "metadata": {},
   "outputs": [
    {
     "data": {
      "text/plain": [
       "id                  False\n",
       "Unnamed: 0          False\n",
       "Source              False\n",
       "worth               False\n",
       "worthChange         False\n",
       "realTimeWorth        True\n",
       "realTimePosition    False\n",
       "dtype: bool"
      ]
     },
     "execution_count": 16,
     "metadata": {},
     "output_type": "execute_result"
    }
   ],
   "source": [
    "dfbusiness_info.isnull().sum() > 0"
   ]
  },
  {
   "cell_type": "code",
   "execution_count": 17,
   "metadata": {},
   "outputs": [
    {
     "data": {
      "text/html": [
       "<div>\n",
       "<style scoped>\n",
       "    .dataframe tbody tr th:only-of-type {\n",
       "        vertical-align: middle;\n",
       "    }\n",
       "\n",
       "    .dataframe tbody tr th {\n",
       "        vertical-align: top;\n",
       "    }\n",
       "\n",
       "    .dataframe thead th {\n",
       "        text-align: right;\n",
       "    }\n",
       "</style>\n",
       "<table border=\"1\" class=\"dataframe\">\n",
       "  <thead>\n",
       "    <tr style=\"text-align: right;\">\n",
       "      <th></th>\n",
       "      <th>id</th>\n",
       "      <th>Unnamed: 0</th>\n",
       "      <th>Source</th>\n",
       "      <th>worth</th>\n",
       "      <th>worthChange</th>\n",
       "      <th>realTimeWorth</th>\n",
       "      <th>realTimePosition</th>\n",
       "    </tr>\n",
       "  </thead>\n",
       "  <tbody>\n",
       "    <tr>\n",
       "      <th>0</th>\n",
       "      <td>5227</td>\n",
       "      <td>52</td>\n",
       "      <td>Technology  ==&gt; Amazon</td>\n",
       "      <td>112.0 BUSD</td>\n",
       "      <td>0.0 millions USD</td>\n",
       "      <td>None</td>\n",
       "      <td>1</td>\n",
       "    </tr>\n",
       "    <tr>\n",
       "      <th>1</th>\n",
       "      <td>2642</td>\n",
       "      <td>53</td>\n",
       "      <td>Technology  ==&gt; Microsoft</td>\n",
       "      <td>90.0 BUSD</td>\n",
       "      <td>-0.001 millions USD</td>\n",
       "      <td>None</td>\n",
       "      <td>2</td>\n",
       "    </tr>\n",
       "    <tr>\n",
       "      <th>2</th>\n",
       "      <td>5422</td>\n",
       "      <td>54</td>\n",
       "      <td>Finance and Investments  ==&gt; Berkshire Hathaway</td>\n",
       "      <td>84.0 BUSD</td>\n",
       "      <td>-0.002 millions USD</td>\n",
       "      <td>None</td>\n",
       "      <td>3</td>\n",
       "    </tr>\n",
       "    <tr>\n",
       "      <th>3</th>\n",
       "      <td>8183</td>\n",
       "      <td>55</td>\n",
       "      <td>Fashion &amp; Retail  ==&gt; LVMH</td>\n",
       "      <td>72.0 BUSD</td>\n",
       "      <td>0.0 millions USD</td>\n",
       "      <td>None</td>\n",
       "      <td>4</td>\n",
       "    </tr>\n",
       "    <tr>\n",
       "      <th>4</th>\n",
       "      <td>5642</td>\n",
       "      <td>56</td>\n",
       "      <td>Technology  ==&gt; Facebook</td>\n",
       "      <td>71.0 BUSD</td>\n",
       "      <td>0.0 millions USD</td>\n",
       "      <td>None</td>\n",
       "      <td>5</td>\n",
       "    </tr>\n",
       "  </tbody>\n",
       "</table>\n",
       "</div>"
      ],
      "text/plain": [
       "     id  Unnamed: 0                                           Source  \\\n",
       "0  5227          52                           Technology  ==> Amazon   \n",
       "1  2642          53                        Technology  ==> Microsoft   \n",
       "2  5422          54  Finance and Investments  ==> Berkshire Hathaway   \n",
       "3  8183          55                       Fashion & Retail  ==> LVMH   \n",
       "4  5642          56                         Technology  ==> Facebook   \n",
       "\n",
       "        worth          worthChange realTimeWorth  realTimePosition  \n",
       "0  112.0 BUSD     0.0 millions USD          None                 1  \n",
       "1   90.0 BUSD  -0.001 millions USD          None                 2  \n",
       "2   84.0 BUSD  -0.002 millions USD          None                 3  \n",
       "3   72.0 BUSD     0.0 millions USD          None                 4  \n",
       "4   71.0 BUSD     0.0 millions USD          None                 5  "
      ]
     },
     "execution_count": 17,
     "metadata": {},
     "output_type": "execute_result"
    }
   ],
   "source": [
    " dfbusiness_info.head()"
   ]
  },
  {
   "cell_type": "code",
   "execution_count": 18,
   "metadata": {},
   "outputs": [],
   "source": [
    "dfbusiness_info.drop('realTimeWorth', axis=1, inplace=True) "
   ]
  },
  {
   "cell_type": "code",
   "execution_count": 38,
   "metadata": {},
   "outputs": [
    {
     "name": "stdout",
     "output_type": "stream",
     "text": [
      "<class 'pandas.core.frame.DataFrame'>\n",
      "RangeIndex: 2208 entries, 0 to 2207\n",
      "Data columns (total 6 columns):\n",
      "id                  2208 non-null int64\n",
      "Unnamed: 0          2208 non-null int64\n",
      "Source              2208 non-null object\n",
      "worth               2208 non-null object\n",
      "worthChange         2208 non-null object\n",
      "realTimePosition    2208 non-null int64\n",
      "dtypes: int64(3), object(3)\n",
      "memory usage: 103.6+ KB\n"
     ]
    }
   ],
   "source": [
    "dfbusiness_info.info()"
   ]
  },
  {
   "cell_type": "code",
   "execution_count": 20,
   "metadata": {},
   "outputs": [],
   "source": [
    "dfbusiness_info_column_names = dfbusiness_info.columns"
   ]
  },
  {
   "cell_type": "code",
   "execution_count": 21,
   "metadata": {},
   "outputs": [
    {
     "name": "stdout",
     "output_type": "stream",
     "text": [
      "id is unique: True\n",
      "Unnamed: 0 is unique: True\n",
      "Source is unique: False\n",
      "worth is unique: False\n",
      "worthChange is unique: False\n",
      "realTimePosition is unique: False\n"
     ]
    }
   ],
   "source": [
    "for i in dfbusiness_info_column_names:\n",
    "  print('{} is unique: {}'.format(i, dfbusiness_info[i].is_unique))"
   ]
  },
  {
   "cell_type": "code",
   "execution_count": 22,
   "metadata": {},
   "outputs": [
    {
     "data": {
      "text/plain": [
       "id                   int64\n",
       "Unnamed: 0           int64\n",
       "Source              object\n",
       "worth               object\n",
       "worthChange         object\n",
       "realTimePosition     int64\n",
       "dtype: object"
      ]
     },
     "execution_count": 22,
     "metadata": {},
     "output_type": "execute_result"
    }
   ],
   "source": [
    "dfbusiness_info.dtypes"
   ]
  },
  {
   "cell_type": "code",
   "execution_count": 23,
   "metadata": {},
   "outputs": [
    {
     "data": {
      "text/plain": [
       "array([   0,    1,    2, ..., 2205, 2206, 2207])"
      ]
     },
     "execution_count": 23,
     "metadata": {},
     "output_type": "execute_result"
    }
   ],
   "source": [
    "dfbusiness_info.index.values"
   ]
  },
  {
   "cell_type": "markdown",
   "metadata": {},
   "source": [
    "# dfrank_info"
   ]
  },
  {
   "cell_type": "code",
   "execution_count": 24,
   "metadata": {},
   "outputs": [
    {
     "data": {
      "text/html": [
       "<div>\n",
       "<style scoped>\n",
       "    .dataframe tbody tr th:only-of-type {\n",
       "        vertical-align: middle;\n",
       "    }\n",
       "\n",
       "    .dataframe tbody tr th {\n",
       "        vertical-align: top;\n",
       "    }\n",
       "\n",
       "    .dataframe thead th {\n",
       "        text-align: right;\n",
       "    }\n",
       "</style>\n",
       "<table border=\"1\" class=\"dataframe\">\n",
       "  <thead>\n",
       "    <tr style=\"text-align: right;\">\n",
       "      <th></th>\n",
       "      <th>id</th>\n",
       "      <th>name</th>\n",
       "      <th>position</th>\n",
       "      <th>Unnamed: 0</th>\n",
       "    </tr>\n",
       "  </thead>\n",
       "  <tbody>\n",
       "    <tr>\n",
       "      <th>0</th>\n",
       "      <td>1431</td>\n",
       "      <td>anANT ASAVABHOKHIN &amp; FAmily</td>\n",
       "      <td>NaN</td>\n",
       "      <td>0</td>\n",
       "    </tr>\n",
       "    <tr>\n",
       "      <th>1</th>\n",
       "      <td>7293</td>\n",
       "      <td>arASH FERDowsi</td>\n",
       "      <td>NaN</td>\n",
       "      <td>1</td>\n",
       "    </tr>\n",
       "    <tr>\n",
       "      <th>2</th>\n",
       "      <td>3534</td>\n",
       "      <td>banthoON LAMSAM &amp; FAMILy</td>\n",
       "      <td>NaN</td>\n",
       "      <td>2</td>\n",
       "    </tr>\n",
       "    <tr>\n",
       "      <th>3</th>\n",
       "      <td>2538</td>\n",
       "      <td>bill ADDERLEY &amp; family</td>\n",
       "      <td>NaN</td>\n",
       "      <td>3</td>\n",
       "    </tr>\n",
       "    <tr>\n",
       "      <th>4</th>\n",
       "      <td>2722</td>\n",
       "      <td>borIS ZINGArevich</td>\n",
       "      <td>NaN</td>\n",
       "      <td>4</td>\n",
       "    </tr>\n",
       "  </tbody>\n",
       "</table>\n",
       "</div>"
      ],
      "text/plain": [
       "     id                         name  position  Unnamed: 0\n",
       "0  1431  anANT ASAVABHOKHIN & FAmily       NaN           0\n",
       "1  7293               arASH FERDowsi       NaN           1\n",
       "2  3534     banthoON LAMSAM & FAMILy       NaN           2\n",
       "3  2538       bill ADDERLEY & family       NaN           3\n",
       "4  2722            borIS ZINGArevich       NaN           4"
      ]
     },
     "execution_count": 24,
     "metadata": {},
     "output_type": "execute_result"
    }
   ],
   "source": [
    "query = \"select * from rank_info\"\n",
    "dfrank_info = pd.read_sql_query(query, engine)\n",
    "dfrank_info.head()"
   ]
  },
  {
   "cell_type": "code",
   "execution_count": 25,
   "metadata": {},
   "outputs": [
    {
     "data": {
      "text/plain": [
       "Index(['id', 'name', 'position', 'Unnamed: 0'], dtype='object')"
      ]
     },
     "execution_count": 25,
     "metadata": {},
     "output_type": "execute_result"
    }
   ],
   "source": [
    "dfrank_info.columns"
   ]
  },
  {
   "cell_type": "code",
   "execution_count": 26,
   "metadata": {},
   "outputs": [],
   "source": [
    "dfrank_info_column_names = dfrank_info.columns"
   ]
  },
  {
   "cell_type": "code",
   "execution_count": 27,
   "metadata": {},
   "outputs": [
    {
     "name": "stdout",
     "output_type": "stream",
     "text": [
      "id is unique: True\n",
      "name is unique: True\n",
      "position is unique: False\n",
      "Unnamed: 0 is unique: True\n"
     ]
    }
   ],
   "source": [
    "for i in dfrank_info_column_names:\n",
    "  print('{} is unique: {}'.format(i, dfrank_info[i].is_unique))"
   ]
  },
  {
   "cell_type": "code",
   "execution_count": 28,
   "metadata": {},
   "outputs": [
    {
     "data": {
      "text/plain": [
       "id              int64\n",
       "name           object\n",
       "position      float64\n",
       "Unnamed: 0      int64\n",
       "dtype: object"
      ]
     },
     "execution_count": 28,
     "metadata": {},
     "output_type": "execute_result"
    }
   ],
   "source": [
    "dfrank_info.dtypes"
   ]
  },
  {
   "cell_type": "code",
   "execution_count": 29,
   "metadata": {},
   "outputs": [
    {
     "data": {
      "text/plain": [
       "array([   0,    1,    2, ..., 2257, 2258, 2259])"
      ]
     },
     "execution_count": 29,
     "metadata": {},
     "output_type": "execute_result"
    }
   ],
   "source": [
    "dfrank_info.index.values"
   ]
  },
  {
   "cell_type": "markdown",
   "metadata": {},
   "source": [
    "# Merge"
   ]
  },
  {
   "cell_type": "code",
   "execution_count": 41,
   "metadata": {},
   "outputs": [],
   "source": [
    "merged_df = dfrank_info.merge(dfbusiness_info, on='id')"
   ]
  },
  {
   "cell_type": "code",
   "execution_count": 42,
   "metadata": {},
   "outputs": [
    {
     "data": {
      "text/plain": [
       "array([   0,    1,    2, ..., 2205, 2206, 2207])"
      ]
     },
     "execution_count": 42,
     "metadata": {},
     "output_type": "execute_result"
    }
   ],
   "source": [
    "merged_df.index.values"
   ]
  },
  {
   "cell_type": "code",
   "execution_count": 43,
   "metadata": {},
   "outputs": [],
   "source": [
    "final_df = merged_df.merge(dfpersonal_info, on='id')"
   ]
  },
  {
   "cell_type": "code",
   "execution_count": 44,
   "metadata": {},
   "outputs": [
    {
     "data": {
      "text/html": [
       "<div>\n",
       "<style scoped>\n",
       "    .dataframe tbody tr th:only-of-type {\n",
       "        vertical-align: middle;\n",
       "    }\n",
       "\n",
       "    .dataframe tbody tr th {\n",
       "        vertical-align: top;\n",
       "    }\n",
       "\n",
       "    .dataframe thead th {\n",
       "        text-align: right;\n",
       "    }\n",
       "</style>\n",
       "<table border=\"1\" class=\"dataframe\">\n",
       "  <thead>\n",
       "    <tr style=\"text-align: right;\">\n",
       "      <th></th>\n",
       "      <th>id</th>\n",
       "      <th>name</th>\n",
       "      <th>position</th>\n",
       "      <th>Unnamed: 0_x</th>\n",
       "      <th>Unnamed: 0_y</th>\n",
       "      <th>Source</th>\n",
       "      <th>worth</th>\n",
       "      <th>worthChange</th>\n",
       "      <th>realTimePosition</th>\n",
       "      <th>lastName</th>\n",
       "      <th>age</th>\n",
       "      <th>Unnamed: 0</th>\n",
       "      <th>gender</th>\n",
       "      <th>country</th>\n",
       "      <th>image</th>\n",
       "    </tr>\n",
       "  </thead>\n",
       "  <tbody>\n",
       "    <tr>\n",
       "      <th>0</th>\n",
       "      <td>5227</td>\n",
       "      <td>jeff BEZos</td>\n",
       "      <td>1.0</td>\n",
       "      <td>52</td>\n",
       "      <td>52</td>\n",
       "      <td>Technology  ==&gt; Amazon</td>\n",
       "      <td>112.0 BUSD</td>\n",
       "      <td>0.0 millions USD</td>\n",
       "      <td>1</td>\n",
       "      <td>bEZOS</td>\n",
       "      <td>54 years old</td>\n",
       "      <td>52</td>\n",
       "      <td>None</td>\n",
       "      <td>United States</td>\n",
       "      <td>https://specials-images.forbesimg.com/imageser...</td>\n",
       "    </tr>\n",
       "    <tr>\n",
       "      <th>1</th>\n",
       "      <td>2642</td>\n",
       "      <td>bill GATES</td>\n",
       "      <td>2.0</td>\n",
       "      <td>53</td>\n",
       "      <td>53</td>\n",
       "      <td>Technology  ==&gt; Microsoft</td>\n",
       "      <td>90.0 BUSD</td>\n",
       "      <td>-0.001 millions USD</td>\n",
       "      <td>2</td>\n",
       "      <td>GATES</td>\n",
       "      <td>62 years old</td>\n",
       "      <td>53</td>\n",
       "      <td>M</td>\n",
       "      <td>None</td>\n",
       "      <td>https://specials-images.forbesimg.com/imageser...</td>\n",
       "    </tr>\n",
       "    <tr>\n",
       "      <th>2</th>\n",
       "      <td>5422</td>\n",
       "      <td>warrEN BUFFEtt</td>\n",
       "      <td>3.0</td>\n",
       "      <td>54</td>\n",
       "      <td>54</td>\n",
       "      <td>Finance and Investments  ==&gt; Berkshire Hathaway</td>\n",
       "      <td>84.0 BUSD</td>\n",
       "      <td>-0.002 millions USD</td>\n",
       "      <td>3</td>\n",
       "      <td>bufFETT</td>\n",
       "      <td>87 years old</td>\n",
       "      <td>54</td>\n",
       "      <td>M</td>\n",
       "      <td>None</td>\n",
       "      <td>https://specials-images.forbesimg.com/imageser...</td>\n",
       "    </tr>\n",
       "    <tr>\n",
       "      <th>3</th>\n",
       "      <td>8183</td>\n",
       "      <td>bernarD ARNAULT</td>\n",
       "      <td>4.0</td>\n",
       "      <td>55</td>\n",
       "      <td>55</td>\n",
       "      <td>Fashion &amp; Retail  ==&gt; LVMH</td>\n",
       "      <td>72.0 BUSD</td>\n",
       "      <td>0.0 millions USD</td>\n",
       "      <td>4</td>\n",
       "      <td>aRNAULt</td>\n",
       "      <td>69 years old</td>\n",
       "      <td>55</td>\n",
       "      <td>M</td>\n",
       "      <td>France</td>\n",
       "      <td>https://specials-images.forbesimg.com/imageser...</td>\n",
       "    </tr>\n",
       "    <tr>\n",
       "      <th>4</th>\n",
       "      <td>5642</td>\n",
       "      <td>mark zUCKERBerg</td>\n",
       "      <td>5.0</td>\n",
       "      <td>56</td>\n",
       "      <td>56</td>\n",
       "      <td>Technology  ==&gt; Facebook</td>\n",
       "      <td>71.0 BUSD</td>\n",
       "      <td>0.0 millions USD</td>\n",
       "      <td>5</td>\n",
       "      <td>zuckeRBERG</td>\n",
       "      <td>1985</td>\n",
       "      <td>56</td>\n",
       "      <td>M</td>\n",
       "      <td>USA</td>\n",
       "      <td>https://specials-images.forbesimg.com/imageser...</td>\n",
       "    </tr>\n",
       "  </tbody>\n",
       "</table>\n",
       "</div>"
      ],
      "text/plain": [
       "     id             name  position  Unnamed: 0_x  Unnamed: 0_y  \\\n",
       "0  5227       jeff BEZos       1.0            52            52   \n",
       "1  2642       bill GATES       2.0            53            53   \n",
       "2  5422   warrEN BUFFEtt       3.0            54            54   \n",
       "3  8183  bernarD ARNAULT       4.0            55            55   \n",
       "4  5642  mark zUCKERBerg       5.0            56            56   \n",
       "\n",
       "                                            Source       worth  \\\n",
       "0                           Technology  ==> Amazon  112.0 BUSD   \n",
       "1                        Technology  ==> Microsoft   90.0 BUSD   \n",
       "2  Finance and Investments  ==> Berkshire Hathaway   84.0 BUSD   \n",
       "3                       Fashion & Retail  ==> LVMH   72.0 BUSD   \n",
       "4                         Technology  ==> Facebook   71.0 BUSD   \n",
       "\n",
       "           worthChange  realTimePosition    lastName           age  \\\n",
       "0     0.0 millions USD                 1       bEZOS  54 years old   \n",
       "1  -0.001 millions USD                 2       GATES  62 years old   \n",
       "2  -0.002 millions USD                 3     bufFETT  87 years old   \n",
       "3     0.0 millions USD                 4     aRNAULt  69 years old   \n",
       "4     0.0 millions USD                 5  zuckeRBERG          1985   \n",
       "\n",
       "   Unnamed: 0 gender        country  \\\n",
       "0          52   None  United States   \n",
       "1          53      M           None   \n",
       "2          54      M           None   \n",
       "3          55      M         France   \n",
       "4          56      M            USA   \n",
       "\n",
       "                                               image  \n",
       "0  https://specials-images.forbesimg.com/imageser...  \n",
       "1  https://specials-images.forbesimg.com/imageser...  \n",
       "2  https://specials-images.forbesimg.com/imageser...  \n",
       "3  https://specials-images.forbesimg.com/imageser...  \n",
       "4  https://specials-images.forbesimg.com/imageser...  "
      ]
     },
     "execution_count": 44,
     "metadata": {},
     "output_type": "execute_result"
    }
   ],
   "source": [
    "final_df.head()"
   ]
  },
  {
   "cell_type": "code",
   "execution_count": 45,
   "metadata": {},
   "outputs": [],
   "source": [
    "#drop duplicated columns\n",
    "\n",
    "final_df.drop('Unnamed: 0_x', axis=1, inplace=True) \n",
    "final_df.drop('Unnamed: 0_y', axis=1, inplace=True) \n"
   ]
  },
  {
   "cell_type": "code",
   "execution_count": 46,
   "metadata": {},
   "outputs": [
    {
     "data": {
      "text/html": [
       "<div>\n",
       "<style scoped>\n",
       "    .dataframe tbody tr th:only-of-type {\n",
       "        vertical-align: middle;\n",
       "    }\n",
       "\n",
       "    .dataframe tbody tr th {\n",
       "        vertical-align: top;\n",
       "    }\n",
       "\n",
       "    .dataframe thead th {\n",
       "        text-align: right;\n",
       "    }\n",
       "</style>\n",
       "<table border=\"1\" class=\"dataframe\">\n",
       "  <thead>\n",
       "    <tr style=\"text-align: right;\">\n",
       "      <th></th>\n",
       "      <th>id</th>\n",
       "      <th>name</th>\n",
       "      <th>position</th>\n",
       "      <th>Source</th>\n",
       "      <th>worth</th>\n",
       "      <th>worthChange</th>\n",
       "      <th>realTimePosition</th>\n",
       "      <th>lastName</th>\n",
       "      <th>age</th>\n",
       "      <th>Unnamed: 0</th>\n",
       "      <th>gender</th>\n",
       "      <th>country</th>\n",
       "      <th>image</th>\n",
       "    </tr>\n",
       "  </thead>\n",
       "  <tbody>\n",
       "    <tr>\n",
       "      <th>0</th>\n",
       "      <td>5227</td>\n",
       "      <td>jeff BEZos</td>\n",
       "      <td>1.0</td>\n",
       "      <td>Technology  ==&gt; Amazon</td>\n",
       "      <td>112.0 BUSD</td>\n",
       "      <td>0.0 millions USD</td>\n",
       "      <td>1</td>\n",
       "      <td>bEZOS</td>\n",
       "      <td>54 years old</td>\n",
       "      <td>52</td>\n",
       "      <td>None</td>\n",
       "      <td>United States</td>\n",
       "      <td>https://specials-images.forbesimg.com/imageser...</td>\n",
       "    </tr>\n",
       "    <tr>\n",
       "      <th>1</th>\n",
       "      <td>2642</td>\n",
       "      <td>bill GATES</td>\n",
       "      <td>2.0</td>\n",
       "      <td>Technology  ==&gt; Microsoft</td>\n",
       "      <td>90.0 BUSD</td>\n",
       "      <td>-0.001 millions USD</td>\n",
       "      <td>2</td>\n",
       "      <td>GATES</td>\n",
       "      <td>62 years old</td>\n",
       "      <td>53</td>\n",
       "      <td>M</td>\n",
       "      <td>None</td>\n",
       "      <td>https://specials-images.forbesimg.com/imageser...</td>\n",
       "    </tr>\n",
       "    <tr>\n",
       "      <th>2</th>\n",
       "      <td>5422</td>\n",
       "      <td>warrEN BUFFEtt</td>\n",
       "      <td>3.0</td>\n",
       "      <td>Finance and Investments  ==&gt; Berkshire Hathaway</td>\n",
       "      <td>84.0 BUSD</td>\n",
       "      <td>-0.002 millions USD</td>\n",
       "      <td>3</td>\n",
       "      <td>bufFETT</td>\n",
       "      <td>87 years old</td>\n",
       "      <td>54</td>\n",
       "      <td>M</td>\n",
       "      <td>None</td>\n",
       "      <td>https://specials-images.forbesimg.com/imageser...</td>\n",
       "    </tr>\n",
       "    <tr>\n",
       "      <th>3</th>\n",
       "      <td>8183</td>\n",
       "      <td>bernarD ARNAULT</td>\n",
       "      <td>4.0</td>\n",
       "      <td>Fashion &amp; Retail  ==&gt; LVMH</td>\n",
       "      <td>72.0 BUSD</td>\n",
       "      <td>0.0 millions USD</td>\n",
       "      <td>4</td>\n",
       "      <td>aRNAULt</td>\n",
       "      <td>69 years old</td>\n",
       "      <td>55</td>\n",
       "      <td>M</td>\n",
       "      <td>France</td>\n",
       "      <td>https://specials-images.forbesimg.com/imageser...</td>\n",
       "    </tr>\n",
       "    <tr>\n",
       "      <th>4</th>\n",
       "      <td>5642</td>\n",
       "      <td>mark zUCKERBerg</td>\n",
       "      <td>5.0</td>\n",
       "      <td>Technology  ==&gt; Facebook</td>\n",
       "      <td>71.0 BUSD</td>\n",
       "      <td>0.0 millions USD</td>\n",
       "      <td>5</td>\n",
       "      <td>zuckeRBERG</td>\n",
       "      <td>1985</td>\n",
       "      <td>56</td>\n",
       "      <td>M</td>\n",
       "      <td>USA</td>\n",
       "      <td>https://specials-images.forbesimg.com/imageser...</td>\n",
       "    </tr>\n",
       "  </tbody>\n",
       "</table>\n",
       "</div>"
      ],
      "text/plain": [
       "     id             name  position  \\\n",
       "0  5227       jeff BEZos       1.0   \n",
       "1  2642       bill GATES       2.0   \n",
       "2  5422   warrEN BUFFEtt       3.0   \n",
       "3  8183  bernarD ARNAULT       4.0   \n",
       "4  5642  mark zUCKERBerg       5.0   \n",
       "\n",
       "                                            Source       worth  \\\n",
       "0                           Technology  ==> Amazon  112.0 BUSD   \n",
       "1                        Technology  ==> Microsoft   90.0 BUSD   \n",
       "2  Finance and Investments  ==> Berkshire Hathaway   84.0 BUSD   \n",
       "3                       Fashion & Retail  ==> LVMH   72.0 BUSD   \n",
       "4                         Technology  ==> Facebook   71.0 BUSD   \n",
       "\n",
       "           worthChange  realTimePosition    lastName           age  \\\n",
       "0     0.0 millions USD                 1       bEZOS  54 years old   \n",
       "1  -0.001 millions USD                 2       GATES  62 years old   \n",
       "2  -0.002 millions USD                 3     bufFETT  87 years old   \n",
       "3     0.0 millions USD                 4     aRNAULt  69 years old   \n",
       "4     0.0 millions USD                 5  zuckeRBERG          1985   \n",
       "\n",
       "   Unnamed: 0 gender        country  \\\n",
       "0          52   None  United States   \n",
       "1          53      M           None   \n",
       "2          54      M           None   \n",
       "3          55      M         France   \n",
       "4          56      M            USA   \n",
       "\n",
       "                                               image  \n",
       "0  https://specials-images.forbesimg.com/imageser...  \n",
       "1  https://specials-images.forbesimg.com/imageser...  \n",
       "2  https://specials-images.forbesimg.com/imageser...  \n",
       "3  https://specials-images.forbesimg.com/imageser...  \n",
       "4  https://specials-images.forbesimg.com/imageser...  "
      ]
     },
     "execution_count": 46,
     "metadata": {},
     "output_type": "execute_result"
    }
   ],
   "source": [
    "final_df.head()"
   ]
  },
  {
   "cell_type": "code",
   "execution_count": 47,
   "metadata": {},
   "outputs": [
    {
     "name": "stdout",
     "output_type": "stream",
     "text": [
      "<class 'pandas.core.frame.DataFrame'>\n",
      "Int64Index: 2208 entries, 0 to 2207\n",
      "Data columns (total 13 columns):\n",
      "id                  2208 non-null int64\n",
      "name                2208 non-null object\n",
      "position            2208 non-null float64\n",
      "Source              2208 non-null object\n",
      "worth               2208 non-null object\n",
      "worthChange         2208 non-null object\n",
      "realTimePosition    2208 non-null int64\n",
      "lastName            2208 non-null object\n",
      "age                 2143 non-null object\n",
      "Unnamed: 0          2208 non-null int64\n",
      "gender              2195 non-null object\n",
      "country             2208 non-null object\n",
      "image               2208 non-null object\n",
      "dtypes: float64(1), int64(3), object(9)\n",
      "memory usage: 241.5+ KB\n"
     ]
    }
   ],
   "source": [
    "final_df.info()"
   ]
  },
  {
   "cell_type": "code",
   "execution_count": 48,
   "metadata": {},
   "outputs": [
    {
     "data": {
      "text/plain": [
       "array([   0,    1,    2, ..., 2205, 2206, 2207])"
      ]
     },
     "execution_count": 48,
     "metadata": {},
     "output_type": "execute_result"
    }
   ],
   "source": [
    "final_df.index.values"
   ]
  },
  {
   "cell_type": "code",
   "execution_count": null,
   "metadata": {},
   "outputs": [],
   "source": []
  },
  {
   "cell_type": "code",
   "execution_count": null,
   "metadata": {},
   "outputs": [],
   "source": []
  },
  {
   "cell_type": "code",
   "execution_count": null,
   "metadata": {},
   "outputs": [],
   "source": []
  }
 ],
 "metadata": {
  "kernelspec": {
   "display_name": "Python [conda env:data_env]",
   "language": "python",
   "name": "conda-env-data_env-py"
  },
  "language_info": {
   "codemirror_mode": {
    "name": "ipython",
    "version": 3
   },
   "file_extension": ".py",
   "mimetype": "text/x-python",
   "name": "python",
   "nbconvert_exporter": "python",
   "pygments_lexer": "ipython3",
   "version": "3.7.5"
  }
 },
 "nbformat": 4,
 "nbformat_minor": 2
}
