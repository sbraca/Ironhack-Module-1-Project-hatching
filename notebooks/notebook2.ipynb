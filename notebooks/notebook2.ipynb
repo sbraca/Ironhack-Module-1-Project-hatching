{
 "cells": [
  {
   "cell_type": "code",
   "execution_count": 77,
   "metadata": {},
   "outputs": [
    {
     "name": "stdout",
     "output_type": "stream",
     "text": [
      "Requirement already satisfied: sqlalchemy in /Users/Stefania/opt/anaconda3/envs/data_env/lib/python3.7/site-packages (1.3.10)\r\n"
     ]
    }
   ],
   "source": [
    "import pandas as pd \n",
    "!pip install sqlalchemy"
   ]
  },
  {
   "cell_type": "code",
   "execution_count": 78,
   "metadata": {},
   "outputs": [],
   "source": [
    "import pymysql\n",
    "from sqlalchemy import create_engine"
   ]
  },
  {
   "cell_type": "code",
   "execution_count": 79,
   "metadata": {},
   "outputs": [],
   "source": [
    "final_df = pd.read_csv('forbes.csv')"
   ]
  },
  {
   "cell_type": "code",
   "execution_count": 80,
   "metadata": {},
   "outputs": [
    {
     "data": {
      "text/html": [
       "<div>\n",
       "<style scoped>\n",
       "    .dataframe tbody tr th:only-of-type {\n",
       "        vertical-align: middle;\n",
       "    }\n",
       "\n",
       "    .dataframe tbody tr th {\n",
       "        vertical-align: top;\n",
       "    }\n",
       "\n",
       "    .dataframe thead th {\n",
       "        text-align: right;\n",
       "    }\n",
       "</style>\n",
       "<table border=\"1\" class=\"dataframe\">\n",
       "  <thead>\n",
       "    <tr style=\"text-align: right;\">\n",
       "      <th></th>\n",
       "      <th>ID</th>\n",
       "      <th>First Name</th>\n",
       "      <th>Last Name</th>\n",
       "      <th>Position</th>\n",
       "      <th>Worth</th>\n",
       "      <th>Source</th>\n",
       "      <th>Age</th>\n",
       "      <th>Unnamed: 0</th>\n",
       "      <th>Gender</th>\n",
       "      <th>Country</th>\n",
       "      <th>Image</th>\n",
       "    </tr>\n",
       "  </thead>\n",
       "  <tbody>\n",
       "    <tr>\n",
       "      <th>0</th>\n",
       "      <td>5227</td>\n",
       "      <td>Jeff</td>\n",
       "      <td>Bezos</td>\n",
       "      <td>1.0</td>\n",
       "      <td>112.0 BUSD</td>\n",
       "      <td>Technology  ==&gt; Amazon</td>\n",
       "      <td>54 years old</td>\n",
       "      <td>52</td>\n",
       "      <td>None</td>\n",
       "      <td>United States</td>\n",
       "      <td>https://specials-images.forbesimg.com/imageser...</td>\n",
       "    </tr>\n",
       "    <tr>\n",
       "      <th>1</th>\n",
       "      <td>2642</td>\n",
       "      <td>Bill</td>\n",
       "      <td>Gates</td>\n",
       "      <td>2.0</td>\n",
       "      <td>90.0 BUSD</td>\n",
       "      <td>Technology  ==&gt; Microsoft</td>\n",
       "      <td>62 years old</td>\n",
       "      <td>53</td>\n",
       "      <td>M</td>\n",
       "      <td>None</td>\n",
       "      <td>https://specials-images.forbesimg.com/imageser...</td>\n",
       "    </tr>\n",
       "    <tr>\n",
       "      <th>2</th>\n",
       "      <td>5422</td>\n",
       "      <td>Warren</td>\n",
       "      <td>Buffett</td>\n",
       "      <td>3.0</td>\n",
       "      <td>84.0 BUSD</td>\n",
       "      <td>Finance and Investments  ==&gt; Berkshire Hathaway</td>\n",
       "      <td>87 years old</td>\n",
       "      <td>54</td>\n",
       "      <td>M</td>\n",
       "      <td>None</td>\n",
       "      <td>https://specials-images.forbesimg.com/imageser...</td>\n",
       "    </tr>\n",
       "    <tr>\n",
       "      <th>3</th>\n",
       "      <td>8183</td>\n",
       "      <td>Bernard</td>\n",
       "      <td>Arnault</td>\n",
       "      <td>4.0</td>\n",
       "      <td>72.0 BUSD</td>\n",
       "      <td>Fashion &amp; Retail  ==&gt; LVMH</td>\n",
       "      <td>69 years old</td>\n",
       "      <td>55</td>\n",
       "      <td>M</td>\n",
       "      <td>France</td>\n",
       "      <td>https://specials-images.forbesimg.com/imageser...</td>\n",
       "    </tr>\n",
       "    <tr>\n",
       "      <th>4</th>\n",
       "      <td>5642</td>\n",
       "      <td>Mark</td>\n",
       "      <td>Zuckerberg</td>\n",
       "      <td>5.0</td>\n",
       "      <td>71.0 BUSD</td>\n",
       "      <td>Technology  ==&gt; Facebook</td>\n",
       "      <td>1985</td>\n",
       "      <td>56</td>\n",
       "      <td>M</td>\n",
       "      <td>USA</td>\n",
       "      <td>https://specials-images.forbesimg.com/imageser...</td>\n",
       "    </tr>\n",
       "  </tbody>\n",
       "</table>\n",
       "</div>"
      ],
      "text/plain": [
       "     ID First Name   Last Name  Position       Worth  \\\n",
       "0  5227       Jeff       Bezos       1.0  112.0 BUSD   \n",
       "1  2642       Bill       Gates       2.0   90.0 BUSD   \n",
       "2  5422     Warren     Buffett       3.0   84.0 BUSD   \n",
       "3  8183    Bernard     Arnault       4.0   72.0 BUSD   \n",
       "4  5642       Mark  Zuckerberg       5.0   71.0 BUSD   \n",
       "\n",
       "                                            Source           Age  Unnamed: 0  \\\n",
       "0                           Technology  ==> Amazon  54 years old          52   \n",
       "1                        Technology  ==> Microsoft  62 years old          53   \n",
       "2  Finance and Investments  ==> Berkshire Hathaway  87 years old          54   \n",
       "3                       Fashion & Retail  ==> LVMH  69 years old          55   \n",
       "4                         Technology  ==> Facebook          1985          56   \n",
       "\n",
       "  Gender        Country                                              Image  \n",
       "0   None  United States  https://specials-images.forbesimg.com/imageser...  \n",
       "1      M           None  https://specials-images.forbesimg.com/imageser...  \n",
       "2      M           None  https://specials-images.forbesimg.com/imageser...  \n",
       "3      M         France  https://specials-images.forbesimg.com/imageser...  \n",
       "4      M            USA  https://specials-images.forbesimg.com/imageser...  "
      ]
     },
     "execution_count": 80,
     "metadata": {},
     "output_type": "execute_result"
    }
   ],
   "source": [
    "final_df.head()"
   ]
  },
  {
   "cell_type": "code",
   "execution_count": 81,
   "metadata": {},
   "outputs": [
    {
     "name": "stdout",
     "output_type": "stream",
     "text": [
      "<class 'pandas.core.frame.DataFrame'>\n",
      "RangeIndex: 2208 entries, 0 to 2207\n",
      "Data columns (total 11 columns):\n",
      "ID            2208 non-null int64\n",
      "First Name    2208 non-null object\n",
      "Last Name     2208 non-null object\n",
      "Position      2208 non-null float64\n",
      "Worth         2208 non-null object\n",
      "Source        2208 non-null object\n",
      "Age           2143 non-null object\n",
      "Unnamed: 0    2208 non-null int64\n",
      "Gender        2195 non-null object\n",
      "Country       2208 non-null object\n",
      "Image         2208 non-null object\n",
      "dtypes: float64(1), int64(2), object(8)\n",
      "memory usage: 189.9+ KB\n"
     ]
    }
   ],
   "source": [
    "final_df.info()"
   ]
  },
  {
   "cell_type": "code",
   "execution_count": 82,
   "metadata": {},
   "outputs": [],
   "source": [
    "final_df.drop('Unnamed: 0', axis=1, inplace=True) "
   ]
  },
  {
   "cell_type": "code",
   "execution_count": 83,
   "metadata": {},
   "outputs": [
    {
     "data": {
      "text/plain": [
       "array(['None', 'M', 'Male', 'F', nan, 'Female'], dtype=object)"
      ]
     },
     "execution_count": 83,
     "metadata": {},
     "output_type": "execute_result"
    }
   ],
   "source": [
    "final_df.Gender.unique()"
   ]
  },
  {
   "cell_type": "markdown",
   "metadata": {},
   "source": [
    "# GENDER NULES"
   ]
  },
  {
   "cell_type": "code",
   "execution_count": 84,
   "metadata": {},
   "outputs": [
    {
     "data": {
      "text/plain": [
       "Age       65\n",
       "Gender    13\n",
       "dtype: int64"
      ]
     },
     "execution_count": 84,
     "metadata": {},
     "output_type": "execute_result"
    }
   ],
   "source": [
    "null_cols = final_df.isnull().sum()\n",
    "null_cols\n",
    "null_cols[null_cols > 0]"
   ]
  },
  {
   "cell_type": "code",
   "execution_count": 85,
   "metadata": {},
   "outputs": [],
   "source": [
    "null_displ = final_df[(final_df['Gender'].isnull()==True)]"
   ]
  },
  {
   "cell_type": "code",
   "execution_count": 86,
   "metadata": {},
   "outputs": [
    {
     "data": {
      "text/html": [
       "<div>\n",
       "<style scoped>\n",
       "    .dataframe tbody tr th:only-of-type {\n",
       "        vertical-align: middle;\n",
       "    }\n",
       "\n",
       "    .dataframe tbody tr th {\n",
       "        vertical-align: top;\n",
       "    }\n",
       "\n",
       "    .dataframe thead th {\n",
       "        text-align: right;\n",
       "    }\n",
       "</style>\n",
       "<table border=\"1\" class=\"dataframe\">\n",
       "  <thead>\n",
       "    <tr style=\"text-align: right;\">\n",
       "      <th></th>\n",
       "      <th>ID</th>\n",
       "      <th>First Name</th>\n",
       "      <th>Last Name</th>\n",
       "      <th>Position</th>\n",
       "      <th>Worth</th>\n",
       "      <th>Source</th>\n",
       "      <th>Age</th>\n",
       "      <th>Gender</th>\n",
       "      <th>Country</th>\n",
       "      <th>Image</th>\n",
       "    </tr>\n",
       "  </thead>\n",
       "  <tbody>\n",
       "    <tr>\n",
       "      <th>26</th>\n",
       "      <td>1202</td>\n",
       "      <td>Beate</td>\n",
       "      <td>Albrecht jr.</td>\n",
       "      <td>27.0</td>\n",
       "      <td>29.8 BUSD</td>\n",
       "      <td>Fashion &amp; Retail  ==&gt; supermarkets</td>\n",
       "      <td>66 years old</td>\n",
       "      <td>NaN</td>\n",
       "      <td>Germany</td>\n",
       "      <td>https://specials-images.forbesimg.com/imageser...</td>\n",
       "    </tr>\n",
       "    <tr>\n",
       "      <th>163</th>\n",
       "      <td>7836</td>\n",
       "      <td>Gianluigi</td>\n",
       "      <td>Aponte</td>\n",
       "      <td>164.0</td>\n",
       "      <td>9.3 BUSD</td>\n",
       "      <td>Logistics  ==&gt; Shipping</td>\n",
       "      <td>77 years old</td>\n",
       "      <td>NaN</td>\n",
       "      <td>None</td>\n",
       "      <td>https://specials-images.forbesimg.com/imageser...</td>\n",
       "    </tr>\n",
       "    <tr>\n",
       "      <th>224</th>\n",
       "      <td>1197</td>\n",
       "      <td>Willi</td>\n",
       "      <td>Liebherr</td>\n",
       "      <td>225.0</td>\n",
       "      <td>7.1 BUSD</td>\n",
       "      <td>Construction &amp; Engineering  ==&gt; Construction</td>\n",
       "      <td>NaN</td>\n",
       "      <td>NaN</td>\n",
       "      <td>None</td>\n",
       "      <td>https://specials-images.forbesimg.com/imageser...</td>\n",
       "    </tr>\n",
       "    <tr>\n",
       "      <th>309</th>\n",
       "      <td>5024</td>\n",
       "      <td>Tom</td>\n",
       "      <td>Love</td>\n",
       "      <td>310.0</td>\n",
       "      <td>5.8 BUSD</td>\n",
       "      <td>Fashion &amp; Retail  ==&gt; retail &amp; gas stations</td>\n",
       "      <td>81 years old</td>\n",
       "      <td>NaN</td>\n",
       "      <td>USA</td>\n",
       "      <td>https://specials-images.forbesimg.com/imageser...</td>\n",
       "    </tr>\n",
       "    <tr>\n",
       "      <th>426</th>\n",
       "      <td>3416</td>\n",
       "      <td>Philip</td>\n",
       "      <td>Green</td>\n",
       "      <td>427.0</td>\n",
       "      <td>4.8 BUSD</td>\n",
       "      <td>Fashion &amp; Retail  ==&gt; fashion retail</td>\n",
       "      <td>66 years old</td>\n",
       "      <td>NaN</td>\n",
       "      <td>None</td>\n",
       "      <td>https://specials-images.forbesimg.com/imageser...</td>\n",
       "    </tr>\n",
       "    <tr>\n",
       "      <th>529</th>\n",
       "      <td>3488</td>\n",
       "      <td>Jack</td>\n",
       "      <td>Dangermond</td>\n",
       "      <td>530.0</td>\n",
       "      <td>4.1 BUSD</td>\n",
       "      <td>Technology  ==&gt; mapping software</td>\n",
       "      <td>72 years old</td>\n",
       "      <td>NaN</td>\n",
       "      <td>None</td>\n",
       "      <td>https://specials-images.forbesimg.com/imageser...</td>\n",
       "    </tr>\n",
       "    <tr>\n",
       "      <th>581</th>\n",
       "      <td>9068</td>\n",
       "      <td>Stewart</td>\n",
       "      <td>Resnick</td>\n",
       "      <td>582.0</td>\n",
       "      <td>3.9 BUSD</td>\n",
       "      <td>Food and Beverage  ==&gt; agriculture, water</td>\n",
       "      <td>NaN</td>\n",
       "      <td>NaN</td>\n",
       "      <td>None</td>\n",
       "      <td>https://specials-images.forbesimg.com/imageser...</td>\n",
       "    </tr>\n",
       "    <tr>\n",
       "      <th>596</th>\n",
       "      <td>7398</td>\n",
       "      <td>Dominika</td>\n",
       "      <td>Kulczyk</td>\n",
       "      <td>597.0</td>\n",
       "      <td>3.8 BUSD</td>\n",
       "      <td>Finance and Investments  ==&gt; diversified</td>\n",
       "      <td>NaN</td>\n",
       "      <td>NaN</td>\n",
       "      <td>None</td>\n",
       "      <td>https://specials-images.forbesimg.com/imageser...</td>\n",
       "    </tr>\n",
       "    <tr>\n",
       "      <th>731</th>\n",
       "      <td>6616</td>\n",
       "      <td>Andrew</td>\n",
       "      <td>Cherng</td>\n",
       "      <td>732.0</td>\n",
       "      <td>3.2 BUSD</td>\n",
       "      <td>Food and Beverage  ==&gt; restaurants</td>\n",
       "      <td>NaN</td>\n",
       "      <td>NaN</td>\n",
       "      <td>None</td>\n",
       "      <td>https://specials-images.forbesimg.com/imageser...</td>\n",
       "    </tr>\n",
       "    <tr>\n",
       "      <th>766</th>\n",
       "      <td>8071</td>\n",
       "      <td>Do</td>\n",
       "      <td>Chang</td>\n",
       "      <td>767.0</td>\n",
       "      <td>3.1 BUSD</td>\n",
       "      <td>Fashion &amp; Retail  ==&gt; fashion retail</td>\n",
       "      <td>62 years old</td>\n",
       "      <td>NaN</td>\n",
       "      <td>None</td>\n",
       "      <td>https://specials-images.forbesimg.com/imageser...</td>\n",
       "    </tr>\n",
       "    <tr>\n",
       "      <th>1197</th>\n",
       "      <td>7859</td>\n",
       "      <td>Ong</td>\n",
       "      <td>Ong beng seng</td>\n",
       "      <td>1198.0</td>\n",
       "      <td>2.1 BUSD</td>\n",
       "      <td>Diversified  ==&gt; diversified</td>\n",
       "      <td>73 years old</td>\n",
       "      <td>NaN</td>\n",
       "      <td>None</td>\n",
       "      <td>https://specials-images.forbesimg.com/imageser...</td>\n",
       "    </tr>\n",
       "    <tr>\n",
       "      <th>1260</th>\n",
       "      <td>9780</td>\n",
       "      <td>Chuchat</td>\n",
       "      <td>Petaumpai</td>\n",
       "      <td>1261.0</td>\n",
       "      <td>2.0 BUSD</td>\n",
       "      <td>Finance and Investments  ==&gt; motorcycle loans</td>\n",
       "      <td>65 years old</td>\n",
       "      <td>NaN</td>\n",
       "      <td>None</td>\n",
       "      <td>https://specials-images.forbesimg.com/imageser...</td>\n",
       "    </tr>\n",
       "    <tr>\n",
       "      <th>1290</th>\n",
       "      <td>4362</td>\n",
       "      <td>Jean-paul</td>\n",
       "      <td>Clozel</td>\n",
       "      <td>1291.0</td>\n",
       "      <td>1.9 BUSD</td>\n",
       "      <td>Healthcare  ==&gt; pharmaceuticals</td>\n",
       "      <td>NaN</td>\n",
       "      <td>NaN</td>\n",
       "      <td>Switzerland</td>\n",
       "      <td>https://specials-images.forbesimg.com/imageser...</td>\n",
       "    </tr>\n",
       "  </tbody>\n",
       "</table>\n",
       "</div>"
      ],
      "text/plain": [
       "        ID First Name      Last Name  Position      Worth  \\\n",
       "26    1202      Beate   Albrecht jr.      27.0  29.8 BUSD   \n",
       "163   7836  Gianluigi         Aponte     164.0   9.3 BUSD   \n",
       "224   1197      Willi       Liebherr     225.0   7.1 BUSD   \n",
       "309   5024        Tom           Love     310.0   5.8 BUSD   \n",
       "426   3416     Philip          Green     427.0   4.8 BUSD   \n",
       "529   3488       Jack     Dangermond     530.0   4.1 BUSD   \n",
       "581   9068    Stewart        Resnick     582.0   3.9 BUSD   \n",
       "596   7398   Dominika        Kulczyk     597.0   3.8 BUSD   \n",
       "731   6616     Andrew         Cherng     732.0   3.2 BUSD   \n",
       "766   8071         Do          Chang     767.0   3.1 BUSD   \n",
       "1197  7859        Ong  Ong beng seng    1198.0   2.1 BUSD   \n",
       "1260  9780    Chuchat      Petaumpai    1261.0   2.0 BUSD   \n",
       "1290  4362  Jean-paul         Clozel    1291.0   1.9 BUSD   \n",
       "\n",
       "                                             Source           Age Gender  \\\n",
       "26               Fashion & Retail  ==> supermarkets  66 years old    NaN   \n",
       "163                         Logistics  ==> Shipping  77 years old    NaN   \n",
       "224    Construction & Engineering  ==> Construction           NaN    NaN   \n",
       "309     Fashion & Retail  ==> retail & gas stations  81 years old    NaN   \n",
       "426            Fashion & Retail  ==> fashion retail  66 years old    NaN   \n",
       "529                Technology  ==> mapping software  72 years old    NaN   \n",
       "581       Food and Beverage  ==> agriculture, water           NaN    NaN   \n",
       "596        Finance and Investments  ==> diversified           NaN    NaN   \n",
       "731              Food and Beverage  ==> restaurants           NaN    NaN   \n",
       "766            Fashion & Retail  ==> fashion retail  62 years old    NaN   \n",
       "1197                   Diversified  ==> diversified  73 years old    NaN   \n",
       "1260  Finance and Investments  ==> motorcycle loans  65 years old    NaN   \n",
       "1290                Healthcare  ==> pharmaceuticals           NaN    NaN   \n",
       "\n",
       "          Country                                              Image  \n",
       "26        Germany  https://specials-images.forbesimg.com/imageser...  \n",
       "163          None  https://specials-images.forbesimg.com/imageser...  \n",
       "224          None  https://specials-images.forbesimg.com/imageser...  \n",
       "309           USA  https://specials-images.forbesimg.com/imageser...  \n",
       "426          None  https://specials-images.forbesimg.com/imageser...  \n",
       "529          None  https://specials-images.forbesimg.com/imageser...  \n",
       "581          None  https://specials-images.forbesimg.com/imageser...  \n",
       "596          None  https://specials-images.forbesimg.com/imageser...  \n",
       "731          None  https://specials-images.forbesimg.com/imageser...  \n",
       "766          None  https://specials-images.forbesimg.com/imageser...  \n",
       "1197         None  https://specials-images.forbesimg.com/imageser...  \n",
       "1260         None  https://specials-images.forbesimg.com/imageser...  \n",
       "1290  Switzerland  https://specials-images.forbesimg.com/imageser...  "
      ]
     },
     "execution_count": 86,
     "metadata": {},
     "output_type": "execute_result"
    }
   ],
   "source": [
    "null_displ = null_displ[['ID', 'First Name', 'Last Name', 'Position', 'Worth', 'Source', 'Age', 'Gender', 'Country', 'Image']]\n",
    "null_displ"
   ]
  },
  {
   "cell_type": "code",
   "execution_count": 87,
   "metadata": {},
   "outputs": [
    {
     "data": {
      "text/plain": [
       "array(['None', 'M', 'Male', 'F', nan, 'Female'], dtype=object)"
      ]
     },
     "execution_count": 87,
     "metadata": {},
     "output_type": "execute_result"
    }
   ],
   "source": [
    "final_df.Gender.unique()"
   ]
  },
  {
   "cell_type": "code",
   "execution_count": 88,
   "metadata": {},
   "outputs": [],
   "source": [
    "#13 gender Nulls (NaN) index 26 and 596 are female"
   ]
  },
  {
   "cell_type": "code",
   "execution_count": 89,
   "metadata": {},
   "outputs": [
    {
     "data": {
      "text/plain": [
       "nan"
      ]
     },
     "execution_count": 89,
     "metadata": {},
     "output_type": "execute_result"
    }
   ],
   "source": [
    "(final_df.loc[26, 'Gender'])"
   ]
  },
  {
   "cell_type": "code",
   "execution_count": 90,
   "metadata": {},
   "outputs": [
    {
     "data": {
      "text/plain": [
       "nan"
      ]
     },
     "execution_count": 90,
     "metadata": {},
     "output_type": "execute_result"
    }
   ],
   "source": [
    "final_df.loc[26, 'Gender']"
   ]
  },
  {
   "cell_type": "code",
   "execution_count": 91,
   "metadata": {},
   "outputs": [
    {
     "data": {
      "text/plain": [
       "'Female'"
      ]
     },
     "metadata": {},
     "output_type": "display_data"
    }
   ],
   "source": [
    "final_df.loc[26, 'Gender']='Female'\n",
    "display(final_df.loc[26, 'Gender'])"
   ]
  },
  {
   "cell_type": "code",
   "execution_count": 92,
   "metadata": {},
   "outputs": [
    {
     "data": {
      "text/plain": [
       "nan"
      ]
     },
     "execution_count": 92,
     "metadata": {},
     "output_type": "execute_result"
    }
   ],
   "source": [
    "final_df.loc[596, 'Gender']"
   ]
  },
  {
   "cell_type": "code",
   "execution_count": 93,
   "metadata": {},
   "outputs": [
    {
     "data": {
      "text/plain": [
       "'Female'"
      ]
     },
     "metadata": {},
     "output_type": "display_data"
    }
   ],
   "source": [
    "final_df.loc[596, 'Gender']='Female'\n",
    "display(final_df.loc[596, 'Gender'])"
   ]
  },
  {
   "cell_type": "code",
   "execution_count": 94,
   "metadata": {},
   "outputs": [
    {
     "data": {
      "text/plain": [
       "array(['None', 'M', 'Male', 'F', 'Female', nan], dtype=object)"
      ]
     },
     "execution_count": 94,
     "metadata": {},
     "output_type": "execute_result"
    }
   ],
   "source": [
    "final_df.Gender.unique()"
   ]
  },
  {
   "cell_type": "code",
   "execution_count": 95,
   "metadata": {},
   "outputs": [
    {
     "data": {
      "text/plain": [
       "ID             0\n",
       "First Name     0\n",
       "Last Name      0\n",
       "Position       0\n",
       "Worth          0\n",
       "Source         0\n",
       "Age           65\n",
       "Gender        11\n",
       "Country        0\n",
       "Image          0\n",
       "dtype: int64"
      ]
     },
     "execution_count": 95,
     "metadata": {},
     "output_type": "execute_result"
    }
   ],
   "source": [
    "final_df.isnull().sum(axis = 0)"
   ]
  },
  {
   "cell_type": "code",
   "execution_count": 96,
   "metadata": {},
   "outputs": [],
   "source": [
    "#11 Gender NaN are Male"
   ]
  },
  {
   "cell_type": "code",
   "execution_count": 97,
   "metadata": {},
   "outputs": [],
   "source": [
    "final_df[\"Gender\"].fillna(\"Male\", inplace = True) "
   ]
  },
  {
   "cell_type": "code",
   "execution_count": 98,
   "metadata": {},
   "outputs": [
    {
     "data": {
      "text/plain": [
       "ID             0\n",
       "First Name     0\n",
       "Last Name      0\n",
       "Position       0\n",
       "Worth          0\n",
       "Source         0\n",
       "Age           65\n",
       "Gender         0\n",
       "Country        0\n",
       "Image          0\n",
       "dtype: int64"
      ]
     },
     "execution_count": 98,
     "metadata": {},
     "output_type": "execute_result"
    }
   ],
   "source": [
    "final_df.isnull().sum(axis = 0)"
   ]
  },
  {
   "cell_type": "code",
   "execution_count": 99,
   "metadata": {},
   "outputs": [
    {
     "data": {
      "text/plain": [
       "dtype('O')"
      ]
     },
     "execution_count": 99,
     "metadata": {},
     "output_type": "execute_result"
    }
   ],
   "source": [
    "final_df.Gender.dtype"
   ]
  },
  {
   "cell_type": "code",
   "execution_count": 100,
   "metadata": {},
   "outputs": [
    {
     "data": {
      "text/plain": [
       "ID              int64\n",
       "First Name     object\n",
       "Last Name      object\n",
       "Position      float64\n",
       "Worth          object\n",
       "Source         object\n",
       "Age            object\n",
       "Gender         object\n",
       "Country        object\n",
       "Image          object\n",
       "dtype: object"
      ]
     },
     "execution_count": 100,
     "metadata": {},
     "output_type": "execute_result"
    }
   ],
   "source": [
    "final_df.astype({'Gender': str}).dtypes"
   ]
  },
  {
   "cell_type": "code",
   "execution_count": null,
   "metadata": {},
   "outputs": [],
   "source": []
  },
  {
   "cell_type": "code",
   "execution_count": null,
   "metadata": {},
   "outputs": [],
   "source": []
  },
  {
   "cell_type": "code",
   "execution_count": 101,
   "metadata": {},
   "outputs": [
    {
     "data": {
      "text/plain": [
       "Age    65\n",
       "dtype: int64"
      ]
     },
     "execution_count": 101,
     "metadata": {},
     "output_type": "execute_result"
    }
   ],
   "source": [
    "null_cols = final_df.isnull().sum()\n",
    "null_cols[null_cols > 0]"
   ]
  },
  {
   "cell_type": "code",
   "execution_count": 102,
   "metadata": {},
   "outputs": [
    {
     "data": {
      "text/plain": [
       "array(['None', 'M', 'Male', 'F', 'Female'], dtype=object)"
      ]
     },
     "execution_count": 102,
     "metadata": {},
     "output_type": "execute_result"
    }
   ],
   "source": [
    "final_df.Gender.unique()"
   ]
  },
  {
   "cell_type": "code",
   "execution_count": null,
   "metadata": {},
   "outputs": [],
   "source": []
  },
  {
   "cell_type": "code",
   "execution_count": 103,
   "metadata": {},
   "outputs": [],
   "source": [
    "final_df.loc[final_df['Gender'].str.startswith('M'), 'Gender_cat'] = 'Male'"
   ]
  },
  {
   "cell_type": "code",
   "execution_count": 104,
   "metadata": {},
   "outputs": [],
   "source": [
    "final_df.loc[final_df['Gender'].str.startswith('F'), 'Gender_cat'] = 'Female'"
   ]
  },
  {
   "cell_type": "code",
   "execution_count": 105,
   "metadata": {
    "scrolled": true
   },
   "outputs": [
    {
     "data": {
      "text/html": [
       "<div>\n",
       "<style scoped>\n",
       "    .dataframe tbody tr th:only-of-type {\n",
       "        vertical-align: middle;\n",
       "    }\n",
       "\n",
       "    .dataframe tbody tr th {\n",
       "        vertical-align: top;\n",
       "    }\n",
       "\n",
       "    .dataframe thead th {\n",
       "        text-align: right;\n",
       "    }\n",
       "</style>\n",
       "<table border=\"1\" class=\"dataframe\">\n",
       "  <thead>\n",
       "    <tr style=\"text-align: right;\">\n",
       "      <th></th>\n",
       "      <th>ID</th>\n",
       "      <th>First Name</th>\n",
       "      <th>Last Name</th>\n",
       "      <th>Position</th>\n",
       "      <th>Worth</th>\n",
       "      <th>Source</th>\n",
       "      <th>Age</th>\n",
       "      <th>Gender</th>\n",
       "      <th>Country</th>\n",
       "      <th>Image</th>\n",
       "      <th>Gender_cat</th>\n",
       "    </tr>\n",
       "  </thead>\n",
       "  <tbody>\n",
       "    <tr>\n",
       "      <th>0</th>\n",
       "      <td>5227</td>\n",
       "      <td>Jeff</td>\n",
       "      <td>Bezos</td>\n",
       "      <td>1.0</td>\n",
       "      <td>112.0 BUSD</td>\n",
       "      <td>Technology  ==&gt; Amazon</td>\n",
       "      <td>54 years old</td>\n",
       "      <td>None</td>\n",
       "      <td>United States</td>\n",
       "      <td>https://specials-images.forbesimg.com/imageser...</td>\n",
       "      <td>NaN</td>\n",
       "    </tr>\n",
       "    <tr>\n",
       "      <th>1</th>\n",
       "      <td>2642</td>\n",
       "      <td>Bill</td>\n",
       "      <td>Gates</td>\n",
       "      <td>2.0</td>\n",
       "      <td>90.0 BUSD</td>\n",
       "      <td>Technology  ==&gt; Microsoft</td>\n",
       "      <td>62 years old</td>\n",
       "      <td>M</td>\n",
       "      <td>None</td>\n",
       "      <td>https://specials-images.forbesimg.com/imageser...</td>\n",
       "      <td>Male</td>\n",
       "    </tr>\n",
       "    <tr>\n",
       "      <th>2</th>\n",
       "      <td>5422</td>\n",
       "      <td>Warren</td>\n",
       "      <td>Buffett</td>\n",
       "      <td>3.0</td>\n",
       "      <td>84.0 BUSD</td>\n",
       "      <td>Finance and Investments  ==&gt; Berkshire Hathaway</td>\n",
       "      <td>87 years old</td>\n",
       "      <td>M</td>\n",
       "      <td>None</td>\n",
       "      <td>https://specials-images.forbesimg.com/imageser...</td>\n",
       "      <td>Male</td>\n",
       "    </tr>\n",
       "    <tr>\n",
       "      <th>3</th>\n",
       "      <td>8183</td>\n",
       "      <td>Bernard</td>\n",
       "      <td>Arnault</td>\n",
       "      <td>4.0</td>\n",
       "      <td>72.0 BUSD</td>\n",
       "      <td>Fashion &amp; Retail  ==&gt; LVMH</td>\n",
       "      <td>69 years old</td>\n",
       "      <td>M</td>\n",
       "      <td>France</td>\n",
       "      <td>https://specials-images.forbesimg.com/imageser...</td>\n",
       "      <td>Male</td>\n",
       "    </tr>\n",
       "    <tr>\n",
       "      <th>4</th>\n",
       "      <td>5642</td>\n",
       "      <td>Mark</td>\n",
       "      <td>Zuckerberg</td>\n",
       "      <td>5.0</td>\n",
       "      <td>71.0 BUSD</td>\n",
       "      <td>Technology  ==&gt; Facebook</td>\n",
       "      <td>1985</td>\n",
       "      <td>M</td>\n",
       "      <td>USA</td>\n",
       "      <td>https://specials-images.forbesimg.com/imageser...</td>\n",
       "      <td>Male</td>\n",
       "    </tr>\n",
       "  </tbody>\n",
       "</table>\n",
       "</div>"
      ],
      "text/plain": [
       "     ID First Name   Last Name  Position       Worth  \\\n",
       "0  5227       Jeff       Bezos       1.0  112.0 BUSD   \n",
       "1  2642       Bill       Gates       2.0   90.0 BUSD   \n",
       "2  5422     Warren     Buffett       3.0   84.0 BUSD   \n",
       "3  8183    Bernard     Arnault       4.0   72.0 BUSD   \n",
       "4  5642       Mark  Zuckerberg       5.0   71.0 BUSD   \n",
       "\n",
       "                                            Source           Age Gender  \\\n",
       "0                           Technology  ==> Amazon  54 years old   None   \n",
       "1                        Technology  ==> Microsoft  62 years old      M   \n",
       "2  Finance and Investments  ==> Berkshire Hathaway  87 years old      M   \n",
       "3                       Fashion & Retail  ==> LVMH  69 years old      M   \n",
       "4                         Technology  ==> Facebook          1985      M   \n",
       "\n",
       "         Country                                              Image Gender_cat  \n",
       "0  United States  https://specials-images.forbesimg.com/imageser...        NaN  \n",
       "1           None  https://specials-images.forbesimg.com/imageser...       Male  \n",
       "2           None  https://specials-images.forbesimg.com/imageser...       Male  \n",
       "3         France  https://specials-images.forbesimg.com/imageser...       Male  \n",
       "4            USA  https://specials-images.forbesimg.com/imageser...       Male  "
      ]
     },
     "execution_count": 105,
     "metadata": {},
     "output_type": "execute_result"
    }
   ],
   "source": [
    "final_df.head()"
   ]
  },
  {
   "cell_type": "code",
   "execution_count": 106,
   "metadata": {},
   "outputs": [],
   "source": [
    "#How Many 'Gender_cat\"=NaN'?"
   ]
  },
  {
   "cell_type": "code",
   "execution_count": 107,
   "metadata": {},
   "outputs": [
    {
     "data": {
      "text/plain": [
       "array([nan, 'Male', 'Female'], dtype=object)"
      ]
     },
     "execution_count": 107,
     "metadata": {},
     "output_type": "execute_result"
    }
   ],
   "source": [
    "final_df.Gender_cat.unique()"
   ]
  },
  {
   "cell_type": "code",
   "execution_count": 108,
   "metadata": {},
   "outputs": [],
   "source": [
    "null_displ = final_df[(final_df['Gender_cat'].isnull()==True)]"
   ]
  },
  {
   "cell_type": "code",
   "execution_count": 109,
   "metadata": {},
   "outputs": [],
   "source": [
    "final_df[['Gender_cat']] = final_df[['Gender_cat']].fillna('Not Available')"
   ]
  },
  {
   "cell_type": "code",
   "execution_count": 110,
   "metadata": {},
   "outputs": [
    {
     "data": {
      "text/plain": [
       "array(['Not Available', 'Male', 'Female'], dtype=object)"
      ]
     },
     "execution_count": 110,
     "metadata": {},
     "output_type": "execute_result"
    }
   ],
   "source": [
    "final_df.Gender_cat.unique()"
   ]
  },
  {
   "cell_type": "code",
   "execution_count": 111,
   "metadata": {},
   "outputs": [
    {
     "data": {
      "text/plain": [
       "Age    65\n",
       "dtype: int64"
      ]
     },
     "execution_count": 111,
     "metadata": {},
     "output_type": "execute_result"
    }
   ],
   "source": [
    "null_cols = final_df.isnull().sum()\n",
    "null_cols[null_cols > 0]"
   ]
  },
  {
   "cell_type": "code",
   "execution_count": null,
   "metadata": {},
   "outputs": [],
   "source": []
  },
  {
   "cell_type": "code",
   "execution_count": 112,
   "metadata": {},
   "outputs": [
    {
     "data": {
      "text/plain": [
       "array(['Not Available', 'Male', 'Female'], dtype=object)"
      ]
     },
     "execution_count": 112,
     "metadata": {},
     "output_type": "execute_result"
    }
   ],
   "source": [
    "final_df.Gender_cat.unique()"
   ]
  },
  {
   "cell_type": "markdown",
   "metadata": {},
   "source": [
    "# AGE NULES"
   ]
  },
  {
   "cell_type": "code",
   "execution_count": 113,
   "metadata": {},
   "outputs": [],
   "source": [
    "null_displ = final_df[(final_df['Age'].isnull()==True)]\n"
   ]
  },
  {
   "cell_type": "code",
   "execution_count": 114,
   "metadata": {},
   "outputs": [
    {
     "data": {
      "text/html": [
       "<div>\n",
       "<style scoped>\n",
       "    .dataframe tbody tr th:only-of-type {\n",
       "        vertical-align: middle;\n",
       "    }\n",
       "\n",
       "    .dataframe tbody tr th {\n",
       "        vertical-align: top;\n",
       "    }\n",
       "\n",
       "    .dataframe thead th {\n",
       "        text-align: right;\n",
       "    }\n",
       "</style>\n",
       "<table border=\"1\" class=\"dataframe\">\n",
       "  <thead>\n",
       "    <tr style=\"text-align: right;\">\n",
       "      <th></th>\n",
       "      <th>ID</th>\n",
       "      <th>First Name</th>\n",
       "      <th>Last Name</th>\n",
       "      <th>Position</th>\n",
       "      <th>Worth</th>\n",
       "      <th>Source</th>\n",
       "      <th>Age</th>\n",
       "      <th>Gender</th>\n",
       "      <th>Country</th>\n",
       "      <th>Image</th>\n",
       "      <th>Gender_cat</th>\n",
       "    </tr>\n",
       "  </thead>\n",
       "  <tbody>\n",
       "    <tr>\n",
       "      <th>54</th>\n",
       "      <td>3450</td>\n",
       "      <td>Hinduja</td>\n",
       "      <td>Hinduja</td>\n",
       "      <td>55.0</td>\n",
       "      <td>19.5 BUSD</td>\n",
       "      <td>Diversified  ==&gt; diversified</td>\n",
       "      <td>NaN</td>\n",
       "      <td>M</td>\n",
       "      <td>None</td>\n",
       "      <td>https://specials-images.forbesimg.com/imageser...</td>\n",
       "      <td>Male</td>\n",
       "    </tr>\n",
       "    <tr>\n",
       "      <th>76</th>\n",
       "      <td>3303</td>\n",
       "      <td>Thomas</td>\n",
       "      <td>Kwok</td>\n",
       "      <td>77.0</td>\n",
       "      <td>16.5 BUSD</td>\n",
       "      <td>Real Estate  ==&gt; real estate</td>\n",
       "      <td>NaN</td>\n",
       "      <td>M</td>\n",
       "      <td>Hong Kong</td>\n",
       "      <td>https://specials-images.forbesimg.com/imageser...</td>\n",
       "      <td>Male</td>\n",
       "    </tr>\n",
       "    <tr>\n",
       "      <th>89</th>\n",
       "      <td>4298</td>\n",
       "      <td>David</td>\n",
       "      <td>Reuben</td>\n",
       "      <td>90.0</td>\n",
       "      <td>15.5 BUSD</td>\n",
       "      <td>Real Estate  ==&gt; investments, real estate</td>\n",
       "      <td>NaN</td>\n",
       "      <td>None</td>\n",
       "      <td>None</td>\n",
       "      <td>https://specials-images.forbesimg.com/imageser...</td>\n",
       "      <td>Not Available</td>\n",
       "    </tr>\n",
       "    <tr>\n",
       "      <th>129</th>\n",
       "      <td>4712</td>\n",
       "      <td>Udo</td>\n",
       "      <td>Tschira</td>\n",
       "      <td>130.0</td>\n",
       "      <td>11.7 BUSD</td>\n",
       "      <td>Technology  ==&gt; software</td>\n",
       "      <td>NaN</td>\n",
       "      <td>None</td>\n",
       "      <td>Germany</td>\n",
       "      <td>https://specials-images.forbesimg.com/imageser...</td>\n",
       "      <td>Not Available</td>\n",
       "    </tr>\n",
       "    <tr>\n",
       "      <th>141</th>\n",
       "      <td>5750</td>\n",
       "      <td>Robert</td>\n",
       "      <td>Ng</td>\n",
       "      <td>142.0</td>\n",
       "      <td>10.8 BUSD</td>\n",
       "      <td>Real Estate  ==&gt; real estate</td>\n",
       "      <td>NaN</td>\n",
       "      <td>M</td>\n",
       "      <td>None</td>\n",
       "      <td>https://specials-images.forbesimg.com/imageser...</td>\n",
       "      <td>Male</td>\n",
       "    </tr>\n",
       "    <tr>\n",
       "      <th>...</th>\n",
       "      <td>...</td>\n",
       "      <td>...</td>\n",
       "      <td>...</td>\n",
       "      <td>...</td>\n",
       "      <td>...</td>\n",
       "      <td>...</td>\n",
       "      <td>...</td>\n",
       "      <td>...</td>\n",
       "      <td>...</td>\n",
       "      <td>...</td>\n",
       "      <td>...</td>\n",
       "    </tr>\n",
       "    <tr>\n",
       "      <th>2020</th>\n",
       "      <td>8561</td>\n",
       "      <td>Yupa</td>\n",
       "      <td>Chiaravanond</td>\n",
       "      <td>2021.0</td>\n",
       "      <td>1.1 BUSD</td>\n",
       "      <td>Diversified  ==&gt; diversified</td>\n",
       "      <td>NaN</td>\n",
       "      <td>None</td>\n",
       "      <td>None</td>\n",
       "      <td>https://specials-images.forbesimg.com/imageser...</td>\n",
       "      <td>Not Available</td>\n",
       "    </tr>\n",
       "    <tr>\n",
       "      <th>2021</th>\n",
       "      <td>9744</td>\n",
       "      <td>Prathip</td>\n",
       "      <td>Chiravanond</td>\n",
       "      <td>2022.0</td>\n",
       "      <td>1.1 BUSD</td>\n",
       "      <td>Diversified  ==&gt; diversified</td>\n",
       "      <td>NaN</td>\n",
       "      <td>Male</td>\n",
       "      <td>Thailand</td>\n",
       "      <td>https://specials-images.forbesimg.com/imageser...</td>\n",
       "      <td>Male</td>\n",
       "    </tr>\n",
       "    <tr>\n",
       "      <th>2028</th>\n",
       "      <td>8909</td>\n",
       "      <td>Wolfgang</td>\n",
       "      <td>Egger</td>\n",
       "      <td>2029.0</td>\n",
       "      <td>1.1 BUSD</td>\n",
       "      <td>Real Estate  ==&gt; real estate</td>\n",
       "      <td>NaN</td>\n",
       "      <td>M</td>\n",
       "      <td>Germany</td>\n",
       "      <td>https://specials-images.forbesimg.com/imageser...</td>\n",
       "      <td>Male</td>\n",
       "    </tr>\n",
       "    <tr>\n",
       "      <th>2044</th>\n",
       "      <td>6937</td>\n",
       "      <td>Madhu</td>\n",
       "      <td>Kapur</td>\n",
       "      <td>2045.0</td>\n",
       "      <td>1.1 BUSD</td>\n",
       "      <td>Finance and Investments  ==&gt; banking</td>\n",
       "      <td>NaN</td>\n",
       "      <td>F</td>\n",
       "      <td>None</td>\n",
       "      <td>https://specials-images.forbesimg.com/imageser...</td>\n",
       "      <td>Female</td>\n",
       "    </tr>\n",
       "    <tr>\n",
       "      <th>2117</th>\n",
       "      <td>7889</td>\n",
       "      <td>Swift</td>\n",
       "      <td>Xie</td>\n",
       "      <td>2118.0</td>\n",
       "      <td>1.1 BUSD</td>\n",
       "      <td>Technology  ==&gt; drones</td>\n",
       "      <td>NaN</td>\n",
       "      <td>None</td>\n",
       "      <td>None</td>\n",
       "      <td>https://specials-images.forbesimg.com/imageser...</td>\n",
       "      <td>Not Available</td>\n",
       "    </tr>\n",
       "  </tbody>\n",
       "</table>\n",
       "<p>65 rows × 11 columns</p>\n",
       "</div>"
      ],
      "text/plain": [
       "        ID First Name     Last Name  Position      Worth  \\\n",
       "54    3450    Hinduja       Hinduja      55.0  19.5 BUSD   \n",
       "76    3303     Thomas          Kwok      77.0  16.5 BUSD   \n",
       "89    4298      David        Reuben      90.0  15.5 BUSD   \n",
       "129   4712        Udo       Tschira     130.0  11.7 BUSD   \n",
       "141   5750     Robert            Ng     142.0  10.8 BUSD   \n",
       "...    ...        ...           ...       ...        ...   \n",
       "2020  8561       Yupa  Chiaravanond    2021.0   1.1 BUSD   \n",
       "2021  9744    Prathip   Chiravanond    2022.0   1.1 BUSD   \n",
       "2028  8909   Wolfgang         Egger    2029.0   1.1 BUSD   \n",
       "2044  6937      Madhu         Kapur    2045.0   1.1 BUSD   \n",
       "2117  7889      Swift           Xie    2118.0   1.1 BUSD   \n",
       "\n",
       "                                         Source  Age Gender    Country  \\\n",
       "54                 Diversified  ==> diversified  NaN      M       None   \n",
       "76                 Real Estate  ==> real estate  NaN      M  Hong Kong   \n",
       "89    Real Estate  ==> investments, real estate  NaN   None       None   \n",
       "129                    Technology  ==> software  NaN   None    Germany   \n",
       "141                Real Estate  ==> real estate  NaN      M       None   \n",
       "...                                         ...  ...    ...        ...   \n",
       "2020               Diversified  ==> diversified  NaN   None       None   \n",
       "2021               Diversified  ==> diversified  NaN   Male   Thailand   \n",
       "2028               Real Estate  ==> real estate  NaN      M    Germany   \n",
       "2044       Finance and Investments  ==> banking  NaN      F       None   \n",
       "2117                     Technology  ==> drones  NaN   None       None   \n",
       "\n",
       "                                                  Image     Gender_cat  \n",
       "54    https://specials-images.forbesimg.com/imageser...           Male  \n",
       "76    https://specials-images.forbesimg.com/imageser...           Male  \n",
       "89    https://specials-images.forbesimg.com/imageser...  Not Available  \n",
       "129   https://specials-images.forbesimg.com/imageser...  Not Available  \n",
       "141   https://specials-images.forbesimg.com/imageser...           Male  \n",
       "...                                                 ...            ...  \n",
       "2020  https://specials-images.forbesimg.com/imageser...  Not Available  \n",
       "2021  https://specials-images.forbesimg.com/imageser...           Male  \n",
       "2028  https://specials-images.forbesimg.com/imageser...           Male  \n",
       "2044  https://specials-images.forbesimg.com/imageser...         Female  \n",
       "2117  https://specials-images.forbesimg.com/imageser...  Not Available  \n",
       "\n",
       "[65 rows x 11 columns]"
      ]
     },
     "execution_count": 114,
     "metadata": {},
     "output_type": "execute_result"
    }
   ],
   "source": [
    "null_displ = null_displ[['ID', 'First Name', 'Last Name', 'Position', 'Worth', 'Source', 'Age', 'Gender', 'Country', 'Image','Gender_cat']]\n",
    "null_displ"
   ]
  },
  {
   "cell_type": "code",
   "execution_count": 115,
   "metadata": {},
   "outputs": [
    {
     "data": {
      "text/plain": [
       "array(['54 years old', '62 years old', '87 years old', '69 years old',\n",
       "       '1985', '82 years old', '78 years old', '73 years old',\n",
       "       '76 years old', '45 years old', '44 years old', '70 years old',\n",
       "       '68 years old', '46 years old', '64 years old', '61 years old',\n",
       "       '53 years old', '84 years old', '90 years old', '59 years old',\n",
       "       '63 years old', '66 years old', '80 years old', '81 years old',\n",
       "       '56 years old', '79 years old', '74 years old', '60 years old',\n",
       "       '93 years old', '52 years old', '1983', '65 years old',\n",
       "       '83 years old', '67 years old', '75 years old', '89 years old',\n",
       "       nan, '72 years old', '48 years old', '77 years old',\n",
       "       '86 years old', '57 years old', '1988', '55 years old',\n",
       "       '94 years old', '47 years old', '71 years old', '92 years old',\n",
       "       '88 years old', '85 years old', '49 years old', '51 years old',\n",
       "       '50 years old', '43 years old', '42 years old', '91 years old',\n",
       "       '58 years old', '1984', '38 years old', '1982', '95 years old',\n",
       "       '39 years old', '41 years old', '40 years old', '1990', '1991',\n",
       "       '97 years old', '1986', '99 years old', '1994', '1998', '1996',\n",
       "       '96 years old', '1987', '1989', '1992'], dtype=object)"
      ]
     },
     "execution_count": 115,
     "metadata": {},
     "output_type": "execute_result"
    }
   ],
   "source": [
    "final_df.Age.unique()"
   ]
  },
  {
   "cell_type": "code",
   "execution_count": 116,
   "metadata": {},
   "outputs": [],
   "source": [
    "final_df[['Age']] = final_df[['Age']].fillna(0)"
   ]
  },
  {
   "cell_type": "code",
   "execution_count": 117,
   "metadata": {},
   "outputs": [
    {
     "data": {
      "text/plain": [
       "ID            0\n",
       "First Name    0\n",
       "Last Name     0\n",
       "Position      0\n",
       "Worth         0\n",
       "Source        0\n",
       "Age           0\n",
       "Gender        0\n",
       "Country       0\n",
       "Image         0\n",
       "Gender_cat    0\n",
       "dtype: int64"
      ]
     },
     "execution_count": 117,
     "metadata": {},
     "output_type": "execute_result"
    }
   ],
   "source": [
    "final_df.isnull().sum(axis = 0)"
   ]
  },
  {
   "cell_type": "code",
   "execution_count": 118,
   "metadata": {},
   "outputs": [
    {
     "data": {
      "text/plain": [
       "array(['54 years old', '62 years old', '87 years old', '69 years old',\n",
       "       '1985', '82 years old', '78 years old', '73 years old',\n",
       "       '76 years old', '45 years old', '44 years old', '70 years old',\n",
       "       '68 years old', '46 years old', '64 years old', '61 years old',\n",
       "       '53 years old', '84 years old', '90 years old', '59 years old',\n",
       "       '63 years old', '66 years old', '80 years old', '81 years old',\n",
       "       '56 years old', '79 years old', '74 years old', '60 years old',\n",
       "       '93 years old', '52 years old', '1983', '65 years old',\n",
       "       '83 years old', '67 years old', '75 years old', '89 years old', 0,\n",
       "       '72 years old', '48 years old', '77 years old', '86 years old',\n",
       "       '57 years old', '1988', '55 years old', '94 years old',\n",
       "       '47 years old', '71 years old', '92 years old', '88 years old',\n",
       "       '85 years old', '49 years old', '51 years old', '50 years old',\n",
       "       '43 years old', '42 years old', '91 years old', '58 years old',\n",
       "       '1984', '38 years old', '1982', '95 years old', '39 years old',\n",
       "       '41 years old', '40 years old', '1990', '1991', '97 years old',\n",
       "       '1986', '99 years old', '1994', '1998', '1996', '96 years old',\n",
       "       '1987', '1989', '1992'], dtype=object)"
      ]
     },
     "execution_count": 118,
     "metadata": {},
     "output_type": "execute_result"
    }
   ],
   "source": [
    "final_df.Age.unique()"
   ]
  },
  {
   "cell_type": "code",
   "execution_count": 119,
   "metadata": {},
   "outputs": [
    {
     "name": "stdout",
     "output_type": "stream",
     "text": [
      "{0, '51 years old', '66 years old', '87 years old', '84 years old', '68 years old', '53 years old', '43 years old', '80 years old', '1984', '54 years old', '56 years old', '86 years old', '1986', '44 years old', '62 years old', '48 years old', '49 years old', '82 years old', '91 years old', '74 years old', '71 years old', '76 years old', '52 years old', '41 years old', '60 years old', '78 years old', '83 years old', '69 years old', '94 years old', '88 years old', '61 years old', '79 years old', '1991', '1996', '47 years old', '55 years old', '50 years old', '1994', '95 years old', '58 years old', '93 years old', '72 years old', '85 years old', '39 years old', '1990', '45 years old', '63 years old', '75 years old', '67 years old', '73 years old', '1983', '81 years old', '77 years old', '65 years old', '59 years old', '57 years old', '42 years old', '1982', '1987', '1992', '99 years old', '1988', '90 years old', '70 years old', '1989', '46 years old', '92 years old', '89 years old', '1985', '97 years old', '38 years old', '1998', '96 years old', '64 years old', '40 years old'}\n"
     ]
    }
   ],
   "source": [
    "print(set(final_df['Age']))"
   ]
  },
  {
   "cell_type": "code",
   "execution_count": 120,
   "metadata": {},
   "outputs": [
    {
     "name": "stdout",
     "output_type": "stream",
     "text": [
      "{nan, '95 ', '39 ', '70 ', '75 ', '59 ', '66 ', '52 ', '65 ', '53 ', '86 ', '1984', '63 ', '77 ', '40 ', '84 ', '72 ', '1986', '48 ', '60 ', '96 ', '46 ', '94 ', '54 ', '97 ', '87 ', '71 ', '42 ', '76 ', '50 ', '81 ', '38 ', '78 ', '88 ', '67 ', '47 ', '64 ', '58 ', '51 ', '1991', '45 ', '1996', '61 ', '1994', '41 ', '56 ', '57 ', '85 ', '90 ', '1990', '91 ', '44 ', '99 ', '93 ', '92 ', '62 ', '68 ', '1983', '89 ', '1987', '80 ', '55 ', '1982', '1992', '82 ', '49 ', '1988', '73 ', '43 ', '1989', '1998', '1985', '83 ', '74 ', '79 ', '69 '}\n"
     ]
    }
   ],
   "source": [
    "final_df['Age'] = final_df['Age'].str.replace('years old', '')\n",
    "print(set(final_df['Age']))"
   ]
  },
  {
   "cell_type": "code",
   "execution_count": 121,
   "metadata": {},
   "outputs": [
    {
     "data": {
      "text/plain": [
       "ID             0\n",
       "First Name     0\n",
       "Last Name      0\n",
       "Position       0\n",
       "Worth          0\n",
       "Source         0\n",
       "Age           65\n",
       "Gender         0\n",
       "Country        0\n",
       "Image          0\n",
       "Gender_cat     0\n",
       "dtype: int64"
      ]
     },
     "execution_count": 121,
     "metadata": {},
     "output_type": "execute_result"
    }
   ],
   "source": [
    "final_df.isnull().sum(axis = 0)"
   ]
  },
  {
   "cell_type": "code",
   "execution_count": 122,
   "metadata": {},
   "outputs": [],
   "source": [
    "final_df[['Age']] = final_df[['Age']].fillna(0)"
   ]
  },
  {
   "cell_type": "code",
   "execution_count": 123,
   "metadata": {},
   "outputs": [
    {
     "data": {
      "text/plain": [
       "ID            0\n",
       "First Name    0\n",
       "Last Name     0\n",
       "Position      0\n",
       "Worth         0\n",
       "Source        0\n",
       "Age           0\n",
       "Gender        0\n",
       "Country       0\n",
       "Image         0\n",
       "Gender_cat    0\n",
       "dtype: int64"
      ]
     },
     "execution_count": 123,
     "metadata": {},
     "output_type": "execute_result"
    }
   ],
   "source": [
    "final_df.isnull().sum(axis = 0)"
   ]
  },
  {
   "cell_type": "code",
   "execution_count": 124,
   "metadata": {},
   "outputs": [
    {
     "name": "stdout",
     "output_type": "stream",
     "text": [
      "{0, '95 ', '39 ', '70 ', '75 ', '59 ', '66 ', '52 ', '65 ', '53 ', '86 ', '1984', '63 ', '77 ', '40 ', '84 ', '72 ', '1986', '48 ', '60 ', '96 ', '46 ', '94 ', '54 ', '97 ', '87 ', '71 ', '42 ', '76 ', '50 ', '81 ', '38 ', '78 ', '88 ', '67 ', '47 ', '64 ', '58 ', '51 ', '1991', '45 ', '1996', '61 ', '1994', '41 ', '56 ', '57 ', '85 ', '90 ', '1990', '91 ', '44 ', '99 ', '93 ', '92 ', '62 ', '68 ', '1983', '89 ', '1987', '80 ', '55 ', '1982', '1992', '82 ', '49 ', '1988', '73 ', '43 ', '1989', '1998', '1985', '83 ', '74 ', '79 ', '69 '}\n"
     ]
    }
   ],
   "source": [
    "print(set(final_df['Age']))"
   ]
  },
  {
   "cell_type": "code",
   "execution_count": 125,
   "metadata": {},
   "outputs": [
    {
     "name": "stdout",
     "output_type": "stream",
     "text": [
      "{nan, '95 ', '39 ', '70 ', '75 ', '59 ', '36', '66 ', '52 ', '65 ', '53 ', '86 ', '1984', '63 ', '77 ', '40 ', '84 ', '72 ', '1986', '48 ', '60 ', '96 ', '46 ', '94 ', '54 ', '97 ', '87 ', '71 ', '42 ', '76 ', '50 ', '81 ', '38 ', '78 ', '88 ', '67 ', '47 ', '64 ', '58 ', '51 ', '1991', '45 ', '1996', '61 ', '1994', '41 ', '56 ', '57 ', '85 ', '90 ', '1990', '91 ', '44 ', '99 ', '93 ', '92 ', '62 ', '68 ', '1983', '89 ', '1987', '80 ', '55 ', '1992', '82 ', '49 ', '1988', '73 ', '43 ', '1989', '1998', '1985', '83 ', '74 ', '79 ', '69 '}\n"
     ]
    }
   ],
   "source": [
    "#Because value='0' cant be replaced, it becomes nan again.\n",
    "final_df['Age'] = final_df['Age'].str.replace('1982', '36')\n",
    "print(set(final_df['Age']))"
   ]
  },
  {
   "cell_type": "code",
   "execution_count": 126,
   "metadata": {},
   "outputs": [
    {
     "name": "stdout",
     "output_type": "stream",
     "text": [
      "{nan, '95 ', '39 ', '70 ', '75 ', '59 ', '36', '66 ', '52 ', '65 ', '53 ', '86 ', '40 ', '63 ', '77 ', '84 ', '72 ', '1986', '48 ', '60 ', '96 ', '46 ', '94 ', '54 ', '97 ', '87 ', '71 ', '42 ', '76 ', '50 ', '81 ', '38 ', '78 ', '88 ', '67 ', '47 ', '64 ', '58 ', '51 ', '1991', '45 ', '1996', '61 ', '1994', '41 ', '56 ', '57 ', '85 ', '90 ', '1990', '91 ', '44 ', '99 ', '93 ', '92 ', '62 ', '68 ', '1983', '89 ', '1987', '80 ', '55 ', '1992', '34', '82 ', '49 ', '1988', '73 ', '43 ', '1989', '1998', '1985', '83 ', '74 ', '79 ', '69 '}\n"
     ]
    }
   ],
   "source": [
    "final_df['Age'] = final_df['Age'].str.replace('1984', '34')\n",
    "print(set(final_df['Age']))"
   ]
  },
  {
   "cell_type": "code",
   "execution_count": 127,
   "metadata": {},
   "outputs": [
    {
     "name": "stdout",
     "output_type": "stream",
     "text": [
      "{nan, '95 ', '39 ', '70 ', '75 ', '59 ', '36', '66 ', '52 ', '65 ', '53 ', '86 ', '40 ', '63 ', '77 ', '84 ', '72 ', '1986', '48 ', '60 ', '96 ', '46 ', '94 ', '54 ', '97 ', '29', '87 ', '71 ', '42 ', '76 ', '50 ', '81 ', '38 ', '78 ', '88 ', '67 ', '47 ', '64 ', '58 ', '51 ', '1991', '45 ', '1996', '61 ', '1994', '41 ', '56 ', '57 ', '85 ', '90 ', '1990', '91 ', '44 ', '99 ', '93 ', '92 ', '62 ', '68 ', '1983', '89 ', '1987', '80 ', '55 ', '1992', '34', '82 ', '49 ', '1988', '73 ', '43 ', '1998', '1985', '83 ', '74 ', '79 ', '69 '}\n"
     ]
    }
   ],
   "source": [
    "final_df['Age'] = final_df['Age'].str.replace('1989', '29')\n",
    "print(set(final_df['Age']))"
   ]
  },
  {
   "cell_type": "code",
   "execution_count": 128,
   "metadata": {},
   "outputs": [
    {
     "name": "stdout",
     "output_type": "stream",
     "text": [
      "{nan, '95 ', '39 ', '70 ', '75 ', '59 ', '36', '66 ', '52 ', '65 ', '53 ', '86 ', '40 ', '63 ', '77 ', '84 ', '35', '72 ', '1986', '48 ', '60 ', '96 ', '46 ', '94 ', '54 ', '97 ', '29', '87 ', '71 ', '42 ', '76 ', '50 ', '81 ', '38 ', '78 ', '88 ', '67 ', '47 ', '64 ', '58 ', '51 ', '1991', '45 ', '1996', '61 ', '1994', '41 ', '56 ', '57 ', '85 ', '90 ', '1990', '91 ', '44 ', '99 ', '93 ', '92 ', '62 ', '68 ', '89 ', '1987', '80 ', '55 ', '1992', '34', '82 ', '49 ', '1988', '73 ', '43 ', '1998', '1985', '83 ', '74 ', '79 ', '69 '}\n"
     ]
    }
   ],
   "source": [
    "final_df['Age'] = final_df['Age'].str.replace('1983', '35')\n",
    "print(set(final_df['Age']))"
   ]
  },
  {
   "cell_type": "code",
   "execution_count": 129,
   "metadata": {},
   "outputs": [
    {
     "name": "stdout",
     "output_type": "stream",
     "text": [
      "{nan, '95 ', '39 ', '70 ', '75 ', '59 ', '36', '66 ', '52 ', '65 ', '53 ', '86 ', '40 ', '63 ', '77 ', '84 ', '35', '72 ', '48 ', '60 ', '96 ', '46 ', '94 ', '54 ', '97 ', '29', '87 ', '71 ', '42 ', '32', '76 ', '50 ', '81 ', '38 ', '78 ', '88 ', '67 ', '47 ', '64 ', '58 ', '51 ', '1991', '45 ', '1996', '61 ', '1994', '41 ', '56 ', '57 ', '85 ', '90 ', '1990', '91 ', '44 ', '99 ', '93 ', '92 ', '62 ', '68 ', '89 ', '1987', '80 ', '55 ', '1992', '34', '82 ', '49 ', '1988', '73 ', '43 ', '1998', '1985', '83 ', '74 ', '79 ', '69 '}\n"
     ]
    }
   ],
   "source": [
    "final_df['Age'] = final_df['Age'].str.replace('1986', '32')\n",
    "print(set(final_df['Age']))"
   ]
  },
  {
   "cell_type": "code",
   "execution_count": 130,
   "metadata": {},
   "outputs": [
    {
     "name": "stdout",
     "output_type": "stream",
     "text": [
      "{nan, '95 ', '39 ', '70 ', '75 ', '59 ', '36', '66 ', '52 ', '65 ', '53 ', '86 ', '40 ', '63 ', '77 ', '84 ', '35', '72 ', '48 ', '60 ', '96 ', '46 ', '94 ', '54 ', '97 ', '29', '87 ', '71 ', '42 ', '32', '33', '76 ', '50 ', '81 ', '38 ', '78 ', '88 ', '67 ', '47 ', '64 ', '58 ', '51 ', '1991', '45 ', '1996', '61 ', '1994', '41 ', '56 ', '57 ', '85 ', '90 ', '1990', '91 ', '44 ', '99 ', '93 ', '92 ', '62 ', '68 ', '89 ', '1987', '80 ', '55 ', '1992', '34', '82 ', '49 ', '1988', '73 ', '43 ', '1998', '83 ', '74 ', '79 ', '69 '}\n"
     ]
    }
   ],
   "source": [
    "final_df['Age'] = final_df['Age'].str.replace('1985', '33')\n",
    "print(set(final_df['Age']))"
   ]
  },
  {
   "cell_type": "code",
   "execution_count": 131,
   "metadata": {},
   "outputs": [
    {
     "name": "stdout",
     "output_type": "stream",
     "text": [
      "{nan, '95 ', '39 ', '70 ', '75 ', '59 ', '36', '66 ', '52 ', '65 ', '53 ', '86 ', '40 ', '63 ', '77 ', '84 ', '35', '72 ', '48 ', '60 ', '96 ', '46 ', '94 ', '54 ', '97 ', '29', '87 ', '71 ', '42 ', '32', '33', '76 ', '50 ', '81 ', '38 ', '78 ', '88 ', '67 ', '47 ', '64 ', '58 ', '51 ', '1991', '45 ', '1996', '61 ', '1994', '41 ', '56 ', '57 ', '85 ', '90 ', '1990', '91 ', '44 ', '99 ', '93 ', '92 ', '62 ', '68 ', '89 ', '1987', '80 ', '30', '55 ', '1992', '34', '82 ', '49 ', '43 ', '73 ', '1998', '83 ', '74 ', '79 ', '69 '}\n"
     ]
    }
   ],
   "source": [
    "final_df['Age'] = final_df['Age'].str.replace('1988', '30')\n",
    "print(set(final_df['Age']))"
   ]
  },
  {
   "cell_type": "code",
   "execution_count": 132,
   "metadata": {},
   "outputs": [
    {
     "name": "stdout",
     "output_type": "stream",
     "text": [
      "{nan, '95 ', '39 ', '70 ', '75 ', '59 ', '36', '66 ', '52 ', '65 ', '28', '53 ', '86 ', '40 ', '63 ', '77 ', '84 ', '35', '72 ', '48 ', '60 ', '96 ', '46 ', '94 ', '54 ', '97 ', '29', '87 ', '71 ', '42 ', '32', '33', '76 ', '50 ', '81 ', '38 ', '78 ', '88 ', '67 ', '47 ', '64 ', '58 ', '51 ', '1991', '45 ', '1996', '61 ', '1994', '41 ', '56 ', '57 ', '85 ', '90 ', '91 ', '44 ', '99 ', '93 ', '92 ', '62 ', '68 ', '89 ', '1987', '80 ', '30', '55 ', '1992', '34', '82 ', '49 ', '43 ', '73 ', '1998', '83 ', '74 ', '79 ', '69 '}\n"
     ]
    }
   ],
   "source": [
    "final_df['Age'] = final_df['Age'].str.replace('1990', '28')\n",
    "print(set(final_df['Age']))"
   ]
  },
  {
   "cell_type": "code",
   "execution_count": 133,
   "metadata": {},
   "outputs": [
    {
     "name": "stdout",
     "output_type": "stream",
     "text": [
      "{nan, '95 ', '39 ', '70 ', '75 ', '59 ', '36', '66 ', '52 ', '65 ', '28', '53 ', '86 ', '40 ', '63 ', '77 ', '84 ', '35', '72 ', '48 ', '60 ', '96 ', '46 ', '94 ', '54 ', '97 ', '29', '87 ', '71 ', '42 ', '32', '33', '76 ', '50 ', '81 ', '38 ', '78 ', '88 ', '67 ', '47 ', '64 ', '58 ', '51 ', '27', '45 ', '1996', '61 ', '1994', '41 ', '56 ', '57 ', '85 ', '90 ', '91 ', '44 ', '99 ', '93 ', '92 ', '62 ', '68 ', '89 ', '1987', '80 ', '30', '55 ', '1992', '34', '82 ', '49 ', '43 ', '73 ', '1998', '83 ', '74 ', '79 ', '69 '}\n"
     ]
    }
   ],
   "source": [
    "final_df['Age'] = final_df['Age'].str.replace('1991', '27')\n",
    "print(set(final_df['Age']))"
   ]
  },
  {
   "cell_type": "code",
   "execution_count": 134,
   "metadata": {},
   "outputs": [
    {
     "name": "stdout",
     "output_type": "stream",
     "text": [
      "{nan, '95 ', '39 ', '70 ', '75 ', '59 ', '36', '66 ', '52 ', '65 ', '28', '53 ', '86 ', '40 ', '63 ', '77 ', '84 ', '35', '72 ', '48 ', '60 ', '96 ', '46 ', '94 ', '54 ', '97 ', '29', '87 ', '71 ', '42 ', '32', '33', '76 ', '50 ', '81 ', '38 ', '78 ', '88 ', '67 ', '47 ', '64 ', '58 ', '51 ', '27', '45 ', '61 ', '1994', '41 ', '56 ', '57 ', '85 ', '90 ', '91 ', '44 ', '99 ', '93 ', '92 ', '62 ', '68 ', '89 ', '1987', '80 ', '30', '55 ', '1992', '34', '82 ', '49 ', '43 ', '73 ', '22', '1998', '83 ', '74 ', '79 ', '69 '}\n"
     ]
    }
   ],
   "source": [
    "final_df['Age'] = final_df['Age'].str.replace('1996', '22')\n",
    "print(set(final_df['Age']))"
   ]
  },
  {
   "cell_type": "code",
   "execution_count": 135,
   "metadata": {},
   "outputs": [
    {
     "name": "stdout",
     "output_type": "stream",
     "text": [
      "{nan, '95 ', '39 ', '70 ', '75 ', '59 ', '36', '66 ', '52 ', '65 ', '28', '53 ', '86 ', '40 ', '63 ', '77 ', '84 ', '35', '72 ', '48 ', '60 ', '96 ', '46 ', '94 ', '54 ', '97 ', '29', '87 ', '71 ', '42 ', '32', '33', '76 ', '50 ', '81 ', '38 ', '20', '78 ', '88 ', '67 ', '47 ', '64 ', '58 ', '51 ', '27', '45 ', '61 ', '1994', '41 ', '56 ', '57 ', '85 ', '90 ', '91 ', '44 ', '99 ', '93 ', '92 ', '62 ', '68 ', '89 ', '1987', '80 ', '30', '55 ', '1992', '34', '82 ', '49 ', '43 ', '73 ', '22', '83 ', '74 ', '79 ', '69 '}\n"
     ]
    }
   ],
   "source": [
    "final_df['Age'] = final_df['Age'].str.replace('1998', '20')\n",
    "print(set(final_df['Age']))"
   ]
  },
  {
   "cell_type": "code",
   "execution_count": 136,
   "metadata": {},
   "outputs": [
    {
     "name": "stdout",
     "output_type": "stream",
     "text": [
      "{nan, '95 ', '39 ', '70 ', '75 ', '59 ', '36', '66 ', '52 ', '65 ', '28', '53 ', '86 ', '40 ', '63 ', '77 ', '26', '84 ', '35', '72 ', '48 ', '60 ', '96 ', '46 ', '94 ', '54 ', '97 ', '29', '87 ', '71 ', '42 ', '32', '33', '76 ', '50 ', '81 ', '38 ', '20', '78 ', '88 ', '67 ', '47 ', '64 ', '58 ', '51 ', '27', '45 ', '61 ', '1994', '41 ', '56 ', '57 ', '85 ', '90 ', '91 ', '44 ', '99 ', '93 ', '92 ', '62 ', '68 ', '89 ', '1987', '80 ', '30', '55 ', '34', '82 ', '49 ', '43 ', '73 ', '22', '83 ', '74 ', '79 ', '69 '}\n"
     ]
    }
   ],
   "source": [
    "final_df['Age'] = final_df['Age'].str.replace('1992', '26')\n",
    "print(set(final_df['Age']))"
   ]
  },
  {
   "cell_type": "code",
   "execution_count": 137,
   "metadata": {},
   "outputs": [
    {
     "name": "stdout",
     "output_type": "stream",
     "text": [
      "{nan, '95 ', '39 ', '70 ', '75 ', '59 ', '36', '66 ', '52 ', '65 ', '28', '53 ', '86 ', '40 ', '63 ', '77 ', '26', '84 ', '35', '72 ', '24', '48 ', '60 ', '96 ', '46 ', '94 ', '54 ', '97 ', '29', '87 ', '71 ', '42 ', '32', '33', '76 ', '50 ', '81 ', '38 ', '20', '78 ', '88 ', '67 ', '47 ', '64 ', '58 ', '51 ', '27', '45 ', '61 ', '41 ', '56 ', '57 ', '85 ', '90 ', '91 ', '44 ', '99 ', '93 ', '92 ', '62 ', '68 ', '89 ', '1987', '80 ', '30', '55 ', '34', '82 ', '49 ', '43 ', '73 ', '22', '83 ', '74 ', '79 ', '69 '}\n"
     ]
    }
   ],
   "source": [
    "final_df['Age'] = final_df['Age'].str.replace('1994', '24')\n",
    "print(set(final_df['Age']))"
   ]
  },
  {
   "cell_type": "code",
   "execution_count": 138,
   "metadata": {},
   "outputs": [
    {
     "name": "stdout",
     "output_type": "stream",
     "text": [
      "{nan, '95 ', '39 ', '70 ', '75 ', '59 ', '36', '66 ', '52 ', '65 ', '28', '53 ', '86 ', '40 ', '63 ', '77 ', '26', '84 ', '35', '72 ', '24', '48 ', '60 ', '96 ', '46 ', '94 ', '54 ', '97 ', '29', '87 ', '71 ', '42 ', '32', '33', '76 ', '50 ', '81 ', '38 ', '20', '78 ', '88 ', '67 ', '47 ', '64 ', '58 ', '51 ', '27', '45 ', '61 ', '41 ', '56 ', '57 ', '85 ', '90 ', '91 ', '44 ', '99 ', '93 ', '92 ', '62 ', '68 ', '89 ', '80 ', '30', '55 ', '34', '82 ', '49 ', '31', '43 ', '73 ', '22', '83 ', '74 ', '79 ', '69 '}\n"
     ]
    }
   ],
   "source": [
    "final_df['Age'] = final_df['Age'].str.replace('1987', '31')\n",
    "print(set(final_df['Age']))"
   ]
  },
  {
   "cell_type": "code",
   "execution_count": 139,
   "metadata": {},
   "outputs": [
    {
     "data": {
      "text/plain": [
       "ID             0\n",
       "First Name     0\n",
       "Last Name      0\n",
       "Position       0\n",
       "Worth          0\n",
       "Source         0\n",
       "Age           65\n",
       "Gender         0\n",
       "Country        0\n",
       "Image          0\n",
       "Gender_cat     0\n",
       "dtype: int64"
      ]
     },
     "execution_count": 139,
     "metadata": {},
     "output_type": "execute_result"
    }
   ],
   "source": [
    "final_df.isnull().sum(axis = 0)"
   ]
  },
  {
   "cell_type": "code",
   "execution_count": 140,
   "metadata": {},
   "outputs": [],
   "source": [
    "final_df[['Age']] = final_df[['Age']].fillna(0)"
   ]
  },
  {
   "cell_type": "code",
   "execution_count": 141,
   "metadata": {},
   "outputs": [
    {
     "data": {
      "text/plain": [
       "ID            0\n",
       "First Name    0\n",
       "Last Name     0\n",
       "Position      0\n",
       "Worth         0\n",
       "Source        0\n",
       "Age           0\n",
       "Gender        0\n",
       "Country       0\n",
       "Image         0\n",
       "Gender_cat    0\n",
       "dtype: int64"
      ]
     },
     "execution_count": 141,
     "metadata": {},
     "output_type": "execute_result"
    }
   ],
   "source": [
    "final_df.isnull().sum(axis = 0)"
   ]
  },
  {
   "cell_type": "code",
   "execution_count": 142,
   "metadata": {},
   "outputs": [
    {
     "data": {
      "text/plain": [
       "array(['54 ', '62 ', '87 ', '69 ', '33', '82 ', '78 ', '73 ', '76 ',\n",
       "       '45 ', '44 ', '70 ', '68 ', '46 ', '64 ', '61 ', '53 ', '84 ',\n",
       "       '90 ', '59 ', '63 ', '66 ', '80 ', '81 ', '56 ', '79 ', '74 ',\n",
       "       '60 ', '93 ', '52 ', '35', '65 ', '83 ', '67 ', '75 ', '89 ', 0,\n",
       "       '72 ', '48 ', '77 ', '86 ', '57 ', '30', '55 ', '94 ', '47 ',\n",
       "       '71 ', '92 ', '88 ', '85 ', '49 ', '51 ', '50 ', '43 ', '42 ',\n",
       "       '91 ', '58 ', '34', '38 ', '36', '95 ', '39 ', '41 ', '40 ', '28',\n",
       "       '27', '97 ', '32', '99 ', '24', '20', '22', '96 ', '31', '29',\n",
       "       '26'], dtype=object)"
      ]
     },
     "execution_count": 142,
     "metadata": {},
     "output_type": "execute_result"
    }
   ],
   "source": [
    "final_df.Age.unique()"
   ]
  },
  {
   "cell_type": "code",
   "execution_count": 143,
   "metadata": {},
   "outputs": [
    {
     "name": "stdout",
     "output_type": "stream",
     "text": [
      "{nan, '36', '61', '75', '28', '53', '82', '50', '76', '44', '97', '86', '26', '35', '92', '39', '40', '24', '55', '45', '59', '78', '80', '60', '91', '29', '99', '74', '52', '33', '56', '48', '85', '41', '65', '32', '20', '27', '88', '72', '54', '66', '73', '70', '83', '64', '84', '38', '42', '89', '93', '94', '47', '63', '77', '71', '57', '79', '62', '87', '67', '51', '81', '96', '30', '58', '34', '43', '95', '31', '22', '69', '68', '90', '46', '49'}\n"
     ]
    }
   ],
   "source": [
    "final_df['Age'] = final_df['Age'].str.replace(' ', '')\n",
    "print(set(final_df['Age']))"
   ]
  },
  {
   "cell_type": "code",
   "execution_count": 144,
   "metadata": {},
   "outputs": [],
   "source": [
    "final_df[['Age']] = final_df[['Age']].fillna(0)"
   ]
  },
  {
   "cell_type": "code",
   "execution_count": 145,
   "metadata": {},
   "outputs": [
    {
     "data": {
      "text/plain": [
       "ID              int64\n",
       "First Name     object\n",
       "Last Name      object\n",
       "Position      float64\n",
       "Worth          object\n",
       "Source         object\n",
       "Age             int64\n",
       "Gender         object\n",
       "Country        object\n",
       "Image          object\n",
       "Gender_cat     object\n",
       "dtype: object"
      ]
     },
     "execution_count": 145,
     "metadata": {},
     "output_type": "execute_result"
    }
   ],
   "source": [
    "final_df.astype({'Age': int}).dtypes"
   ]
  },
  {
   "cell_type": "code",
   "execution_count": 146,
   "metadata": {},
   "outputs": [],
   "source": [
    "final_df.Age = final_df.Age.astype(int)"
   ]
  },
  {
   "cell_type": "code",
   "execution_count": 147,
   "metadata": {},
   "outputs": [
    {
     "name": "stdout",
     "output_type": "stream",
     "text": [
      "<class 'pandas.core.frame.DataFrame'>\n",
      "RangeIndex: 2208 entries, 0 to 2207\n",
      "Data columns (total 11 columns):\n",
      "ID            2208 non-null int64\n",
      "First Name    2208 non-null object\n",
      "Last Name     2208 non-null object\n",
      "Position      2208 non-null float64\n",
      "Worth         2208 non-null object\n",
      "Source        2208 non-null object\n",
      "Age           2208 non-null int64\n",
      "Gender        2208 non-null object\n",
      "Country       2208 non-null object\n",
      "Image         2208 non-null object\n",
      "Gender_cat    2208 non-null object\n",
      "dtypes: float64(1), int64(2), object(8)\n",
      "memory usage: 189.9+ KB\n"
     ]
    }
   ],
   "source": [
    "final_df.info()"
   ]
  },
  {
   "cell_type": "code",
   "execution_count": 148,
   "metadata": {},
   "outputs": [
    {
     "data": {
      "text/plain": [
       "61.91440217391305"
      ]
     },
     "execution_count": 148,
     "metadata": {},
     "output_type": "execute_result"
    }
   ],
   "source": [
    "final_df['Age'].mean()"
   ]
  },
  {
   "cell_type": "code",
   "execution_count": 149,
   "metadata": {},
   "outputs": [
    {
     "data": {
      "text/html": [
       "<div>\n",
       "<style scoped>\n",
       "    .dataframe tbody tr th:only-of-type {\n",
       "        vertical-align: middle;\n",
       "    }\n",
       "\n",
       "    .dataframe tbody tr th {\n",
       "        vertical-align: top;\n",
       "    }\n",
       "\n",
       "    .dataframe thead th {\n",
       "        text-align: right;\n",
       "    }\n",
       "</style>\n",
       "<table border=\"1\" class=\"dataframe\">\n",
       "  <thead>\n",
       "    <tr style=\"text-align: right;\">\n",
       "      <th></th>\n",
       "      <th>ID</th>\n",
       "      <th>First Name</th>\n",
       "      <th>Last Name</th>\n",
       "      <th>Position</th>\n",
       "      <th>Worth</th>\n",
       "      <th>Source</th>\n",
       "      <th>Age</th>\n",
       "      <th>Gender</th>\n",
       "      <th>Country</th>\n",
       "      <th>Image</th>\n",
       "      <th>Gender_cat</th>\n",
       "    </tr>\n",
       "  </thead>\n",
       "  <tbody>\n",
       "    <tr>\n",
       "      <th>0</th>\n",
       "      <td>5227</td>\n",
       "      <td>Jeff</td>\n",
       "      <td>Bezos</td>\n",
       "      <td>1.0</td>\n",
       "      <td>112.0 BUSD</td>\n",
       "      <td>Technology  ==&gt; Amazon</td>\n",
       "      <td>54</td>\n",
       "      <td>None</td>\n",
       "      <td>United States</td>\n",
       "      <td>https://specials-images.forbesimg.com/imageser...</td>\n",
       "      <td>Not Available</td>\n",
       "    </tr>\n",
       "    <tr>\n",
       "      <th>1</th>\n",
       "      <td>2642</td>\n",
       "      <td>Bill</td>\n",
       "      <td>Gates</td>\n",
       "      <td>2.0</td>\n",
       "      <td>90.0 BUSD</td>\n",
       "      <td>Technology  ==&gt; Microsoft</td>\n",
       "      <td>62</td>\n",
       "      <td>M</td>\n",
       "      <td>None</td>\n",
       "      <td>https://specials-images.forbesimg.com/imageser...</td>\n",
       "      <td>Male</td>\n",
       "    </tr>\n",
       "    <tr>\n",
       "      <th>2</th>\n",
       "      <td>5422</td>\n",
       "      <td>Warren</td>\n",
       "      <td>Buffett</td>\n",
       "      <td>3.0</td>\n",
       "      <td>84.0 BUSD</td>\n",
       "      <td>Finance and Investments  ==&gt; Berkshire Hathaway</td>\n",
       "      <td>87</td>\n",
       "      <td>M</td>\n",
       "      <td>None</td>\n",
       "      <td>https://specials-images.forbesimg.com/imageser...</td>\n",
       "      <td>Male</td>\n",
       "    </tr>\n",
       "    <tr>\n",
       "      <th>3</th>\n",
       "      <td>8183</td>\n",
       "      <td>Bernard</td>\n",
       "      <td>Arnault</td>\n",
       "      <td>4.0</td>\n",
       "      <td>72.0 BUSD</td>\n",
       "      <td>Fashion &amp; Retail  ==&gt; LVMH</td>\n",
       "      <td>69</td>\n",
       "      <td>M</td>\n",
       "      <td>France</td>\n",
       "      <td>https://specials-images.forbesimg.com/imageser...</td>\n",
       "      <td>Male</td>\n",
       "    </tr>\n",
       "    <tr>\n",
       "      <th>4</th>\n",
       "      <td>5642</td>\n",
       "      <td>Mark</td>\n",
       "      <td>Zuckerberg</td>\n",
       "      <td>5.0</td>\n",
       "      <td>71.0 BUSD</td>\n",
       "      <td>Technology  ==&gt; Facebook</td>\n",
       "      <td>33</td>\n",
       "      <td>M</td>\n",
       "      <td>USA</td>\n",
       "      <td>https://specials-images.forbesimg.com/imageser...</td>\n",
       "      <td>Male</td>\n",
       "    </tr>\n",
       "    <tr>\n",
       "      <th>...</th>\n",
       "      <td>...</td>\n",
       "      <td>...</td>\n",
       "      <td>...</td>\n",
       "      <td>...</td>\n",
       "      <td>...</td>\n",
       "      <td>...</td>\n",
       "      <td>...</td>\n",
       "      <td>...</td>\n",
       "      <td>...</td>\n",
       "      <td>...</td>\n",
       "      <td>...</td>\n",
       "    </tr>\n",
       "    <tr>\n",
       "      <th>2203</th>\n",
       "      <td>7670</td>\n",
       "      <td>Zhao</td>\n",
       "      <td>Zhao</td>\n",
       "      <td>2204.0</td>\n",
       "      <td>1.0 BUSD</td>\n",
       "      <td>Fashion &amp; Retail  ==&gt; fashion, entertainment</td>\n",
       "      <td>51</td>\n",
       "      <td>None</td>\n",
       "      <td>China</td>\n",
       "      <td>https://specials-images.forbesimg.com/imageser...</td>\n",
       "      <td>Not Available</td>\n",
       "    </tr>\n",
       "    <tr>\n",
       "      <th>2204</th>\n",
       "      <td>1310</td>\n",
       "      <td>Zhou</td>\n",
       "      <td>Zhou</td>\n",
       "      <td>2205.0</td>\n",
       "      <td>1.0 BUSD</td>\n",
       "      <td>Manufacturing  ==&gt; electrical equipment</td>\n",
       "      <td>55</td>\n",
       "      <td>M</td>\n",
       "      <td>China</td>\n",
       "      <td>https://specials-images.forbesimg.com/imageser...</td>\n",
       "      <td>Male</td>\n",
       "    </tr>\n",
       "    <tr>\n",
       "      <th>2205</th>\n",
       "      <td>4488</td>\n",
       "      <td>Zhu</td>\n",
       "      <td>Zhu</td>\n",
       "      <td>2206.0</td>\n",
       "      <td>1.0 BUSD</td>\n",
       "      <td>Manufacturing  ==&gt; electrical equipment</td>\n",
       "      <td>51</td>\n",
       "      <td>M</td>\n",
       "      <td>None</td>\n",
       "      <td>https://specials-images.forbesimg.com/imageser...</td>\n",
       "      <td>Male</td>\n",
       "    </tr>\n",
       "    <tr>\n",
       "      <th>2206</th>\n",
       "      <td>7152</td>\n",
       "      <td>Zhuo</td>\n",
       "      <td>Zhuo</td>\n",
       "      <td>2207.0</td>\n",
       "      <td>1.0 BUSD</td>\n",
       "      <td>Manufacturing  ==&gt; printed circuit boards</td>\n",
       "      <td>52</td>\n",
       "      <td>Female</td>\n",
       "      <td>Hong Kong</td>\n",
       "      <td>https://specials-images.forbesimg.com/imageser...</td>\n",
       "      <td>Female</td>\n",
       "    </tr>\n",
       "    <tr>\n",
       "      <th>2207</th>\n",
       "      <td>7214</td>\n",
       "      <td>Olgun</td>\n",
       "      <td>Zorlu</td>\n",
       "      <td>2208.0</td>\n",
       "      <td>1.0 BUSD</td>\n",
       "      <td>Diversified  ==&gt; diversified</td>\n",
       "      <td>54</td>\n",
       "      <td>None</td>\n",
       "      <td>Turkey</td>\n",
       "      <td>https://specials-images.forbesimg.com/imageser...</td>\n",
       "      <td>Not Available</td>\n",
       "    </tr>\n",
       "  </tbody>\n",
       "</table>\n",
       "<p>2208 rows × 11 columns</p>\n",
       "</div>"
      ],
      "text/plain": [
       "        ID First Name   Last Name  Position       Worth  \\\n",
       "0     5227       Jeff       Bezos       1.0  112.0 BUSD   \n",
       "1     2642       Bill       Gates       2.0   90.0 BUSD   \n",
       "2     5422     Warren     Buffett       3.0   84.0 BUSD   \n",
       "3     8183    Bernard     Arnault       4.0   72.0 BUSD   \n",
       "4     5642       Mark  Zuckerberg       5.0   71.0 BUSD   \n",
       "...    ...        ...         ...       ...         ...   \n",
       "2203  7670       Zhao        Zhao    2204.0    1.0 BUSD   \n",
       "2204  1310       Zhou        Zhou    2205.0    1.0 BUSD   \n",
       "2205  4488        Zhu         Zhu    2206.0    1.0 BUSD   \n",
       "2206  7152       Zhuo        Zhuo    2207.0    1.0 BUSD   \n",
       "2207  7214      Olgun       Zorlu    2208.0    1.0 BUSD   \n",
       "\n",
       "                                               Source  Age  Gender  \\\n",
       "0                              Technology  ==> Amazon   54    None   \n",
       "1                           Technology  ==> Microsoft   62       M   \n",
       "2     Finance and Investments  ==> Berkshire Hathaway   87       M   \n",
       "3                          Fashion & Retail  ==> LVMH   69       M   \n",
       "4                            Technology  ==> Facebook   33       M   \n",
       "...                                               ...  ...     ...   \n",
       "2203     Fashion & Retail  ==> fashion, entertainment   51    None   \n",
       "2204          Manufacturing  ==> electrical equipment   55       M   \n",
       "2205          Manufacturing  ==> electrical equipment   51       M   \n",
       "2206        Manufacturing  ==> printed circuit boards   52  Female   \n",
       "2207                     Diversified  ==> diversified   54    None   \n",
       "\n",
       "            Country                                              Image  \\\n",
       "0     United States  https://specials-images.forbesimg.com/imageser...   \n",
       "1              None  https://specials-images.forbesimg.com/imageser...   \n",
       "2              None  https://specials-images.forbesimg.com/imageser...   \n",
       "3            France  https://specials-images.forbesimg.com/imageser...   \n",
       "4               USA  https://specials-images.forbesimg.com/imageser...   \n",
       "...             ...                                                ...   \n",
       "2203          China  https://specials-images.forbesimg.com/imageser...   \n",
       "2204          China  https://specials-images.forbesimg.com/imageser...   \n",
       "2205           None  https://specials-images.forbesimg.com/imageser...   \n",
       "2206      Hong Kong  https://specials-images.forbesimg.com/imageser...   \n",
       "2207         Turkey  https://specials-images.forbesimg.com/imageser...   \n",
       "\n",
       "         Gender_cat  \n",
       "0     Not Available  \n",
       "1              Male  \n",
       "2              Male  \n",
       "3              Male  \n",
       "4              Male  \n",
       "...             ...  \n",
       "2203  Not Available  \n",
       "2204           Male  \n",
       "2205           Male  \n",
       "2206         Female  \n",
       "2207  Not Available  \n",
       "\n",
       "[2208 rows x 11 columns]"
      ]
     },
     "execution_count": 149,
     "metadata": {},
     "output_type": "execute_result"
    }
   ],
   "source": [
    "final_df.replace({'Age': {0: 62}})"
   ]
  },
  {
   "cell_type": "code",
   "execution_count": 150,
   "metadata": {},
   "outputs": [],
   "source": [
    "#Age column: non-null objects but we have 65 records with a value of \"0\". Have to fill it in with the column's mean. "
   ]
  },
  {
   "cell_type": "code",
   "execution_count": 151,
   "metadata": {},
   "outputs": [
    {
     "data": {
      "text/plain": [
       "array([54, 62, 87, 69, 33, 82, 78, 73, 76, 45, 44, 70, 68, 46, 64, 61, 53,\n",
       "       84, 90, 59, 63, 66, 80, 81, 56, 79, 74, 60, 93, 52, 35, 65, 83, 67,\n",
       "       75, 89,  0, 72, 48, 77, 86, 57, 30, 55, 94, 47, 71, 92, 88, 85, 49,\n",
       "       51, 50, 43, 42, 91, 58, 34, 38, 36, 95, 39, 41, 40, 28, 27, 97, 32,\n",
       "       99, 24, 20, 22, 96, 31, 29, 26])"
      ]
     },
     "execution_count": 151,
     "metadata": {},
     "output_type": "execute_result"
    }
   ],
   "source": [
    "final_df.Age.unique()"
   ]
  },
  {
   "cell_type": "code",
   "execution_count": 152,
   "metadata": {},
   "outputs": [
    {
     "data": {
      "text/html": [
       "<div>\n",
       "<style scoped>\n",
       "    .dataframe tbody tr th:only-of-type {\n",
       "        vertical-align: middle;\n",
       "    }\n",
       "\n",
       "    .dataframe tbody tr th {\n",
       "        vertical-align: top;\n",
       "    }\n",
       "\n",
       "    .dataframe thead th {\n",
       "        text-align: right;\n",
       "    }\n",
       "</style>\n",
       "<table border=\"1\" class=\"dataframe\">\n",
       "  <thead>\n",
       "    <tr style=\"text-align: right;\">\n",
       "      <th></th>\n",
       "      <th>ID</th>\n",
       "      <th>First Name</th>\n",
       "      <th>Last Name</th>\n",
       "      <th>Position</th>\n",
       "      <th>Worth</th>\n",
       "      <th>Source</th>\n",
       "      <th>Age</th>\n",
       "      <th>Gender</th>\n",
       "      <th>Country</th>\n",
       "      <th>Image</th>\n",
       "      <th>Gender_cat</th>\n",
       "    </tr>\n",
       "  </thead>\n",
       "  <tbody>\n",
       "    <tr>\n",
       "      <th>0</th>\n",
       "      <td>5227</td>\n",
       "      <td>Jeff</td>\n",
       "      <td>Bezos</td>\n",
       "      <td>1.0</td>\n",
       "      <td>112.0 BUSD</td>\n",
       "      <td>Technology  ==&gt; Amazon</td>\n",
       "      <td>54</td>\n",
       "      <td>None</td>\n",
       "      <td>United States</td>\n",
       "      <td>https://specials-images.forbesimg.com/imageser...</td>\n",
       "      <td>Not Available</td>\n",
       "    </tr>\n",
       "    <tr>\n",
       "      <th>1</th>\n",
       "      <td>2642</td>\n",
       "      <td>Bill</td>\n",
       "      <td>Gates</td>\n",
       "      <td>2.0</td>\n",
       "      <td>90.0 BUSD</td>\n",
       "      <td>Technology  ==&gt; Microsoft</td>\n",
       "      <td>62</td>\n",
       "      <td>M</td>\n",
       "      <td>None</td>\n",
       "      <td>https://specials-images.forbesimg.com/imageser...</td>\n",
       "      <td>Male</td>\n",
       "    </tr>\n",
       "    <tr>\n",
       "      <th>2</th>\n",
       "      <td>5422</td>\n",
       "      <td>Warren</td>\n",
       "      <td>Buffett</td>\n",
       "      <td>3.0</td>\n",
       "      <td>84.0 BUSD</td>\n",
       "      <td>Finance and Investments  ==&gt; Berkshire Hathaway</td>\n",
       "      <td>87</td>\n",
       "      <td>M</td>\n",
       "      <td>None</td>\n",
       "      <td>https://specials-images.forbesimg.com/imageser...</td>\n",
       "      <td>Male</td>\n",
       "    </tr>\n",
       "    <tr>\n",
       "      <th>3</th>\n",
       "      <td>8183</td>\n",
       "      <td>Bernard</td>\n",
       "      <td>Arnault</td>\n",
       "      <td>4.0</td>\n",
       "      <td>72.0 BUSD</td>\n",
       "      <td>Fashion &amp; Retail  ==&gt; LVMH</td>\n",
       "      <td>69</td>\n",
       "      <td>M</td>\n",
       "      <td>France</td>\n",
       "      <td>https://specials-images.forbesimg.com/imageser...</td>\n",
       "      <td>Male</td>\n",
       "    </tr>\n",
       "    <tr>\n",
       "      <th>4</th>\n",
       "      <td>5642</td>\n",
       "      <td>Mark</td>\n",
       "      <td>Zuckerberg</td>\n",
       "      <td>5.0</td>\n",
       "      <td>71.0 BUSD</td>\n",
       "      <td>Technology  ==&gt; Facebook</td>\n",
       "      <td>33</td>\n",
       "      <td>M</td>\n",
       "      <td>USA</td>\n",
       "      <td>https://specials-images.forbesimg.com/imageser...</td>\n",
       "      <td>Male</td>\n",
       "    </tr>\n",
       "  </tbody>\n",
       "</table>\n",
       "</div>"
      ],
      "text/plain": [
       "     ID First Name   Last Name  Position       Worth  \\\n",
       "0  5227       Jeff       Bezos       1.0  112.0 BUSD   \n",
       "1  2642       Bill       Gates       2.0   90.0 BUSD   \n",
       "2  5422     Warren     Buffett       3.0   84.0 BUSD   \n",
       "3  8183    Bernard     Arnault       4.0   72.0 BUSD   \n",
       "4  5642       Mark  Zuckerberg       5.0   71.0 BUSD   \n",
       "\n",
       "                                            Source  Age Gender        Country  \\\n",
       "0                           Technology  ==> Amazon   54   None  United States   \n",
       "1                        Technology  ==> Microsoft   62      M           None   \n",
       "2  Finance and Investments  ==> Berkshire Hathaway   87      M           None   \n",
       "3                       Fashion & Retail  ==> LVMH   69      M         France   \n",
       "4                         Technology  ==> Facebook   33      M            USA   \n",
       "\n",
       "                                               Image     Gender_cat  \n",
       "0  https://specials-images.forbesimg.com/imageser...  Not Available  \n",
       "1  https://specials-images.forbesimg.com/imageser...           Male  \n",
       "2  https://specials-images.forbesimg.com/imageser...           Male  \n",
       "3  https://specials-images.forbesimg.com/imageser...           Male  \n",
       "4  https://specials-images.forbesimg.com/imageser...           Male  "
      ]
     },
     "execution_count": 152,
     "metadata": {},
     "output_type": "execute_result"
    }
   ],
   "source": [
    "final_df.head()"
   ]
  },
  {
   "cell_type": "markdown",
   "metadata": {},
   "source": [
    "# POSITION to INT"
   ]
  },
  {
   "cell_type": "code",
   "execution_count": 153,
   "metadata": {},
   "outputs": [],
   "source": [
    "final_df.Position = final_df.Position.astype(int)"
   ]
  },
  {
   "cell_type": "code",
   "execution_count": 154,
   "metadata": {},
   "outputs": [
    {
     "data": {
      "text/plain": [
       "array([   1,    2,    3, ..., 2206, 2207, 2208])"
      ]
     },
     "execution_count": 154,
     "metadata": {},
     "output_type": "execute_result"
    }
   ],
   "source": [
    "final_df.Position.unique()"
   ]
  },
  {
   "cell_type": "code",
   "execution_count": 155,
   "metadata": {},
   "outputs": [
    {
     "data": {
      "text/plain": [
       "array(['112.0 BUSD', '90.0 BUSD', '84.0 BUSD', '72.0 BUSD', '71.0 BUSD',\n",
       "       '70.0 BUSD', '67.1 BUSD', '60.0 BUSD', '58.5 BUSD', '50.0 BUSD',\n",
       "       '48.8 BUSD', '47.5 BUSD', '46.4 BUSD', '46.2 BUSD', '46.0 BUSD',\n",
       "       '45.3 BUSD', '42.2 BUSD', '40.1 BUSD', '39.0 BUSD', '38.5 BUSD',\n",
       "       '38.4 BUSD', '34.9 BUSD', '30.3 BUSD', '30.0 BUSD', '29.8 BUSD',\n",
       "       '29.6 BUSD', '27.4 BUSD', '27.0 BUSD', '25.3 BUSD', '25.0 BUSD',\n",
       "       '23.6 BUSD', '23.5 BUSD', '23.0 BUSD', '22.7 BUSD', '22.6 BUSD',\n",
       "       '22.0 BUSD', '21.9 BUSD', '21.7 BUSD', '21.2 BUSD', '20.9 BUSD',\n",
       "       '20.3 BUSD', '20.2 BUSD', '20.1 BUSD', '20.0 BUSD', '19.9 BUSD',\n",
       "       '19.5 BUSD', '19.1 BUSD', '18.8 BUSD', '18.7 BUSD', '18.6 BUSD',\n",
       "       '18.5 BUSD', '18.2 BUSD', '18.0 BUSD', '17.9 BUSD', '17.8 BUSD',\n",
       "       '17.7 BUSD', '17.5 BUSD', '17.4 BUSD', '17.3 BUSD', '16.8 BUSD',\n",
       "       '16.7 BUSD', '16.5 BUSD', '16.4 BUSD', '16.3 BUSD', '16.0 BUSD',\n",
       "       '15.9 BUSD', '15.8 BUSD', '15.6 BUSD', '15.5 BUSD', '15.3 BUSD',\n",
       "       '15.1 BUSD', '15.0 BUSD', '14.9 BUSD', '14.8 BUSD', '14.7 BUSD',\n",
       "       '14.6 BUSD', '14.4 BUSD', '14.1 BUSD', '14.0 BUSD', '13.6 BUSD',\n",
       "       '13.4 BUSD', '13.0 BUSD', '12.9 BUSD', '12.8 BUSD', '12.7 BUSD',\n",
       "       '12.6 BUSD', '12.5 BUSD', '12.3 BUSD', '12.2 BUSD', '12.1 BUSD',\n",
       "       '12.0 BUSD', '11.9 BUSD', '11.8 BUSD', '11.7 BUSD', '11.6 BUSD',\n",
       "       '11.5 BUSD', '11.3 BUSD', '11.2 BUSD', '11.0 BUSD', '10.8 BUSD',\n",
       "       '10.7 BUSD', '10.5 BUSD', '10.3 BUSD', '10.2 BUSD', '10.1 BUSD',\n",
       "       '10.0 BUSD', '9.8 BUSD', '9.7 BUSD', '9.6 BUSD', '9.5 BUSD',\n",
       "       '9.4 BUSD', '9.3 BUSD', '9.2 BUSD', '9.1 BUSD', '9.0 BUSD',\n",
       "       '8.9 BUSD', '8.8 BUSD', '8.7 BUSD', '8.5 BUSD', '8.3 BUSD',\n",
       "       '8.2 BUSD', '8.1 BUSD', '8.0 BUSD', '7.9 BUSD', '7.8 BUSD',\n",
       "       '7.7 BUSD', '7.6 BUSD', '7.4 BUSD', '7.3 BUSD', '7.2 BUSD',\n",
       "       '7.1 BUSD', '7.0 BUSD', '6.9 BUSD', '6.8 BUSD', '6.7 BUSD',\n",
       "       '6.6 BUSD', '6.5 BUSD', '6.4 BUSD', '6.3 BUSD', '6.2 BUSD',\n",
       "       '6.1 BUSD', '6.0 BUSD', '5.9 BUSD', '5.8 BUSD', '5.7 BUSD',\n",
       "       '5.6 BUSD', '5.5 BUSD', '5.4 BUSD', '5.3 BUSD', '5.2 BUSD',\n",
       "       '5.1 BUSD', '5.0 BUSD', '4.9 BUSD', '4.8 BUSD', '4.7 BUSD',\n",
       "       '4.6 BUSD', '4.5 BUSD', '4.4 BUSD', '4.3 BUSD', '4.2 BUSD',\n",
       "       '4.1 BUSD', '4.0 BUSD', '3.9 BUSD', '3.8 BUSD', '3.7 BUSD',\n",
       "       '3.6 BUSD', '3.5 BUSD', '3.4 BUSD', '3.3 BUSD', '3.2 BUSD',\n",
       "       '3.1 BUSD', '3.0 BUSD', '2.9 BUSD', '2.8 BUSD', '2.7 BUSD',\n",
       "       '2.6 BUSD', '2.5 BUSD', '2.4 BUSD', '2.3 BUSD', '2.2 BUSD',\n",
       "       '2.1 BUSD', '2.0 BUSD', '1.9 BUSD', '1.8 BUSD', '1.7 BUSD',\n",
       "       '1.6 BUSD', '1.5 BUSD', '1.4 BUSD', '1.3 BUSD', '1.2 BUSD',\n",
       "       '1.1 BUSD', '1.0 BUSD'], dtype=object)"
      ]
     },
     "execution_count": 155,
     "metadata": {},
     "output_type": "execute_result"
    }
   ],
   "source": [
    "final_df.Worth.unique()"
   ]
  },
  {
   "cell_type": "code",
   "execution_count": 156,
   "metadata": {},
   "outputs": [
    {
     "data": {
      "text/plain": [
       "array(['Not Available', 'Male', 'Female'], dtype=object)"
      ]
     },
     "execution_count": 156,
     "metadata": {},
     "output_type": "execute_result"
    }
   ],
   "source": [
    "final_df.Gender_cat.unique()"
   ]
  },
  {
   "cell_type": "code",
   "execution_count": 157,
   "metadata": {},
   "outputs": [],
   "source": [
    "final_df.drop('Gender', axis=1, inplace=True) "
   ]
  },
  {
   "cell_type": "code",
   "execution_count": 158,
   "metadata": {},
   "outputs": [
    {
     "data": {
      "text/plain": [
       "Index(['ID', 'First Name', 'Last Name', 'Position', 'Worth', 'Source', 'Age',\n",
       "       'Country', 'Image', 'Gender_cat'],\n",
       "      dtype='object')"
      ]
     },
     "execution_count": 158,
     "metadata": {},
     "output_type": "execute_result"
    }
   ],
   "source": [
    "final_df.columns"
   ]
  },
  {
   "cell_type": "code",
   "execution_count": 159,
   "metadata": {},
   "outputs": [],
   "source": [
    "column_order = ['ID', 'Position','Worth', 'First Name', 'Last Name','Age', 'Gender_cat', 'Source',\n",
    "       'Country', 'Image']"
   ]
  },
  {
   "cell_type": "code",
   "execution_count": 160,
   "metadata": {},
   "outputs": [],
   "source": [
    "final_df = final_df[column_order]"
   ]
  },
  {
   "cell_type": "code",
   "execution_count": 161,
   "metadata": {},
   "outputs": [
    {
     "data": {
      "text/html": [
       "<div>\n",
       "<style scoped>\n",
       "    .dataframe tbody tr th:only-of-type {\n",
       "        vertical-align: middle;\n",
       "    }\n",
       "\n",
       "    .dataframe tbody tr th {\n",
       "        vertical-align: top;\n",
       "    }\n",
       "\n",
       "    .dataframe thead th {\n",
       "        text-align: right;\n",
       "    }\n",
       "</style>\n",
       "<table border=\"1\" class=\"dataframe\">\n",
       "  <thead>\n",
       "    <tr style=\"text-align: right;\">\n",
       "      <th></th>\n",
       "      <th>ID</th>\n",
       "      <th>Position</th>\n",
       "      <th>Worth</th>\n",
       "      <th>First Name</th>\n",
       "      <th>Last Name</th>\n",
       "      <th>Age</th>\n",
       "      <th>Gender_cat</th>\n",
       "      <th>Source</th>\n",
       "      <th>Country</th>\n",
       "      <th>Image</th>\n",
       "    </tr>\n",
       "  </thead>\n",
       "  <tbody>\n",
       "    <tr>\n",
       "      <th>0</th>\n",
       "      <td>5227</td>\n",
       "      <td>1</td>\n",
       "      <td>112.0 BUSD</td>\n",
       "      <td>Jeff</td>\n",
       "      <td>Bezos</td>\n",
       "      <td>54</td>\n",
       "      <td>Not Available</td>\n",
       "      <td>Technology  ==&gt; Amazon</td>\n",
       "      <td>United States</td>\n",
       "      <td>https://specials-images.forbesimg.com/imageser...</td>\n",
       "    </tr>\n",
       "    <tr>\n",
       "      <th>1</th>\n",
       "      <td>2642</td>\n",
       "      <td>2</td>\n",
       "      <td>90.0 BUSD</td>\n",
       "      <td>Bill</td>\n",
       "      <td>Gates</td>\n",
       "      <td>62</td>\n",
       "      <td>Male</td>\n",
       "      <td>Technology  ==&gt; Microsoft</td>\n",
       "      <td>None</td>\n",
       "      <td>https://specials-images.forbesimg.com/imageser...</td>\n",
       "    </tr>\n",
       "    <tr>\n",
       "      <th>2</th>\n",
       "      <td>5422</td>\n",
       "      <td>3</td>\n",
       "      <td>84.0 BUSD</td>\n",
       "      <td>Warren</td>\n",
       "      <td>Buffett</td>\n",
       "      <td>87</td>\n",
       "      <td>Male</td>\n",
       "      <td>Finance and Investments  ==&gt; Berkshire Hathaway</td>\n",
       "      <td>None</td>\n",
       "      <td>https://specials-images.forbesimg.com/imageser...</td>\n",
       "    </tr>\n",
       "    <tr>\n",
       "      <th>3</th>\n",
       "      <td>8183</td>\n",
       "      <td>4</td>\n",
       "      <td>72.0 BUSD</td>\n",
       "      <td>Bernard</td>\n",
       "      <td>Arnault</td>\n",
       "      <td>69</td>\n",
       "      <td>Male</td>\n",
       "      <td>Fashion &amp; Retail  ==&gt; LVMH</td>\n",
       "      <td>France</td>\n",
       "      <td>https://specials-images.forbesimg.com/imageser...</td>\n",
       "    </tr>\n",
       "    <tr>\n",
       "      <th>4</th>\n",
       "      <td>5642</td>\n",
       "      <td>5</td>\n",
       "      <td>71.0 BUSD</td>\n",
       "      <td>Mark</td>\n",
       "      <td>Zuckerberg</td>\n",
       "      <td>33</td>\n",
       "      <td>Male</td>\n",
       "      <td>Technology  ==&gt; Facebook</td>\n",
       "      <td>USA</td>\n",
       "      <td>https://specials-images.forbesimg.com/imageser...</td>\n",
       "    </tr>\n",
       "  </tbody>\n",
       "</table>\n",
       "</div>"
      ],
      "text/plain": [
       "     ID  Position       Worth First Name   Last Name  Age     Gender_cat  \\\n",
       "0  5227         1  112.0 BUSD       Jeff       Bezos   54  Not Available   \n",
       "1  2642         2   90.0 BUSD       Bill       Gates   62           Male   \n",
       "2  5422         3   84.0 BUSD     Warren     Buffett   87           Male   \n",
       "3  8183         4   72.0 BUSD    Bernard     Arnault   69           Male   \n",
       "4  5642         5   71.0 BUSD       Mark  Zuckerberg   33           Male   \n",
       "\n",
       "                                            Source        Country  \\\n",
       "0                           Technology  ==> Amazon  United States   \n",
       "1                        Technology  ==> Microsoft           None   \n",
       "2  Finance and Investments  ==> Berkshire Hathaway           None   \n",
       "3                       Fashion & Retail  ==> LVMH         France   \n",
       "4                         Technology  ==> Facebook            USA   \n",
       "\n",
       "                                               Image  \n",
       "0  https://specials-images.forbesimg.com/imageser...  \n",
       "1  https://specials-images.forbesimg.com/imageser...  \n",
       "2  https://specials-images.forbesimg.com/imageser...  \n",
       "3  https://specials-images.forbesimg.com/imageser...  \n",
       "4  https://specials-images.forbesimg.com/imageser...  "
      ]
     },
     "execution_count": 161,
     "metadata": {},
     "output_type": "execute_result"
    }
   ],
   "source": [
    "final_df.head()"
   ]
  },
  {
   "cell_type": "code",
   "execution_count": null,
   "metadata": {},
   "outputs": [],
   "source": [
    "final_df.to_csv(index=False)"
   ]
  },
  {
   "cell_type": "code",
   "execution_count": null,
   "metadata": {},
   "outputs": [],
   "source": []
  },
  {
   "cell_type": "code",
   "execution_count": null,
   "metadata": {},
   "outputs": [],
   "source": []
  }
 ],
 "metadata": {
  "kernelspec": {
   "display_name": "Python 3",
   "language": "python",
   "name": "python3"
  },
  "language_info": {
   "codemirror_mode": {
    "name": "ipython",
    "version": 3
   },
   "file_extension": ".py",
   "mimetype": "text/x-python",
   "name": "python",
   "nbconvert_exporter": "python",
   "pygments_lexer": "ipython3",
   "version": "3.7.4"
  }
 },
 "nbformat": 4,
 "nbformat_minor": 2
}
