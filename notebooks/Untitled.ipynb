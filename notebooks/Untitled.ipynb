{
 "cells": [
  {
   "cell_type": "code",
   "execution_count": 1,
   "metadata": {},
   "outputs": [],
   "source": [
    "import requests\n"
   ]
  },
  {
   "cell_type": "code",
   "execution_count": 2,
   "metadata": {},
   "outputs": [
    {
     "name": "stdout",
     "output_type": "stream",
     "text": [
      "Collecting BeautifulSoup4\n",
      "\u001b[?25l  Downloading https://files.pythonhosted.org/packages/cb/a1/c698cf319e9cfed6b17376281bd0efc6bfc8465698f54170ef60a485ab5d/beautifulsoup4-4.8.2-py3-none-any.whl (106kB)\n",
      "\u001b[K     |████████████████████████████████| 112kB 4.2MB/s eta 0:00:01\n",
      "\u001b[?25hCollecting soupsieve>=1.2\n",
      "  Downloading https://files.pythonhosted.org/packages/81/94/03c0f04471fc245d08d0a99f7946ac228ca98da4fa75796c507f61e688c2/soupsieve-1.9.5-py2.py3-none-any.whl\n",
      "Installing collected packages: soupsieve, BeautifulSoup4\n",
      "Successfully installed BeautifulSoup4-4.8.2 soupsieve-1.9.5\n"
     ]
    }
   ],
   "source": [
    "!pip install BeautifulSoup4"
   ]
  },
  {
   "cell_type": "code",
   "execution_count": 3,
   "metadata": {},
   "outputs": [
    {
     "name": "stdout",
     "output_type": "stream",
     "text": [
      "Collecting lxml\n",
      "\u001b[?25l  Downloading https://files.pythonhosted.org/packages/08/7f/981b9f4dc4f1926f9cbacbf61cba0f93ac7f466eeb62c0221b299fc5fe4f/lxml-4.4.2-cp37-cp37m-macosx_10_6_intel.macosx_10_9_intel.macosx_10_9_x86_64.macosx_10_10_intel.macosx_10_10_x86_64.whl (8.8MB)\n",
      "\u001b[K     |████████████████████████████████| 8.8MB 3.3MB/s eta 0:00:01     |██████████▉                     | 3.0MB 3.3MB/s eta 0:00:02     |████████████████████▎           | 5.6MB 3.3MB/s eta 0:00:01     |███████████████████████         | 6.3MB 3.3MB/s eta 0:00:01     |███████████████████████████████▎| 8.6MB 3.3MB/s eta 0:00:01\n",
      "\u001b[?25hInstalling collected packages: lxml\n",
      "Successfully installed lxml-4.4.2\n"
     ]
    }
   ],
   "source": [
    "\n",
    "\n",
    "!pip install lxml\n",
    "\n"
   ]
  },
  {
   "cell_type": "code",
   "execution_count": 5,
   "metadata": {},
   "outputs": [],
   "source": [
    "from bs4 import BeautifulSoup"
   ]
  },
  {
   "cell_type": "code",
   "execution_count": 8,
   "metadata": {},
   "outputs": [],
   "source": [
    "url = 'https://en.wikipedia.org/wiki/The_World%27s_Billionaires'\n",
    "html = requests.get(url).content\n",
    "soup = BeautifulSoup(html, \"lxml\")\n",
    "\n"
   ]
  },
  {
   "cell_type": "code",
   "execution_count": 9,
   "metadata": {},
   "outputs": [
    {
     "data": {
      "text/plain": [
       "<table class=\"wikitable sortable\">\n",
       "<tbody><tr>\n",
       "<th>No.\n",
       "</th>\n",
       "<th>Name\n",
       "</th>\n",
       "<th><a href=\"/wiki/Net_worth\" title=\"Net worth\">Net worth</a> (<a href=\"/wiki/United_States_dollar\" title=\"United States dollar\">USD</a>)\n",
       "</th>\n",
       "<th>Age\n",
       "</th>\n",
       "<th><a href=\"/wiki/Citizenship\" title=\"Citizenship\">Nationality</a>\n",
       "</th>\n",
       "<th>Source(s) of wealth\n",
       "</th></tr>\n",
       "<tr>\n",
       "<td style=\"text-align:center;\"><span data-sort-value=\"7000100000000000000♠\">1</span> <img alt=\"Steady\" data-file-height=\"300\" data-file-width=\"300\" decoding=\"async\" height=\"11\" src=\"//upload.wikimedia.org/wikipedia/commons/thumb/9/96/Steady2.svg/11px-Steady2.svg.png\" srcset=\"//upload.wikimedia.org/wikipedia/commons/thumb/9/96/Steady2.svg/17px-Steady2.svg.png 1.5x, //upload.wikimedia.org/wikipedia/commons/thumb/9/96/Steady2.svg/22px-Steady2.svg.png 2x\" title=\"Steady\" width=\"11\"/></td>\n",
       "<td><span data-sort-value=\"Bezos, Jeff\"><span class=\"vcard\"><span class=\"fn\"><a href=\"/wiki/Jeff_Bezos\" title=\"Jeff Bezos\">Jeff Bezos</a></span></span></span></td>\n",
       "<td style=\"text-align:center;\">$131 billion <img alt=\"Increase\" data-file-height=\"300\" data-file-width=\"300\" decoding=\"async\" height=\"11\" src=\"//upload.wikimedia.org/wikipedia/commons/thumb/b/b0/Increase2.svg/11px-Increase2.svg.png\" srcset=\"//upload.wikimedia.org/wikipedia/commons/thumb/b/b0/Increase2.svg/17px-Increase2.svg.png 1.5x, //upload.wikimedia.org/wikipedia/commons/thumb/b/b0/Increase2.svg/22px-Increase2.svg.png 2x\" title=\"Increase\" width=\"11\"/></td>\n",
       "<td style=\"text-align:center;\">55</td>\n",
       "<td><span class=\"flagicon\"><img alt=\"\" class=\"thumbborder\" data-file-height=\"650\" data-file-width=\"1235\" decoding=\"async\" height=\"12\" src=\"//upload.wikimedia.org/wikipedia/en/thumb/a/a4/Flag_of_the_United_States.svg/23px-Flag_of_the_United_States.svg.png\" srcset=\"//upload.wikimedia.org/wikipedia/en/thumb/a/a4/Flag_of_the_United_States.svg/35px-Flag_of_the_United_States.svg.png 1.5x, //upload.wikimedia.org/wikipedia/en/thumb/a/a4/Flag_of_the_United_States.svg/46px-Flag_of_the_United_States.svg.png 2x\" width=\"23\"/> </span><a href=\"/wiki/United_States\" title=\"United States\">United States</a></td>\n",
       "<td><a class=\"mw-redirect\" href=\"/wiki/Amazon.com\" title=\"Amazon.com\">Amazon</a>\n",
       "</td></tr>\n",
       "<tr>\n",
       "<td style=\"text-align:center;\"><span data-sort-value=\"7000200000000000000♠\">2</span> <img alt=\"Steady\" data-file-height=\"300\" data-file-width=\"300\" decoding=\"async\" height=\"11\" src=\"//upload.wikimedia.org/wikipedia/commons/thumb/9/96/Steady2.svg/11px-Steady2.svg.png\" srcset=\"//upload.wikimedia.org/wikipedia/commons/thumb/9/96/Steady2.svg/17px-Steady2.svg.png 1.5x, //upload.wikimedia.org/wikipedia/commons/thumb/9/96/Steady2.svg/22px-Steady2.svg.png 2x\" title=\"Steady\" width=\"11\"/></td>\n",
       "<td><span data-sort-value=\"Gates, Bill\"><span class=\"vcard\"><span class=\"fn\"><a href=\"/wiki/Bill_Gates\" title=\"Bill Gates\">Bill Gates</a></span></span></span></td>\n",
       "<td style=\"text-align:center;\">$96.5 billion <img alt=\"Increase\" data-file-height=\"300\" data-file-width=\"300\" decoding=\"async\" height=\"11\" src=\"//upload.wikimedia.org/wikipedia/commons/thumb/b/b0/Increase2.svg/11px-Increase2.svg.png\" srcset=\"//upload.wikimedia.org/wikipedia/commons/thumb/b/b0/Increase2.svg/17px-Increase2.svg.png 1.5x, //upload.wikimedia.org/wikipedia/commons/thumb/b/b0/Increase2.svg/22px-Increase2.svg.png 2x\" title=\"Increase\" width=\"11\"/></td>\n",
       "<td style=\"text-align:center;\">63</td>\n",
       "<td><span class=\"flagicon\"><img alt=\"\" class=\"thumbborder\" data-file-height=\"650\" data-file-width=\"1235\" decoding=\"async\" height=\"12\" src=\"//upload.wikimedia.org/wikipedia/en/thumb/a/a4/Flag_of_the_United_States.svg/23px-Flag_of_the_United_States.svg.png\" srcset=\"//upload.wikimedia.org/wikipedia/en/thumb/a/a4/Flag_of_the_United_States.svg/35px-Flag_of_the_United_States.svg.png 1.5x, //upload.wikimedia.org/wikipedia/en/thumb/a/a4/Flag_of_the_United_States.svg/46px-Flag_of_the_United_States.svg.png 2x\" width=\"23\"/> </span><a href=\"/wiki/United_States\" title=\"United States\">United States</a></td>\n",
       "<td><a href=\"/wiki/Microsoft\" title=\"Microsoft\">Microsoft</a>\n",
       "</td></tr>\n",
       "<tr>\n",
       "<td style=\"text-align:center;\"><span data-sort-value=\"7000300000000000000♠\">3</span> <img alt=\"Steady\" data-file-height=\"300\" data-file-width=\"300\" decoding=\"async\" height=\"11\" src=\"//upload.wikimedia.org/wikipedia/commons/thumb/9/96/Steady2.svg/11px-Steady2.svg.png\" srcset=\"//upload.wikimedia.org/wikipedia/commons/thumb/9/96/Steady2.svg/17px-Steady2.svg.png 1.5x, //upload.wikimedia.org/wikipedia/commons/thumb/9/96/Steady2.svg/22px-Steady2.svg.png 2x\" title=\"Steady\" width=\"11\"/></td>\n",
       "<td><span data-sort-value=\"Buffett, Warren\"><span class=\"vcard\"><span class=\"fn\"><a href=\"/wiki/Warren_Buffett\" title=\"Warren Buffett\">Warren Buffett</a></span></span></span></td>\n",
       "<td style=\"text-align:center;\">$82.5 billion <img alt=\"Decrease\" data-file-height=\"300\" data-file-width=\"300\" decoding=\"async\" height=\"11\" src=\"//upload.wikimedia.org/wikipedia/commons/thumb/e/ed/Decrease2.svg/11px-Decrease2.svg.png\" srcset=\"//upload.wikimedia.org/wikipedia/commons/thumb/e/ed/Decrease2.svg/17px-Decrease2.svg.png 1.5x, //upload.wikimedia.org/wikipedia/commons/thumb/e/ed/Decrease2.svg/22px-Decrease2.svg.png 2x\" title=\"Decrease\" width=\"11\"/></td>\n",
       "<td style=\"text-align:center;\">88</td>\n",
       "<td><span class=\"flagicon\"><img alt=\"\" class=\"thumbborder\" data-file-height=\"650\" data-file-width=\"1235\" decoding=\"async\" height=\"12\" src=\"//upload.wikimedia.org/wikipedia/en/thumb/a/a4/Flag_of_the_United_States.svg/23px-Flag_of_the_United_States.svg.png\" srcset=\"//upload.wikimedia.org/wikipedia/en/thumb/a/a4/Flag_of_the_United_States.svg/35px-Flag_of_the_United_States.svg.png 1.5x, //upload.wikimedia.org/wikipedia/en/thumb/a/a4/Flag_of_the_United_States.svg/46px-Flag_of_the_United_States.svg.png 2x\" width=\"23\"/> </span><a href=\"/wiki/United_States\" title=\"United States\">United States</a></td>\n",
       "<td><a href=\"/wiki/Berkshire_Hathaway\" title=\"Berkshire Hathaway\">Berkshire Hathaway</a>\n",
       "</td></tr>\n",
       "<tr>\n",
       "<td style=\"text-align:center;\"><span data-sort-value=\"7000400000000000000♠\">4</span> <img alt=\"Steady\" data-file-height=\"300\" data-file-width=\"300\" decoding=\"async\" height=\"11\" src=\"//upload.wikimedia.org/wikipedia/commons/thumb/9/96/Steady2.svg/11px-Steady2.svg.png\" srcset=\"//upload.wikimedia.org/wikipedia/commons/thumb/9/96/Steady2.svg/17px-Steady2.svg.png 1.5x, //upload.wikimedia.org/wikipedia/commons/thumb/9/96/Steady2.svg/22px-Steady2.svg.png 2x\" title=\"Steady\" width=\"11\"/></td>\n",
       "<td><span data-sort-value=\"Arnault, Bernard\"><span class=\"vcard\"><span class=\"fn\"><a href=\"/wiki/Bernard_Arnault\" title=\"Bernard Arnault\">Bernard Arnault</a></span></span></span></td>\n",
       "<td style=\"text-align:center;\">$76 billion <img alt=\"Increase\" data-file-height=\"300\" data-file-width=\"300\" decoding=\"async\" height=\"11\" src=\"//upload.wikimedia.org/wikipedia/commons/thumb/b/b0/Increase2.svg/11px-Increase2.svg.png\" srcset=\"//upload.wikimedia.org/wikipedia/commons/thumb/b/b0/Increase2.svg/17px-Increase2.svg.png 1.5x, //upload.wikimedia.org/wikipedia/commons/thumb/b/b0/Increase2.svg/22px-Increase2.svg.png 2x\" title=\"Increase\" width=\"11\"/></td>\n",
       "<td style=\"text-align:center;\">70</td>\n",
       "<td><span class=\"flagicon\"><img alt=\"\" class=\"thumbborder\" data-file-height=\"600\" data-file-width=\"900\" decoding=\"async\" height=\"15\" src=\"//upload.wikimedia.org/wikipedia/en/thumb/c/c3/Flag_of_France.svg/23px-Flag_of_France.svg.png\" srcset=\"//upload.wikimedia.org/wikipedia/en/thumb/c/c3/Flag_of_France.svg/35px-Flag_of_France.svg.png 1.5x, //upload.wikimedia.org/wikipedia/en/thumb/c/c3/Flag_of_France.svg/45px-Flag_of_France.svg.png 2x\" width=\"23\"/> </span><a href=\"/wiki/France\" title=\"France\">France</a></td>\n",
       "<td><a href=\"/wiki/LVMH\" title=\"LVMH\">LVMH</a>\n",
       "</td></tr>\n",
       "<tr>\n",
       "<td style=\"text-align:center;\"><span data-sort-value=\"7000500000000000000♠\">5</span> <img alt=\"Increase\" data-file-height=\"300\" data-file-width=\"300\" decoding=\"async\" height=\"11\" src=\"//upload.wikimedia.org/wikipedia/commons/thumb/b/b0/Increase2.svg/11px-Increase2.svg.png\" srcset=\"//upload.wikimedia.org/wikipedia/commons/thumb/b/b0/Increase2.svg/17px-Increase2.svg.png 1.5x, //upload.wikimedia.org/wikipedia/commons/thumb/b/b0/Increase2.svg/22px-Increase2.svg.png 2x\" title=\"Increase\" width=\"11\"/></td>\n",
       "<td><span data-sort-value=\"Slim, Carlos\"><span class=\"vcard\"><span class=\"fn\"><a href=\"/wiki/Carlos_Slim\" title=\"Carlos Slim\">Carlos Slim</a></span></span></span></td>\n",
       "<td style=\"text-align:center;\">$64 billion <img alt=\"Decrease\" data-file-height=\"300\" data-file-width=\"300\" decoding=\"async\" height=\"11\" src=\"//upload.wikimedia.org/wikipedia/commons/thumb/e/ed/Decrease2.svg/11px-Decrease2.svg.png\" srcset=\"//upload.wikimedia.org/wikipedia/commons/thumb/e/ed/Decrease2.svg/17px-Decrease2.svg.png 1.5x, //upload.wikimedia.org/wikipedia/commons/thumb/e/ed/Decrease2.svg/22px-Decrease2.svg.png 2x\" title=\"Decrease\" width=\"11\"/></td>\n",
       "<td style=\"text-align:center;\">79</td>\n",
       "<td><span class=\"flagicon\"><img alt=\"\" class=\"thumbborder\" data-file-height=\"560\" data-file-width=\"980\" decoding=\"async\" height=\"13\" src=\"//upload.wikimedia.org/wikipedia/commons/thumb/f/fc/Flag_of_Mexico.svg/23px-Flag_of_Mexico.svg.png\" srcset=\"//upload.wikimedia.org/wikipedia/commons/thumb/f/fc/Flag_of_Mexico.svg/35px-Flag_of_Mexico.svg.png 1.5x, //upload.wikimedia.org/wikipedia/commons/thumb/f/fc/Flag_of_Mexico.svg/46px-Flag_of_Mexico.svg.png 2x\" width=\"23\"/> </span><a href=\"/wiki/Mexico\" title=\"Mexico\">Mexico</a></td>\n",
       "<td><a href=\"/wiki/Am%C3%A9rica_M%C3%B3vil\" title=\"América Móvil\">América Móvil</a>, <a href=\"/wiki/Grupo_Carso\" title=\"Grupo Carso\">Grupo Carso</a>\n",
       "</td></tr>\n",
       "<tr>\n",
       "<td style=\"text-align:center;\"><span data-sort-value=\"7000600000000000000♠\">6</span> <img alt=\"Steady\" data-file-height=\"300\" data-file-width=\"300\" decoding=\"async\" height=\"11\" src=\"//upload.wikimedia.org/wikipedia/commons/thumb/9/96/Steady2.svg/11px-Steady2.svg.png\" srcset=\"//upload.wikimedia.org/wikipedia/commons/thumb/9/96/Steady2.svg/17px-Steady2.svg.png 1.5x, //upload.wikimedia.org/wikipedia/commons/thumb/9/96/Steady2.svg/22px-Steady2.svg.png 2x\" title=\"Steady\" width=\"11\"/></td>\n",
       "<td><span data-sort-value=\"Ortega, Amancio\"><span class=\"vcard\"><span class=\"fn\"><a href=\"/wiki/Amancio_Ortega\" title=\"Amancio Ortega\">Amancio Ortega</a></span></span></span></td>\n",
       "<td style=\"text-align:center;\">$62.7 billion <img alt=\"Decrease\" data-file-height=\"300\" data-file-width=\"300\" decoding=\"async\" height=\"11\" src=\"//upload.wikimedia.org/wikipedia/commons/thumb/e/ed/Decrease2.svg/11px-Decrease2.svg.png\" srcset=\"//upload.wikimedia.org/wikipedia/commons/thumb/e/ed/Decrease2.svg/17px-Decrease2.svg.png 1.5x, //upload.wikimedia.org/wikipedia/commons/thumb/e/ed/Decrease2.svg/22px-Decrease2.svg.png 2x\" title=\"Decrease\" width=\"11\"/></td>\n",
       "<td style=\"text-align:center;\">82</td>\n",
       "<td><span class=\"flagicon\"><img alt=\"\" class=\"thumbborder\" data-file-height=\"500\" data-file-width=\"750\" decoding=\"async\" height=\"15\" src=\"//upload.wikimedia.org/wikipedia/en/thumb/9/9a/Flag_of_Spain.svg/23px-Flag_of_Spain.svg.png\" srcset=\"//upload.wikimedia.org/wikipedia/en/thumb/9/9a/Flag_of_Spain.svg/35px-Flag_of_Spain.svg.png 1.5x, //upload.wikimedia.org/wikipedia/en/thumb/9/9a/Flag_of_Spain.svg/45px-Flag_of_Spain.svg.png 2x\" width=\"23\"/> </span><a href=\"/wiki/Spain\" title=\"Spain\">Spain</a></td>\n",
       "<td><a href=\"/wiki/Inditex\" title=\"Inditex\">Inditex</a>, <a href=\"/wiki/Zara_(retailer)\" title=\"Zara (retailer)\">Zara</a>\n",
       "</td></tr>\n",
       "<tr>\n",
       "<td style=\"text-align:center;\"><span data-sort-value=\"7000700000000000000♠\">7</span> <img alt=\"Increase\" data-file-height=\"300\" data-file-width=\"300\" decoding=\"async\" height=\"11\" src=\"//upload.wikimedia.org/wikipedia/commons/thumb/b/b0/Increase2.svg/11px-Increase2.svg.png\" srcset=\"//upload.wikimedia.org/wikipedia/commons/thumb/b/b0/Increase2.svg/17px-Increase2.svg.png 1.5x, //upload.wikimedia.org/wikipedia/commons/thumb/b/b0/Increase2.svg/22px-Increase2.svg.png 2x\" title=\"Increase\" width=\"11\"/></td>\n",
       "<td><span data-sort-value=\"Ellison, Larry\"><span class=\"vcard\"><span class=\"fn\"><a href=\"/wiki/Larry_Ellison\" title=\"Larry Ellison\">Larry Ellison</a></span></span></span></td>\n",
       "<td style=\"text-align:center;\">$62.5 billion <img alt=\"Increase\" data-file-height=\"300\" data-file-width=\"300\" decoding=\"async\" height=\"11\" src=\"//upload.wikimedia.org/wikipedia/commons/thumb/b/b0/Increase2.svg/11px-Increase2.svg.png\" srcset=\"//upload.wikimedia.org/wikipedia/commons/thumb/b/b0/Increase2.svg/17px-Increase2.svg.png 1.5x, //upload.wikimedia.org/wikipedia/commons/thumb/b/b0/Increase2.svg/22px-Increase2.svg.png 2x\" title=\"Increase\" width=\"11\"/></td>\n",
       "<td style=\"text-align:center;\">74</td>\n",
       "<td><span class=\"flagicon\"><img alt=\"\" class=\"thumbborder\" data-file-height=\"650\" data-file-width=\"1235\" decoding=\"async\" height=\"12\" src=\"//upload.wikimedia.org/wikipedia/en/thumb/a/a4/Flag_of_the_United_States.svg/23px-Flag_of_the_United_States.svg.png\" srcset=\"//upload.wikimedia.org/wikipedia/en/thumb/a/a4/Flag_of_the_United_States.svg/35px-Flag_of_the_United_States.svg.png 1.5x, //upload.wikimedia.org/wikipedia/en/thumb/a/a4/Flag_of_the_United_States.svg/46px-Flag_of_the_United_States.svg.png 2x\" width=\"23\"/> </span><a href=\"/wiki/United_States\" title=\"United States\">United States</a></td>\n",
       "<td><a href=\"/wiki/Oracle_Corporation\" title=\"Oracle Corporation\">Oracle Corporation</a>\n",
       "</td></tr>\n",
       "<tr>\n",
       "<td style=\"text-align:center;\"><span data-sort-value=\"7000800000000000000♠\">8</span> <img alt=\"Decrease\" data-file-height=\"300\" data-file-width=\"300\" decoding=\"async\" height=\"11\" src=\"//upload.wikimedia.org/wikipedia/commons/thumb/e/ed/Decrease2.svg/11px-Decrease2.svg.png\" srcset=\"//upload.wikimedia.org/wikipedia/commons/thumb/e/ed/Decrease2.svg/17px-Decrease2.svg.png 1.5x, //upload.wikimedia.org/wikipedia/commons/thumb/e/ed/Decrease2.svg/22px-Decrease2.svg.png 2x\" title=\"Decrease\" width=\"11\"/></td>\n",
       "<td><span data-sort-value=\"Zuckerberg, Mark\"><span class=\"vcard\"><span class=\"fn\"><a href=\"/wiki/Mark_Zuckerberg\" title=\"Mark Zuckerberg\">Mark Zuckerberg</a></span></span></span></td>\n",
       "<td style=\"text-align:center;\">$62.3 billion <img alt=\"Decrease\" data-file-height=\"300\" data-file-width=\"300\" decoding=\"async\" height=\"11\" src=\"//upload.wikimedia.org/wikipedia/commons/thumb/e/ed/Decrease2.svg/11px-Decrease2.svg.png\" srcset=\"//upload.wikimedia.org/wikipedia/commons/thumb/e/ed/Decrease2.svg/17px-Decrease2.svg.png 1.5x, //upload.wikimedia.org/wikipedia/commons/thumb/e/ed/Decrease2.svg/22px-Decrease2.svg.png 2x\" title=\"Decrease\" width=\"11\"/></td>\n",
       "<td style=\"text-align:center;\">34</td>\n",
       "<td><span class=\"flagicon\"><img alt=\"\" class=\"thumbborder\" data-file-height=\"650\" data-file-width=\"1235\" decoding=\"async\" height=\"12\" src=\"//upload.wikimedia.org/wikipedia/en/thumb/a/a4/Flag_of_the_United_States.svg/23px-Flag_of_the_United_States.svg.png\" srcset=\"//upload.wikimedia.org/wikipedia/en/thumb/a/a4/Flag_of_the_United_States.svg/35px-Flag_of_the_United_States.svg.png 1.5x, //upload.wikimedia.org/wikipedia/en/thumb/a/a4/Flag_of_the_United_States.svg/46px-Flag_of_the_United_States.svg.png 2x\" width=\"23\"/> </span><a href=\"/wiki/United_States\" title=\"United States\">United States</a></td>\n",
       "<td><a href=\"/wiki/Facebook\" title=\"Facebook\">Facebook</a>\n",
       "</td></tr>\n",
       "<tr>\n",
       "<td style=\"text-align:center;\"><span data-sort-value=\"7000900000000000000♠\">9</span> <img alt=\"Increase\" data-file-height=\"300\" data-file-width=\"300\" decoding=\"async\" height=\"11\" src=\"//upload.wikimedia.org/wikipedia/commons/thumb/b/b0/Increase2.svg/11px-Increase2.svg.png\" srcset=\"//upload.wikimedia.org/wikipedia/commons/thumb/b/b0/Increase2.svg/17px-Increase2.svg.png 1.5x, //upload.wikimedia.org/wikipedia/commons/thumb/b/b0/Increase2.svg/22px-Increase2.svg.png 2x\" title=\"Increase\" width=\"11\"/></td>\n",
       "<td><span data-sort-value=\"Bloomberg, Michael\"><span class=\"vcard\"><span class=\"fn\"><a href=\"/wiki/Michael_Bloomberg\" title=\"Michael Bloomberg\">Michael Bloomberg</a></span></span></span></td>\n",
       "<td style=\"text-align:center;\">$55.5 billion <img alt=\"Increase\" data-file-height=\"300\" data-file-width=\"300\" decoding=\"async\" height=\"11\" src=\"//upload.wikimedia.org/wikipedia/commons/thumb/b/b0/Increase2.svg/11px-Increase2.svg.png\" srcset=\"//upload.wikimedia.org/wikipedia/commons/thumb/b/b0/Increase2.svg/17px-Increase2.svg.png 1.5x, //upload.wikimedia.org/wikipedia/commons/thumb/b/b0/Increase2.svg/22px-Increase2.svg.png 2x\" title=\"Increase\" width=\"11\"/></td>\n",
       "<td style=\"text-align:center;\">77</td>\n",
       "<td><span class=\"flagicon\"><img alt=\"\" class=\"thumbborder\" data-file-height=\"650\" data-file-width=\"1235\" decoding=\"async\" height=\"12\" src=\"//upload.wikimedia.org/wikipedia/en/thumb/a/a4/Flag_of_the_United_States.svg/23px-Flag_of_the_United_States.svg.png\" srcset=\"//upload.wikimedia.org/wikipedia/en/thumb/a/a4/Flag_of_the_United_States.svg/35px-Flag_of_the_United_States.svg.png 1.5x, //upload.wikimedia.org/wikipedia/en/thumb/a/a4/Flag_of_the_United_States.svg/46px-Flag_of_the_United_States.svg.png 2x\" width=\"23\"/> </span><a href=\"/wiki/United_States\" title=\"United States\">United States</a></td>\n",
       "<td><a href=\"/wiki/Bloomberg_L.P.\" title=\"Bloomberg L.P.\">Bloomberg L.P.</a>\n",
       "</td></tr>\n",
       "<tr>\n",
       "<td style=\"text-align:center;\"><span data-sort-value=\"7001100000000000000♠\">10</span> <img alt=\"Increase\" data-file-height=\"300\" data-file-width=\"300\" decoding=\"async\" height=\"11\" src=\"//upload.wikimedia.org/wikipedia/commons/thumb/b/b0/Increase2.svg/11px-Increase2.svg.png\" srcset=\"//upload.wikimedia.org/wikipedia/commons/thumb/b/b0/Increase2.svg/17px-Increase2.svg.png 1.5x, //upload.wikimedia.org/wikipedia/commons/thumb/b/b0/Increase2.svg/22px-Increase2.svg.png 2x\" title=\"Increase\" width=\"11\"/></td>\n",
       "<td><span data-sort-value=\"Page, Larry\"><span class=\"vcard\"><span class=\"fn\"><a href=\"/wiki/Larry_Page\" title=\"Larry Page\">Larry Page</a></span></span></span></td>\n",
       "<td style=\"text-align:center;\">$50.8 billion <img alt=\"Increase\" data-file-height=\"300\" data-file-width=\"300\" decoding=\"async\" height=\"11\" src=\"//upload.wikimedia.org/wikipedia/commons/thumb/b/b0/Increase2.svg/11px-Increase2.svg.png\" srcset=\"//upload.wikimedia.org/wikipedia/commons/thumb/b/b0/Increase2.svg/17px-Increase2.svg.png 1.5x, //upload.wikimedia.org/wikipedia/commons/thumb/b/b0/Increase2.svg/22px-Increase2.svg.png 2x\" title=\"Increase\" width=\"11\"/></td>\n",
       "<td style=\"text-align:center;\">45</td>\n",
       "<td><span class=\"flagicon\"><img alt=\"\" class=\"thumbborder\" data-file-height=\"650\" data-file-width=\"1235\" decoding=\"async\" height=\"12\" src=\"//upload.wikimedia.org/wikipedia/en/thumb/a/a4/Flag_of_the_United_States.svg/23px-Flag_of_the_United_States.svg.png\" srcset=\"//upload.wikimedia.org/wikipedia/en/thumb/a/a4/Flag_of_the_United_States.svg/35px-Flag_of_the_United_States.svg.png 1.5x, //upload.wikimedia.org/wikipedia/en/thumb/a/a4/Flag_of_the_United_States.svg/46px-Flag_of_the_United_States.svg.png 2x\" width=\"23\"/> </span><a href=\"/wiki/United_States\" title=\"United States\">United States</a></td>\n",
       "<td><a href=\"/wiki/Alphabet_Inc.\" title=\"Alphabet Inc.\">Alphabet Inc.</a>\n",
       "</td></tr>\n",
       "</tbody></table>"
      ]
     },
     "execution_count": 9,
     "metadata": {},
     "output_type": "execute_result"
    }
   ],
   "source": [
    "table = soup.find_all('table',{'class':'wikitable sortable'})[0]\n",
    "table"
   ]
  },
  {
   "cell_type": "code",
   "execution_count": 10,
   "metadata": {},
   "outputs": [
    {
     "data": {
      "text/plain": [
       "['\\nNo.\\n\\nName\\n\\nNet worth (USD)\\n\\nAge\\n\\nNationality\\n\\nSource(s) of wealth\\n',\n",
       " '\\n1 \\nJeff Bezos\\n$131\\xa0billion\\xa0\\n55\\n\\xa0United States\\nAmazon\\n',\n",
       " '\\n2 \\nBill Gates\\n$96.5\\xa0billion\\xa0\\n63\\n\\xa0United States\\nMicrosoft\\n',\n",
       " '\\n3 \\nWarren Buffett\\n$82.5\\xa0billion\\xa0\\n88\\n\\xa0United States\\nBerkshire Hathaway\\n',\n",
       " '\\n4 \\nBernard Arnault\\n$76\\xa0billion\\xa0\\n70\\n\\xa0France\\nLVMH\\n',\n",
       " '\\n5 \\nCarlos Slim\\n$64\\xa0billion\\xa0\\n79\\n\\xa0Mexico\\nAmérica Móvil, Grupo Carso\\n',\n",
       " '\\n6 \\nAmancio Ortega\\n$62.7\\xa0billion\\xa0\\n82\\n\\xa0Spain\\nInditex, Zara\\n',\n",
       " '\\n7 \\nLarry Ellison\\n$62.5\\xa0billion\\xa0\\n74\\n\\xa0United States\\nOracle Corporation\\n',\n",
       " '\\n8 \\nMark Zuckerberg\\n$62.3\\xa0billion\\xa0\\n34\\n\\xa0United States\\nFacebook\\n',\n",
       " '\\n9 \\nMichael Bloomberg\\n$55.5\\xa0billion\\xa0\\n77\\n\\xa0United States\\nBloomberg L.P.\\n',\n",
       " '\\n10 \\nLarry Page\\n$50.8\\xa0billion\\xa0\\n45\\n\\xa0United States\\nAlphabet Inc.\\n']"
      ]
     },
     "execution_count": 10,
     "metadata": {},
     "output_type": "execute_result"
    }
   ],
   "source": [
    "rows = table.find_all('tr')\n",
    "rows_parsed = [row.text for row in rows]\n",
    "rows_parsed"
   ]
  },
  {
   "cell_type": "code",
   "execution_count": null,
   "metadata": {},
   "outputs": [],
   "source": [
    "#import re\n",
    "\n",
    "#def smart_parser(row_text):\n",
    "   # row_text = row_text.replace('\\n\\n', '\\n').strip('\\n')\n",
    "   # row_text = re.sub('\\[\\d\\]', '', row_text)\n",
    "   # return list(map(lambda x: x.strip(), row_text.split('\\n')))\n",
    "\n",
    "#well_parsed = list(map(lambda x: smart_parser(x), rows_parsed))\n",
    "\n",
    "#well_parsed"
   ]
  },
  {
   "cell_type": "code",
   "execution_count": 11,
   "metadata": {},
   "outputs": [
    {
     "data": {
      "text/plain": [
       "[['No.',\n",
       "  '',\n",
       "  'Name',\n",
       "  '',\n",
       "  'Net worth (USD)',\n",
       "  '',\n",
       "  'Age',\n",
       "  '',\n",
       "  'Nationality',\n",
       "  '',\n",
       "  'Source(s) of wealth'],\n",
       " ['1 ',\n",
       "  'Jeff Bezos',\n",
       "  '$131\\xa0billion\\xa0',\n",
       "  '55',\n",
       "  '\\xa0United States',\n",
       "  'Amazon'],\n",
       " ['2 ',\n",
       "  'Bill Gates',\n",
       "  '$96.5\\xa0billion\\xa0',\n",
       "  '63',\n",
       "  '\\xa0United States',\n",
       "  'Microsoft'],\n",
       " ['3 ',\n",
       "  'Warren Buffett',\n",
       "  '$82.5\\xa0billion\\xa0',\n",
       "  '88',\n",
       "  '\\xa0United States',\n",
       "  'Berkshire Hathaway'],\n",
       " ['4 ', 'Bernard Arnault', '$76\\xa0billion\\xa0', '70', '\\xa0France', 'LVMH'],\n",
       " ['5 ',\n",
       "  'Carlos Slim',\n",
       "  '$64\\xa0billion\\xa0',\n",
       "  '79',\n",
       "  '\\xa0Mexico',\n",
       "  'América Móvil, Grupo Carso'],\n",
       " ['6 ',\n",
       "  'Amancio Ortega',\n",
       "  '$62.7\\xa0billion\\xa0',\n",
       "  '82',\n",
       "  '\\xa0Spain',\n",
       "  'Inditex, Zara'],\n",
       " ['7 ',\n",
       "  'Larry Ellison',\n",
       "  '$62.5\\xa0billion\\xa0',\n",
       "  '74',\n",
       "  '\\xa0United States',\n",
       "  'Oracle Corporation'],\n",
       " ['8 ',\n",
       "  'Mark Zuckerberg',\n",
       "  '$62.3\\xa0billion\\xa0',\n",
       "  '34',\n",
       "  '\\xa0United States',\n",
       "  'Facebook'],\n",
       " ['9 ',\n",
       "  'Michael Bloomberg',\n",
       "  '$55.5\\xa0billion\\xa0',\n",
       "  '77',\n",
       "  '\\xa0United States',\n",
       "  'Bloomberg L.P.'],\n",
       " ['10 ',\n",
       "  'Larry Page',\n",
       "  '$50.8\\xa0billion\\xa0',\n",
       "  '45',\n",
       "  '\\xa0United States',\n",
       "  'Alphabet Inc.']]"
      ]
     },
     "execution_count": 11,
     "metadata": {},
     "output_type": "execute_result"
    }
   ],
   "source": [
    "rows = [row.text.strip().split(\"\\n\") for row in rows]\n",
    "rows"
   ]
  },
  {
   "cell_type": "code",
   "execution_count": 15,
   "metadata": {},
   "outputs": [
    {
     "name": "stdout",
     "output_type": "stream",
     "text": [
      "[['No.', '', 'Name', '', 'Net worth (USD)', '', 'Age', '', 'Nationality', '', 'Source(s) of wealth'], ['1 ', 'Jeff Bezos', '$131\\xa0billion\\xa0', '55', '\\xa0United States', 'Amazon'], ['2 ', 'Bill Gates', '$96.5\\xa0billion\\xa0', '63', '\\xa0United States', 'Microsoft'], ['3 ', 'Warren Buffett', '$82.5\\xa0billion\\xa0', '88', '\\xa0United States', 'Berkshire Hathaway'], ['4 ', 'Bernard Arnault', '$76\\xa0billion\\xa0', '70', '\\xa0France', 'LVMH'], ['5 ', 'Carlos Slim', '$64\\xa0billion\\xa0', '79', '\\xa0Mexico', 'América Móvil, Grupo Carso'], ['6 ', 'Amancio Ortega', '$62.7\\xa0billion\\xa0', '82', '\\xa0Spain', 'Inditex, Zara'], ['7 ', 'Larry Ellison', '$62.5\\xa0billion\\xa0', '74', '\\xa0United States', 'Oracle Corporation'], ['8 ', 'Mark Zuckerberg', '$62.3\\xa0billion\\xa0', '34', '\\xa0United States', 'Facebook'], ['9 ', 'Michael Bloomberg', '$55.5\\xa0billion\\xa0', '77', '\\xa0United States', 'Bloomberg L.P.'], ['10 ', 'Larry Page', '$50.8\\xa0billion\\xa0', '45', '\\xa0United States', 'Alphabet Inc.']]\n"
     ]
    }
   ],
   "source": [
    "print(rows)"
   ]
  },
  {
   "cell_type": "code",
   "execution_count": 21,
   "metadata": {},
   "outputs": [
    {
     "name": "stdout",
     "output_type": "stream",
     "text": [
      "['No.', 'Name', '', 'Net worth (USD)', '', 'Age', '', 'Nationality', '', 'Source(s) of wealth']\n",
      "['No.', 'Name', 'Net worth (USD)', 'Age', 'Nationality', 'Source(s) of wealth']\n"
     ]
    }
   ],
   "source": [
    "import pandas as pd\n",
    "colnames = rows[0]\n",
    "print(colnames)\n",
    "\n",
    "for ele in colnames: \n",
    "    if ele == (''): \n",
    "        colnames.remove(ele) \n",
    "\n",
    "print(colnames)\n",
    "\n",
    "\n"
   ]
  },
  {
   "cell_type": "code",
   "execution_count": 22,
   "metadata": {},
   "outputs": [
    {
     "data": {
      "text/html": [
       "<div>\n",
       "<style scoped>\n",
       "    .dataframe tbody tr th:only-of-type {\n",
       "        vertical-align: middle;\n",
       "    }\n",
       "\n",
       "    .dataframe tbody tr th {\n",
       "        vertical-align: top;\n",
       "    }\n",
       "\n",
       "    .dataframe thead th {\n",
       "        text-align: right;\n",
       "    }\n",
       "</style>\n",
       "<table border=\"1\" class=\"dataframe\">\n",
       "  <thead>\n",
       "    <tr style=\"text-align: right;\">\n",
       "      <th></th>\n",
       "      <th>No.</th>\n",
       "      <th>Name</th>\n",
       "      <th>Net worth (USD)</th>\n",
       "      <th>Age</th>\n",
       "      <th>Nationality</th>\n",
       "      <th>Source(s) of wealth</th>\n",
       "    </tr>\n",
       "  </thead>\n",
       "  <tbody>\n",
       "    <tr>\n",
       "      <th>0</th>\n",
       "      <td>1</td>\n",
       "      <td>Jeff Bezos</td>\n",
       "      <td>$131 billion</td>\n",
       "      <td>55</td>\n",
       "      <td>United States</td>\n",
       "      <td>Amazon</td>\n",
       "    </tr>\n",
       "    <tr>\n",
       "      <th>1</th>\n",
       "      <td>2</td>\n",
       "      <td>Bill Gates</td>\n",
       "      <td>$96.5 billion</td>\n",
       "      <td>63</td>\n",
       "      <td>United States</td>\n",
       "      <td>Microsoft</td>\n",
       "    </tr>\n",
       "    <tr>\n",
       "      <th>2</th>\n",
       "      <td>3</td>\n",
       "      <td>Warren Buffett</td>\n",
       "      <td>$82.5 billion</td>\n",
       "      <td>88</td>\n",
       "      <td>United States</td>\n",
       "      <td>Berkshire Hathaway</td>\n",
       "    </tr>\n",
       "    <tr>\n",
       "      <th>3</th>\n",
       "      <td>4</td>\n",
       "      <td>Bernard Arnault</td>\n",
       "      <td>$76 billion</td>\n",
       "      <td>70</td>\n",
       "      <td>France</td>\n",
       "      <td>LVMH</td>\n",
       "    </tr>\n",
       "    <tr>\n",
       "      <th>4</th>\n",
       "      <td>5</td>\n",
       "      <td>Carlos Slim</td>\n",
       "      <td>$64 billion</td>\n",
       "      <td>79</td>\n",
       "      <td>Mexico</td>\n",
       "      <td>América Móvil, Grupo Carso</td>\n",
       "    </tr>\n",
       "    <tr>\n",
       "      <th>5</th>\n",
       "      <td>6</td>\n",
       "      <td>Amancio Ortega</td>\n",
       "      <td>$62.7 billion</td>\n",
       "      <td>82</td>\n",
       "      <td>Spain</td>\n",
       "      <td>Inditex, Zara</td>\n",
       "    </tr>\n",
       "    <tr>\n",
       "      <th>6</th>\n",
       "      <td>7</td>\n",
       "      <td>Larry Ellison</td>\n",
       "      <td>$62.5 billion</td>\n",
       "      <td>74</td>\n",
       "      <td>United States</td>\n",
       "      <td>Oracle Corporation</td>\n",
       "    </tr>\n",
       "    <tr>\n",
       "      <th>7</th>\n",
       "      <td>8</td>\n",
       "      <td>Mark Zuckerberg</td>\n",
       "      <td>$62.3 billion</td>\n",
       "      <td>34</td>\n",
       "      <td>United States</td>\n",
       "      <td>Facebook</td>\n",
       "    </tr>\n",
       "    <tr>\n",
       "      <th>8</th>\n",
       "      <td>9</td>\n",
       "      <td>Michael Bloomberg</td>\n",
       "      <td>$55.5 billion</td>\n",
       "      <td>77</td>\n",
       "      <td>United States</td>\n",
       "      <td>Bloomberg L.P.</td>\n",
       "    </tr>\n",
       "    <tr>\n",
       "      <th>9</th>\n",
       "      <td>10</td>\n",
       "      <td>Larry Page</td>\n",
       "      <td>$50.8 billion</td>\n",
       "      <td>45</td>\n",
       "      <td>United States</td>\n",
       "      <td>Alphabet Inc.</td>\n",
       "    </tr>\n",
       "  </tbody>\n",
       "</table>\n",
       "</div>"
      ],
      "text/plain": [
       "   No.               Name Net worth (USD) Age     Nationality  \\\n",
       "0   1          Jeff Bezos   $131 billion   55   United States   \n",
       "1   2          Bill Gates  $96.5 billion   63   United States   \n",
       "2   3      Warren Buffett  $82.5 billion   88   United States   \n",
       "3   4     Bernard Arnault    $76 billion   70          France   \n",
       "4   5         Carlos Slim    $64 billion   79          Mexico   \n",
       "5   6      Amancio Ortega  $62.7 billion   82           Spain   \n",
       "6   7       Larry Ellison  $62.5 billion   74   United States   \n",
       "7   8     Mark Zuckerberg  $62.3 billion   34   United States   \n",
       "8   9   Michael Bloomberg  $55.5 billion   77   United States   \n",
       "9  10          Larry Page  $50.8 billion   45   United States   \n",
       "\n",
       "          Source(s) of wealth  \n",
       "0                      Amazon  \n",
       "1                   Microsoft  \n",
       "2          Berkshire Hathaway  \n",
       "3                        LVMH  \n",
       "4  América Móvil, Grupo Carso  \n",
       "5               Inditex, Zara  \n",
       "6          Oracle Corporation  \n",
       "7                    Facebook  \n",
       "8              Bloomberg L.P.  \n",
       "9               Alphabet Inc.  "
      ]
     },
     "execution_count": 22,
     "metadata": {},
     "output_type": "execute_result"
    }
   ],
   "source": [
    "data = rows[1:]\n",
    "\n",
    "top10_df = pd.DataFrame(data, columns=colnames)\n",
    "top10_df\n"
   ]
  },
  {
   "cell_type": "code",
   "execution_count": 23,
   "metadata": {},
   "outputs": [
    {
     "data": {
      "text/plain": [
       "'No.,Name,Net worth (USD),Age,Nationality,Source(s) of wealth\\n1 ,Jeff Bezos,$131\\xa0billion\\xa0,55,\\xa0United States,Amazon\\n2 ,Bill Gates,$96.5\\xa0billion\\xa0,63,\\xa0United States,Microsoft\\n3 ,Warren Buffett,$82.5\\xa0billion\\xa0,88,\\xa0United States,Berkshire Hathaway\\n4 ,Bernard Arnault,$76\\xa0billion\\xa0,70,\\xa0France,LVMH\\n5 ,Carlos Slim,$64\\xa0billion\\xa0,79,\\xa0Mexico,\"América Móvil, Grupo Carso\"\\n6 ,Amancio Ortega,$62.7\\xa0billion\\xa0,82,\\xa0Spain,\"Inditex, Zara\"\\n7 ,Larry Ellison,$62.5\\xa0billion\\xa0,74,\\xa0United States,Oracle Corporation\\n8 ,Mark Zuckerberg,$62.3\\xa0billion\\xa0,34,\\xa0United States,Facebook\\n9 ,Michael Bloomberg,$55.5\\xa0billion\\xa0,77,\\xa0United States,Bloomberg L.P.\\n10 ,Larry Page,$50.8\\xa0billion\\xa0,45,\\xa0United States,Alphabet Inc.\\n'"
      ]
     },
     "execution_count": 23,
     "metadata": {},
     "output_type": "execute_result"
    }
   ],
   "source": [
    "top10_df.to_csv(index=False)"
   ]
  },
  {
   "cell_type": "code",
   "execution_count": null,
   "metadata": {},
   "outputs": [],
   "source": []
  }
 ],
 "metadata": {
  "kernelspec": {
   "display_name": "Python [conda env:data_env]",
   "language": "python",
   "name": "conda-env-data_env-py"
  },
  "language_info": {
   "codemirror_mode": {
    "name": "ipython",
    "version": 3
   },
   "file_extension": ".py",
   "mimetype": "text/x-python",
   "name": "python",
   "nbconvert_exporter": "python",
   "pygments_lexer": "ipython3",
   "version": "3.7.5"
  }
 },
 "nbformat": 4,
 "nbformat_minor": 2
}
