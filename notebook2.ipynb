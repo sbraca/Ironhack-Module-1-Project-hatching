{
 "cells": [
  {
   "cell_type": "code",
   "execution_count": 397,
   "metadata": {},
   "outputs": [
    {
     "name": "stdout",
     "output_type": "stream",
     "text": [
      "Requirement already satisfied: sqlalchemy in /Users/Stefania/opt/anaconda3/envs/data_env/lib/python3.7/site-packages (1.3.10)\r\n"
     ]
    }
   ],
   "source": [
    "import pandas as pd \n",
    "!pip install sqlalchemy"
   ]
  },
  {
   "cell_type": "code",
   "execution_count": 398,
   "metadata": {},
   "outputs": [],
   "source": [
    "import pymysql\n",
    "from sqlalchemy import create_engine"
   ]
  },
  {
   "cell_type": "code",
   "execution_count": 399,
   "metadata": {},
   "outputs": [],
   "source": [
    "final_df = pd.read_csv('forbes.csv')"
   ]
  },
  {
   "cell_type": "code",
   "execution_count": 400,
   "metadata": {},
   "outputs": [
    {
     "data": {
      "text/html": [
       "<div>\n",
       "<style scoped>\n",
       "    .dataframe tbody tr th:only-of-type {\n",
       "        vertical-align: middle;\n",
       "    }\n",
       "\n",
       "    .dataframe tbody tr th {\n",
       "        vertical-align: top;\n",
       "    }\n",
       "\n",
       "    .dataframe thead th {\n",
       "        text-align: right;\n",
       "    }\n",
       "</style>\n",
       "<table border=\"1\" class=\"dataframe\">\n",
       "  <thead>\n",
       "    <tr style=\"text-align: right;\">\n",
       "      <th></th>\n",
       "      <th>ID</th>\n",
       "      <th>First Name</th>\n",
       "      <th>Last Name</th>\n",
       "      <th>Position</th>\n",
       "      <th>Worth</th>\n",
       "      <th>Source</th>\n",
       "      <th>Age</th>\n",
       "      <th>Unnamed: 0</th>\n",
       "      <th>Gender</th>\n",
       "      <th>Country</th>\n",
       "      <th>Image</th>\n",
       "    </tr>\n",
       "  </thead>\n",
       "  <tbody>\n",
       "    <tr>\n",
       "      <th>0</th>\n",
       "      <td>5227</td>\n",
       "      <td>Jeff</td>\n",
       "      <td>Bezos</td>\n",
       "      <td>1.0</td>\n",
       "      <td>112.0 BUSD</td>\n",
       "      <td>Technology  ==&gt; Amazon</td>\n",
       "      <td>54 years old</td>\n",
       "      <td>52</td>\n",
       "      <td>None</td>\n",
       "      <td>United States</td>\n",
       "      <td>https://specials-images.forbesimg.com/imageser...</td>\n",
       "    </tr>\n",
       "    <tr>\n",
       "      <th>1</th>\n",
       "      <td>2642</td>\n",
       "      <td>Bill</td>\n",
       "      <td>Gates</td>\n",
       "      <td>2.0</td>\n",
       "      <td>90.0 BUSD</td>\n",
       "      <td>Technology  ==&gt; Microsoft</td>\n",
       "      <td>62 years old</td>\n",
       "      <td>53</td>\n",
       "      <td>M</td>\n",
       "      <td>None</td>\n",
       "      <td>https://specials-images.forbesimg.com/imageser...</td>\n",
       "    </tr>\n",
       "    <tr>\n",
       "      <th>2</th>\n",
       "      <td>5422</td>\n",
       "      <td>Warren</td>\n",
       "      <td>Buffett</td>\n",
       "      <td>3.0</td>\n",
       "      <td>84.0 BUSD</td>\n",
       "      <td>Finance and Investments  ==&gt; Berkshire Hathaway</td>\n",
       "      <td>87 years old</td>\n",
       "      <td>54</td>\n",
       "      <td>M</td>\n",
       "      <td>None</td>\n",
       "      <td>https://specials-images.forbesimg.com/imageser...</td>\n",
       "    </tr>\n",
       "    <tr>\n",
       "      <th>3</th>\n",
       "      <td>8183</td>\n",
       "      <td>Bernard</td>\n",
       "      <td>Arnault</td>\n",
       "      <td>4.0</td>\n",
       "      <td>72.0 BUSD</td>\n",
       "      <td>Fashion &amp; Retail  ==&gt; LVMH</td>\n",
       "      <td>69 years old</td>\n",
       "      <td>55</td>\n",
       "      <td>M</td>\n",
       "      <td>France</td>\n",
       "      <td>https://specials-images.forbesimg.com/imageser...</td>\n",
       "    </tr>\n",
       "    <tr>\n",
       "      <th>4</th>\n",
       "      <td>5642</td>\n",
       "      <td>Mark</td>\n",
       "      <td>Zuckerberg</td>\n",
       "      <td>5.0</td>\n",
       "      <td>71.0 BUSD</td>\n",
       "      <td>Technology  ==&gt; Facebook</td>\n",
       "      <td>1985</td>\n",
       "      <td>56</td>\n",
       "      <td>M</td>\n",
       "      <td>USA</td>\n",
       "      <td>https://specials-images.forbesimg.com/imageser...</td>\n",
       "    </tr>\n",
       "  </tbody>\n",
       "</table>\n",
       "</div>"
      ],
      "text/plain": [
       "     ID First Name   Last Name  Position       Worth  \\\n",
       "0  5227       Jeff       Bezos       1.0  112.0 BUSD   \n",
       "1  2642       Bill       Gates       2.0   90.0 BUSD   \n",
       "2  5422     Warren     Buffett       3.0   84.0 BUSD   \n",
       "3  8183    Bernard     Arnault       4.0   72.0 BUSD   \n",
       "4  5642       Mark  Zuckerberg       5.0   71.0 BUSD   \n",
       "\n",
       "                                            Source           Age  Unnamed: 0  \\\n",
       "0                           Technology  ==> Amazon  54 years old          52   \n",
       "1                        Technology  ==> Microsoft  62 years old          53   \n",
       "2  Finance and Investments  ==> Berkshire Hathaway  87 years old          54   \n",
       "3                       Fashion & Retail  ==> LVMH  69 years old          55   \n",
       "4                         Technology  ==> Facebook          1985          56   \n",
       "\n",
       "  Gender        Country                                              Image  \n",
       "0   None  United States  https://specials-images.forbesimg.com/imageser...  \n",
       "1      M           None  https://specials-images.forbesimg.com/imageser...  \n",
       "2      M           None  https://specials-images.forbesimg.com/imageser...  \n",
       "3      M         France  https://specials-images.forbesimg.com/imageser...  \n",
       "4      M            USA  https://specials-images.forbesimg.com/imageser...  "
      ]
     },
     "execution_count": 400,
     "metadata": {},
     "output_type": "execute_result"
    }
   ],
   "source": [
    "final_df.head()"
   ]
  },
  {
   "cell_type": "code",
   "execution_count": 401,
   "metadata": {},
   "outputs": [
    {
     "name": "stdout",
     "output_type": "stream",
     "text": [
      "<class 'pandas.core.frame.DataFrame'>\n",
      "RangeIndex: 2208 entries, 0 to 2207\n",
      "Data columns (total 11 columns):\n",
      "ID            2208 non-null int64\n",
      "First Name    2208 non-null object\n",
      "Last Name     2208 non-null object\n",
      "Position      2208 non-null float64\n",
      "Worth         2208 non-null object\n",
      "Source        2208 non-null object\n",
      "Age           2143 non-null object\n",
      "Unnamed: 0    2208 non-null int64\n",
      "Gender        2195 non-null object\n",
      "Country       2208 non-null object\n",
      "Image         2208 non-null object\n",
      "dtypes: float64(1), int64(2), object(8)\n",
      "memory usage: 189.9+ KB\n"
     ]
    }
   ],
   "source": [
    "final_df.info()"
   ]
  },
  {
   "cell_type": "code",
   "execution_count": 402,
   "metadata": {},
   "outputs": [],
   "source": [
    "final_df.drop('Unnamed: 0', axis=1, inplace=True) "
   ]
  },
  {
   "cell_type": "code",
   "execution_count": 403,
   "metadata": {},
   "outputs": [
    {
     "data": {
      "text/plain": [
       "array(['None', 'M', 'Male', 'F', nan, 'Female'], dtype=object)"
      ]
     },
     "execution_count": 403,
     "metadata": {},
     "output_type": "execute_result"
    }
   ],
   "source": [
    "final_df.Gender.unique()"
   ]
  },
  {
   "cell_type": "markdown",
   "metadata": {},
   "source": [
    "# GENDER NULES"
   ]
  },
  {
   "cell_type": "code",
   "execution_count": 404,
   "metadata": {},
   "outputs": [
    {
     "data": {
      "text/plain": [
       "Age       65\n",
       "Gender    13\n",
       "dtype: int64"
      ]
     },
     "execution_count": 404,
     "metadata": {},
     "output_type": "execute_result"
    }
   ],
   "source": [
    "null_cols = final_df.isnull().sum()\n",
    "null_cols\n",
    "null_cols[null_cols > 0]"
   ]
  },
  {
   "cell_type": "code",
   "execution_count": 405,
   "metadata": {},
   "outputs": [],
   "source": [
    "null_displ = final_df[(final_df['Gender'].isnull()==True)]"
   ]
  },
  {
   "cell_type": "code",
   "execution_count": 406,
   "metadata": {},
   "outputs": [
    {
     "data": {
      "text/html": [
       "<div>\n",
       "<style scoped>\n",
       "    .dataframe tbody tr th:only-of-type {\n",
       "        vertical-align: middle;\n",
       "    }\n",
       "\n",
       "    .dataframe tbody tr th {\n",
       "        vertical-align: top;\n",
       "    }\n",
       "\n",
       "    .dataframe thead th {\n",
       "        text-align: right;\n",
       "    }\n",
       "</style>\n",
       "<table border=\"1\" class=\"dataframe\">\n",
       "  <thead>\n",
       "    <tr style=\"text-align: right;\">\n",
       "      <th></th>\n",
       "      <th>ID</th>\n",
       "      <th>First Name</th>\n",
       "      <th>Last Name</th>\n",
       "      <th>Position</th>\n",
       "      <th>Worth</th>\n",
       "      <th>Source</th>\n",
       "      <th>Age</th>\n",
       "      <th>Gender</th>\n",
       "      <th>Country</th>\n",
       "      <th>Image</th>\n",
       "    </tr>\n",
       "  </thead>\n",
       "  <tbody>\n",
       "    <tr>\n",
       "      <th>26</th>\n",
       "      <td>1202</td>\n",
       "      <td>Beate</td>\n",
       "      <td>Albrecht jr.</td>\n",
       "      <td>27.0</td>\n",
       "      <td>29.8 BUSD</td>\n",
       "      <td>Fashion &amp; Retail  ==&gt; supermarkets</td>\n",
       "      <td>66 years old</td>\n",
       "      <td>NaN</td>\n",
       "      <td>Germany</td>\n",
       "      <td>https://specials-images.forbesimg.com/imageser...</td>\n",
       "    </tr>\n",
       "    <tr>\n",
       "      <th>163</th>\n",
       "      <td>7836</td>\n",
       "      <td>Gianluigi</td>\n",
       "      <td>Aponte</td>\n",
       "      <td>164.0</td>\n",
       "      <td>9.3 BUSD</td>\n",
       "      <td>Logistics  ==&gt; Shipping</td>\n",
       "      <td>77 years old</td>\n",
       "      <td>NaN</td>\n",
       "      <td>None</td>\n",
       "      <td>https://specials-images.forbesimg.com/imageser...</td>\n",
       "    </tr>\n",
       "    <tr>\n",
       "      <th>224</th>\n",
       "      <td>1197</td>\n",
       "      <td>Willi</td>\n",
       "      <td>Liebherr</td>\n",
       "      <td>225.0</td>\n",
       "      <td>7.1 BUSD</td>\n",
       "      <td>Construction &amp; Engineering  ==&gt; Construction</td>\n",
       "      <td>NaN</td>\n",
       "      <td>NaN</td>\n",
       "      <td>None</td>\n",
       "      <td>https://specials-images.forbesimg.com/imageser...</td>\n",
       "    </tr>\n",
       "    <tr>\n",
       "      <th>309</th>\n",
       "      <td>5024</td>\n",
       "      <td>Tom</td>\n",
       "      <td>Love</td>\n",
       "      <td>310.0</td>\n",
       "      <td>5.8 BUSD</td>\n",
       "      <td>Fashion &amp; Retail  ==&gt; retail &amp; gas stations</td>\n",
       "      <td>81 years old</td>\n",
       "      <td>NaN</td>\n",
       "      <td>USA</td>\n",
       "      <td>https://specials-images.forbesimg.com/imageser...</td>\n",
       "    </tr>\n",
       "    <tr>\n",
       "      <th>426</th>\n",
       "      <td>3416</td>\n",
       "      <td>Philip</td>\n",
       "      <td>Green</td>\n",
       "      <td>427.0</td>\n",
       "      <td>4.8 BUSD</td>\n",
       "      <td>Fashion &amp; Retail  ==&gt; fashion retail</td>\n",
       "      <td>66 years old</td>\n",
       "      <td>NaN</td>\n",
       "      <td>None</td>\n",
       "      <td>https://specials-images.forbesimg.com/imageser...</td>\n",
       "    </tr>\n",
       "    <tr>\n",
       "      <th>529</th>\n",
       "      <td>3488</td>\n",
       "      <td>Jack</td>\n",
       "      <td>Dangermond</td>\n",
       "      <td>530.0</td>\n",
       "      <td>4.1 BUSD</td>\n",
       "      <td>Technology  ==&gt; mapping software</td>\n",
       "      <td>72 years old</td>\n",
       "      <td>NaN</td>\n",
       "      <td>None</td>\n",
       "      <td>https://specials-images.forbesimg.com/imageser...</td>\n",
       "    </tr>\n",
       "    <tr>\n",
       "      <th>581</th>\n",
       "      <td>9068</td>\n",
       "      <td>Stewart</td>\n",
       "      <td>Resnick</td>\n",
       "      <td>582.0</td>\n",
       "      <td>3.9 BUSD</td>\n",
       "      <td>Food and Beverage  ==&gt; agriculture, water</td>\n",
       "      <td>NaN</td>\n",
       "      <td>NaN</td>\n",
       "      <td>None</td>\n",
       "      <td>https://specials-images.forbesimg.com/imageser...</td>\n",
       "    </tr>\n",
       "    <tr>\n",
       "      <th>596</th>\n",
       "      <td>7398</td>\n",
       "      <td>Dominika</td>\n",
       "      <td>Kulczyk</td>\n",
       "      <td>597.0</td>\n",
       "      <td>3.8 BUSD</td>\n",
       "      <td>Finance and Investments  ==&gt; diversified</td>\n",
       "      <td>NaN</td>\n",
       "      <td>NaN</td>\n",
       "      <td>None</td>\n",
       "      <td>https://specials-images.forbesimg.com/imageser...</td>\n",
       "    </tr>\n",
       "    <tr>\n",
       "      <th>731</th>\n",
       "      <td>6616</td>\n",
       "      <td>Andrew</td>\n",
       "      <td>Cherng</td>\n",
       "      <td>732.0</td>\n",
       "      <td>3.2 BUSD</td>\n",
       "      <td>Food and Beverage  ==&gt; restaurants</td>\n",
       "      <td>NaN</td>\n",
       "      <td>NaN</td>\n",
       "      <td>None</td>\n",
       "      <td>https://specials-images.forbesimg.com/imageser...</td>\n",
       "    </tr>\n",
       "    <tr>\n",
       "      <th>766</th>\n",
       "      <td>8071</td>\n",
       "      <td>Do</td>\n",
       "      <td>Chang</td>\n",
       "      <td>767.0</td>\n",
       "      <td>3.1 BUSD</td>\n",
       "      <td>Fashion &amp; Retail  ==&gt; fashion retail</td>\n",
       "      <td>62 years old</td>\n",
       "      <td>NaN</td>\n",
       "      <td>None</td>\n",
       "      <td>https://specials-images.forbesimg.com/imageser...</td>\n",
       "    </tr>\n",
       "    <tr>\n",
       "      <th>1197</th>\n",
       "      <td>7859</td>\n",
       "      <td>Ong</td>\n",
       "      <td>Ong beng seng</td>\n",
       "      <td>1198.0</td>\n",
       "      <td>2.1 BUSD</td>\n",
       "      <td>Diversified  ==&gt; diversified</td>\n",
       "      <td>73 years old</td>\n",
       "      <td>NaN</td>\n",
       "      <td>None</td>\n",
       "      <td>https://specials-images.forbesimg.com/imageser...</td>\n",
       "    </tr>\n",
       "    <tr>\n",
       "      <th>1260</th>\n",
       "      <td>9780</td>\n",
       "      <td>Chuchat</td>\n",
       "      <td>Petaumpai</td>\n",
       "      <td>1261.0</td>\n",
       "      <td>2.0 BUSD</td>\n",
       "      <td>Finance and Investments  ==&gt; motorcycle loans</td>\n",
       "      <td>65 years old</td>\n",
       "      <td>NaN</td>\n",
       "      <td>None</td>\n",
       "      <td>https://specials-images.forbesimg.com/imageser...</td>\n",
       "    </tr>\n",
       "    <tr>\n",
       "      <th>1290</th>\n",
       "      <td>4362</td>\n",
       "      <td>Jean-paul</td>\n",
       "      <td>Clozel</td>\n",
       "      <td>1291.0</td>\n",
       "      <td>1.9 BUSD</td>\n",
       "      <td>Healthcare  ==&gt; pharmaceuticals</td>\n",
       "      <td>NaN</td>\n",
       "      <td>NaN</td>\n",
       "      <td>Switzerland</td>\n",
       "      <td>https://specials-images.forbesimg.com/imageser...</td>\n",
       "    </tr>\n",
       "  </tbody>\n",
       "</table>\n",
       "</div>"
      ],
      "text/plain": [
       "        ID First Name      Last Name  Position      Worth  \\\n",
       "26    1202      Beate   Albrecht jr.      27.0  29.8 BUSD   \n",
       "163   7836  Gianluigi         Aponte     164.0   9.3 BUSD   \n",
       "224   1197      Willi       Liebherr     225.0   7.1 BUSD   \n",
       "309   5024        Tom           Love     310.0   5.8 BUSD   \n",
       "426   3416     Philip          Green     427.0   4.8 BUSD   \n",
       "529   3488       Jack     Dangermond     530.0   4.1 BUSD   \n",
       "581   9068    Stewart        Resnick     582.0   3.9 BUSD   \n",
       "596   7398   Dominika        Kulczyk     597.0   3.8 BUSD   \n",
       "731   6616     Andrew         Cherng     732.0   3.2 BUSD   \n",
       "766   8071         Do          Chang     767.0   3.1 BUSD   \n",
       "1197  7859        Ong  Ong beng seng    1198.0   2.1 BUSD   \n",
       "1260  9780    Chuchat      Petaumpai    1261.0   2.0 BUSD   \n",
       "1290  4362  Jean-paul         Clozel    1291.0   1.9 BUSD   \n",
       "\n",
       "                                             Source           Age Gender  \\\n",
       "26               Fashion & Retail  ==> supermarkets  66 years old    NaN   \n",
       "163                         Logistics  ==> Shipping  77 years old    NaN   \n",
       "224    Construction & Engineering  ==> Construction           NaN    NaN   \n",
       "309     Fashion & Retail  ==> retail & gas stations  81 years old    NaN   \n",
       "426            Fashion & Retail  ==> fashion retail  66 years old    NaN   \n",
       "529                Technology  ==> mapping software  72 years old    NaN   \n",
       "581       Food and Beverage  ==> agriculture, water           NaN    NaN   \n",
       "596        Finance and Investments  ==> diversified           NaN    NaN   \n",
       "731              Food and Beverage  ==> restaurants           NaN    NaN   \n",
       "766            Fashion & Retail  ==> fashion retail  62 years old    NaN   \n",
       "1197                   Diversified  ==> diversified  73 years old    NaN   \n",
       "1260  Finance and Investments  ==> motorcycle loans  65 years old    NaN   \n",
       "1290                Healthcare  ==> pharmaceuticals           NaN    NaN   \n",
       "\n",
       "          Country                                              Image  \n",
       "26        Germany  https://specials-images.forbesimg.com/imageser...  \n",
       "163          None  https://specials-images.forbesimg.com/imageser...  \n",
       "224          None  https://specials-images.forbesimg.com/imageser...  \n",
       "309           USA  https://specials-images.forbesimg.com/imageser...  \n",
       "426          None  https://specials-images.forbesimg.com/imageser...  \n",
       "529          None  https://specials-images.forbesimg.com/imageser...  \n",
       "581          None  https://specials-images.forbesimg.com/imageser...  \n",
       "596          None  https://specials-images.forbesimg.com/imageser...  \n",
       "731          None  https://specials-images.forbesimg.com/imageser...  \n",
       "766          None  https://specials-images.forbesimg.com/imageser...  \n",
       "1197         None  https://specials-images.forbesimg.com/imageser...  \n",
       "1260         None  https://specials-images.forbesimg.com/imageser...  \n",
       "1290  Switzerland  https://specials-images.forbesimg.com/imageser...  "
      ]
     },
     "execution_count": 406,
     "metadata": {},
     "output_type": "execute_result"
    }
   ],
   "source": [
    "null_displ = null_displ[['ID', 'First Name', 'Last Name', 'Position', 'Worth', 'Source', 'Age', 'Gender', 'Country', 'Image']]\n",
    "null_displ"
   ]
  },
  {
   "cell_type": "code",
   "execution_count": 407,
   "metadata": {},
   "outputs": [
    {
     "data": {
      "text/plain": [
       "array(['None', 'M', 'Male', 'F', nan, 'Female'], dtype=object)"
      ]
     },
     "execution_count": 407,
     "metadata": {},
     "output_type": "execute_result"
    }
   ],
   "source": [
    "final_df.Gender.unique()"
   ]
  },
  {
   "cell_type": "code",
   "execution_count": 408,
   "metadata": {},
   "outputs": [],
   "source": [
    "#13 gender Nulls (NaN) index 26 and 596 are female"
   ]
  },
  {
   "cell_type": "code",
   "execution_count": 409,
   "metadata": {},
   "outputs": [
    {
     "data": {
      "text/plain": [
       "nan"
      ]
     },
     "execution_count": 409,
     "metadata": {},
     "output_type": "execute_result"
    }
   ],
   "source": [
    "(final_df.loc[26, 'Gender'])"
   ]
  },
  {
   "cell_type": "code",
   "execution_count": 410,
   "metadata": {},
   "outputs": [
    {
     "data": {
      "text/plain": [
       "nan"
      ]
     },
     "execution_count": 410,
     "metadata": {},
     "output_type": "execute_result"
    }
   ],
   "source": [
    "final_df.loc[26, 'Gender']"
   ]
  },
  {
   "cell_type": "code",
   "execution_count": 411,
   "metadata": {},
   "outputs": [
    {
     "data": {
      "text/plain": [
       "'Female'"
      ]
     },
     "metadata": {},
     "output_type": "display_data"
    }
   ],
   "source": [
    "final_df.loc[26, 'Gender']='Female'\n",
    "display(final_df.loc[26, 'Gender'])"
   ]
  },
  {
   "cell_type": "code",
   "execution_count": 412,
   "metadata": {},
   "outputs": [
    {
     "data": {
      "text/plain": [
       "nan"
      ]
     },
     "execution_count": 412,
     "metadata": {},
     "output_type": "execute_result"
    }
   ],
   "source": [
    "final_df.loc[596, 'Gender']"
   ]
  },
  {
   "cell_type": "code",
   "execution_count": 413,
   "metadata": {},
   "outputs": [
    {
     "data": {
      "text/plain": [
       "'Female'"
      ]
     },
     "metadata": {},
     "output_type": "display_data"
    }
   ],
   "source": [
    "final_df.loc[596, 'Gender']='Female'\n",
    "display(final_df.loc[596, 'Gender'])"
   ]
  },
  {
   "cell_type": "code",
   "execution_count": 414,
   "metadata": {},
   "outputs": [
    {
     "data": {
      "text/plain": [
       "array(['None', 'M', 'Male', 'F', 'Female', nan], dtype=object)"
      ]
     },
     "execution_count": 414,
     "metadata": {},
     "output_type": "execute_result"
    }
   ],
   "source": [
    "final_df.Gender.unique()"
   ]
  },
  {
   "cell_type": "code",
   "execution_count": 415,
   "metadata": {},
   "outputs": [
    {
     "data": {
      "text/plain": [
       "ID             0\n",
       "First Name     0\n",
       "Last Name      0\n",
       "Position       0\n",
       "Worth          0\n",
       "Source         0\n",
       "Age           65\n",
       "Gender        11\n",
       "Country        0\n",
       "Image          0\n",
       "dtype: int64"
      ]
     },
     "execution_count": 415,
     "metadata": {},
     "output_type": "execute_result"
    }
   ],
   "source": [
    "final_df.isnull().sum(axis = 0)"
   ]
  },
  {
   "cell_type": "code",
   "execution_count": 416,
   "metadata": {},
   "outputs": [],
   "source": [
    "#11 Gender NaN are Male"
   ]
  },
  {
   "cell_type": "code",
   "execution_count": 417,
   "metadata": {},
   "outputs": [],
   "source": [
    "final_df[\"Gender\"].fillna(\"Male\", inplace = True) "
   ]
  },
  {
   "cell_type": "code",
   "execution_count": 418,
   "metadata": {},
   "outputs": [
    {
     "data": {
      "text/plain": [
       "ID             0\n",
       "First Name     0\n",
       "Last Name      0\n",
       "Position       0\n",
       "Worth          0\n",
       "Source         0\n",
       "Age           65\n",
       "Gender         0\n",
       "Country        0\n",
       "Image          0\n",
       "dtype: int64"
      ]
     },
     "execution_count": 418,
     "metadata": {},
     "output_type": "execute_result"
    }
   ],
   "source": [
    "final_df.isnull().sum(axis = 0)"
   ]
  },
  {
   "cell_type": "code",
   "execution_count": 419,
   "metadata": {},
   "outputs": [
    {
     "data": {
      "text/plain": [
       "dtype('O')"
      ]
     },
     "execution_count": 419,
     "metadata": {},
     "output_type": "execute_result"
    }
   ],
   "source": [
    "final_df.Gender.dtype"
   ]
  },
  {
   "cell_type": "code",
   "execution_count": 420,
   "metadata": {},
   "outputs": [
    {
     "data": {
      "text/plain": [
       "ID              int64\n",
       "First Name     object\n",
       "Last Name      object\n",
       "Position      float64\n",
       "Worth          object\n",
       "Source         object\n",
       "Age            object\n",
       "Gender         object\n",
       "Country        object\n",
       "Image          object\n",
       "dtype: object"
      ]
     },
     "execution_count": 420,
     "metadata": {},
     "output_type": "execute_result"
    }
   ],
   "source": [
    "final_df.astype({'Gender': str}).dtypes"
   ]
  },
  {
   "cell_type": "code",
   "execution_count": null,
   "metadata": {},
   "outputs": [],
   "source": []
  },
  {
   "cell_type": "code",
   "execution_count": null,
   "metadata": {},
   "outputs": [],
   "source": []
  },
  {
   "cell_type": "code",
   "execution_count": 421,
   "metadata": {},
   "outputs": [
    {
     "data": {
      "text/plain": [
       "Age    65\n",
       "dtype: int64"
      ]
     },
     "execution_count": 421,
     "metadata": {},
     "output_type": "execute_result"
    }
   ],
   "source": [
    "null_cols = final_df.isnull().sum()\n",
    "null_cols[null_cols > 0]"
   ]
  },
  {
   "cell_type": "code",
   "execution_count": 422,
   "metadata": {},
   "outputs": [
    {
     "data": {
      "text/plain": [
       "array(['None', 'M', 'Male', 'F', 'Female'], dtype=object)"
      ]
     },
     "execution_count": 422,
     "metadata": {},
     "output_type": "execute_result"
    }
   ],
   "source": [
    "final_df.Gender.unique()"
   ]
  },
  {
   "cell_type": "code",
   "execution_count": null,
   "metadata": {},
   "outputs": [],
   "source": []
  },
  {
   "cell_type": "code",
   "execution_count": 423,
   "metadata": {},
   "outputs": [],
   "source": [
    "final_df.loc[final_df['Gender'].str.startswith('M'), 'Gender_cat'] = 'Male'"
   ]
  },
  {
   "cell_type": "code",
   "execution_count": 424,
   "metadata": {},
   "outputs": [],
   "source": [
    "final_df.loc[final_df['Gender'].str.startswith('F'), 'Gender_cat'] = 'Female'"
   ]
  },
  {
   "cell_type": "code",
   "execution_count": 425,
   "metadata": {
    "scrolled": true
   },
   "outputs": [
    {
     "data": {
      "text/html": [
       "<div>\n",
       "<style scoped>\n",
       "    .dataframe tbody tr th:only-of-type {\n",
       "        vertical-align: middle;\n",
       "    }\n",
       "\n",
       "    .dataframe tbody tr th {\n",
       "        vertical-align: top;\n",
       "    }\n",
       "\n",
       "    .dataframe thead th {\n",
       "        text-align: right;\n",
       "    }\n",
       "</style>\n",
       "<table border=\"1\" class=\"dataframe\">\n",
       "  <thead>\n",
       "    <tr style=\"text-align: right;\">\n",
       "      <th></th>\n",
       "      <th>ID</th>\n",
       "      <th>First Name</th>\n",
       "      <th>Last Name</th>\n",
       "      <th>Position</th>\n",
       "      <th>Worth</th>\n",
       "      <th>Source</th>\n",
       "      <th>Age</th>\n",
       "      <th>Gender</th>\n",
       "      <th>Country</th>\n",
       "      <th>Image</th>\n",
       "      <th>Gender_cat</th>\n",
       "    </tr>\n",
       "  </thead>\n",
       "  <tbody>\n",
       "    <tr>\n",
       "      <th>0</th>\n",
       "      <td>5227</td>\n",
       "      <td>Jeff</td>\n",
       "      <td>Bezos</td>\n",
       "      <td>1.0</td>\n",
       "      <td>112.0 BUSD</td>\n",
       "      <td>Technology  ==&gt; Amazon</td>\n",
       "      <td>54 years old</td>\n",
       "      <td>None</td>\n",
       "      <td>United States</td>\n",
       "      <td>https://specials-images.forbesimg.com/imageser...</td>\n",
       "      <td>NaN</td>\n",
       "    </tr>\n",
       "    <tr>\n",
       "      <th>1</th>\n",
       "      <td>2642</td>\n",
       "      <td>Bill</td>\n",
       "      <td>Gates</td>\n",
       "      <td>2.0</td>\n",
       "      <td>90.0 BUSD</td>\n",
       "      <td>Technology  ==&gt; Microsoft</td>\n",
       "      <td>62 years old</td>\n",
       "      <td>M</td>\n",
       "      <td>None</td>\n",
       "      <td>https://specials-images.forbesimg.com/imageser...</td>\n",
       "      <td>Male</td>\n",
       "    </tr>\n",
       "    <tr>\n",
       "      <th>2</th>\n",
       "      <td>5422</td>\n",
       "      <td>Warren</td>\n",
       "      <td>Buffett</td>\n",
       "      <td>3.0</td>\n",
       "      <td>84.0 BUSD</td>\n",
       "      <td>Finance and Investments  ==&gt; Berkshire Hathaway</td>\n",
       "      <td>87 years old</td>\n",
       "      <td>M</td>\n",
       "      <td>None</td>\n",
       "      <td>https://specials-images.forbesimg.com/imageser...</td>\n",
       "      <td>Male</td>\n",
       "    </tr>\n",
       "    <tr>\n",
       "      <th>3</th>\n",
       "      <td>8183</td>\n",
       "      <td>Bernard</td>\n",
       "      <td>Arnault</td>\n",
       "      <td>4.0</td>\n",
       "      <td>72.0 BUSD</td>\n",
       "      <td>Fashion &amp; Retail  ==&gt; LVMH</td>\n",
       "      <td>69 years old</td>\n",
       "      <td>M</td>\n",
       "      <td>France</td>\n",
       "      <td>https://specials-images.forbesimg.com/imageser...</td>\n",
       "      <td>Male</td>\n",
       "    </tr>\n",
       "    <tr>\n",
       "      <th>4</th>\n",
       "      <td>5642</td>\n",
       "      <td>Mark</td>\n",
       "      <td>Zuckerberg</td>\n",
       "      <td>5.0</td>\n",
       "      <td>71.0 BUSD</td>\n",
       "      <td>Technology  ==&gt; Facebook</td>\n",
       "      <td>1985</td>\n",
       "      <td>M</td>\n",
       "      <td>USA</td>\n",
       "      <td>https://specials-images.forbesimg.com/imageser...</td>\n",
       "      <td>Male</td>\n",
       "    </tr>\n",
       "  </tbody>\n",
       "</table>\n",
       "</div>"
      ],
      "text/plain": [
       "     ID First Name   Last Name  Position       Worth  \\\n",
       "0  5227       Jeff       Bezos       1.0  112.0 BUSD   \n",
       "1  2642       Bill       Gates       2.0   90.0 BUSD   \n",
       "2  5422     Warren     Buffett       3.0   84.0 BUSD   \n",
       "3  8183    Bernard     Arnault       4.0   72.0 BUSD   \n",
       "4  5642       Mark  Zuckerberg       5.0   71.0 BUSD   \n",
       "\n",
       "                                            Source           Age Gender  \\\n",
       "0                           Technology  ==> Amazon  54 years old   None   \n",
       "1                        Technology  ==> Microsoft  62 years old      M   \n",
       "2  Finance and Investments  ==> Berkshire Hathaway  87 years old      M   \n",
       "3                       Fashion & Retail  ==> LVMH  69 years old      M   \n",
       "4                         Technology  ==> Facebook          1985      M   \n",
       "\n",
       "         Country                                              Image Gender_cat  \n",
       "0  United States  https://specials-images.forbesimg.com/imageser...        NaN  \n",
       "1           None  https://specials-images.forbesimg.com/imageser...       Male  \n",
       "2           None  https://specials-images.forbesimg.com/imageser...       Male  \n",
       "3         France  https://specials-images.forbesimg.com/imageser...       Male  \n",
       "4            USA  https://specials-images.forbesimg.com/imageser...       Male  "
      ]
     },
     "execution_count": 425,
     "metadata": {},
     "output_type": "execute_result"
    }
   ],
   "source": [
    "final_df.head()"
   ]
  },
  {
   "cell_type": "code",
   "execution_count": 426,
   "metadata": {},
   "outputs": [],
   "source": [
    "#How Many 'Gender_cat\"=NaN'?"
   ]
  },
  {
   "cell_type": "code",
   "execution_count": 427,
   "metadata": {},
   "outputs": [
    {
     "data": {
      "text/plain": [
       "array([nan, 'Male', 'Female'], dtype=object)"
      ]
     },
     "execution_count": 427,
     "metadata": {},
     "output_type": "execute_result"
    }
   ],
   "source": [
    "final_df.Gender_cat.unique()"
   ]
  },
  {
   "cell_type": "code",
   "execution_count": 428,
   "metadata": {},
   "outputs": [],
   "source": [
    "null_displ = final_df[(final_df['Gender_cat'].isnull()==True)]"
   ]
  },
  {
   "cell_type": "code",
   "execution_count": 429,
   "metadata": {},
   "outputs": [],
   "source": [
    "final_df[['Gender_cat']] = final_df[['Gender_cat']].fillna('Not Available')"
   ]
  },
  {
   "cell_type": "code",
   "execution_count": 430,
   "metadata": {},
   "outputs": [
    {
     "data": {
      "text/plain": [
       "array(['Not Available', 'Male', 'Female'], dtype=object)"
      ]
     },
     "execution_count": 430,
     "metadata": {},
     "output_type": "execute_result"
    }
   ],
   "source": [
    "final_df.Gender_cat.unique()"
   ]
  },
  {
   "cell_type": "code",
   "execution_count": 431,
   "metadata": {},
   "outputs": [
    {
     "data": {
      "text/plain": [
       "Age    65\n",
       "dtype: int64"
      ]
     },
     "execution_count": 431,
     "metadata": {},
     "output_type": "execute_result"
    }
   ],
   "source": [
    "null_cols = final_df.isnull().sum()\n",
    "null_cols[null_cols > 0]"
   ]
  },
  {
   "cell_type": "code",
   "execution_count": null,
   "metadata": {},
   "outputs": [],
   "source": []
  },
  {
   "cell_type": "code",
   "execution_count": 432,
   "metadata": {},
   "outputs": [
    {
     "data": {
      "text/plain": [
       "array(['Not Available', 'Male', 'Female'], dtype=object)"
      ]
     },
     "execution_count": 432,
     "metadata": {},
     "output_type": "execute_result"
    }
   ],
   "source": [
    "final_df.Gender_cat.unique()"
   ]
  },
  {
   "cell_type": "markdown",
   "metadata": {},
   "source": [
    "# AGE NULES"
   ]
  },
  {
   "cell_type": "code",
   "execution_count": 433,
   "metadata": {},
   "outputs": [],
   "source": [
    "null_displ = final_df[(final_df['Age'].isnull()==True)]\n"
   ]
  },
  {
   "cell_type": "code",
   "execution_count": 434,
   "metadata": {},
   "outputs": [
    {
     "data": {
      "text/html": [
       "<div>\n",
       "<style scoped>\n",
       "    .dataframe tbody tr th:only-of-type {\n",
       "        vertical-align: middle;\n",
       "    }\n",
       "\n",
       "    .dataframe tbody tr th {\n",
       "        vertical-align: top;\n",
       "    }\n",
       "\n",
       "    .dataframe thead th {\n",
       "        text-align: right;\n",
       "    }\n",
       "</style>\n",
       "<table border=\"1\" class=\"dataframe\">\n",
       "  <thead>\n",
       "    <tr style=\"text-align: right;\">\n",
       "      <th></th>\n",
       "      <th>ID</th>\n",
       "      <th>First Name</th>\n",
       "      <th>Last Name</th>\n",
       "      <th>Position</th>\n",
       "      <th>Worth</th>\n",
       "      <th>Source</th>\n",
       "      <th>Age</th>\n",
       "      <th>Gender</th>\n",
       "      <th>Country</th>\n",
       "      <th>Image</th>\n",
       "      <th>Gender_cat</th>\n",
       "    </tr>\n",
       "  </thead>\n",
       "  <tbody>\n",
       "    <tr>\n",
       "      <th>54</th>\n",
       "      <td>3450</td>\n",
       "      <td>Hinduja</td>\n",
       "      <td>Hinduja</td>\n",
       "      <td>55.0</td>\n",
       "      <td>19.5 BUSD</td>\n",
       "      <td>Diversified  ==&gt; diversified</td>\n",
       "      <td>NaN</td>\n",
       "      <td>M</td>\n",
       "      <td>None</td>\n",
       "      <td>https://specials-images.forbesimg.com/imageser...</td>\n",
       "      <td>Male</td>\n",
       "    </tr>\n",
       "    <tr>\n",
       "      <th>76</th>\n",
       "      <td>3303</td>\n",
       "      <td>Thomas</td>\n",
       "      <td>Kwok</td>\n",
       "      <td>77.0</td>\n",
       "      <td>16.5 BUSD</td>\n",
       "      <td>Real Estate  ==&gt; real estate</td>\n",
       "      <td>NaN</td>\n",
       "      <td>M</td>\n",
       "      <td>Hong Kong</td>\n",
       "      <td>https://specials-images.forbesimg.com/imageser...</td>\n",
       "      <td>Male</td>\n",
       "    </tr>\n",
       "    <tr>\n",
       "      <th>89</th>\n",
       "      <td>4298</td>\n",
       "      <td>David</td>\n",
       "      <td>Reuben</td>\n",
       "      <td>90.0</td>\n",
       "      <td>15.5 BUSD</td>\n",
       "      <td>Real Estate  ==&gt; investments, real estate</td>\n",
       "      <td>NaN</td>\n",
       "      <td>None</td>\n",
       "      <td>None</td>\n",
       "      <td>https://specials-images.forbesimg.com/imageser...</td>\n",
       "      <td>Not Available</td>\n",
       "    </tr>\n",
       "    <tr>\n",
       "      <th>129</th>\n",
       "      <td>4712</td>\n",
       "      <td>Udo</td>\n",
       "      <td>Tschira</td>\n",
       "      <td>130.0</td>\n",
       "      <td>11.7 BUSD</td>\n",
       "      <td>Technology  ==&gt; software</td>\n",
       "      <td>NaN</td>\n",
       "      <td>None</td>\n",
       "      <td>Germany</td>\n",
       "      <td>https://specials-images.forbesimg.com/imageser...</td>\n",
       "      <td>Not Available</td>\n",
       "    </tr>\n",
       "    <tr>\n",
       "      <th>141</th>\n",
       "      <td>5750</td>\n",
       "      <td>Robert</td>\n",
       "      <td>Ng</td>\n",
       "      <td>142.0</td>\n",
       "      <td>10.8 BUSD</td>\n",
       "      <td>Real Estate  ==&gt; real estate</td>\n",
       "      <td>NaN</td>\n",
       "      <td>M</td>\n",
       "      <td>None</td>\n",
       "      <td>https://specials-images.forbesimg.com/imageser...</td>\n",
       "      <td>Male</td>\n",
       "    </tr>\n",
       "    <tr>\n",
       "      <th>...</th>\n",
       "      <td>...</td>\n",
       "      <td>...</td>\n",
       "      <td>...</td>\n",
       "      <td>...</td>\n",
       "      <td>...</td>\n",
       "      <td>...</td>\n",
       "      <td>...</td>\n",
       "      <td>...</td>\n",
       "      <td>...</td>\n",
       "      <td>...</td>\n",
       "      <td>...</td>\n",
       "    </tr>\n",
       "    <tr>\n",
       "      <th>2020</th>\n",
       "      <td>8561</td>\n",
       "      <td>Yupa</td>\n",
       "      <td>Chiaravanond</td>\n",
       "      <td>2021.0</td>\n",
       "      <td>1.1 BUSD</td>\n",
       "      <td>Diversified  ==&gt; diversified</td>\n",
       "      <td>NaN</td>\n",
       "      <td>None</td>\n",
       "      <td>None</td>\n",
       "      <td>https://specials-images.forbesimg.com/imageser...</td>\n",
       "      <td>Not Available</td>\n",
       "    </tr>\n",
       "    <tr>\n",
       "      <th>2021</th>\n",
       "      <td>9744</td>\n",
       "      <td>Prathip</td>\n",
       "      <td>Chiravanond</td>\n",
       "      <td>2022.0</td>\n",
       "      <td>1.1 BUSD</td>\n",
       "      <td>Diversified  ==&gt; diversified</td>\n",
       "      <td>NaN</td>\n",
       "      <td>Male</td>\n",
       "      <td>Thailand</td>\n",
       "      <td>https://specials-images.forbesimg.com/imageser...</td>\n",
       "      <td>Male</td>\n",
       "    </tr>\n",
       "    <tr>\n",
       "      <th>2028</th>\n",
       "      <td>8909</td>\n",
       "      <td>Wolfgang</td>\n",
       "      <td>Egger</td>\n",
       "      <td>2029.0</td>\n",
       "      <td>1.1 BUSD</td>\n",
       "      <td>Real Estate  ==&gt; real estate</td>\n",
       "      <td>NaN</td>\n",
       "      <td>M</td>\n",
       "      <td>Germany</td>\n",
       "      <td>https://specials-images.forbesimg.com/imageser...</td>\n",
       "      <td>Male</td>\n",
       "    </tr>\n",
       "    <tr>\n",
       "      <th>2044</th>\n",
       "      <td>6937</td>\n",
       "      <td>Madhu</td>\n",
       "      <td>Kapur</td>\n",
       "      <td>2045.0</td>\n",
       "      <td>1.1 BUSD</td>\n",
       "      <td>Finance and Investments  ==&gt; banking</td>\n",
       "      <td>NaN</td>\n",
       "      <td>F</td>\n",
       "      <td>None</td>\n",
       "      <td>https://specials-images.forbesimg.com/imageser...</td>\n",
       "      <td>Female</td>\n",
       "    </tr>\n",
       "    <tr>\n",
       "      <th>2117</th>\n",
       "      <td>7889</td>\n",
       "      <td>Swift</td>\n",
       "      <td>Xie</td>\n",
       "      <td>2118.0</td>\n",
       "      <td>1.1 BUSD</td>\n",
       "      <td>Technology  ==&gt; drones</td>\n",
       "      <td>NaN</td>\n",
       "      <td>None</td>\n",
       "      <td>None</td>\n",
       "      <td>https://specials-images.forbesimg.com/imageser...</td>\n",
       "      <td>Not Available</td>\n",
       "    </tr>\n",
       "  </tbody>\n",
       "</table>\n",
       "<p>65 rows × 11 columns</p>\n",
       "</div>"
      ],
      "text/plain": [
       "        ID First Name     Last Name  Position      Worth  \\\n",
       "54    3450    Hinduja       Hinduja      55.0  19.5 BUSD   \n",
       "76    3303     Thomas          Kwok      77.0  16.5 BUSD   \n",
       "89    4298      David        Reuben      90.0  15.5 BUSD   \n",
       "129   4712        Udo       Tschira     130.0  11.7 BUSD   \n",
       "141   5750     Robert            Ng     142.0  10.8 BUSD   \n",
       "...    ...        ...           ...       ...        ...   \n",
       "2020  8561       Yupa  Chiaravanond    2021.0   1.1 BUSD   \n",
       "2021  9744    Prathip   Chiravanond    2022.0   1.1 BUSD   \n",
       "2028  8909   Wolfgang         Egger    2029.0   1.1 BUSD   \n",
       "2044  6937      Madhu         Kapur    2045.0   1.1 BUSD   \n",
       "2117  7889      Swift           Xie    2118.0   1.1 BUSD   \n",
       "\n",
       "                                         Source  Age Gender    Country  \\\n",
       "54                 Diversified  ==> diversified  NaN      M       None   \n",
       "76                 Real Estate  ==> real estate  NaN      M  Hong Kong   \n",
       "89    Real Estate  ==> investments, real estate  NaN   None       None   \n",
       "129                    Technology  ==> software  NaN   None    Germany   \n",
       "141                Real Estate  ==> real estate  NaN      M       None   \n",
       "...                                         ...  ...    ...        ...   \n",
       "2020               Diversified  ==> diversified  NaN   None       None   \n",
       "2021               Diversified  ==> diversified  NaN   Male   Thailand   \n",
       "2028               Real Estate  ==> real estate  NaN      M    Germany   \n",
       "2044       Finance and Investments  ==> banking  NaN      F       None   \n",
       "2117                     Technology  ==> drones  NaN   None       None   \n",
       "\n",
       "                                                  Image     Gender_cat  \n",
       "54    https://specials-images.forbesimg.com/imageser...           Male  \n",
       "76    https://specials-images.forbesimg.com/imageser...           Male  \n",
       "89    https://specials-images.forbesimg.com/imageser...  Not Available  \n",
       "129   https://specials-images.forbesimg.com/imageser...  Not Available  \n",
       "141   https://specials-images.forbesimg.com/imageser...           Male  \n",
       "...                                                 ...            ...  \n",
       "2020  https://specials-images.forbesimg.com/imageser...  Not Available  \n",
       "2021  https://specials-images.forbesimg.com/imageser...           Male  \n",
       "2028  https://specials-images.forbesimg.com/imageser...           Male  \n",
       "2044  https://specials-images.forbesimg.com/imageser...         Female  \n",
       "2117  https://specials-images.forbesimg.com/imageser...  Not Available  \n",
       "\n",
       "[65 rows x 11 columns]"
      ]
     },
     "execution_count": 434,
     "metadata": {},
     "output_type": "execute_result"
    }
   ],
   "source": [
    "null_displ = null_displ[['ID', 'First Name', 'Last Name', 'Position', 'Worth', 'Source', 'Age', 'Gender', 'Country', 'Image','Gender_cat']]\n",
    "null_displ"
   ]
  },
  {
   "cell_type": "code",
   "execution_count": 435,
   "metadata": {},
   "outputs": [
    {
     "data": {
      "text/plain": [
       "array(['54 years old', '62 years old', '87 years old', '69 years old',\n",
       "       '1985', '82 years old', '78 years old', '73 years old',\n",
       "       '76 years old', '45 years old', '44 years old', '70 years old',\n",
       "       '68 years old', '46 years old', '64 years old', '61 years old',\n",
       "       '53 years old', '84 years old', '90 years old', '59 years old',\n",
       "       '63 years old', '66 years old', '80 years old', '81 years old',\n",
       "       '56 years old', '79 years old', '74 years old', '60 years old',\n",
       "       '93 years old', '52 years old', '1983', '65 years old',\n",
       "       '83 years old', '67 years old', '75 years old', '89 years old',\n",
       "       nan, '72 years old', '48 years old', '77 years old',\n",
       "       '86 years old', '57 years old', '1988', '55 years old',\n",
       "       '94 years old', '47 years old', '71 years old', '92 years old',\n",
       "       '88 years old', '85 years old', '49 years old', '51 years old',\n",
       "       '50 years old', '43 years old', '42 years old', '91 years old',\n",
       "       '58 years old', '1984', '38 years old', '1982', '95 years old',\n",
       "       '39 years old', '41 years old', '40 years old', '1990', '1991',\n",
       "       '97 years old', '1986', '99 years old', '1994', '1998', '1996',\n",
       "       '96 years old', '1987', '1989', '1992'], dtype=object)"
      ]
     },
     "execution_count": 435,
     "metadata": {},
     "output_type": "execute_result"
    }
   ],
   "source": [
    "final_df.Age.unique()"
   ]
  },
  {
   "cell_type": "code",
   "execution_count": 436,
   "metadata": {},
   "outputs": [],
   "source": [
    "final_df[['Age']] = final_df[['Age']].fillna(0)"
   ]
  },
  {
   "cell_type": "code",
   "execution_count": 437,
   "metadata": {},
   "outputs": [
    {
     "data": {
      "text/plain": [
       "ID            0\n",
       "First Name    0\n",
       "Last Name     0\n",
       "Position      0\n",
       "Worth         0\n",
       "Source        0\n",
       "Age           0\n",
       "Gender        0\n",
       "Country       0\n",
       "Image         0\n",
       "Gender_cat    0\n",
       "dtype: int64"
      ]
     },
     "execution_count": 437,
     "metadata": {},
     "output_type": "execute_result"
    }
   ],
   "source": [
    "final_df.isnull().sum(axis = 0)"
   ]
  },
  {
   "cell_type": "code",
   "execution_count": 438,
   "metadata": {},
   "outputs": [
    {
     "data": {
      "text/plain": [
       "array(['54 years old', '62 years old', '87 years old', '69 years old',\n",
       "       '1985', '82 years old', '78 years old', '73 years old',\n",
       "       '76 years old', '45 years old', '44 years old', '70 years old',\n",
       "       '68 years old', '46 years old', '64 years old', '61 years old',\n",
       "       '53 years old', '84 years old', '90 years old', '59 years old',\n",
       "       '63 years old', '66 years old', '80 years old', '81 years old',\n",
       "       '56 years old', '79 years old', '74 years old', '60 years old',\n",
       "       '93 years old', '52 years old', '1983', '65 years old',\n",
       "       '83 years old', '67 years old', '75 years old', '89 years old', 0,\n",
       "       '72 years old', '48 years old', '77 years old', '86 years old',\n",
       "       '57 years old', '1988', '55 years old', '94 years old',\n",
       "       '47 years old', '71 years old', '92 years old', '88 years old',\n",
       "       '85 years old', '49 years old', '51 years old', '50 years old',\n",
       "       '43 years old', '42 years old', '91 years old', '58 years old',\n",
       "       '1984', '38 years old', '1982', '95 years old', '39 years old',\n",
       "       '41 years old', '40 years old', '1990', '1991', '97 years old',\n",
       "       '1986', '99 years old', '1994', '1998', '1996', '96 years old',\n",
       "       '1987', '1989', '1992'], dtype=object)"
      ]
     },
     "execution_count": 438,
     "metadata": {},
     "output_type": "execute_result"
    }
   ],
   "source": [
    "final_df.Age.unique()"
   ]
  },
  {
   "cell_type": "code",
   "execution_count": 461,
   "metadata": {},
   "outputs": [
    {
     "name": "stdout",
     "output_type": "stream",
     "text": [
      "{0, '49 years old', '93 years old', '1983', '92 years old', '54 years old', '55 years old', '74 years old', '83 years old', '71 years old', '50 years old', '47 years old', '89 years old', '75 years old', '60 years old', '1988', '41 years old', '84 years old', '43 years old', '1994', '46 years old', '42 years old', '61 years old', '1996', '1991', '58 years old', '40 years old', '1998', '78 years old', '90 years old', '85 years old', '1984', '39 years old', '80 years old', '86 years old', '53 years old', '65 years old', '51 years old', '1982', '97 years old', '91 years old', '64 years old', '63 years old', '1986', '73 years old', '82 years old', '1985', '96 years old', '81 years old', '77 years old', '1992', '45 years old', '62 years old', '99 years old', '56 years old', '72 years old', '69 years old', '76 years old', '44 years old', '38 years old', '68 years old', '57 years old', '79 years old', '48 years old', '1987', '52 years old', '70 years old', '1990', '66 years old', '94 years old', '88 years old', '87 years old', '1989', '59 years old', '95 years old', '67 years old'}\n"
     ]
    }
   ],
   "source": [
    "print(set(final_df['Age']))"
   ]
  },
  {
   "cell_type": "code",
   "execution_count": 462,
   "metadata": {},
   "outputs": [
    {
     "name": "stdout",
     "output_type": "stream",
     "text": [
      "{nan, '1983', '91 ', '58 ', '39 ', '40 ', '88 ', '51 ', '63 ', '67 ', '77 ', '90 ', '43 ', '83 ', '55 ', '45 ', '59 ', '48 ', '78 ', '53 ', '75 ', '1988', '68 ', '46 ', '1994', '65 ', '42 ', '1996', '47 ', '1991', '99 ', '1998', '93 ', '1984', '96 ', '66 ', '87 ', '76 ', '92 ', '80 ', '1982', '54 ', '52 ', '70 ', '72 ', '38 ', '1986', '73 ', '74 ', '1985', '84 ', '1992', '57 ', '82 ', '64 ', '86 ', '79 ', '60 ', '97 ', '41 ', '89 ', '95 ', '94 ', '81 ', '50 ', '1987', '71 ', '1990', '61 ', '56 ', '85 ', '1989', '49 ', '69 ', '44 ', '62 '}\n"
     ]
    }
   ],
   "source": [
    "final_df['Age'] = final_df['Age'].str.replace('years old', '')\n",
    "print(set(final_df['Age']))"
   ]
  },
  {
   "cell_type": "code",
   "execution_count": 463,
   "metadata": {},
   "outputs": [
    {
     "data": {
      "text/plain": [
       "ID             0\n",
       "First Name     0\n",
       "Last Name      0\n",
       "Position       0\n",
       "Worth          0\n",
       "Source         0\n",
       "Age           65\n",
       "Gender         0\n",
       "Country        0\n",
       "Image          0\n",
       "Gender_cat     0\n",
       "dtype: int64"
      ]
     },
     "execution_count": 463,
     "metadata": {},
     "output_type": "execute_result"
    }
   ],
   "source": [
    "final_df.isnull().sum(axis = 0)"
   ]
  },
  {
   "cell_type": "code",
   "execution_count": 464,
   "metadata": {},
   "outputs": [],
   "source": [
    "final_df[['Age']] = final_df[['Age']].fillna(0)"
   ]
  },
  {
   "cell_type": "code",
   "execution_count": 465,
   "metadata": {},
   "outputs": [
    {
     "data": {
      "text/plain": [
       "ID            0\n",
       "First Name    0\n",
       "Last Name     0\n",
       "Position      0\n",
       "Worth         0\n",
       "Source        0\n",
       "Age           0\n",
       "Gender        0\n",
       "Country       0\n",
       "Image         0\n",
       "Gender_cat    0\n",
       "dtype: int64"
      ]
     },
     "execution_count": 465,
     "metadata": {},
     "output_type": "execute_result"
    }
   ],
   "source": [
    "final_df.isnull().sum(axis = 0)"
   ]
  },
  {
   "cell_type": "code",
   "execution_count": 466,
   "metadata": {},
   "outputs": [
    {
     "name": "stdout",
     "output_type": "stream",
     "text": [
      "{0, '1983', '91 ', '58 ', '39 ', '40 ', '88 ', '51 ', '63 ', '67 ', '77 ', '90 ', '43 ', '83 ', '55 ', '45 ', '59 ', '48 ', '78 ', '53 ', '75 ', '1988', '68 ', '46 ', '1994', '65 ', '42 ', '1996', '47 ', '1991', '99 ', '1998', '93 ', '1984', '96 ', '66 ', '87 ', '76 ', '92 ', '80 ', '1982', '54 ', '52 ', '70 ', '72 ', '38 ', '1986', '73 ', '74 ', '1985', '84 ', '1992', '57 ', '82 ', '64 ', '86 ', '79 ', '60 ', '97 ', '41 ', '89 ', '95 ', '94 ', '81 ', '50 ', '1987', '71 ', '1990', '61 ', '56 ', '85 ', '1989', '49 ', '69 ', '44 ', '62 '}\n"
     ]
    }
   ],
   "source": [
    "print(set(final_df['Age']))"
   ]
  },
  {
   "cell_type": "code",
   "execution_count": 468,
   "metadata": {},
   "outputs": [
    {
     "name": "stdout",
     "output_type": "stream",
     "text": [
      "{nan, '1983', '91 ', '58 ', '39 ', '40 ', '88 ', '51 ', '63 ', '67 ', '77 ', '90 ', '43 ', '83 ', '55 ', '45 ', '59 ', '48 ', '78 ', '53 ', '75 ', '1988', '68 ', '46 ', '1994', '65 ', '42 ', '1996', '47 ', '1991', '99 ', '1998', '93 ', '1984', '96 ', '66 ', '87 ', '76 ', '36', '92 ', '80 ', '54 ', '52 ', '70 ', '72 ', '38 ', '1986', '73 ', '74 ', '1985', '84 ', '1992', '57 ', '82 ', '64 ', '86 ', '79 ', '60 ', '97 ', '41 ', '89 ', '95 ', '94 ', '81 ', '50 ', '1987', '71 ', '1990', '61 ', '56 ', '85 ', '1989', '49 ', '69 ', '44 ', '62 '}\n"
     ]
    }
   ],
   "source": [
    "#Because value='0' cant be replaced, it becomes nana again.\n",
    "final_df['Age'] = final_df['Age'].str.replace('1982', '36')\n",
    "print(set(final_df['Age']))"
   ]
  },
  {
   "cell_type": "code",
   "execution_count": 469,
   "metadata": {},
   "outputs": [
    {
     "name": "stdout",
     "output_type": "stream",
     "text": [
      "{nan, '1983', '91 ', '58 ', '39 ', '40 ', '88 ', '51 ', '63 ', '67 ', '77 ', '90 ', '43 ', '83 ', '55 ', '45 ', '59 ', '48 ', '78 ', '53 ', '75 ', '1988', '68 ', '46 ', '1994', '65 ', '42 ', '1996', '47 ', '1991', '99 ', '1998', '93 ', '96 ', '66 ', '87 ', '76 ', '34', '92 ', '80 ', '36', '54 ', '52 ', '70 ', '72 ', '38 ', '1986', '73 ', '74 ', '1985', '84 ', '1992', '57 ', '82 ', '64 ', '86 ', '79 ', '60 ', '97 ', '41 ', '89 ', '95 ', '94 ', '81 ', '50 ', '1987', '71 ', '1990', '61 ', '56 ', '85 ', '1989', '49 ', '69 ', '44 ', '62 '}\n"
     ]
    }
   ],
   "source": [
    "final_df['Age'] = final_df['Age'].str.replace('1984', '34')\n",
    "print(set(final_df['Age']))"
   ]
  },
  {
   "cell_type": "code",
   "execution_count": 470,
   "metadata": {},
   "outputs": [
    {
     "name": "stdout",
     "output_type": "stream",
     "text": [
      "{nan, '1983', '91 ', '58 ', '39 ', '40 ', '88 ', '51 ', '63 ', '67 ', '77 ', '90 ', '43 ', '83 ', '55 ', '45 ', '59 ', '48 ', '78 ', '53 ', '29', '75 ', '1988', '68 ', '46 ', '1994', '65 ', '42 ', '1996', '47 ', '1991', '99 ', '1998', '93 ', '96 ', '66 ', '87 ', '76 ', '34', '92 ', '80 ', '36', '54 ', '52 ', '70 ', '72 ', '38 ', '1986', '73 ', '74 ', '1985', '84 ', '1992', '57 ', '82 ', '64 ', '86 ', '79 ', '60 ', '97 ', '41 ', '89 ', '95 ', '94 ', '81 ', '50 ', '1987', '71 ', '1990', '61 ', '56 ', '85 ', '49 ', '69 ', '44 ', '62 '}\n"
     ]
    }
   ],
   "source": [
    "final_df['Age'] = final_df['Age'].str.replace('1989', '29')\n",
    "print(set(final_df['Age']))"
   ]
  },
  {
   "cell_type": "code",
   "execution_count": 471,
   "metadata": {},
   "outputs": [
    {
     "name": "stdout",
     "output_type": "stream",
     "text": [
      "{nan, '91 ', '39 ', '58 ', '40 ', '88 ', '51 ', '63 ', '67 ', '77 ', '90 ', '43 ', '83 ', '55 ', '45 ', '59 ', '48 ', '78 ', '53 ', '29', '75 ', '1988', '68 ', '46 ', '1994', '65 ', '42 ', '1996', '47 ', '1991', '99 ', '1998', '93 ', '96 ', '66 ', '87 ', '76 ', '34', '92 ', '80 ', '36', '54 ', '52 ', '70 ', '72 ', '38 ', '1986', '73 ', '74 ', '1985', '84 ', '1992', '57 ', '82 ', '64 ', '86 ', '79 ', '60 ', '97 ', '41 ', '89 ', '95 ', '94 ', '35', '81 ', '50 ', '1987', '71 ', '1990', '61 ', '56 ', '85 ', '49 ', '69 ', '44 ', '62 '}\n"
     ]
    }
   ],
   "source": [
    "final_df['Age'] = final_df['Age'].str.replace('1983', '35')\n",
    "print(set(final_df['Age']))"
   ]
  },
  {
   "cell_type": "code",
   "execution_count": 472,
   "metadata": {},
   "outputs": [
    {
     "name": "stdout",
     "output_type": "stream",
     "text": [
      "{nan, '91 ', '39 ', '58 ', '40 ', '88 ', '51 ', '63 ', '67 ', '77 ', '90 ', '43 ', '83 ', '55 ', '45 ', '59 ', '48 ', '78 ', '53 ', '29', '75 ', '1988', '68 ', '46 ', '1994', '65 ', '42 ', '1996', '47 ', '1991', '99 ', '1998', '93 ', '96 ', '66 ', '87 ', '76 ', '34', '92 ', '80 ', '36', '54 ', '52 ', '70 ', '72 ', '38 ', '73 ', '74 ', '1985', '84 ', '1992', '57 ', '82 ', '64 ', '86 ', '79 ', '60 ', '97 ', '41 ', '89 ', '95 ', '94 ', '35', '32', '81 ', '50 ', '1987', '71 ', '1990', '61 ', '56 ', '85 ', '49 ', '69 ', '44 ', '62 '}\n"
     ]
    }
   ],
   "source": [
    "final_df['Age'] = final_df['Age'].str.replace('1986', '32')\n",
    "print(set(final_df['Age']))"
   ]
  },
  {
   "cell_type": "code",
   "execution_count": 473,
   "metadata": {},
   "outputs": [
    {
     "name": "stdout",
     "output_type": "stream",
     "text": [
      "{nan, '91 ', '39 ', '58 ', '40 ', '88 ', '51 ', '63 ', '67 ', '77 ', '90 ', '43 ', '83 ', '55 ', '45 ', '59 ', '48 ', '78 ', '53 ', '29', '75 ', '1988', '68 ', '46 ', '1994', '65 ', '42 ', '1996', '47 ', '1991', '99 ', '1998', '93 ', '96 ', '66 ', '87 ', '76 ', '34', '92 ', '80 ', '36', '54 ', '52 ', '70 ', '33', '72 ', '38 ', '73 ', '74 ', '1992', '84 ', '57 ', '82 ', '64 ', '86 ', '79 ', '60 ', '97 ', '41 ', '89 ', '95 ', '94 ', '35', '32', '81 ', '50 ', '1987', '71 ', '1990', '61 ', '56 ', '85 ', '49 ', '69 ', '44 ', '62 '}\n"
     ]
    }
   ],
   "source": [
    "final_df['Age'] = final_df['Age'].str.replace('1985', '33')\n",
    "print(set(final_df['Age']))"
   ]
  },
  {
   "cell_type": "code",
   "execution_count": 474,
   "metadata": {},
   "outputs": [
    {
     "name": "stdout",
     "output_type": "stream",
     "text": [
      "{nan, '91 ', '39 ', '58 ', '40 ', '88 ', '51 ', '63 ', '67 ', '77 ', '90 ', '43 ', '83 ', '55 ', '45 ', '59 ', '48 ', '78 ', '53 ', '29', '75 ', '68 ', '46 ', '30', '1994', '65 ', '42 ', '1996', '47 ', '1991', '99 ', '1998', '93 ', '96 ', '66 ', '87 ', '76 ', '34', '92 ', '80 ', '36', '54 ', '52 ', '70 ', '33', '72 ', '38 ', '73 ', '74 ', '1992', '84 ', '57 ', '82 ', '64 ', '86 ', '79 ', '60 ', '97 ', '41 ', '89 ', '95 ', '94 ', '35', '32', '81 ', '50 ', '1987', '71 ', '1990', '61 ', '56 ', '85 ', '49 ', '69 ', '44 ', '62 '}\n"
     ]
    }
   ],
   "source": [
    "final_df['Age'] = final_df['Age'].str.replace('1988', '30')\n",
    "print(set(final_df['Age']))"
   ]
  },
  {
   "cell_type": "code",
   "execution_count": 475,
   "metadata": {},
   "outputs": [
    {
     "name": "stdout",
     "output_type": "stream",
     "text": [
      "{nan, '91 ', '39 ', '58 ', '40 ', '88 ', '51 ', '63 ', '67 ', '77 ', '90 ', '43 ', '83 ', '55 ', '45 ', '59 ', '48 ', '78 ', '53 ', '29', '75 ', '68 ', '46 ', '30', '1994', '65 ', '42 ', '1996', '47 ', '1991', '99 ', '1998', '93 ', '96 ', '66 ', '87 ', '76 ', '34', '92 ', '80 ', '36', '54 ', '52 ', '70 ', '33', '72 ', '38 ', '73 ', '74 ', '1992', '84 ', '57 ', '82 ', '64 ', '86 ', '79 ', '60 ', '28', '41 ', '89 ', '95 ', '97 ', '94 ', '35', '32', '81 ', '50 ', '1987', '71 ', '61 ', '56 ', '85 ', '49 ', '69 ', '44 ', '62 '}\n"
     ]
    }
   ],
   "source": [
    "final_df['Age'] = final_df['Age'].str.replace('1990', '28')\n",
    "print(set(final_df['Age']))"
   ]
  },
  {
   "cell_type": "code",
   "execution_count": 476,
   "metadata": {},
   "outputs": [
    {
     "name": "stdout",
     "output_type": "stream",
     "text": [
      "{nan, '91 ', '39 ', '58 ', '40 ', '27', '88 ', '51 ', '63 ', '67 ', '77 ', '90 ', '43 ', '83 ', '55 ', '45 ', '59 ', '48 ', '78 ', '53 ', '29', '75 ', '68 ', '46 ', '30', '1994', '65 ', '42 ', '1996', '47 ', '99 ', '1998', '93 ', '96 ', '66 ', '87 ', '76 ', '34', '92 ', '80 ', '36', '54 ', '52 ', '70 ', '33', '72 ', '38 ', '73 ', '74 ', '1992', '84 ', '57 ', '82 ', '64 ', '86 ', '79 ', '60 ', '28', '41 ', '89 ', '95 ', '97 ', '94 ', '35', '32', '81 ', '50 ', '1987', '71 ', '61 ', '56 ', '85 ', '49 ', '69 ', '44 ', '62 '}\n"
     ]
    }
   ],
   "source": [
    "final_df['Age'] = final_df['Age'].str.replace('1991', '27')\n",
    "print(set(final_df['Age']))"
   ]
  },
  {
   "cell_type": "code",
   "execution_count": 477,
   "metadata": {},
   "outputs": [
    {
     "name": "stdout",
     "output_type": "stream",
     "text": [
      "{nan, '91 ', '39 ', '58 ', '40 ', '27', '88 ', '51 ', '63 ', '67 ', '77 ', '90 ', '43 ', '83 ', '55 ', '45 ', '59 ', '48 ', '78 ', '53 ', '29', '75 ', '68 ', '46 ', '30', '1994', '65 ', '42 ', '47 ', '99 ', '1998', '93 ', '96 ', '66 ', '87 ', '76 ', '34', '92 ', '80 ', '36', '54 ', '52 ', '70 ', '33', '72 ', '38 ', '73 ', '74 ', '22', '84 ', '1992', '57 ', '82 ', '64 ', '86 ', '79 ', '60 ', '28', '41 ', '89 ', '95 ', '97 ', '94 ', '35', '32', '81 ', '50 ', '1987', '71 ', '61 ', '56 ', '85 ', '49 ', '69 ', '44 ', '62 '}\n"
     ]
    }
   ],
   "source": [
    "final_df['Age'] = final_df['Age'].str.replace('1996', '22')\n",
    "print(set(final_df['Age']))"
   ]
  },
  {
   "cell_type": "code",
   "execution_count": 478,
   "metadata": {},
   "outputs": [
    {
     "name": "stdout",
     "output_type": "stream",
     "text": [
      "{nan, '91 ', '39 ', '58 ', '40 ', '27', '88 ', '51 ', '63 ', '67 ', '77 ', '90 ', '43 ', '20', '83 ', '55 ', '45 ', '59 ', '48 ', '78 ', '53 ', '29', '75 ', '68 ', '46 ', '30', '1994', '65 ', '42 ', '47 ', '99 ', '93 ', '96 ', '66 ', '87 ', '76 ', '34', '92 ', '80 ', '36', '54 ', '52 ', '70 ', '33', '72 ', '38 ', '73 ', '74 ', '22', '84 ', '1992', '57 ', '82 ', '64 ', '86 ', '79 ', '60 ', '28', '41 ', '89 ', '95 ', '97 ', '94 ', '35', '32', '81 ', '50 ', '1987', '71 ', '61 ', '56 ', '85 ', '49 ', '69 ', '44 ', '62 '}\n"
     ]
    }
   ],
   "source": [
    "final_df['Age'] = final_df['Age'].str.replace('1998', '20')\n",
    "print(set(final_df['Age']))"
   ]
  },
  {
   "cell_type": "code",
   "execution_count": 479,
   "metadata": {},
   "outputs": [
    {
     "name": "stdout",
     "output_type": "stream",
     "text": [
      "{nan, '91 ', '39 ', '58 ', '40 ', '27', '88 ', '51 ', '63 ', '67 ', '77 ', '90 ', '43 ', '20', '83 ', '55 ', '45 ', '59 ', '48 ', '78 ', '53 ', '29', '75 ', '68 ', '46 ', '30', '1994', '65 ', '42 ', '47 ', '26', '99 ', '93 ', '96 ', '66 ', '87 ', '76 ', '34', '92 ', '80 ', '36', '54 ', '52 ', '70 ', '33', '72 ', '38 ', '73 ', '74 ', '22', '84 ', '57 ', '82 ', '64 ', '86 ', '79 ', '60 ', '28', '41 ', '89 ', '95 ', '97 ', '94 ', '35', '32', '81 ', '50 ', '1987', '71 ', '61 ', '56 ', '85 ', '49 ', '69 ', '44 ', '62 '}\n"
     ]
    }
   ],
   "source": [
    "final_df['Age'] = final_df['Age'].str.replace('1992', '26')\n",
    "print(set(final_df['Age']))"
   ]
  },
  {
   "cell_type": "code",
   "execution_count": 480,
   "metadata": {},
   "outputs": [
    {
     "name": "stdout",
     "output_type": "stream",
     "text": [
      "{nan, '91 ', '39 ', '58 ', '40 ', '27', '88 ', '51 ', '63 ', '67 ', '77 ', '90 ', '43 ', '20', '83 ', '55 ', '24', '45 ', '59 ', '48 ', '78 ', '53 ', '29', '75 ', '68 ', '46 ', '30', '65 ', '42 ', '47 ', '26', '99 ', '93 ', '96 ', '66 ', '87 ', '76 ', '34', '92 ', '80 ', '36', '54 ', '52 ', '70 ', '33', '72 ', '38 ', '73 ', '74 ', '22', '84 ', '57 ', '82 ', '64 ', '86 ', '79 ', '60 ', '28', '41 ', '89 ', '95 ', '97 ', '94 ', '35', '32', '81 ', '50 ', '1987', '71 ', '61 ', '56 ', '85 ', '49 ', '69 ', '44 ', '62 '}\n"
     ]
    }
   ],
   "source": [
    "final_df['Age'] = final_df['Age'].str.replace('1994', '24')\n",
    "print(set(final_df['Age']))"
   ]
  },
  {
   "cell_type": "code",
   "execution_count": 481,
   "metadata": {},
   "outputs": [
    {
     "name": "stdout",
     "output_type": "stream",
     "text": [
      "{nan, '91 ', '39 ', '58 ', '40 ', '27', '31', '88 ', '51 ', '63 ', '67 ', '77 ', '90 ', '43 ', '20', '83 ', '55 ', '24', '45 ', '59 ', '48 ', '78 ', '53 ', '29', '75 ', '68 ', '46 ', '30', '65 ', '42 ', '47 ', '26', '99 ', '93 ', '96 ', '66 ', '87 ', '76 ', '34', '92 ', '80 ', '36', '54 ', '52 ', '70 ', '33', '72 ', '38 ', '73 ', '74 ', '22', '84 ', '57 ', '82 ', '64 ', '86 ', '79 ', '60 ', '28', '41 ', '89 ', '95 ', '97 ', '94 ', '35', '32', '81 ', '50 ', '71 ', '61 ', '56 ', '85 ', '49 ', '69 ', '44 ', '62 '}\n"
     ]
    }
   ],
   "source": [
    "final_df['Age'] = final_df['Age'].str.replace('1987', '31')\n",
    "print(set(final_df['Age']))"
   ]
  },
  {
   "cell_type": "code",
   "execution_count": 486,
   "metadata": {},
   "outputs": [
    {
     "data": {
      "text/plain": [
       "ID             0\n",
       "First Name     0\n",
       "Last Name      0\n",
       "Position       0\n",
       "Worth          0\n",
       "Source         0\n",
       "Age           65\n",
       "Gender         0\n",
       "Country        0\n",
       "Image          0\n",
       "Gender_cat     0\n",
       "dtype: int64"
      ]
     },
     "execution_count": 486,
     "metadata": {},
     "output_type": "execute_result"
    }
   ],
   "source": [
    "final_df.isnull().sum(axis = 0)"
   ]
  },
  {
   "cell_type": "code",
   "execution_count": 487,
   "metadata": {},
   "outputs": [],
   "source": [
    "final_df[['Age']] = final_df[['Age']].fillna(0)"
   ]
  },
  {
   "cell_type": "code",
   "execution_count": 488,
   "metadata": {},
   "outputs": [
    {
     "data": {
      "text/plain": [
       "ID            0\n",
       "First Name    0\n",
       "Last Name     0\n",
       "Position      0\n",
       "Worth         0\n",
       "Source        0\n",
       "Age           0\n",
       "Gender        0\n",
       "Country       0\n",
       "Image         0\n",
       "Gender_cat    0\n",
       "dtype: int64"
      ]
     },
     "execution_count": 488,
     "metadata": {},
     "output_type": "execute_result"
    }
   ],
   "source": [
    "final_df.isnull().sum(axis = 0)"
   ]
  },
  {
   "cell_type": "code",
   "execution_count": 490,
   "metadata": {},
   "outputs": [
    {
     "data": {
      "text/plain": [
       "array(['54 ', '62 ', '87 ', '69 ', '33', '82 ', '78 ', '73 ', '76 ',\n",
       "       '45 ', '44 ', '70 ', '68 ', '46 ', '64 ', '61 ', '53 ', '84 ',\n",
       "       '90 ', '59 ', '63 ', '66 ', '80 ', '81 ', '56 ', '79 ', '74 ',\n",
       "       '60 ', '93 ', '52 ', '35', '65 ', '83 ', '67 ', '75 ', '89 ', 0,\n",
       "       '72 ', '48 ', '77 ', '86 ', '57 ', '30', '55 ', '94 ', '47 ',\n",
       "       '71 ', '92 ', '88 ', '85 ', '49 ', '51 ', '50 ', '43 ', '42 ',\n",
       "       '91 ', '58 ', '34', '38 ', '36', '95 ', '39 ', '41 ', '40 ', '28',\n",
       "       '27', '97 ', '32', '99 ', '24', '20', '22', '96 ', '31', '29',\n",
       "       '26'], dtype=object)"
      ]
     },
     "execution_count": 490,
     "metadata": {},
     "output_type": "execute_result"
    }
   ],
   "source": [
    "final_df.Age.unique()"
   ]
  },
  {
   "cell_type": "code",
   "execution_count": 512,
   "metadata": {},
   "outputs": [
    {
     "name": "stdout",
     "output_type": "stream",
     "text": [
      "{nan, '50', '39', '53', '71', '49', '40', '27', '66', '31', '46', '54', '38', '20', '45', '80', '94', '76', '91', '58', '87', '24', '29', '65', '59', '72', '62', '83', '44', '30', '88', '95', '70', '68', '84', '42', '26', '73', '86', '97', '75', '93', '67', '92', '61', '74', '36', '79', '55', '33', '63', '69', '82', '81', '60', '48', '47', '89', '41', '99', '22', '78', '28', '52', '35', '56', '77', '43', '32', '96', '64', '57', '51', '90', '34', '85'}\n"
     ]
    }
   ],
   "source": [
    "final_df['Age'] = final_df['Age'].str.replace(' ', '')\n",
    "print(set(final_df['Age']))"
   ]
  },
  {
   "cell_type": "code",
   "execution_count": 513,
   "metadata": {},
   "outputs": [],
   "source": [
    "final_df[['Age']] = final_df[['Age']].fillna(0)"
   ]
  },
  {
   "cell_type": "code",
   "execution_count": 535,
   "metadata": {},
   "outputs": [
    {
     "data": {
      "text/plain": [
       "ID              int64\n",
       "First Name     object\n",
       "Last Name      object\n",
       "Position      float64\n",
       "Worth          object\n",
       "Source         object\n",
       "Age             int64\n",
       "Gender         object\n",
       "Country        object\n",
       "Image          object\n",
       "Gender_cat     object\n",
       "dtype: object"
      ]
     },
     "execution_count": 535,
     "metadata": {},
     "output_type": "execute_result"
    }
   ],
   "source": [
    "final_df.astype({'Age': int}).dtypes"
   ]
  },
  {
   "cell_type": "code",
   "execution_count": 537,
   "metadata": {},
   "outputs": [],
   "source": [
    "final_df.Age = final_df.Age.astype(int)"
   ]
  },
  {
   "cell_type": "code",
   "execution_count": 538,
   "metadata": {},
   "outputs": [
    {
     "name": "stdout",
     "output_type": "stream",
     "text": [
      "<class 'pandas.core.frame.DataFrame'>\n",
      "RangeIndex: 2208 entries, 0 to 2207\n",
      "Data columns (total 11 columns):\n",
      "ID            2208 non-null int64\n",
      "First Name    2208 non-null object\n",
      "Last Name     2208 non-null object\n",
      "Position      2208 non-null float64\n",
      "Worth         2208 non-null object\n",
      "Source        2208 non-null object\n",
      "Age           2208 non-null int64\n",
      "Gender        2208 non-null object\n",
      "Country       2208 non-null object\n",
      "Image         2208 non-null object\n",
      "Gender_cat    2208 non-null object\n",
      "dtypes: float64(1), int64(2), object(8)\n",
      "memory usage: 189.9+ KB\n"
     ]
    }
   ],
   "source": [
    "final_df.info()"
   ]
  },
  {
   "cell_type": "code",
   "execution_count": 539,
   "metadata": {},
   "outputs": [
    {
     "data": {
      "text/plain": [
       "61.91440217391305"
      ]
     },
     "execution_count": 539,
     "metadata": {},
     "output_type": "execute_result"
    }
   ],
   "source": [
    "final_df['Age'].mean()"
   ]
  },
  {
   "cell_type": "code",
   "execution_count": 540,
   "metadata": {},
   "outputs": [
    {
     "data": {
      "text/html": [
       "<div>\n",
       "<style scoped>\n",
       "    .dataframe tbody tr th:only-of-type {\n",
       "        vertical-align: middle;\n",
       "    }\n",
       "\n",
       "    .dataframe tbody tr th {\n",
       "        vertical-align: top;\n",
       "    }\n",
       "\n",
       "    .dataframe thead th {\n",
       "        text-align: right;\n",
       "    }\n",
       "</style>\n",
       "<table border=\"1\" class=\"dataframe\">\n",
       "  <thead>\n",
       "    <tr style=\"text-align: right;\">\n",
       "      <th></th>\n",
       "      <th>ID</th>\n",
       "      <th>First Name</th>\n",
       "      <th>Last Name</th>\n",
       "      <th>Position</th>\n",
       "      <th>Worth</th>\n",
       "      <th>Source</th>\n",
       "      <th>Age</th>\n",
       "      <th>Gender</th>\n",
       "      <th>Country</th>\n",
       "      <th>Image</th>\n",
       "      <th>Gender_cat</th>\n",
       "    </tr>\n",
       "  </thead>\n",
       "  <tbody>\n",
       "    <tr>\n",
       "      <th>0</th>\n",
       "      <td>5227</td>\n",
       "      <td>Jeff</td>\n",
       "      <td>Bezos</td>\n",
       "      <td>1.0</td>\n",
       "      <td>112.0 BUSD</td>\n",
       "      <td>Technology  ==&gt; Amazon</td>\n",
       "      <td>54</td>\n",
       "      <td>None</td>\n",
       "      <td>United States</td>\n",
       "      <td>https://specials-images.forbesimg.com/imageser...</td>\n",
       "      <td>Not Available</td>\n",
       "    </tr>\n",
       "    <tr>\n",
       "      <th>1</th>\n",
       "      <td>2642</td>\n",
       "      <td>Bill</td>\n",
       "      <td>Gates</td>\n",
       "      <td>2.0</td>\n",
       "      <td>90.0 BUSD</td>\n",
       "      <td>Technology  ==&gt; Microsoft</td>\n",
       "      <td>62</td>\n",
       "      <td>M</td>\n",
       "      <td>None</td>\n",
       "      <td>https://specials-images.forbesimg.com/imageser...</td>\n",
       "      <td>Male</td>\n",
       "    </tr>\n",
       "    <tr>\n",
       "      <th>2</th>\n",
       "      <td>5422</td>\n",
       "      <td>Warren</td>\n",
       "      <td>Buffett</td>\n",
       "      <td>3.0</td>\n",
       "      <td>84.0 BUSD</td>\n",
       "      <td>Finance and Investments  ==&gt; Berkshire Hathaway</td>\n",
       "      <td>87</td>\n",
       "      <td>M</td>\n",
       "      <td>None</td>\n",
       "      <td>https://specials-images.forbesimg.com/imageser...</td>\n",
       "      <td>Male</td>\n",
       "    </tr>\n",
       "    <tr>\n",
       "      <th>3</th>\n",
       "      <td>8183</td>\n",
       "      <td>Bernard</td>\n",
       "      <td>Arnault</td>\n",
       "      <td>4.0</td>\n",
       "      <td>72.0 BUSD</td>\n",
       "      <td>Fashion &amp; Retail  ==&gt; LVMH</td>\n",
       "      <td>69</td>\n",
       "      <td>M</td>\n",
       "      <td>France</td>\n",
       "      <td>https://specials-images.forbesimg.com/imageser...</td>\n",
       "      <td>Male</td>\n",
       "    </tr>\n",
       "    <tr>\n",
       "      <th>4</th>\n",
       "      <td>5642</td>\n",
       "      <td>Mark</td>\n",
       "      <td>Zuckerberg</td>\n",
       "      <td>5.0</td>\n",
       "      <td>71.0 BUSD</td>\n",
       "      <td>Technology  ==&gt; Facebook</td>\n",
       "      <td>33</td>\n",
       "      <td>M</td>\n",
       "      <td>USA</td>\n",
       "      <td>https://specials-images.forbesimg.com/imageser...</td>\n",
       "      <td>Male</td>\n",
       "    </tr>\n",
       "    <tr>\n",
       "      <th>...</th>\n",
       "      <td>...</td>\n",
       "      <td>...</td>\n",
       "      <td>...</td>\n",
       "      <td>...</td>\n",
       "      <td>...</td>\n",
       "      <td>...</td>\n",
       "      <td>...</td>\n",
       "      <td>...</td>\n",
       "      <td>...</td>\n",
       "      <td>...</td>\n",
       "      <td>...</td>\n",
       "    </tr>\n",
       "    <tr>\n",
       "      <th>2203</th>\n",
       "      <td>7670</td>\n",
       "      <td>Zhao</td>\n",
       "      <td>Zhao</td>\n",
       "      <td>2204.0</td>\n",
       "      <td>1.0 BUSD</td>\n",
       "      <td>Fashion &amp; Retail  ==&gt; fashion, entertainment</td>\n",
       "      <td>51</td>\n",
       "      <td>None</td>\n",
       "      <td>China</td>\n",
       "      <td>https://specials-images.forbesimg.com/imageser...</td>\n",
       "      <td>Not Available</td>\n",
       "    </tr>\n",
       "    <tr>\n",
       "      <th>2204</th>\n",
       "      <td>1310</td>\n",
       "      <td>Zhou</td>\n",
       "      <td>Zhou</td>\n",
       "      <td>2205.0</td>\n",
       "      <td>1.0 BUSD</td>\n",
       "      <td>Manufacturing  ==&gt; electrical equipment</td>\n",
       "      <td>55</td>\n",
       "      <td>M</td>\n",
       "      <td>China</td>\n",
       "      <td>https://specials-images.forbesimg.com/imageser...</td>\n",
       "      <td>Male</td>\n",
       "    </tr>\n",
       "    <tr>\n",
       "      <th>2205</th>\n",
       "      <td>4488</td>\n",
       "      <td>Zhu</td>\n",
       "      <td>Zhu</td>\n",
       "      <td>2206.0</td>\n",
       "      <td>1.0 BUSD</td>\n",
       "      <td>Manufacturing  ==&gt; electrical equipment</td>\n",
       "      <td>51</td>\n",
       "      <td>M</td>\n",
       "      <td>None</td>\n",
       "      <td>https://specials-images.forbesimg.com/imageser...</td>\n",
       "      <td>Male</td>\n",
       "    </tr>\n",
       "    <tr>\n",
       "      <th>2206</th>\n",
       "      <td>7152</td>\n",
       "      <td>Zhuo</td>\n",
       "      <td>Zhuo</td>\n",
       "      <td>2207.0</td>\n",
       "      <td>1.0 BUSD</td>\n",
       "      <td>Manufacturing  ==&gt; printed circuit boards</td>\n",
       "      <td>52</td>\n",
       "      <td>Female</td>\n",
       "      <td>Hong Kong</td>\n",
       "      <td>https://specials-images.forbesimg.com/imageser...</td>\n",
       "      <td>Female</td>\n",
       "    </tr>\n",
       "    <tr>\n",
       "      <th>2207</th>\n",
       "      <td>7214</td>\n",
       "      <td>Olgun</td>\n",
       "      <td>Zorlu</td>\n",
       "      <td>2208.0</td>\n",
       "      <td>1.0 BUSD</td>\n",
       "      <td>Diversified  ==&gt; diversified</td>\n",
       "      <td>54</td>\n",
       "      <td>None</td>\n",
       "      <td>Turkey</td>\n",
       "      <td>https://specials-images.forbesimg.com/imageser...</td>\n",
       "      <td>Not Available</td>\n",
       "    </tr>\n",
       "  </tbody>\n",
       "</table>\n",
       "<p>2208 rows × 11 columns</p>\n",
       "</div>"
      ],
      "text/plain": [
       "        ID First Name   Last Name  Position       Worth  \\\n",
       "0     5227       Jeff       Bezos       1.0  112.0 BUSD   \n",
       "1     2642       Bill       Gates       2.0   90.0 BUSD   \n",
       "2     5422     Warren     Buffett       3.0   84.0 BUSD   \n",
       "3     8183    Bernard     Arnault       4.0   72.0 BUSD   \n",
       "4     5642       Mark  Zuckerberg       5.0   71.0 BUSD   \n",
       "...    ...        ...         ...       ...         ...   \n",
       "2203  7670       Zhao        Zhao    2204.0    1.0 BUSD   \n",
       "2204  1310       Zhou        Zhou    2205.0    1.0 BUSD   \n",
       "2205  4488        Zhu         Zhu    2206.0    1.0 BUSD   \n",
       "2206  7152       Zhuo        Zhuo    2207.0    1.0 BUSD   \n",
       "2207  7214      Olgun       Zorlu    2208.0    1.0 BUSD   \n",
       "\n",
       "                                               Source  Age  Gender  \\\n",
       "0                              Technology  ==> Amazon   54    None   \n",
       "1                           Technology  ==> Microsoft   62       M   \n",
       "2     Finance and Investments  ==> Berkshire Hathaway   87       M   \n",
       "3                          Fashion & Retail  ==> LVMH   69       M   \n",
       "4                            Technology  ==> Facebook   33       M   \n",
       "...                                               ...  ...     ...   \n",
       "2203     Fashion & Retail  ==> fashion, entertainment   51    None   \n",
       "2204          Manufacturing  ==> electrical equipment   55       M   \n",
       "2205          Manufacturing  ==> electrical equipment   51       M   \n",
       "2206        Manufacturing  ==> printed circuit boards   52  Female   \n",
       "2207                     Diversified  ==> diversified   54    None   \n",
       "\n",
       "            Country                                              Image  \\\n",
       "0     United States  https://specials-images.forbesimg.com/imageser...   \n",
       "1              None  https://specials-images.forbesimg.com/imageser...   \n",
       "2              None  https://specials-images.forbesimg.com/imageser...   \n",
       "3            France  https://specials-images.forbesimg.com/imageser...   \n",
       "4               USA  https://specials-images.forbesimg.com/imageser...   \n",
       "...             ...                                                ...   \n",
       "2203          China  https://specials-images.forbesimg.com/imageser...   \n",
       "2204          China  https://specials-images.forbesimg.com/imageser...   \n",
       "2205           None  https://specials-images.forbesimg.com/imageser...   \n",
       "2206      Hong Kong  https://specials-images.forbesimg.com/imageser...   \n",
       "2207         Turkey  https://specials-images.forbesimg.com/imageser...   \n",
       "\n",
       "         Gender_cat  \n",
       "0     Not Available  \n",
       "1              Male  \n",
       "2              Male  \n",
       "3              Male  \n",
       "4              Male  \n",
       "...             ...  \n",
       "2203  Not Available  \n",
       "2204           Male  \n",
       "2205           Male  \n",
       "2206         Female  \n",
       "2207  Not Available  \n",
       "\n",
       "[2208 rows x 11 columns]"
      ]
     },
     "execution_count": 540,
     "metadata": {},
     "output_type": "execute_result"
    }
   ],
   "source": [
    "final_df.replace({'Age': {0: 62}})"
   ]
  },
  {
   "cell_type": "code",
   "execution_count": 484,
   "metadata": {},
   "outputs": [],
   "source": [
    "#Age column: non-null objects but we have 65 records with a value of \"0\". Have to fill it in with the column's mean. "
   ]
  },
  {
   "cell_type": "code",
   "execution_count": 541,
   "metadata": {},
   "outputs": [
    {
     "data": {
      "text/plain": [
       "array([54, 62, 87, 69, 33, 82, 78, 73, 76, 45, 44, 70, 68, 46, 64, 61, 53,\n",
       "       84, 90, 59, 63, 66, 80, 81, 56, 79, 74, 60, 93, 52, 35, 65, 83, 67,\n",
       "       75, 89,  0, 72, 48, 77, 86, 57, 30, 55, 94, 47, 71, 92, 88, 85, 49,\n",
       "       51, 50, 43, 42, 91, 58, 34, 38, 36, 95, 39, 41, 40, 28, 27, 97, 32,\n",
       "       99, 24, 20, 22, 96, 31, 29, 26])"
      ]
     },
     "execution_count": 541,
     "metadata": {},
     "output_type": "execute_result"
    }
   ],
   "source": [
    "final_df.Age.unique()"
   ]
  },
  {
   "cell_type": "code",
   "execution_count": null,
   "metadata": {},
   "outputs": [],
   "source": [
    "final_df.hea"
   ]
  },
  {
   "cell_type": "code",
   "execution_count": null,
   "metadata": {},
   "outputs": [],
   "source": []
  }
 ],
 "metadata": {
  "kernelspec": {
   "display_name": "Python [conda env:data_env]",
   "language": "python",
   "name": "conda-env-data_env-py"
  },
  "language_info": {
   "codemirror_mode": {
    "name": "ipython",
    "version": 3
   },
   "file_extension": ".py",
   "mimetype": "text/x-python",
   "name": "python",
   "nbconvert_exporter": "python",
   "pygments_lexer": "ipython3",
   "version": "3.7.5"
  }
 },
 "nbformat": 4,
 "nbformat_minor": 2
}
