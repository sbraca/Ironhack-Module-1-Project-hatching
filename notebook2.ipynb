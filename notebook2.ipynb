{
 "cells": [
  {
   "cell_type": "code",
   "execution_count": 2,
   "metadata": {},
   "outputs": [
    {
     "name": "stdout",
     "output_type": "stream",
     "text": [
      "Requirement already satisfied: sqlalchemy in /Users/Stefania/opt/anaconda3/envs/data_env/lib/python3.7/site-packages (1.3.10)\r\n"
     ]
    }
   ],
   "source": [
    "import pandas as pd \n",
    "!pip install sqlalchemy"
   ]
  },
  {
   "cell_type": "code",
   "execution_count": 3,
   "metadata": {},
   "outputs": [],
   "source": [
    "import pymysql\n",
    "from sqlalchemy import create_engine"
   ]
  },
  {
   "cell_type": "code",
   "execution_count": 7,
   "metadata": {},
   "outputs": [],
   "source": [
    "final_df = pd.read_csv('forbes.csv')"
   ]
  },
  {
   "cell_type": "code",
   "execution_count": 8,
   "metadata": {},
   "outputs": [
    {
     "data": {
      "text/html": [
       "<div>\n",
       "<style scoped>\n",
       "    .dataframe tbody tr th:only-of-type {\n",
       "        vertical-align: middle;\n",
       "    }\n",
       "\n",
       "    .dataframe tbody tr th {\n",
       "        vertical-align: top;\n",
       "    }\n",
       "\n",
       "    .dataframe thead th {\n",
       "        text-align: right;\n",
       "    }\n",
       "</style>\n",
       "<table border=\"1\" class=\"dataframe\">\n",
       "  <thead>\n",
       "    <tr style=\"text-align: right;\">\n",
       "      <th></th>\n",
       "      <th>ID</th>\n",
       "      <th>First Name</th>\n",
       "      <th>Last Name</th>\n",
       "      <th>Position</th>\n",
       "      <th>Worth</th>\n",
       "      <th>Source</th>\n",
       "      <th>Age</th>\n",
       "      <th>Unnamed: 0</th>\n",
       "      <th>Gender</th>\n",
       "      <th>Country</th>\n",
       "      <th>Image</th>\n",
       "    </tr>\n",
       "  </thead>\n",
       "  <tbody>\n",
       "    <tr>\n",
       "      <th>0</th>\n",
       "      <td>5227</td>\n",
       "      <td>Jeff</td>\n",
       "      <td>Bezos</td>\n",
       "      <td>1.0</td>\n",
       "      <td>112.0 BUSD</td>\n",
       "      <td>Technology  ==&gt; Amazon</td>\n",
       "      <td>54 years old</td>\n",
       "      <td>52</td>\n",
       "      <td>None</td>\n",
       "      <td>United States</td>\n",
       "      <td>https://specials-images.forbesimg.com/imageser...</td>\n",
       "    </tr>\n",
       "    <tr>\n",
       "      <th>1</th>\n",
       "      <td>2642</td>\n",
       "      <td>Bill</td>\n",
       "      <td>Gates</td>\n",
       "      <td>2.0</td>\n",
       "      <td>90.0 BUSD</td>\n",
       "      <td>Technology  ==&gt; Microsoft</td>\n",
       "      <td>62 years old</td>\n",
       "      <td>53</td>\n",
       "      <td>M</td>\n",
       "      <td>None</td>\n",
       "      <td>https://specials-images.forbesimg.com/imageser...</td>\n",
       "    </tr>\n",
       "    <tr>\n",
       "      <th>2</th>\n",
       "      <td>5422</td>\n",
       "      <td>Warren</td>\n",
       "      <td>Buffett</td>\n",
       "      <td>3.0</td>\n",
       "      <td>84.0 BUSD</td>\n",
       "      <td>Finance and Investments  ==&gt; Berkshire Hathaway</td>\n",
       "      <td>87 years old</td>\n",
       "      <td>54</td>\n",
       "      <td>M</td>\n",
       "      <td>None</td>\n",
       "      <td>https://specials-images.forbesimg.com/imageser...</td>\n",
       "    </tr>\n",
       "    <tr>\n",
       "      <th>3</th>\n",
       "      <td>8183</td>\n",
       "      <td>Bernard</td>\n",
       "      <td>Arnault</td>\n",
       "      <td>4.0</td>\n",
       "      <td>72.0 BUSD</td>\n",
       "      <td>Fashion &amp; Retail  ==&gt; LVMH</td>\n",
       "      <td>69 years old</td>\n",
       "      <td>55</td>\n",
       "      <td>M</td>\n",
       "      <td>France</td>\n",
       "      <td>https://specials-images.forbesimg.com/imageser...</td>\n",
       "    </tr>\n",
       "    <tr>\n",
       "      <th>4</th>\n",
       "      <td>5642</td>\n",
       "      <td>Mark</td>\n",
       "      <td>Zuckerberg</td>\n",
       "      <td>5.0</td>\n",
       "      <td>71.0 BUSD</td>\n",
       "      <td>Technology  ==&gt; Facebook</td>\n",
       "      <td>1985</td>\n",
       "      <td>56</td>\n",
       "      <td>M</td>\n",
       "      <td>USA</td>\n",
       "      <td>https://specials-images.forbesimg.com/imageser...</td>\n",
       "    </tr>\n",
       "  </tbody>\n",
       "</table>\n",
       "</div>"
      ],
      "text/plain": [
       "     ID First Name   Last Name  Position       Worth  \\\n",
       "0  5227       Jeff       Bezos       1.0  112.0 BUSD   \n",
       "1  2642       Bill       Gates       2.0   90.0 BUSD   \n",
       "2  5422     Warren     Buffett       3.0   84.0 BUSD   \n",
       "3  8183    Bernard     Arnault       4.0   72.0 BUSD   \n",
       "4  5642       Mark  Zuckerberg       5.0   71.0 BUSD   \n",
       "\n",
       "                                            Source           Age  Unnamed: 0  \\\n",
       "0                           Technology  ==> Amazon  54 years old          52   \n",
       "1                        Technology  ==> Microsoft  62 years old          53   \n",
       "2  Finance and Investments  ==> Berkshire Hathaway  87 years old          54   \n",
       "3                       Fashion & Retail  ==> LVMH  69 years old          55   \n",
       "4                         Technology  ==> Facebook          1985          56   \n",
       "\n",
       "  Gender        Country                                              Image  \n",
       "0   None  United States  https://specials-images.forbesimg.com/imageser...  \n",
       "1      M           None  https://specials-images.forbesimg.com/imageser...  \n",
       "2      M           None  https://specials-images.forbesimg.com/imageser...  \n",
       "3      M         France  https://specials-images.forbesimg.com/imageser...  \n",
       "4      M            USA  https://specials-images.forbesimg.com/imageser...  "
      ]
     },
     "execution_count": 8,
     "metadata": {},
     "output_type": "execute_result"
    }
   ],
   "source": [
    "final_df.head()"
   ]
  },
  {
   "cell_type": "code",
   "execution_count": 9,
   "metadata": {},
   "outputs": [
    {
     "name": "stdout",
     "output_type": "stream",
     "text": [
      "<class 'pandas.core.frame.DataFrame'>\n",
      "RangeIndex: 2208 entries, 0 to 2207\n",
      "Data columns (total 11 columns):\n",
      "ID            2208 non-null int64\n",
      "First Name    2208 non-null object\n",
      "Last Name     2208 non-null object\n",
      "Position      2208 non-null float64\n",
      "Worth         2208 non-null object\n",
      "Source        2208 non-null object\n",
      "Age           2143 non-null object\n",
      "Unnamed: 0    2208 non-null int64\n",
      "Gender        2195 non-null object\n",
      "Country       2208 non-null object\n",
      "Image         2208 non-null object\n",
      "dtypes: float64(1), int64(2), object(8)\n",
      "memory usage: 189.9+ KB\n"
     ]
    }
   ],
   "source": [
    "final_df.info()"
   ]
  },
  {
   "cell_type": "code",
   "execution_count": 10,
   "metadata": {},
   "outputs": [],
   "source": [
    "final_df.drop('Unnamed: 0', axis=1, inplace=True) "
   ]
  },
  {
   "cell_type": "code",
   "execution_count": 11,
   "metadata": {},
   "outputs": [
    {
     "data": {
      "text/plain": [
       "array(['None', 'M', 'Male', 'F', nan, 'Female'], dtype=object)"
      ]
     },
     "execution_count": 11,
     "metadata": {},
     "output_type": "execute_result"
    }
   ],
   "source": [
    "final_df.Gender.unique()"
   ]
  },
  {
   "cell_type": "code",
   "execution_count": 12,
   "metadata": {},
   "outputs": [
    {
     "data": {
      "text/plain": [
       "Age       65\n",
       "Gender    13\n",
       "dtype: int64"
      ]
     },
     "execution_count": 12,
     "metadata": {},
     "output_type": "execute_result"
    }
   ],
   "source": [
    "null_cols = final_df.isnull().sum()\n",
    "null_cols\n",
    "null_cols[null_cols > 0]"
   ]
  },
  {
   "cell_type": "code",
   "execution_count": 33,
   "metadata": {},
   "outputs": [],
   "source": [
    "null_displ = final_df[(final_df['Gender'].isnull()==True)]"
   ]
  },
  {
   "cell_type": "code",
   "execution_count": 34,
   "metadata": {},
   "outputs": [
    {
     "data": {
      "text/html": [
       "<div>\n",
       "<style scoped>\n",
       "    .dataframe tbody tr th:only-of-type {\n",
       "        vertical-align: middle;\n",
       "    }\n",
       "\n",
       "    .dataframe tbody tr th {\n",
       "        vertical-align: top;\n",
       "    }\n",
       "\n",
       "    .dataframe thead th {\n",
       "        text-align: right;\n",
       "    }\n",
       "</style>\n",
       "<table border=\"1\" class=\"dataframe\">\n",
       "  <thead>\n",
       "    <tr style=\"text-align: right;\">\n",
       "      <th></th>\n",
       "      <th>ID</th>\n",
       "      <th>First Name</th>\n",
       "      <th>Last Name</th>\n",
       "      <th>Position</th>\n",
       "      <th>Worth</th>\n",
       "      <th>Source</th>\n",
       "      <th>Age</th>\n",
       "      <th>Gender</th>\n",
       "      <th>Country</th>\n",
       "      <th>Image</th>\n",
       "    </tr>\n",
       "  </thead>\n",
       "  <tbody>\n",
       "    <tr>\n",
       "      <th>163</th>\n",
       "      <td>7836</td>\n",
       "      <td>Gianluigi</td>\n",
       "      <td>Aponte</td>\n",
       "      <td>164.0</td>\n",
       "      <td>9.3 BUSD</td>\n",
       "      <td>Logistics  ==&gt; Shipping</td>\n",
       "      <td>77 years old</td>\n",
       "      <td>NaN</td>\n",
       "      <td>None</td>\n",
       "      <td>https://specials-images.forbesimg.com/imageser...</td>\n",
       "    </tr>\n",
       "    <tr>\n",
       "      <th>224</th>\n",
       "      <td>1197</td>\n",
       "      <td>Willi</td>\n",
       "      <td>Liebherr</td>\n",
       "      <td>225.0</td>\n",
       "      <td>7.1 BUSD</td>\n",
       "      <td>Construction &amp; Engineering  ==&gt; Construction</td>\n",
       "      <td>NaN</td>\n",
       "      <td>NaN</td>\n",
       "      <td>None</td>\n",
       "      <td>https://specials-images.forbesimg.com/imageser...</td>\n",
       "    </tr>\n",
       "    <tr>\n",
       "      <th>309</th>\n",
       "      <td>5024</td>\n",
       "      <td>Tom</td>\n",
       "      <td>Love</td>\n",
       "      <td>310.0</td>\n",
       "      <td>5.8 BUSD</td>\n",
       "      <td>Fashion &amp; Retail  ==&gt; retail &amp; gas stations</td>\n",
       "      <td>81 years old</td>\n",
       "      <td>NaN</td>\n",
       "      <td>USA</td>\n",
       "      <td>https://specials-images.forbesimg.com/imageser...</td>\n",
       "    </tr>\n",
       "    <tr>\n",
       "      <th>426</th>\n",
       "      <td>3416</td>\n",
       "      <td>Philip</td>\n",
       "      <td>Green</td>\n",
       "      <td>427.0</td>\n",
       "      <td>4.8 BUSD</td>\n",
       "      <td>Fashion &amp; Retail  ==&gt; fashion retail</td>\n",
       "      <td>66 years old</td>\n",
       "      <td>NaN</td>\n",
       "      <td>None</td>\n",
       "      <td>https://specials-images.forbesimg.com/imageser...</td>\n",
       "    </tr>\n",
       "    <tr>\n",
       "      <th>529</th>\n",
       "      <td>3488</td>\n",
       "      <td>Jack</td>\n",
       "      <td>Dangermond</td>\n",
       "      <td>530.0</td>\n",
       "      <td>4.1 BUSD</td>\n",
       "      <td>Technology  ==&gt; mapping software</td>\n",
       "      <td>72 years old</td>\n",
       "      <td>NaN</td>\n",
       "      <td>None</td>\n",
       "      <td>https://specials-images.forbesimg.com/imageser...</td>\n",
       "    </tr>\n",
       "    <tr>\n",
       "      <th>581</th>\n",
       "      <td>9068</td>\n",
       "      <td>Stewart</td>\n",
       "      <td>Resnick</td>\n",
       "      <td>582.0</td>\n",
       "      <td>3.9 BUSD</td>\n",
       "      <td>Food and Beverage  ==&gt; agriculture, water</td>\n",
       "      <td>NaN</td>\n",
       "      <td>NaN</td>\n",
       "      <td>None</td>\n",
       "      <td>https://specials-images.forbesimg.com/imageser...</td>\n",
       "    </tr>\n",
       "    <tr>\n",
       "      <th>731</th>\n",
       "      <td>6616</td>\n",
       "      <td>Andrew</td>\n",
       "      <td>Cherng</td>\n",
       "      <td>732.0</td>\n",
       "      <td>3.2 BUSD</td>\n",
       "      <td>Food and Beverage  ==&gt; restaurants</td>\n",
       "      <td>NaN</td>\n",
       "      <td>NaN</td>\n",
       "      <td>None</td>\n",
       "      <td>https://specials-images.forbesimg.com/imageser...</td>\n",
       "    </tr>\n",
       "    <tr>\n",
       "      <th>766</th>\n",
       "      <td>8071</td>\n",
       "      <td>Do</td>\n",
       "      <td>Chang</td>\n",
       "      <td>767.0</td>\n",
       "      <td>3.1 BUSD</td>\n",
       "      <td>Fashion &amp; Retail  ==&gt; fashion retail</td>\n",
       "      <td>62 years old</td>\n",
       "      <td>NaN</td>\n",
       "      <td>None</td>\n",
       "      <td>https://specials-images.forbesimg.com/imageser...</td>\n",
       "    </tr>\n",
       "    <tr>\n",
       "      <th>1197</th>\n",
       "      <td>7859</td>\n",
       "      <td>Ong</td>\n",
       "      <td>Ong beng seng</td>\n",
       "      <td>1198.0</td>\n",
       "      <td>2.1 BUSD</td>\n",
       "      <td>Diversified  ==&gt; diversified</td>\n",
       "      <td>73 years old</td>\n",
       "      <td>NaN</td>\n",
       "      <td>None</td>\n",
       "      <td>https://specials-images.forbesimg.com/imageser...</td>\n",
       "    </tr>\n",
       "    <tr>\n",
       "      <th>1260</th>\n",
       "      <td>9780</td>\n",
       "      <td>Chuchat</td>\n",
       "      <td>Petaumpai</td>\n",
       "      <td>1261.0</td>\n",
       "      <td>2.0 BUSD</td>\n",
       "      <td>Finance and Investments  ==&gt; motorcycle loans</td>\n",
       "      <td>65 years old</td>\n",
       "      <td>NaN</td>\n",
       "      <td>None</td>\n",
       "      <td>https://specials-images.forbesimg.com/imageser...</td>\n",
       "    </tr>\n",
       "    <tr>\n",
       "      <th>1290</th>\n",
       "      <td>4362</td>\n",
       "      <td>Jean-paul</td>\n",
       "      <td>Clozel</td>\n",
       "      <td>1291.0</td>\n",
       "      <td>1.9 BUSD</td>\n",
       "      <td>Healthcare  ==&gt; pharmaceuticals</td>\n",
       "      <td>NaN</td>\n",
       "      <td>NaN</td>\n",
       "      <td>Switzerland</td>\n",
       "      <td>https://specials-images.forbesimg.com/imageser...</td>\n",
       "    </tr>\n",
       "  </tbody>\n",
       "</table>\n",
       "</div>"
      ],
      "text/plain": [
       "        ID First Name      Last Name  Position     Worth  \\\n",
       "163   7836  Gianluigi         Aponte     164.0  9.3 BUSD   \n",
       "224   1197      Willi       Liebherr     225.0  7.1 BUSD   \n",
       "309   5024        Tom           Love     310.0  5.8 BUSD   \n",
       "426   3416     Philip          Green     427.0  4.8 BUSD   \n",
       "529   3488       Jack     Dangermond     530.0  4.1 BUSD   \n",
       "581   9068    Stewart        Resnick     582.0  3.9 BUSD   \n",
       "731   6616     Andrew         Cherng     732.0  3.2 BUSD   \n",
       "766   8071         Do          Chang     767.0  3.1 BUSD   \n",
       "1197  7859        Ong  Ong beng seng    1198.0  2.1 BUSD   \n",
       "1260  9780    Chuchat      Petaumpai    1261.0  2.0 BUSD   \n",
       "1290  4362  Jean-paul         Clozel    1291.0  1.9 BUSD   \n",
       "\n",
       "                                             Source           Age Gender  \\\n",
       "163                         Logistics  ==> Shipping  77 years old    NaN   \n",
       "224    Construction & Engineering  ==> Construction           NaN    NaN   \n",
       "309     Fashion & Retail  ==> retail & gas stations  81 years old    NaN   \n",
       "426            Fashion & Retail  ==> fashion retail  66 years old    NaN   \n",
       "529                Technology  ==> mapping software  72 years old    NaN   \n",
       "581       Food and Beverage  ==> agriculture, water           NaN    NaN   \n",
       "731              Food and Beverage  ==> restaurants           NaN    NaN   \n",
       "766            Fashion & Retail  ==> fashion retail  62 years old    NaN   \n",
       "1197                   Diversified  ==> diversified  73 years old    NaN   \n",
       "1260  Finance and Investments  ==> motorcycle loans  65 years old    NaN   \n",
       "1290                Healthcare  ==> pharmaceuticals           NaN    NaN   \n",
       "\n",
       "          Country                                              Image  \n",
       "163          None  https://specials-images.forbesimg.com/imageser...  \n",
       "224          None  https://specials-images.forbesimg.com/imageser...  \n",
       "309           USA  https://specials-images.forbesimg.com/imageser...  \n",
       "426          None  https://specials-images.forbesimg.com/imageser...  \n",
       "529          None  https://specials-images.forbesimg.com/imageser...  \n",
       "581          None  https://specials-images.forbesimg.com/imageser...  \n",
       "731          None  https://specials-images.forbesimg.com/imageser...  \n",
       "766          None  https://specials-images.forbesimg.com/imageser...  \n",
       "1197         None  https://specials-images.forbesimg.com/imageser...  \n",
       "1260         None  https://specials-images.forbesimg.com/imageser...  \n",
       "1290  Switzerland  https://specials-images.forbesimg.com/imageser...  "
      ]
     },
     "execution_count": 34,
     "metadata": {},
     "output_type": "execute_result"
    }
   ],
   "source": [
    "null_displ = null_displ[['ID', 'First Name', 'Last Name', 'Position', 'Worth', 'Source', 'Age', 'Gender', 'Country', 'Image']]\n",
    "null_displ"
   ]
  },
  {
   "cell_type": "code",
   "execution_count": 15,
   "metadata": {},
   "outputs": [
    {
     "data": {
      "text/plain": [
       "array(['None', 'M', 'Male', 'F', nan, 'Female'], dtype=object)"
      ]
     },
     "execution_count": 15,
     "metadata": {},
     "output_type": "execute_result"
    }
   ],
   "source": [
    "\n",
    "final_df.Gender.unique()"
   ]
  },
  {
   "cell_type": "code",
   "execution_count": 17,
   "metadata": {},
   "outputs": [
    {
     "data": {
      "text/plain": [
       "nan"
      ]
     },
     "metadata": {},
     "output_type": "display_data"
    }
   ],
   "source": [
    "display(final_df.loc[26, 'Gender'])"
   ]
  },
  {
   "cell_type": "code",
   "execution_count": 59,
   "metadata": {},
   "outputs": [
    {
     "data": {
      "text/plain": [
       "'Female'"
      ]
     },
     "execution_count": 59,
     "metadata": {},
     "output_type": "execute_result"
    }
   ],
   "source": [
    "\n",
    "final_df.loc[26, 'Gender'].replace('NaN', 'Female')"
   ]
  },
  {
   "cell_type": "code",
   "execution_count": null,
   "metadata": {},
   "outputs": [],
   "source": []
  },
  {
   "cell_type": "code",
   "execution_count": 18,
   "metadata": {},
   "outputs": [
    {
     "data": {
      "text/plain": [
       "'Female'"
      ]
     },
     "metadata": {},
     "output_type": "display_data"
    }
   ],
   "source": [
    "final_df.loc[26, 'Gender']='Female\n",
    "display(final_df.loc[26, 'Gender'])"
   ]
  },
  {
   "cell_type": "code",
   "execution_count": 21,
   "metadata": {},
   "outputs": [
    {
     "data": {
      "text/plain": [
       "nan"
      ]
     },
     "execution_count": 21,
     "metadata": {},
     "output_type": "execute_result"
    }
   ],
   "source": [
    "final_df.loc[596, 'Gender']"
   ]
  },
  {
   "cell_type": "code",
   "execution_count": 22,
   "metadata": {},
   "outputs": [
    {
     "data": {
      "text/plain": [
       "'Female'"
      ]
     },
     "metadata": {},
     "output_type": "display_data"
    }
   ],
   "source": [
    "final_df.loc[596, 'Gender']='Female'\n",
    "display(final_df.loc[596, 'Gender'])"
   ]
  },
  {
   "cell_type": "code",
   "execution_count": 42,
   "metadata": {},
   "outputs": [
    {
     "data": {
      "text/plain": [
       "array(['None', 'M', 'Male', 'F', 'Female', nan], dtype=object)"
      ]
     },
     "execution_count": 42,
     "metadata": {},
     "output_type": "execute_result"
    }
   ],
   "source": [
    "final_df.Gender.unique()"
   ]
  },
  {
   "cell_type": "code",
   "execution_count": 57,
   "metadata": {},
   "outputs": [],
   "source": [
    "final_df[\"Gender\"].fillna(\"Male\", inplace = True) "
   ]
  },
  {
   "cell_type": "code",
   "execution_count": 58,
   "metadata": {},
   "outputs": [
    {
     "data": {
      "text/plain": [
       "ID             0\n",
       "First Name     0\n",
       "Last Name      0\n",
       "Position       0\n",
       "Worth          0\n",
       "Source         0\n",
       "Age           65\n",
       "Gender         0\n",
       "Country        0\n",
       "Image          0\n",
       "dtype: int64"
      ]
     },
     "execution_count": 58,
     "metadata": {},
     "output_type": "execute_result"
    }
   ],
   "source": [
    "final_df.isnull().sum(axis = 0)"
   ]
  },
  {
   "cell_type": "code",
   "execution_count": null,
   "metadata": {},
   "outputs": [],
   "source": []
  },
  {
   "cell_type": "code",
   "execution_count": null,
   "metadata": {},
   "outputs": [],
   "source": []
  },
  {
   "cell_type": "code",
   "execution_count": null,
   "metadata": {},
   "outputs": [],
   "source": []
  }
 ],
 "metadata": {
  "kernelspec": {
   "display_name": "Python [conda env:data_env]",
   "language": "python",
   "name": "conda-env-data_env-py"
  },
  "language_info": {
   "codemirror_mode": {
    "name": "ipython",
    "version": 3
   },
   "file_extension": ".py",
   "mimetype": "text/x-python",
   "name": "python",
   "nbconvert_exporter": "python",
   "pygments_lexer": "ipython3",
   "version": "3.7.5"
  }
 },
 "nbformat": 4,
 "nbformat_minor": 2
}
