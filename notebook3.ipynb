{
 "cells": [
  {
   "cell_type": "code",
   "execution_count": 1,
   "metadata": {},
   "outputs": [
    {
     "name": "stdout",
     "output_type": "stream",
     "text": [
      "Requirement already satisfied: sqlalchemy in /Users/Stefania/opt/anaconda3/envs/data_env/lib/python3.7/site-packages (1.3.10)\r\n"
     ]
    }
   ],
   "source": [
    "import pandas as pd \n",
    "!pip install sqlalchemy"
   ]
  },
  {
   "cell_type": "code",
   "execution_count": 2,
   "metadata": {},
   "outputs": [],
   "source": [
    "final_df = pd.read_csv('forbes2.csv')"
   ]
  },
  {
   "cell_type": "code",
   "execution_count": 3,
   "metadata": {},
   "outputs": [
    {
     "data": {
      "text/html": [
       "<div>\n",
       "<style scoped>\n",
       "    .dataframe tbody tr th:only-of-type {\n",
       "        vertical-align: middle;\n",
       "    }\n",
       "\n",
       "    .dataframe tbody tr th {\n",
       "        vertical-align: top;\n",
       "    }\n",
       "\n",
       "    .dataframe thead th {\n",
       "        text-align: right;\n",
       "    }\n",
       "</style>\n",
       "<table border=\"1\" class=\"dataframe\">\n",
       "  <thead>\n",
       "    <tr style=\"text-align: right;\">\n",
       "      <th></th>\n",
       "      <th>ID</th>\n",
       "      <th>Position</th>\n",
       "      <th>Worth</th>\n",
       "      <th>First Name</th>\n",
       "      <th>Last Name</th>\n",
       "      <th>Age</th>\n",
       "      <th>Gender_cat</th>\n",
       "      <th>Source</th>\n",
       "      <th>Country</th>\n",
       "      <th>Image</th>\n",
       "    </tr>\n",
       "  </thead>\n",
       "  <tbody>\n",
       "    <tr>\n",
       "      <th>0</th>\n",
       "      <td>5227</td>\n",
       "      <td>1</td>\n",
       "      <td>112.0 BUSD</td>\n",
       "      <td>Jeff</td>\n",
       "      <td>Bezos</td>\n",
       "      <td>54</td>\n",
       "      <td>Not Available</td>\n",
       "      <td>Technology  ==&gt; Amazon</td>\n",
       "      <td>United States</td>\n",
       "      <td>https://specials-images.forbesimg.com/imageser...</td>\n",
       "    </tr>\n",
       "    <tr>\n",
       "      <th>1</th>\n",
       "      <td>2642</td>\n",
       "      <td>2</td>\n",
       "      <td>90.0 BUSD</td>\n",
       "      <td>Bill</td>\n",
       "      <td>Gates</td>\n",
       "      <td>62</td>\n",
       "      <td>Male</td>\n",
       "      <td>Technology  ==&gt; Microsoft</td>\n",
       "      <td>None</td>\n",
       "      <td>https://specials-images.forbesimg.com/imageser...</td>\n",
       "    </tr>\n",
       "    <tr>\n",
       "      <th>2</th>\n",
       "      <td>5422</td>\n",
       "      <td>3</td>\n",
       "      <td>84.0 BUSD</td>\n",
       "      <td>Warren</td>\n",
       "      <td>Buffett</td>\n",
       "      <td>87</td>\n",
       "      <td>Male</td>\n",
       "      <td>Finance and Investments  ==&gt; Berkshire Hathaway</td>\n",
       "      <td>None</td>\n",
       "      <td>https://specials-images.forbesimg.com/imageser...</td>\n",
       "    </tr>\n",
       "    <tr>\n",
       "      <th>3</th>\n",
       "      <td>8183</td>\n",
       "      <td>4</td>\n",
       "      <td>72.0 BUSD</td>\n",
       "      <td>Bernard</td>\n",
       "      <td>Arnault</td>\n",
       "      <td>69</td>\n",
       "      <td>Male</td>\n",
       "      <td>Fashion &amp; Retail  ==&gt; LVMH</td>\n",
       "      <td>France</td>\n",
       "      <td>https://specials-images.forbesimg.com/imageser...</td>\n",
       "    </tr>\n",
       "    <tr>\n",
       "      <th>4</th>\n",
       "      <td>5642</td>\n",
       "      <td>5</td>\n",
       "      <td>71.0 BUSD</td>\n",
       "      <td>Mark</td>\n",
       "      <td>Zuckerberg</td>\n",
       "      <td>33</td>\n",
       "      <td>Male</td>\n",
       "      <td>Technology  ==&gt; Facebook</td>\n",
       "      <td>USA</td>\n",
       "      <td>https://specials-images.forbesimg.com/imageser...</td>\n",
       "    </tr>\n",
       "  </tbody>\n",
       "</table>\n",
       "</div>"
      ],
      "text/plain": [
       "     ID  Position       Worth First Name   Last Name  Age     Gender_cat  \\\n",
       "0  5227         1  112.0 BUSD       Jeff       Bezos   54  Not Available   \n",
       "1  2642         2   90.0 BUSD       Bill       Gates   62           Male   \n",
       "2  5422         3   84.0 BUSD     Warren     Buffett   87           Male   \n",
       "3  8183         4   72.0 BUSD    Bernard     Arnault   69           Male   \n",
       "4  5642         5   71.0 BUSD       Mark  Zuckerberg   33           Male   \n",
       "\n",
       "                                            Source        Country  \\\n",
       "0                           Technology  ==> Amazon  United States   \n",
       "1                        Technology  ==> Microsoft           None   \n",
       "2  Finance and Investments  ==> Berkshire Hathaway           None   \n",
       "3                       Fashion & Retail  ==> LVMH         France   \n",
       "4                         Technology  ==> Facebook            USA   \n",
       "\n",
       "                                               Image  \n",
       "0  https://specials-images.forbesimg.com/imageser...  \n",
       "1  https://specials-images.forbesimg.com/imageser...  \n",
       "2  https://specials-images.forbesimg.com/imageser...  \n",
       "3  https://specials-images.forbesimg.com/imageser...  \n",
       "4  https://specials-images.forbesimg.com/imageser...  "
      ]
     },
     "execution_count": 3,
     "metadata": {},
     "output_type": "execute_result"
    }
   ],
   "source": [
    "final_df.head()"
   ]
  },
  {
   "cell_type": "markdown",
   "metadata": {},
   "source": [
    "# COUNTRY"
   ]
  },
  {
   "cell_type": "code",
   "execution_count": 4,
   "metadata": {},
   "outputs": [
    {
     "data": {
      "text/plain": [
       "array(['United States', 'None', 'France', 'USA', 'Mexico',\n",
       "       \"People's Republic of China\", 'Hong Kong', 'Germany', 'Canada',\n",
       "       'China', 'Russia', 'South Korea', 'Ireland', 'Indonesia',\n",
       "       'Australia', 'Czech Republic', 'India', 'Brazil', 'Italy',\n",
       "       'New Zealand', 'Israel', 'Switzerland', 'Austria', 'Sweden',\n",
       "       'Cyprus', 'Spain', 'Norway', 'United Kingdom',\n",
       "       'United Arab Emirates', 'Philippines', 'Denmark', 'Netherlands',\n",
       "       'Portugal', 'Japan', 'Swaziland', 'Vietnam', 'Thailand', 'Oman',\n",
       "       'UK', 'Colombia', 'Malaysia', 'Kazakhstan', 'Poland', 'Singapore',\n",
       "       'Greece', 'Chile', 'Taiwan', 'Turkey', 'South Africa', 'Angola',\n",
       "       'Guernsey', 'Finland', 'Iceland', 'Egypt', 'Monaco', 'Peru',\n",
       "       'Argentina', 'Qatar', 'Lebanon', 'St. Kitts and Nevis', 'Nigeria',\n",
       "       'Tanzania', 'Ukraine', 'Slovakia', 'Venezuela'], dtype=object)"
      ]
     },
     "execution_count": 4,
     "metadata": {},
     "output_type": "execute_result"
    }
   ],
   "source": [
    "final_df.Country.unique()"
   ]
  },
  {
   "cell_type": "code",
   "execution_count": 5,
   "metadata": {},
   "outputs": [],
   "source": [
    "final_df.Country = final_df.Country.astype(str)"
   ]
  },
  {
   "cell_type": "code",
   "execution_count": 6,
   "metadata": {},
   "outputs": [
    {
     "data": {
      "text/plain": [
       "array(['United States', 'None', 'France', 'USA', 'Mexico',\n",
       "       \"People's Republic of China\", 'Hong Kong', 'Germany', 'Canada',\n",
       "       'China', 'Russia', 'South Korea', 'Ireland', 'Indonesia',\n",
       "       'Australia', 'Czech Republic', 'India', 'Brazil', 'Italy',\n",
       "       'New Zealand', 'Israel', 'Switzerland', 'Austria', 'Sweden',\n",
       "       'Cyprus', 'Spain', 'Norway', 'United Kingdom',\n",
       "       'United Arab Emirates', 'Philippines', 'Denmark', 'Netherlands',\n",
       "       'Portugal', 'Japan', 'Swaziland', 'Vietnam', 'Thailand', 'Oman',\n",
       "       'UK', 'Colombia', 'Malaysia', 'Kazakhstan', 'Poland', 'Singapore',\n",
       "       'Greece', 'Chile', 'Taiwan', 'Turkey', 'South Africa', 'Angola',\n",
       "       'Guernsey', 'Finland', 'Iceland', 'Egypt', 'Monaco', 'Peru',\n",
       "       'Argentina', 'Qatar', 'Lebanon', 'St. Kitts and Nevis', 'Nigeria',\n",
       "       'Tanzania', 'Ukraine', 'Slovakia', 'Venezuela'], dtype=object)"
      ]
     },
     "execution_count": 6,
     "metadata": {},
     "output_type": "execute_result"
    }
   ],
   "source": [
    "final_df.Country.unique()"
   ]
  },
  {
   "cell_type": "code",
   "execution_count": 7,
   "metadata": {},
   "outputs": [
    {
     "name": "stdout",
     "output_type": "stream",
     "text": [
      "<class 'pandas.core.frame.DataFrame'>\n",
      "RangeIndex: 2208 entries, 0 to 2207\n",
      "Data columns (total 10 columns):\n",
      "ID            2208 non-null int64\n",
      "Position      2208 non-null int64\n",
      "Worth         2208 non-null object\n",
      "First Name    2208 non-null object\n",
      "Last Name     2208 non-null object\n",
      "Age           2208 non-null int64\n",
      "Gender_cat    2208 non-null object\n",
      "Source        2208 non-null object\n",
      "Country       2208 non-null object\n",
      "Image         2208 non-null object\n",
      "dtypes: int64(3), object(7)\n",
      "memory usage: 172.6+ KB\n"
     ]
    }
   ],
   "source": [
    "final_df.info()"
   ]
  },
  {
   "cell_type": "code",
   "execution_count": 8,
   "metadata": {},
   "outputs": [
    {
     "data": {
      "text/plain": [
       "None              1386\n",
       "United States      200\n",
       "China              116\n",
       "USA                 67\n",
       "Germany             45\n",
       "                  ... \n",
       "Iceland              1\n",
       "Czech Republic       1\n",
       "New Zealand          1\n",
       "Tanzania             1\n",
       "Qatar                1\n",
       "Name: Country, Length: 65, dtype: int64"
      ]
     },
     "execution_count": 8,
     "metadata": {},
     "output_type": "execute_result"
    }
   ],
   "source": [
    "final_df['Country'].value_counts()\n"
   ]
  },
  {
   "cell_type": "code",
   "execution_count": 9,
   "metadata": {},
   "outputs": [
    {
     "data": {
      "text/plain": [
       "0       United States\n",
       "1                None\n",
       "2                None\n",
       "3              France\n",
       "4                 USA\n",
       "            ...      \n",
       "2203            China\n",
       "2204            China\n",
       "2205             None\n",
       "2206        Hong Kong\n",
       "2207           Turkey\n",
       "Name: Country, Length: 2208, dtype: category\n",
       "Categories (65, object): [Angola, Argentina, Australia, Austria, ..., United Kingdom, United States, Venezuela, Vietnam]"
      ]
     },
     "execution_count": 9,
     "metadata": {},
     "output_type": "execute_result"
    }
   ],
   "source": [
    "final_df.Country.astype('category')"
   ]
  },
  {
   "cell_type": "code",
   "execution_count": 19,
   "metadata": {},
   "outputs": [
    {
     "data": {
      "text/plain": [
       "None              1386\n",
       "United States      200\n",
       "China              116\n",
       "USA                 67\n",
       "Germany             45\n",
       "                  ... \n",
       "Iceland              1\n",
       "Czech Republic       1\n",
       "New Zealand          1\n",
       "Tanzania             1\n",
       "Qatar                1\n",
       "Name: Country, Length: 65, dtype: int64"
      ]
     },
     "execution_count": 19,
     "metadata": {},
     "output_type": "execute_result"
    }
   ],
   "source": [
    "final_df['Country'].value_counts()"
   ]
  },
  {
   "cell_type": "code",
   "execution_count": null,
   "metadata": {},
   "outputs": [],
   "source": []
  },
  {
   "cell_type": "code",
   "execution_count": null,
   "metadata": {},
   "outputs": [],
   "source": []
  },
  {
   "cell_type": "code",
   "execution_count": null,
   "metadata": {},
   "outputs": [],
   "source": []
  },
  {
   "cell_type": "code",
   "execution_count": null,
   "metadata": {},
   "outputs": [],
   "source": [
    "\n"
   ]
  },
  {
   "cell_type": "code",
   "execution_count": null,
   "metadata": {},
   "outputs": [],
   "source": []
  }
 ],
 "metadata": {
  "kernelspec": {
   "display_name": "Python [conda env:data_env]",
   "language": "python",
   "name": "conda-env-data_env-py"
  },
  "language_info": {
   "codemirror_mode": {
    "name": "ipython",
    "version": 3
   },
   "file_extension": ".py",
   "mimetype": "text/x-python",
   "name": "python",
   "nbconvert_exporter": "python",
   "pygments_lexer": "ipython3",
   "version": "3.7.5"
  }
 },
 "nbformat": 4,
 "nbformat_minor": 2
}
